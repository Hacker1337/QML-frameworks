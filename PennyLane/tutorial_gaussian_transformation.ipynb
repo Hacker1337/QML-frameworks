{
  "cells": [
    {
      "cell_type": "code",
      "execution_count": null,
      "metadata": {
        "collapsed": false
      },
      "outputs": [],
      "source": [
        "# This cell is added by sphinx-gallery\n",
        "# It can be customized to whatever you like\n",
        "%matplotlib inline"
      ]
    },
    {
      "cell_type": "markdown",
      "metadata": {},
      "source": [
        "https://pennylane.ai/qml/demos/tutorial_gaussian_transformation.html#gaussian-transformation"
      ]
    },
    {
      "attachments": {},
      "cell_type": "markdown",
      "metadata": {},
      "source": [
        "Gaussian transformation {#gaussian_transformation}\n",
        "=======================\n",
        "\n",
        "::: {.meta}\n",
        ":property=\\\"og:description\\\": Use quantum machine learning techniques to\n",
        "tune a beamsplitter. :property=\\\"og:image\\\":\n",
        "<https://pennylane.ai/qml/_images/gauss-circuit.png>\n",
        ":::\n",
        "\n",
        "::: {.related}\n",
        "plugins\\_hybrid Plugins and Hybrid computation quantum\\_neural\\_net\n",
        "Function fitting with a photonic quantum neural network qonn Optimizing\n",
        "a quantum optical neural network\n",
        ":::\n",
        "\n",
        "*Author: Josh Izaac --- Posted: 11 October 2019. Last updated: 16\n",
        "October 2020.*\n",
        "\n",
        "This tutorial demonstrates the basic working principles of PennyLane for\n",
        "continuous-variable (CV) photonic devices. For more details about\n",
        "photonic quantum computing, the [Strawberry Fields\n",
        "documentation](https://strawberryfields.readthedocs.io/en/latest/) is a\n",
        "great starting point.\n",
        "\n",
        "The quantum circuit\n",
        "-------------------\n",
        "\n",
        "For this basic tutorial, we will consider a special subset of CV\n",
        "operations: the *Gaussian transformations*. We work with the following\n",
        "simple Gaussian circuit:\n",
        "\n",
        "![](../demonstrations/gaussian_transformation/gaussian_transformation.svg){.align-center\n",
        "width=\"40.0%\"}\n",
        "\n",
        "What is this circuit doing?\n",
        "\n",
        "1.  **We begin with one wire (qumode) in the vacuum state**. Note that\n",
        "    we use the same notation $|0\\rangle$ for the initial state as the\n",
        "    previous qubit tutorial. In a photonic CV system, this state is the\n",
        "    *vacuum state*, i.e., the state with no photons in the wire.\n",
        "2.  **We displace the qumode**. The displacement gate linearly shifts\n",
        "    the state of the qumode in phase space. The vacuum state is centered\n",
        "    at the origin in phase space, while the displaced state will be\n",
        "    centered at the point $\\alpha$.\n",
        "3.  **We rotate the qumode**. This is another linear transformation in\n",
        "    phase space, albeit a rotation (by angle $\\phi$) instead of a\n",
        "    displacement.\n",
        "4.  **Finally, we measure the mean photon number**\n",
        "    $\\langle\\hat{n}\\rangle =\n",
        "    \\langle\\hat{a}^\\dagger \\hat{a}\\rangle$. This quantity, which tells\n",
        "    us the average amount of photons in the final state, is proportional\n",
        "    to the energy of the photonic system.\n"
      ]
    },
    {
      "cell_type": "markdown",
      "metadata": {},
      "source": [
        "The aim of this tutorial is to optimize the circuit parameters\n",
        "$(\\alpha, \\phi)$ such that the mean photon number is equal to one. The\n",
        "rotation gate is actually a *passive transformation*, meaning that it\n",
        "does not change the energy of the system. The displacement gate is an\n",
        "*active transformation*, which modifies the energy of the photonic\n",
        "system.\n",
        "\n",
        "Constructing the QNode\n",
        "======================\n",
        "\n",
        "As before, we import PennyLane, as well as the wrapped version of NumPy\n",
        "provided by PennyLane:\n"
      ]
    },
    {
      "cell_type": "code",
      "execution_count": null,
      "metadata": {
        "collapsed": false
      },
      "outputs": [],
      "source": [
        "import pennylane as qml\n",
        "from pennylane import numpy as np"
      ]
    },
    {
      "cell_type": "markdown",
      "metadata": {},
      "source": [
        "Next, we instantiate a device which will be used to evaluate the\n",
        "circuit. Because our circuit contains only Gaussian operations, we can\n",
        "make use of the built-in `default.gaussian` device.\n"
      ]
    },
    {
      "cell_type": "code",
      "execution_count": null,
      "metadata": {
        "collapsed": false
      },
      "outputs": [],
      "source": [
        "dev_gaussian = qml.device(\"default.gaussian\", wires=1)"
      ]
    },
    {
      "cell_type": "markdown",
      "metadata": {},
      "source": [
        "After initializing the device, we can construct our quantum node. As\n",
        "before, we use the `~.pennylane.qnode`{.interpreted-text role=\"func\"} to\n",
        "convert our quantum function (encoded by the circuit above) into a\n",
        "quantum node running on the `default.gaussian` device.\n"
      ]
    },
    {
      "cell_type": "code",
      "execution_count": null,
      "metadata": {
        "collapsed": false
      },
      "outputs": [],
      "source": [
        "@qml.qnode(dev_gaussian)\n",
        "def mean_photon_gaussian(mag_alpha, phase_alpha, phi):\n",
        "    qml.Displacement(mag_alpha, phase_alpha, wires=0)\n",
        "    qml.Rotation(phi, wires=0)\n",
        "    return qml.expval(qml.NumberOperator(0))"
      ]
    },
    {
      "cell_type": "markdown",
      "metadata": {},
      "source": [
        "Notice that we have broken up the complex number $\\alpha$ into two real\n",
        "numbers `mag_alpha` and `phase_alpha`, which form a polar representation\n",
        "of $\\alpha$. This is so that the notion of a gradient is clear and\n",
        "well-defined.\n"
      ]
    },
    {
      "cell_type": "markdown",
      "metadata": {},
      "source": [
        "Optimization\n",
        "============\n",
        "\n",
        "As in the `qubit rotation <qubit_rotation>`{.interpreted-text\n",
        "role=\"ref\"} tutorial, let\\'s now use one of the built-in PennyLane\n",
        "optimizers in order to optimize the quantum circuit towards the desired\n",
        "output. We want the mean photon number to be exactly one, so we will use\n",
        "a squared-difference cost function:\n"
      ]
    },
    {
      "cell_type": "code",
      "execution_count": null,
      "metadata": {
        "collapsed": false
      },
      "outputs": [],
      "source": [
        "def cost(params):\n",
        "    return (mean_photon_gaussian(params[0], params[1], params[2]) - 1.0) ** 2"
      ]
    },
    {
      "cell_type": "markdown",
      "metadata": {},
      "source": [
        "At the beginning of the optimization, we choose arbitrary small initial\n",
        "parameters:\n"
      ]
    },
    {
      "cell_type": "code",
      "execution_count": null,
      "metadata": {
        "collapsed": false
      },
      "outputs": [],
      "source": [
        "init_params = np.array([0.015, 0.02, 0.005], requires_grad=True)\n",
        "print(cost(init_params))"
      ]
    },
    {
      "cell_type": "markdown",
      "metadata": {},
      "source": [
        "When the gate parameters are near to zero, the gates are close to the\n",
        "identity transformation, which leaves the initial state largely\n",
        "unchanged. Since the initial state contains no photons, the mean photon\n",
        "number of the circuit output is approximately zero, and the cost is\n",
        "close to one.\n"
      ]
    },
    {
      "cell_type": "markdown",
      "metadata": {},
      "source": [
        "::: {.note}\n",
        "::: {.title}\n",
        "Note\n",
        ":::\n",
        "\n",
        "We avoided initial parameters which are exactly zero because that\n",
        "corresponds to a critical point with zero gradient.\n",
        ":::\n",
        "\n",
        "Now, let\\'s use the\n",
        "`~.pennylane.GradientDescentOptimizer`{.interpreted-text role=\"class\"},\n",
        "and update the circuit parameters over 100 optimization steps.\n"
      ]
    },
    {
      "cell_type": "code",
      "execution_count": null,
      "metadata": {
        "collapsed": false
      },
      "outputs": [],
      "source": [
        "# initialise the optimizer\n",
        "opt = qml.GradientDescentOptimizer(stepsize=0.1)\n",
        "\n",
        "# set the number of steps\n",
        "steps = 20\n",
        "# set the initial parameter values\n",
        "params = init_params\n",
        "\n",
        "for i in range(steps):\n",
        "    # update the circuit parameters\n",
        "    params = opt.step(cost, params)\n",
        "\n",
        "    print(\"Cost after step {:5d}: {:8f}\".format(i + 1, cost(params)))\n",
        "\n",
        "print(\"Optimized mag_alpha:{:8f}\".format(params[0]))\n",
        "print(\"Optimized phase_alpha:{:8f}\".format(params[1]))\n",
        "print(\"Optimized phi:{:8f}\".format(params[2]))"
      ]
    },
    {
      "cell_type": "markdown",
      "metadata": {},
      "source": [
        "The optimization converges after about 20 steps to a cost function value\n",
        "of zero.\n",
        "\n",
        "We observe that the two angular parameters `phase_alpha` and `phi` do\n",
        "not change during the optimization. Only the magnitude of the complex\n",
        "displacement $|\\alpha|$ affects the mean photon number of the circuit.\n",
        "\n",
        "Continue on to the next tutorial, `plugins_hybrid`{.interpreted-text\n",
        "role=\"ref\"}, to learn how to utilize the extensive plugin ecosystem of\n",
        "PennyLane, build continuous-variable (CV) quantum nodes, and to see an\n",
        "example of a hybrid qubit-CV-classical computation using PennyLane.\n",
        "\n",
        "About the author\n",
        "================\n"
      ]
    }
  ],
  "metadata": {
    "kernelspec": {
      "display_name": "Python 3",
      "language": "python",
      "name": "python3"
    },
    "language_info": {
      "codemirror_mode": {
        "name": "ipython",
        "version": 3
      },
      "file_extension": ".py",
      "mimetype": "text/x-python",
      "name": "python",
      "nbconvert_exporter": "python",
      "pygments_lexer": "ipython3",
      "version": "3.11.3"
    }
  },
  "nbformat": 4,
  "nbformat_minor": 0
}
