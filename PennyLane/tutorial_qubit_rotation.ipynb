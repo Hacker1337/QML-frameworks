{
  "cells": [
    {
      "cell_type": "code",
      "execution_count": 12,
      "metadata": {
        "collapsed": false
      },
      "outputs": [],
      "source": [
        "# This cell is added by sphinx-gallery\n",
        "# It can be customized to whatever you like\n",
        "%matplotlib inline"
      ]
    },
    {
      "attachments": {},
      "cell_type": "markdown",
      "metadata": {},
      "source": [
        "https://pennylane.ai/qml/demos/tutorial_qubit_rotation.html"
      ]
    },
    {
      "cell_type": "markdown",
      "metadata": {},
      "source": [
        "Basic tutorial: qubit rotation {#qubit_rotation}\n",
        "==============================\n",
        "\n",
        "::: {.meta}\n",
        ":property=\\\"og:description\\\": To see how PennyLane allows the easy\n",
        "construction and optimization of quantum functions, let\\'s consider the\n",
        "\\'hello world\\' of QML: qubit rotation. :property=\\\"og:image\\\":\n",
        "<https://pennylane.ai/qml/_images/bloch.png>\n",
        ":::\n",
        "\n",
        "::: {.related}\n",
        "plugins\\_hybrid Plugins and hybrid computation\n",
        "tutorial\\_gaussian\\_transformation Gaussian transformation\n",
        "tutorial\\_state\\_preparation Training a quantum circuit with PyTorch\n",
        ":::\n",
        "\n",
        "*Author: Josh Izaac --- Posted: 11 October 2019. Last updated: 19\n",
        "January 2021.*\n",
        "\n",
        "To see how PennyLane allows the easy construction and optimization of\n",
        "quantum functions, let\\'s consider the simple case of **qubit rotation**\n",
        "the PennyLane version of the \\'Hello, world!\\' example.\n",
        "\n",
        "The task at hand is to optimize two rotation gates in order to flip a\n",
        "single qubit from state $\\left|0\\right\\rangle$ to state\n",
        "$\\left|1\\right\\rangle$.\n",
        "\n",
        "The quantum circuit\n",
        "-------------------\n",
        "\n",
        "In the qubit rotation example, we wish to implement the following\n",
        "quantum circuit:\n",
        "\n",
        "![](../demonstrations/qubit_rotation/rotation_circuit.png){.align-center\n",
        "width=\"40.0%\"}\n",
        "\n",
        "Breaking this down step-by-step, we first start with a qubit in the\n",
        "ground state $|0\\rangle = \\begin{bmatrix}1 & 0 \\end{bmatrix}^T$, and\n",
        "rotate it around the x-axis by applying the gate\n",
        "\n",
        "$$\\begin{aligned}\n",
        "R_x(\\phi_1) = e^{-i \\phi_1 \\sigma_x /2} =\n",
        "\\begin{bmatrix} \\cos \\frac{\\phi_1}{2} &  -i \\sin \\frac{\\phi_1}{2} \\\\\n",
        "-i \\sin \\frac{\\phi_1}{2} &  \\cos \\frac{\\phi_1}{2}\n",
        "\\end{bmatrix},\n",
        "\\end{aligned}$$\n",
        "\n",
        "and then around the y-axis via the gate\n",
        "\n",
        "$$\\begin{aligned}\n",
        "R_y(\\phi_2) = e^{-i \\phi_2 \\sigma_y/2} =\n",
        "\\begin{bmatrix} \\cos \\frac{\\phi_2}{2} &  - \\sin \\frac{\\phi_2}{2} \\\\\n",
        "\\sin \\frac{\\phi_2}{2} &  \\cos \\frac{\\phi_2}{2}\n",
        "\\end{bmatrix}.\n",
        "\\end{aligned}$$\n",
        "\n",
        "After these operations the qubit is now in the state\n",
        "\n",
        "$$| \\psi \\rangle = R_y(\\phi_2) R_x(\\phi_1) | 0 \\rangle.$$\n",
        "\n",
        "Finally, we measure the expectation value\n",
        "$\\langle \\psi \\mid \\sigma_z \\mid \\psi \\rangle$ of the Pauli-Z operator\n",
        "\n",
        "$$\\begin{aligned}\n",
        "\\sigma_z =\n",
        "\\begin{bmatrix} 1 &  0 \\\\\n",
        "0 & -1\n",
        "\\end{bmatrix}.\n",
        "\\end{aligned}$$\n",
        "\n",
        "Using the above to calculate the exact expectation value, we find that\n",
        "\n",
        "$$\\langle \\psi \\mid \\sigma_z \\mid \\psi \\rangle\n",
        "= \\langle 0 \\mid R_x(\\phi_1)^\\dagger R_y(\\phi_2)^\\dagger \\sigma_z  R_y(\\phi_2) R_x(\\phi_1) \\mid 0 \\rangle\n",
        "= \\cos(\\phi_1)\\cos(\\phi_2).$$\n",
        "\n",
        "Depending on the circuit parameters $\\phi_1$ and $\\phi_2$, the output\n",
        "expectation lies between $1$ (if\n",
        "$\\left|\\psi\\right\\rangle = \\left|0\\right\\rangle$) and $-1$ (if\n",
        "$\\left|\\psi\\right\\rangle = \\left|1\\right\\rangle$).\n"
      ]
    },
    {
      "cell_type": "code",
      "execution_count": 2,
      "metadata": {
        "collapsed": false
      },
      "outputs": [],
      "source": [
        "import pennylane as qml\n",
        "from pennylane import numpy as np"
      ]
    },
    {
      "cell_type": "code",
      "execution_count": 3,
      "metadata": {
        "collapsed": false
      },
      "outputs": [],
      "source": [
        "dev1 = qml.device(\"default.qubit\", wires=1)"
      ]
    },
    {
      "cell_type": "code",
      "execution_count": 4,
      "metadata": {
        "collapsed": false
      },
      "outputs": [],
      "source": [
        "def circuit(params):\n",
        "    qml.RX(params[0], wires=0)\n",
        "    qml.RY(params[1], wires=0)\n",
        "    return qml.expval(qml.PauliZ(0))"
      ]
    },
    {
      "cell_type": "code",
      "execution_count": 5,
      "metadata": {
        "collapsed": false
      },
      "outputs": [],
      "source": [
        "@qml.qnode(dev1, interface=\"autograd\")\n",
        "def circuit(params):\n",
        "    qml.RX(params[0], wires=0)\n",
        "    qml.RY(params[1], wires=0)\n",
        "    return qml.expval(qml.PauliZ(0))"
      ]
    },
    {
      "cell_type": "markdown",
      "metadata": {},
      "source": [
        "Thus, our `circuit()` quantum function is now a\n",
        "`~.pennylane.QNode`{.interpreted-text role=\"class\"}, which will run on\n",
        "device `dev1` every time it is evaluated.\n",
        "\n",
        "To evaluate, we simply call the function with some appropriate numerical\n",
        "inputs:\n"
      ]
    },
    {
      "cell_type": "code",
      "execution_count": 6,
      "metadata": {
        "collapsed": false
      },
      "outputs": [
        {
          "name": "stdout",
          "output_type": "stream",
          "text": [
            "0.8515405859048367\n"
          ]
        }
      ],
      "source": [
        "print(circuit([0.54, 0.12]))"
      ]
    },
    {
      "cell_type": "markdown",
      "metadata": {},
      "source": [
        "Calculating quantum gradients\n",
        "=============================\n",
        "\n",
        "The gradient of the function `circuit`, encapsulated within the `QNode`,\n",
        "can be evaluated by utilizing the same quantum device (`dev1`) that we\n",
        "used to evaluate the function itself.\n",
        "\n",
        "PennyLane incorporates both analytic differentiation, as well as\n",
        "numerical methods (such as the method of finite differences). Both of\n",
        "these are done automatically.\n",
        "\n",
        "We can differentiate by using the built-in\n",
        "`~.pennylane.grad`{.interpreted-text role=\"func\"} function. This returns\n",
        "another function, representing the gradient (i.e., the vector of partial\n",
        "derivatives) of `circuit`. The gradient can be evaluated in the same way\n",
        "as the original function:\n"
      ]
    },
    {
      "cell_type": "code",
      "execution_count": 7,
      "metadata": {
        "collapsed": false
      },
      "outputs": [],
      "source": [
        "dcircuit = qml.grad(circuit, argnum=0)"
      ]
    },
    {
      "cell_type": "markdown",
      "metadata": {},
      "source": [
        "The function `~.pennylane.grad`{.interpreted-text role=\"func\"} itself\n",
        "**returns a function**, representing the derivative of the QNode with\n",
        "respect to the argument specified in `argnum`. In this case, the\n",
        "function `circuit` takes one argument (`params`), so we specify\n",
        "`argnum=0`. Because the argument has two elements, the returned gradient\n",
        "is two-dimensional. We can then evaluate this gradient function at any\n",
        "point in the parameter space.\n"
      ]
    },
    {
      "cell_type": "code",
      "execution_count": 8,
      "metadata": {
        "collapsed": false
      },
      "outputs": [
        {
          "name": "stdout",
          "output_type": "stream",
          "text": [
            "[array(-0.51043865), array(-0.1026782)]\n"
          ]
        }
      ],
      "source": [
        "print(dcircuit([0.54, 0.12]))"
      ]
    },
    {
      "attachments": {},
      "cell_type": "markdown",
      "metadata": {},
      "source": [
        "Optimization\n",
        "============\n",
        "In this case, our desired outcome is a Pauli-Z expectation value of\n",
        "$-1$. Since we know that the Pauli-Z expectation is bound between\n",
        "$[-1, 1]$, we can define our cost directly as the output of the QNode:\n"
      ]
    },
    {
      "cell_type": "code",
      "execution_count": 9,
      "metadata": {
        "collapsed": false
      },
      "outputs": [],
      "source": [
        "def cost(x):\n",
        "    return circuit(x)"
      ]
    },
    {
      "cell_type": "markdown",
      "metadata": {},
      "source": [
        "To begin our optimization, let\\'s choose small initial values of\n",
        "$\\phi_1$ and $\\phi_2$:\n"
      ]
    },
    {
      "cell_type": "code",
      "execution_count": 10,
      "metadata": {
        "collapsed": false
      },
      "outputs": [
        {
          "name": "stdout",
          "output_type": "stream",
          "text": [
            "0.9998675058299389\n"
          ]
        }
      ],
      "source": [
        "init_params = np.array([0.011, 0.012], requires_grad=True)\n",
        "print(cost(init_params))"
      ]
    },
    {
      "cell_type": "markdown",
      "metadata": {},
      "source": [
        "We can see that, for these initial parameter values, the cost function\n",
        "is close to $1$.\n",
        "\n",
        "Finally, we use an optimizer to update the circuit parameters for 100\n",
        "steps. We can use the built-in\n",
        "`~.pennylane.GradientDescentOptimizer`{.interpreted-text role=\"class\"}\n",
        "class:\n"
      ]
    },
    {
      "cell_type": "code",
      "execution_count": 11,
      "metadata": {
        "collapsed": false
      },
      "outputs": [
        {
          "name": "stdout",
          "output_type": "stream",
          "text": [
            "Cost after step     5:  0.9961778\n",
            "Cost after step    10:  0.8974944\n",
            "Cost after step    15:  0.1440490\n",
            "Cost after step    20: -0.1536720\n",
            "Cost after step    25: -0.9152496\n",
            "Cost after step    30: -0.9994046\n",
            "Cost after step    35: -0.9999964\n",
            "Cost after step    40: -1.0000000\n",
            "Cost after step    45: -1.0000000\n",
            "Cost after step    50: -1.0000000\n",
            "Cost after step    55: -1.0000000\n",
            "Cost after step    60: -1.0000000\n",
            "Cost after step    65: -1.0000000\n",
            "Cost after step    70: -1.0000000\n",
            "Cost after step    75: -1.0000000\n",
            "Cost after step    80: -1.0000000\n",
            "Cost after step    85: -1.0000000\n",
            "Cost after step    90: -1.0000000\n",
            "Cost after step    95: -1.0000000\n",
            "Cost after step   100: -1.0000000\n",
            "Optimized rotation angles: [7.15266381e-18 3.14159265e+00]\n"
          ]
        }
      ],
      "source": [
        "# initialise the optimizer\n",
        "opt = qml.GradientDescentOptimizer(stepsize=0.4)\n",
        "\n",
        "# set the number of steps\n",
        "steps = 100\n",
        "# set the initial parameter values\n",
        "params = init_params\n",
        "\n",
        "for i in range(steps):\n",
        "    # update the circuit parameters\n",
        "    params = opt.step(cost, params)\n",
        "\n",
        "    if (i + 1) % 5 == 0:\n",
        "        print(\"Cost after step {:5d}: {: .7f}\".format(i + 1, cost(params)))\n",
        "\n",
        "print(\"Optimized rotation angles: {}\".format(params))"
      ]
    },
    {
      "attachments": {},
      "cell_type": "markdown",
      "metadata": {},
      "source": [
        "We can see that the optimization converges after approximately 40 steps.\n",
        "\n",
        "Substituting this into the theoretical result\n",
        "$\\langle \\psi \\mid \\sigma_z \\mid \\psi \\rangle = \\cos\\phi_1\\cos\\phi_2$,\n",
        "we can verify that this is indeed one possible value of the circuit\n",
        "parameters that produces\n",
        "$\\langle \\psi \\mid \\sigma_z \\mid \\psi \\rangle=-1$, resulting in the\n",
        "qubit being rotated to the state $\\left|1\\right\\rangle$.\n",
        "\n",
        "Some optimizers, such as\n",
        "`~.pennylane.AdagradOptimizer`, have\n",
        "internal hyperparameters that are stored in the optimizer instance.\n",
        "These can be reset using the `reset`\n",
        "method.\n",
        ":::\n",
        "\n",
        "Continue on to the next tutorial,\n",
        "`gaussian_transformation`, to see a\n",
        "similar example using continuous-variable (CV) quantum nodes.\n",
        "\n"
      ]
    }
  ],
  "metadata": {
    "kernelspec": {
      "display_name": "Python 3",
      "language": "python",
      "name": "python3"
    },
    "language_info": {
      "codemirror_mode": {
        "name": "ipython",
        "version": 3
      },
      "file_extension": ".py",
      "mimetype": "text/x-python",
      "name": "python",
      "nbconvert_exporter": "python",
      "pygments_lexer": "ipython3",
      "version": "3.11.3"
    }
  },
  "nbformat": 4,
  "nbformat_minor": 0
}
