{
 "cells": [
  {
   "attachments": {},
   "cell_type": "markdown",
   "metadata": {},
   "source": [
    "https://towardsdatascience.com/how-to-run-code-on-a-real-quantum-computer-c1fc61ff5b4"
   ]
  },
  {
   "cell_type": "code",
   "execution_count": 1,
   "metadata": {},
   "outputs": [
    {
     "data": {
      "text/plain": [
       "<qiskit.circuit.instructionset.InstructionSet at 0x7f60c2a5c040>"
      ]
     },
     "execution_count": 1,
     "metadata": {},
     "output_type": "execute_result"
    }
   ],
   "source": [
    "from qiskit import QuantumCircuit, QuantumRegister, ClassicalRegister, IBMQ, execute, transpile, Aer, assemble\n",
    "from qiskit.tools.monitor import job_monitor\n",
    "\n",
    "# Suppress warnings\n",
    "import warnings\n",
    "warnings.filterwarnings('ignore')\n",
    "\n",
    "qr = QuantumRegister(5)\n",
    "cr = ClassicalRegister(5)\n",
    "\n",
    "circuit = QuantumCircuit(qr, cr)\n",
    "circuit.x(qr[0])\n",
    "circuit.x(qr[1])\n",
    "circuit.ccx(qr[0], qr[1], qr[2])\n",
    "circuit.cx(qr[0], qr[1])\n",
    "circuit.measure(qr, cr)"
   ]
  },
  {
   "cell_type": "code",
   "execution_count": 18,
   "metadata": {},
   "outputs": [
    {
     "name": "stderr",
     "output_type": "stream",
     "text": [
      "ibmqfactory.load_account:WARNING:2023-05-27 19:24:06,203: Credentials are already in use. The existing account in the session will be replaced.\n"
     ]
    }
   ],
   "source": [
    "import os\n",
    "from dotenv import load_dotenv; load_dotenv()\n",
    "\n",
    "# replace TOKEN with your API token string (https://quantum-computing.ibm.com/lab/docs/iql/manage/account/ibmq)\n",
    "IBMQ.save_account(os.environ[\"TOKEN\"], overwrite=True) \n",
    "provider = IBMQ.load_account()"
   ]
  },
  {
   "cell_type": "code",
   "execution_count": 3,
   "metadata": {},
   "outputs": [],
   "source": [
    "# Get backend for experiment\n",
    "provider = IBMQ.get_provider(hub='ibm-q', group='open', project='main')\n",
    "backend = provider.get_backend('ibmq_quito')\n",
    "\n",
    "# prepare the circuit for the backend\n",
    "mapped_circuit = transpile(circuit, backend=backend)\n",
    "qobj = assemble(mapped_circuit, backend=backend, shots=1024)\n",
    "\n",
    "# execute the circuit\n",
    "job = backend.run(qobj)"
   ]
  },
  {
   "cell_type": "code",
   "execution_count": 4,
   "metadata": {},
   "outputs": [
    {
     "data": {
      "text/plain": [
       "<JobStatus.QUEUED: 'job is queued'>"
      ]
     },
     "execution_count": 4,
     "metadata": {},
     "output_type": "execute_result"
    }
   ],
   "source": [
    "job.status()"
   ]
  },
  {
   "attachments": {},
   "cell_type": "markdown",
   "metadata": {},
   "source": [
    "https://quantum-computing.ibm.com/jobs?backend=ibmq_quito\n",
    "\n",
    "wait time: 2 часа\n",
    "\n",
    "Queue position: 7\n",
    "\n",
    "exec time: 3 s"
   ]
  },
  {
   "cell_type": "code",
   "execution_count": 21,
   "metadata": {},
   "outputs": [
    {
     "data": {
      "text/plain": [
       "<JobStatus.DONE: 'job has successfully run'>"
      ]
     },
     "execution_count": 21,
     "metadata": {},
     "output_type": "execute_result"
    }
   ],
   "source": [
    "job.status()"
   ]
  },
  {
   "cell_type": "code",
   "execution_count": 8,
   "metadata": {},
   "outputs": [
    {
     "data": {
      "text/plain": [
       "'chougjf8rmtc64quk2ag'"
      ]
     },
     "execution_count": 8,
     "metadata": {},
     "output_type": "execute_result"
    }
   ],
   "source": [
    "job.job_id()"
   ]
  },
  {
   "cell_type": "code",
   "execution_count": 20,
   "metadata": {},
   "outputs": [
    {
     "ename": "IBMQBackendApiError",
     "evalue": "\"Failed to get job 61b32368e4d3eb10e15c8b0e: '403 Client Error: Forbidden for url: https://api.quantum-computing.ibm.com/api/Network/ibm-q/Groups/open/Projects/main/Jobs/61b32368e4d3eb10e15c8b0e/v/1. Forbidden., Error code: 2409.'\"",
     "output_type": "error",
     "traceback": [
      "\u001b[0;31m---------------------------------------------------------------------------\u001b[0m",
      "\u001b[0;31mHTTPError\u001b[0m                                 Traceback (most recent call last)",
      "File \u001b[0;32m~/miniconda3/envs/pennylane/lib/python3.11/site-packages/qiskit/providers/ibmq/api/session.py:278\u001b[0m, in \u001b[0;36mRetrySession.request\u001b[0;34m(self, method, url, bare, **kwargs)\u001b[0m\n\u001b[1;32m    277\u001b[0m     response \u001b[39m=\u001b[39m \u001b[39msuper\u001b[39m()\u001b[39m.\u001b[39mrequest(method, final_url, headers\u001b[39m=\u001b[39mheaders, \u001b[39m*\u001b[39m\u001b[39m*\u001b[39mkwargs)\n\u001b[0;32m--> 278\u001b[0m     response\u001b[39m.\u001b[39;49mraise_for_status()\n\u001b[1;32m    279\u001b[0m \u001b[39mexcept\u001b[39;00m RequestException \u001b[39mas\u001b[39;00m ex:\n\u001b[1;32m    280\u001b[0m     \u001b[39m# Wrap the requests exceptions into a IBM Q custom one, for\u001b[39;00m\n\u001b[1;32m    281\u001b[0m     \u001b[39m# compatibility.\u001b[39;00m\n",
      "File \u001b[0;32m~/miniconda3/envs/pennylane/lib/python3.11/site-packages/requests/models.py:1021\u001b[0m, in \u001b[0;36mResponse.raise_for_status\u001b[0;34m(self)\u001b[0m\n\u001b[1;32m   1020\u001b[0m \u001b[39mif\u001b[39;00m http_error_msg:\n\u001b[0;32m-> 1021\u001b[0m     \u001b[39mraise\u001b[39;00m HTTPError(http_error_msg, response\u001b[39m=\u001b[39m\u001b[39mself\u001b[39m)\n",
      "\u001b[0;31mHTTPError\u001b[0m: 403 Client Error: Forbidden for url: https://api.quantum-computing.ibm.com/api/Network/ibm-q/Groups/open/Projects/main/Jobs/61b32368e4d3eb10e15c8b0e/v/1",
      "\nThe above exception was the direct cause of the following exception:\n",
      "\u001b[0;31mRequestsApiError\u001b[0m                          Traceback (most recent call last)",
      "File \u001b[0;32m~/miniconda3/envs/pennylane/lib/python3.11/site-packages/qiskit/providers/ibmq/ibmqbackendservice.py:650\u001b[0m, in \u001b[0;36mIBMQBackendService.retrieve_job\u001b[0;34m(self, job_id)\u001b[0m\n\u001b[1;32m    649\u001b[0m \u001b[39mtry\u001b[39;00m:\n\u001b[0;32m--> 650\u001b[0m     job_info \u001b[39m=\u001b[39m \u001b[39mself\u001b[39;49m\u001b[39m.\u001b[39;49m_provider\u001b[39m.\u001b[39;49m_api_client\u001b[39m.\u001b[39;49mjob_get(job_id)\n\u001b[1;32m    651\u001b[0m \u001b[39mexcept\u001b[39;00m ApiError \u001b[39mas\u001b[39;00m ex:\n",
      "File \u001b[0;32m~/miniconda3/envs/pennylane/lib/python3.11/site-packages/qiskit/providers/ibmq/api/clients/account.py:343\u001b[0m, in \u001b[0;36mAccountClient.job_get\u001b[0;34m(self, job_id)\u001b[0m\n\u001b[1;32m    335\u001b[0m \u001b[39m\u001b[39m\u001b[39m\"\"\"Return information about the job.\u001b[39;00m\n\u001b[1;32m    336\u001b[0m \n\u001b[1;32m    337\u001b[0m \u001b[39mArgs:\u001b[39;00m\n\u001b[0;32m   (...)\u001b[0m\n\u001b[1;32m    341\u001b[0m \u001b[39m    Job information.\u001b[39;00m\n\u001b[1;32m    342\u001b[0m \u001b[39m\"\"\"\u001b[39;00m\n\u001b[0;32m--> 343\u001b[0m \u001b[39mreturn\u001b[39;00m \u001b[39mself\u001b[39;49m\u001b[39m.\u001b[39;49maccount_api\u001b[39m.\u001b[39;49mjob(job_id)\u001b[39m.\u001b[39;49mget()\n",
      "File \u001b[0;32m~/miniconda3/envs/pennylane/lib/python3.11/site-packages/qiskit/providers/ibmq/api/rest/job.py:67\u001b[0m, in \u001b[0;36mJob.get\u001b[0;34m(self)\u001b[0m\n\u001b[1;32m     65\u001b[0m url \u001b[39m=\u001b[39m \u001b[39mself\u001b[39m\u001b[39m.\u001b[39mget_url(\u001b[39m'\u001b[39m\u001b[39mself\u001b[39m\u001b[39m'\u001b[39m)\n\u001b[0;32m---> 67\u001b[0m response \u001b[39m=\u001b[39m \u001b[39mself\u001b[39;49m\u001b[39m.\u001b[39;49msession\u001b[39m.\u001b[39;49mget(url)\u001b[39m.\u001b[39mjson()\n\u001b[1;32m     69\u001b[0m \u001b[39mif\u001b[39;00m \u001b[39m'\u001b[39m\u001b[39mcalibration\u001b[39m\u001b[39m'\u001b[39m \u001b[39min\u001b[39;00m response:\n",
      "File \u001b[0;32m~/miniconda3/envs/pennylane/lib/python3.11/site-packages/requests/sessions.py:602\u001b[0m, in \u001b[0;36mSession.get\u001b[0;34m(self, url, **kwargs)\u001b[0m\n\u001b[1;32m    601\u001b[0m kwargs\u001b[39m.\u001b[39msetdefault(\u001b[39m\"\u001b[39m\u001b[39mallow_redirects\u001b[39m\u001b[39m\"\u001b[39m, \u001b[39mTrue\u001b[39;00m)\n\u001b[0;32m--> 602\u001b[0m \u001b[39mreturn\u001b[39;00m \u001b[39mself\u001b[39;49m\u001b[39m.\u001b[39;49mrequest(\u001b[39m\"\u001b[39;49m\u001b[39mGET\u001b[39;49m\u001b[39m\"\u001b[39;49m, url, \u001b[39m*\u001b[39;49m\u001b[39m*\u001b[39;49mkwargs)\n",
      "File \u001b[0;32m~/miniconda3/envs/pennylane/lib/python3.11/site-packages/qiskit/providers/ibmq/api/session.py:300\u001b[0m, in \u001b[0;36mRetrySession.request\u001b[0;34m(self, method, url, bare, **kwargs)\u001b[0m\n\u001b[1;32m    298\u001b[0m         \u001b[39mself\u001b[39m\u001b[39m.\u001b[39m_modify_chained_exception_messages(ex)\n\u001b[0;32m--> 300\u001b[0m     \u001b[39mraise\u001b[39;00m RequestsApiError(message, status_code) \u001b[39mfrom\u001b[39;00m \u001b[39mex\u001b[39;00m\n\u001b[1;32m    302\u001b[0m \u001b[39mreturn\u001b[39;00m response\n",
      "\u001b[0;31mRequestsApiError\u001b[0m: '403 Client Error: Forbidden for url: https://api.quantum-computing.ibm.com/api/Network/ibm-q/Groups/open/Projects/main/Jobs/61b32368e4d3eb10e15c8b0e/v/1. Forbidden., Error code: 2409.'",
      "\nThe above exception was the direct cause of the following exception:\n",
      "\u001b[0;31mIBMQBackendApiError\u001b[0m                       Traceback (most recent call last)",
      "Cell \u001b[0;32mIn[20], line 4\u001b[0m\n\u001b[1;32m      2\u001b[0m job_id \u001b[39m=\u001b[39m \u001b[39m'\u001b[39m\u001b[39mchougjf8rmtc64quk2ag\u001b[39m\u001b[39m'\u001b[39m\n\u001b[1;32m      3\u001b[0m provider \u001b[39m=\u001b[39m IBMQ\u001b[39m.\u001b[39mget_provider(hub\u001b[39m=\u001b[39m\u001b[39m'\u001b[39m\u001b[39mibm-q\u001b[39m\u001b[39m'\u001b[39m, group\u001b[39m=\u001b[39m\u001b[39m'\u001b[39m\u001b[39mopen\u001b[39m\u001b[39m'\u001b[39m, project\u001b[39m=\u001b[39m\u001b[39m'\u001b[39m\u001b[39mmain\u001b[39m\u001b[39m'\u001b[39m)\n\u001b[0;32m----> 4\u001b[0m job \u001b[39m=\u001b[39m provider\u001b[39m.\u001b[39;49mget_backend(\u001b[39m'\u001b[39;49m\u001b[39mibmq_quito\u001b[39;49m\u001b[39m'\u001b[39;49m)\u001b[39m.\u001b[39;49mretrieve_job(\u001b[39m'\u001b[39;49m\u001b[39m61b32368e4d3eb10e15c8b0e\u001b[39;49m\u001b[39m'\u001b[39;49m)\n",
      "File \u001b[0;32m~/miniconda3/envs/pennylane/lib/python3.11/site-packages/qiskit/providers/ibmq/ibmqbackend.py:695\u001b[0m, in \u001b[0;36mIBMQBackend.retrieve_job\u001b[0;34m(self, job_id)\u001b[0m\n\u001b[1;32m    683\u001b[0m \u001b[39mdef\u001b[39;00m \u001b[39mretrieve_job\u001b[39m(\u001b[39mself\u001b[39m, job_id: \u001b[39mstr\u001b[39m) \u001b[39m-\u001b[39m\u001b[39m>\u001b[39m IBMQJob:\n\u001b[1;32m    684\u001b[0m \u001b[39m    \u001b[39m\u001b[39m\"\"\"Return a single job submitted to this backend.\u001b[39;00m\n\u001b[1;32m    685\u001b[0m \n\u001b[1;32m    686\u001b[0m \u001b[39m    Args:\u001b[39;00m\n\u001b[0;32m   (...)\u001b[0m\n\u001b[1;32m    693\u001b[0m \u001b[39m        IBMQBackendError: If job retrieval failed.\u001b[39;00m\n\u001b[1;32m    694\u001b[0m \u001b[39m    \"\"\"\u001b[39;00m\n\u001b[0;32m--> 695\u001b[0m     job \u001b[39m=\u001b[39m \u001b[39mself\u001b[39;49m\u001b[39m.\u001b[39;49m_provider\u001b[39m.\u001b[39;49mbackend\u001b[39m.\u001b[39;49mretrieve_job(job_id)\n\u001b[1;32m    696\u001b[0m     job_backend \u001b[39m=\u001b[39m job\u001b[39m.\u001b[39mbackend()\n\u001b[1;32m    698\u001b[0m     \u001b[39mif\u001b[39;00m \u001b[39mself\u001b[39m\u001b[39m.\u001b[39mname() \u001b[39m!=\u001b[39m job_backend\u001b[39m.\u001b[39mname():\n",
      "File \u001b[0;32m~/miniconda3/envs/pennylane/lib/python3.11/site-packages/qiskit/providers/ibmq/ibmqbackendservice.py:652\u001b[0m, in \u001b[0;36mIBMQBackendService.retrieve_job\u001b[0;34m(self, job_id)\u001b[0m\n\u001b[1;32m    650\u001b[0m     job_info \u001b[39m=\u001b[39m \u001b[39mself\u001b[39m\u001b[39m.\u001b[39m_provider\u001b[39m.\u001b[39m_api_client\u001b[39m.\u001b[39mjob_get(job_id)\n\u001b[1;32m    651\u001b[0m \u001b[39mexcept\u001b[39;00m ApiError \u001b[39mas\u001b[39;00m ex:\n\u001b[0;32m--> 652\u001b[0m     \u001b[39mraise\u001b[39;00m IBMQBackendApiError(\u001b[39m'\u001b[39m\u001b[39mFailed to get job \u001b[39m\u001b[39m{}\u001b[39;00m\u001b[39m: \u001b[39m\u001b[39m{}\u001b[39;00m\u001b[39m'\u001b[39m\n\u001b[1;32m    653\u001b[0m                               \u001b[39m.\u001b[39mformat(job_id, \u001b[39mstr\u001b[39m(ex))) \u001b[39mfrom\u001b[39;00m \u001b[39mex\u001b[39;00m\n\u001b[1;32m    655\u001b[0m \u001b[39m# Recreate the backend used for this job.\u001b[39;00m\n\u001b[1;32m    656\u001b[0m backend_name \u001b[39m=\u001b[39m job_info\u001b[39m.\u001b[39mget(\u001b[39m'\u001b[39m\u001b[39m_backend_info\u001b[39m\u001b[39m'\u001b[39m, {})\u001b[39m.\u001b[39mget(\u001b[39m'\u001b[39m\u001b[39mname\u001b[39m\u001b[39m'\u001b[39m, \u001b[39m'\u001b[39m\u001b[39munknown\u001b[39m\u001b[39m'\u001b[39m)\n",
      "\u001b[0;31mIBMQBackendApiError\u001b[0m: \"Failed to get job 61b32368e4d3eb10e15c8b0e: '403 Client Error: Forbidden for url: https://api.quantum-computing.ibm.com/api/Network/ibm-q/Groups/open/Projects/main/Jobs/61b32368e4d3eb10e15c8b0e/v/1. Forbidden., Error code: 2409.'\""
     ]
    }
   ],
   "source": [
    "job_id = 'chougjf8rmtc64quk2ag'\n",
    "provider = IBMQ.get_provider(hub='ibm-q', group='open', project='main')\n",
    "job = provider.get_backend('ibmq_quito').retrieve_job('61b32368e4d3eb10e15c8b0e')\n"
   ]
  },
  {
   "cell_type": "code",
   "execution_count": 22,
   "metadata": {},
   "outputs": [
    {
     "name": "stdout",
     "output_type": "stream",
     "text": [
      "{'00000': 7, '00001': 85, '10001': 1, '10010': 1, '10100': 2, '10101': 11, '10111': 1, '00010': 25, '00011': 21, '00100': 66, '00101': 735, '00110': 17, '00111': 38, '01011': 2, '01101': 12}\n"
     ]
    }
   ],
   "source": [
    "result = job.result()\n",
    "counts = result.get_counts()\n",
    "print(counts)"
   ]
  },
  {
   "cell_type": "code",
   "execution_count": 23,
   "metadata": {},
   "outputs": [],
   "source": [
    "from qiskit.visualization import plot_histogram"
   ]
  },
  {
   "cell_type": "code",
   "execution_count": 25,
   "metadata": {},
   "outputs": [
    {
     "data": {
      "image/png": "[encoded data removed]",
      "text/plain": [
       "<Figure size 700x500 with 1 Axes>"
      ]
     },
     "execution_count": 25,
     "metadata": {},
     "output_type": "execute_result"
    }
   ],
   "source": [
    "plot_histogram(counts)"
   ]
  },
  {
   "attachments": {},
   "cell_type": "markdown",
   "metadata": {},
   "source": [
    "## Test in simulation"
   ]
  },
  {
   "cell_type": "code",
   "execution_count": 11,
   "metadata": {},
   "outputs": [
    {
     "data": {
      "image/png": "[encoded data removed]",
      "text/plain": [
       "<Figure size 700x500 with 1 Axes>"
      ]
     },
     "execution_count": 11,
     "metadata": {},
     "output_type": "execute_result"
    }
   ],
   "source": [
    "simulator = Aer.get_backend('qasm_simulator')\n",
    "\n",
    "results = execute(circuit,simulator).result().get_counts()\n",
    "\n",
    "plot_histogram(results)"
   ]
  },
  {
   "cell_type": "code",
   "execution_count": 2,
   "metadata": {},
   "outputs": [
    {
     "data": {
      "text/html": [
       "<pre style=\"word-wrap: normal;white-space: pre;background: #fff0;line-height: 1.1;font-family: &quot;Courier New&quot;,Courier,monospace\">      ┌───┐          ┌─┐   \n",
       "q0_0: ┤ X ├──■────■──┤M├───\n",
       "      ├───┤  │  ┌─┴─┐└╥┘┌─┐\n",
       "q0_1: ┤ X ├──■──┤ X ├─╫─┤M├\n",
       "      └───┘┌─┴─┐└┬─┬┘ ║ └╥┘\n",
       "q0_2: ─────┤ X ├─┤M├──╫──╫─\n",
       "       ┌─┐ └───┘ └╥┘  ║  ║ \n",
       "q0_3: ─┤M├────────╫───╫──╫─\n",
       "       └╥┘  ┌─┐   ║   ║  ║ \n",
       "q0_4: ──╫───┤M├───╫───╫──╫─\n",
       "        ║   └╥┘   ║   ║  ║ \n",
       "c0: 5/══╩════╩════╩═══╩══╩═\n",
       "        3    4    2   0  1 </pre>"
      ],
      "text/plain": [
       "      ┌───┐          ┌─┐   \n",
       "q0_0: ┤ X ├──■────■──┤M├───\n",
       "      ├───┤  │  ┌─┴─┐└╥┘┌─┐\n",
       "q0_1: ┤ X ├──■──┤ X ├─╫─┤M├\n",
       "      └───┘┌─┴─┐└┬─┬┘ ║ └╥┘\n",
       "q0_2: ─────┤ X ├─┤M├──╫──╫─\n",
       "       ┌─┐ └───┘ └╥┘  ║  ║ \n",
       "q0_3: ─┤M├────────╫───╫──╫─\n",
       "       └╥┘  ┌─┐   ║   ║  ║ \n",
       "q0_4: ──╫───┤M├───╫───╫──╫─\n",
       "        ║   └╥┘   ║   ║  ║ \n",
       "c0: 5/══╩════╩════╩═══╩══╩═\n",
       "        3    4    2   0  1 "
      ]
     },
     "execution_count": 2,
     "metadata": {},
     "output_type": "execute_result"
    }
   ],
   "source": [
    "circuit.draw()"
   ]
  },
  {
   "attachments": {},
   "cell_type": "markdown",
   "metadata": {},
   "source": [
    "(сконвертировалось в 18 слоев на реальном компьютере....)"
   ]
  },
  {
   "cell_type": "code",
   "execution_count": 3,
   "metadata": {},
   "outputs": [
    {
     "data": {
      "text/html": [
       "<pre style=\"word-wrap: normal;white-space: pre;background: #fff0;line-height: 1.1;font-family: &quot;Courier New&quot;,Courier,monospace\">                                                                        »\n",
       " q_0: ──────────────────────────────────────────────────────────────────»\n",
       "      ┌─────────┐┌────┐┌─────────┐┌───┐┌──────────┐┌───┐┌─────────┐┌───┐»\n",
       " q_1: ┤ Rz(π/2) ├┤ √X ├┤ Rz(π/2) ├┤ X ├┤ Rz(-π/4) ├┤ X ├┤ Rz(π/4) ├┤ X ├»\n",
       "      └──┬───┬──┘└────┘└─────────┘└─┬─┘└──────────┘└─┬─┘└─────────┘└─┬─┘»\n",
       " q_2: ───┤ X ├──────────────────────■────────────────┼───────────────■──»\n",
       "         ├───┤                                       │                  »\n",
       " q_3: ───┤ X ├───────────────────────────────────────■──────────────────»\n",
       "         └───┘                                                          »\n",
       " q_4: ──────────────────────────────────────────────────────────────────»\n",
       "                                                                        »\n",
       "c0: 5/══════════════════════════════════════════════════════════════════»\n",
       "                                                                        »\n",
       "«                                                                        »\n",
       "« q_0: ──────────────────────────────────────────────────────────────────»\n",
       "«      ┌──────────┐┌───┐┌──────────┐┌────┐┌─────────┐┌───┐     ┌───┐┌───┐»\n",
       "« q_1: ┤ Rz(-π/4) ├┤ X ├┤ Rz(3π/4) ├┤ √X ├┤ Rz(π/2) ├┤ X ├──■──┤ X ├┤ X ├»\n",
       "«      ├─────────┬┘└─┬─┘└──────────┘└────┘└─────────┘└─┬─┘┌─┴─┐└─┬─┘└─┬─┘»\n",
       "« q_2: ┤ Rz(π/4) ├───┼─────────────────────────────────■──┤ X ├──■────┼──»\n",
       "«      └─────────┘   │                                    └───┘       │  »\n",
       "« q_3: ──────────────■────────────────────────────────────────────────■──»\n",
       "«                                                                        »\n",
       "« q_4: ──────────────────────────────────────────────────────────────────»\n",
       "«                                                                        »\n",
       "«c0: 5/══════════════════════════════════════════════════════════════════»\n",
       "«                                                                        »\n",
       "«                   ░          ┌─┐   \n",
       "« q_0: ─────────────░──────────┤M├───\n",
       "«      ┌──────────┐ ░    ┌─┐   └╥┘   \n",
       "« q_1: ┤ Rz(-π/4) ├─░────┤M├────╫────\n",
       "«      └──────────┘ ░    └╥┘┌─┐ ║    \n",
       "« q_2: ─────────────░─────╫─┤M├─╫────\n",
       "«      ┌─────────┐  ░ ┌─┐ ║ └╥┘ ║    \n",
       "« q_3: ┤ Rz(π/4) ├──░─┤M├─╫──╫──╫────\n",
       "«      └─────────┘  ░ └╥┘ ║  ║  ║ ┌─┐\n",
       "« q_4: ─────────────░──╫──╫──╫──╫─┤M├\n",
       "«                   ░  ║  ║  ║  ║ └╥┘\n",
       "«c0: 5/════════════════╩══╩══╩══╩══╩═\n",
       "«                      0  1  2  3  4 </pre>"
      ],
      "text/plain": [
       "                                                                        »\n",
       " q_0: ──────────────────────────────────────────────────────────────────»\n",
       "      ┌─────────┐┌────┐┌─────────┐┌───┐┌──────────┐┌───┐┌─────────┐┌───┐»\n",
       " q_1: ┤ Rz(π/2) ├┤ √X ├┤ Rz(π/2) ├┤ X ├┤ Rz(-π/4) ├┤ X ├┤ Rz(π/4) ├┤ X ├»\n",
       "      └──┬───┬──┘└────┘└─────────┘└─┬─┘└──────────┘└─┬─┘└─────────┘└─┬─┘»\n",
       " q_2: ───┤ X ├──────────────────────■────────────────┼───────────────■──»\n",
       "         ├───┤                                       │                  »\n",
       " q_3: ───┤ X ├───────────────────────────────────────■──────────────────»\n",
       "         └───┘                                                          »\n",
       " q_4: ──────────────────────────────────────────────────────────────────»\n",
       "                                                                        »\n",
       "c0: 5/══════════════════════════════════════════════════════════════════»\n",
       "                                                                        »\n",
       "«                                                                        »\n",
       "« q_0: ──────────────────────────────────────────────────────────────────»\n",
       "«      ┌──────────┐┌───┐┌──────────┐┌────┐┌─────────┐┌───┐     ┌───┐┌───┐»\n",
       "« q_1: ┤ Rz(-π/4) ├┤ X ├┤ Rz(3π/4) ├┤ √X ├┤ Rz(π/2) ├┤ X ├──■──┤ X ├┤ X ├»\n",
       "«      ├─────────┬┘└─┬─┘└──────────┘└────┘└─────────┘└─┬─┘┌─┴─┐└─┬─┘└─┬─┘»\n",
       "« q_2: ┤ Rz(π/4) ├───┼─────────────────────────────────■──┤ X ├──■────┼──»\n",
       "«      └─────────┘   │                                    └───┘       │  »\n",
       "« q_3: ──────────────■────────────────────────────────────────────────■──»\n",
       "«                                                                        »\n",
       "« q_4: ──────────────────────────────────────────────────────────────────»\n",
       "«                                                                        »\n",
       "«c0: 5/══════════════════════════════════════════════════════════════════»\n",
       "«                                                                        »\n",
       "«                   ░          ┌─┐   \n",
       "« q_0: ─────────────░──────────┤M├───\n",
       "«      ┌──────────┐ ░    ┌─┐   └╥┘   \n",
       "« q_1: ┤ Rz(-π/4) ├─░────┤M├────╫────\n",
       "«      └──────────┘ ░    └╥┘┌─┐ ║    \n",
       "« q_2: ─────────────░─────╫─┤M├─╫────\n",
       "«      ┌─────────┐  ░ ┌─┐ ║ └╥┘ ║    \n",
       "« q_3: ┤ Rz(π/4) ├──░─┤M├─╫──╫──╫────\n",
       "«      └─────────┘  ░ └╥┘ ║  ║  ║ ┌─┐\n",
       "« q_4: ─────────────░──╫──╫──╫──╫─┤M├\n",
       "«                   ░  ║  ║  ║  ║ └╥┘\n",
       "«c0: 5/════════════════╩══╩══╩══╩══╩═\n",
       "«                      0  1  2  3  4 "
      ]
     },
     "execution_count": 3,
     "metadata": {},
     "output_type": "execute_result"
    }
   ],
   "source": [
    "from qiskit import QuantumRegister, ClassicalRegister, QuantumCircuit\n",
    "from numpy import pi\n",
    "\n",
    "qreg_q = QuantumRegister(5, 'q')\n",
    "creg_c0 = ClassicalRegister(5, 'c0')\n",
    "circuit = QuantumCircuit(qreg_q, creg_c0)\n",
    "\n",
    "circuit.rz(1.5707963267948966, qreg_q[1])\n",
    "circuit.sx(qreg_q[1])\n",
    "circuit.rz(1.5707963267948966, qreg_q[1])\n",
    "circuit.x(qreg_q[2])\n",
    "circuit.cx(qreg_q[2], qreg_q[1])\n",
    "circuit.rz(-0.7853981633974483, qreg_q[1])\n",
    "circuit.x(qreg_q[3])\n",
    "circuit.cx(qreg_q[3], qreg_q[1])\n",
    "circuit.rz(0.7853981633974483, qreg_q[1])\n",
    "circuit.cx(qreg_q[2], qreg_q[1])\n",
    "circuit.rz(-0.7853981633974483, qreg_q[1])\n",
    "circuit.rz(0.7853981633974483, qreg_q[2])\n",
    "circuit.cx(qreg_q[3], qreg_q[1])\n",
    "circuit.rz(2.356194490192345, qreg_q[1])\n",
    "circuit.sx(qreg_q[1])\n",
    "circuit.rz(1.5707963267948966, qreg_q[1])\n",
    "circuit.cx(qreg_q[2], qreg_q[1])\n",
    "circuit.cx(qreg_q[1], qreg_q[2])\n",
    "circuit.cx(qreg_q[2], qreg_q[1])\n",
    "circuit.cx(qreg_q[3], qreg_q[1])\n",
    "circuit.rz(-0.7853981633974483, qreg_q[1])\n",
    "circuit.rz(0.7853981633974483, qreg_q[3])\n",
    "circuit.barrier(qreg_q[3], qreg_q[1], qreg_q[2], qreg_q[0], qreg_q[4])\n",
    "circuit.measure(qreg_q[3], creg_c0[0])\n",
    "circuit.measure(qreg_q[1], creg_c0[1])\n",
    "circuit.measure(qreg_q[2], creg_c0[2])\n",
    "circuit.measure(qreg_q[0], creg_c0[3])\n",
    "circuit.measure(qreg_q[4], creg_c0[4])\n",
    "\n",
    "circuit.draw()"
   ]
  },
  {
   "attachments": {},
   "cell_type": "markdown",
   "metadata": {},
   "source": [
    "погрешность кубитов около 3 %"
   ]
  },
  {
   "cell_type": "code",
   "execution_count": 12,
   "metadata": {},
   "outputs": [
    {
     "data": {
      "text/plain": [
       "(                                     \n",
       "  q_0: ───────■───────────────■───────\n",
       "       ┌───┐┌─┴─┐┌─────────┐┌─┴─┐┌───┐\n",
       "  q_1: ┤ H ├┤ X ├┤ Rz(0.3) ├┤ X ├┤ H ├\n",
       "       └───┘└───┘└─────────┘└───┘└───┘\n",
       "  q_2: ───────────────────────────────\n",
       "                                      \n",
       "  q_3: ───────────────────────────────\n",
       "                                      \n",
       "  q_4: ───────────────────────────────\n",
       "                                      \n",
       " c0: 5/═══════════════════════════════\n",
       "                                      ,\n",
       "       ┌───────────┐\n",
       "  q_0: ┤0          ├\n",
       "       │  Rzx(0.3) │\n",
       "  q_1: ┤1          ├\n",
       "       └───────────┘\n",
       "  q_2: ─────────────\n",
       "                    \n",
       "  q_3: ─────────────\n",
       "                    \n",
       "  q_4: ─────────────\n",
       "                    \n",
       " c0: 5/═════════════\n",
       "                    )"
      ]
     },
     "execution_count": 12,
     "metadata": {},
     "output_type": "execute_result"
    }
   ],
   "source": [
    "import qiskit\n",
    "\n",
    "# qiskit.circuit.library.RZXGate.decompose\n",
    "qreg_q = QuantumRegister(5, 'q')\n",
    "creg_c0 = ClassicalRegister(5, 'c0')\n",
    "circuit = QuantumCircuit(qreg_q, creg_c0)\n",
    "\n",
    "circuit.rzx(0.3, qreg_q[0], qreg_q[1])\n",
    "\n",
    "circuit.decompose().draw(), circuit.draw(), "
   ]
  }
 ],
 "metadata": {
  "kernelspec": {
   "display_name": "pennylane",
   "language": "python",
   "name": "python3"
  },
  "language_info": {
   "codemirror_mode": {
    "name": "ipython",
    "version": 3
   },
   "file_extension": ".py",
   "mimetype": "text/x-python",
   "name": "python",
   "nbconvert_exporter": "python",
   "pygments_lexer": "ipython3",
   "version": "3.11.3"
  },
  "orig_nbformat": 4
 },
 "nbformat": 4,
 "nbformat_minor": 2
}
