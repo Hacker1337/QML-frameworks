{
 "cells": [
  {
   "cell_type": "markdown",
   "metadata": {
    "colab_type": "text",
    "id": "xLOXFOT5Q40E"
   },
   "source": [
    "##### Copyright 2020 The TensorFlow Authors."
   ]
  },
  {
   "cell_type": "code",
   "execution_count": 1,
   "metadata": {
    "cellView": "form",
    "colab": {},
    "colab_type": "code",
    "execution": {
     "iopub.execute_input": "2023-03-21T11:34:00.502602Z",
     "iopub.status.busy": "2023-03-21T11:34:00.502347Z",
     "iopub.status.idle": "2023-03-21T11:34:00.506564Z",
     "shell.execute_reply": "2023-03-21T11:34:00.505912Z"
    },
    "id": "iiQkM5ZgQ8r2"
   },
   "outputs": [],
   "source": [
    "#@title Licensed under the Apache License, Version 2.0 (the \"License\");\n",
    "# you may not use this file except in compliance with the License.\n",
    "# You may obtain a copy of the License at\n",
    "#\n",
    "# https://www.apache.org/licenses/LICENSE-2.0\n",
    "#\n",
    "# Unless required by applicable law or agreed to in writing, software\n",
    "# distributed under the License is distributed on an \"AS IS\" BASIS,\n",
    "# WITHOUT WARRANTIES OR CONDITIONS OF ANY KIND, either express or implied.\n",
    "# See the License for the specific language governing permissions and\n",
    "# limitations under the License."
   ]
  },
  {
   "cell_type": "markdown",
   "metadata": {
    "colab_type": "text",
    "id": "j6331ZSsQGY3"
   },
   "source": [
    "# MNIST classification"
   ]
  },
  {
   "cell_type": "markdown",
   "metadata": {
    "colab_type": "text",
    "id": "i9Jcnb8bQQyd"
   },
   "source": [
    "<table class=\"tfo-notebook-buttons\" align=\"left\">\n",
    "  <td>\n",
    "    <a target=\"_blank\" href=\"https://www.tensorflow.org/quantum/tutorials/mnist\"><img src=\"https://www.tensorflow.org/images/tf_logo_32px.png\" />View on TensorFlow.org</a>\n",
    "  </td>\n",
    "  <td>\n",
    "    <a target=\"_blank\" href=\"https://colab.research.google.com/github/tensorflow/quantum/blob/master/docs/tutorials/mnist.ipynb\"><img src=\"https://www.tensorflow.org/images/colab_logo_32px.png\" />Run in Google Colab</a>\n",
    "  </td>\n",
    "  <td>\n",
    "    <a target=\"_blank\" href=\"https://github.com/tensorflow/quantum/blob/master/docs/tutorials/mnist.ipynb\"><img src=\"https://www.tensorflow.org/images/GitHub-Mark-32px.png\" />View source on GitHub</a>\n",
    "  </td>\n",
    "  <td>\n",
    "    <a href=\"https://storage.googleapis.com/tensorflow_docs/quantum/docs/tutorials/mnist.ipynb\"><img src=\"https://www.tensorflow.org/images/download_logo_32px.png\" />Download notebook</a>\n",
    "  </td>\n",
    "</table>"
   ]
  },
  {
   "cell_type": "markdown",
   "metadata": {
    "colab_type": "text",
    "id": "udLObUVeGfTs"
   },
   "source": [
    "This tutorial builds a quantum neural network (QNN) to classify a simplified version of MNIST, similar to the approach used in <a href=\"https://arxiv.org/pdf/1802.06002.pdf\" class=\"external\">Farhi et al</a>. The performance of the quantum neural network on this classical data problem is compared with a classical neural network."
   ]
  },
  {
   "cell_type": "markdown",
   "metadata": {
    "colab_type": "text",
    "id": "X35qHdh5Gzqg"
   },
   "source": [
    "## Setup"
   ]
  },
  {
   "cell_type": "code",
   "execution_count": 2,
   "metadata": {
    "colab": {},
    "colab_type": "code",
    "execution": {
     "iopub.execute_input": "2023-03-21T11:34:00.510281Z",
     "iopub.status.busy": "2023-03-21T11:34:00.509748Z",
     "iopub.status.idle": "2023-03-21T11:34:24.951174Z",
     "shell.execute_reply": "2023-03-21T11:34:24.950213Z"
    },
    "id": "TorxE5tnkvb2"
   },
   "outputs": [
    {
     "name": "stdout",
     "output_type": "stream",
     "text": [
      "Requirement already satisfied: tensorflow==2.7.0 in /home/amir/miniconda3/envs/TensorFlowQuantum/lib/python3.9/site-packages (2.7.0)\n",
      "Requirement already satisfied: numpy>=1.14.5 in /home/amir/miniconda3/envs/TensorFlowQuantum/lib/python3.9/site-packages (from tensorflow==2.7.0) (1.23.5)\n",
      "Requirement already satisfied: absl-py>=0.4.0 in /home/amir/miniconda3/envs/TensorFlowQuantum/lib/python3.9/site-packages (from tensorflow==2.7.0) (1.4.0)\n",
      "Requirement already satisfied: astunparse>=1.6.0 in /home/amir/miniconda3/envs/TensorFlowQuantum/lib/python3.9/site-packages (from tensorflow==2.7.0) (1.6.3)\n",
      "Requirement already satisfied: libclang>=9.0.1 in /home/amir/miniconda3/envs/TensorFlowQuantum/lib/python3.9/site-packages (from tensorflow==2.7.0) (16.0.0)\n",
      "Requirement already satisfied: flatbuffers<3.0,>=1.12 in /home/amir/miniconda3/envs/TensorFlowQuantum/lib/python3.9/site-packages (from tensorflow==2.7.0) (2.0.7)\n",
      "Requirement already satisfied: google-pasta>=0.1.1 in /home/amir/miniconda3/envs/TensorFlowQuantum/lib/python3.9/site-packages (from tensorflow==2.7.0) (0.2.0)\n",
      "Requirement already satisfied: h5py>=2.9.0 in /home/amir/miniconda3/envs/TensorFlowQuantum/lib/python3.9/site-packages (from tensorflow==2.7.0) (3.8.0)\n",
      "Requirement already satisfied: keras-preprocessing>=1.1.1 in /home/amir/miniconda3/envs/TensorFlowQuantum/lib/python3.9/site-packages (from tensorflow==2.7.0) (1.1.2)\n",
      "Requirement already satisfied: opt-einsum>=2.3.2 in /home/amir/miniconda3/envs/TensorFlowQuantum/lib/python3.9/site-packages (from tensorflow==2.7.0) (3.3.0)\n",
      "Requirement already satisfied: protobuf>=3.9.2 in /home/amir/miniconda3/envs/TensorFlowQuantum/lib/python3.9/site-packages (from tensorflow==2.7.0) (3.17.3)\n",
      "Requirement already satisfied: six>=1.12.0 in /home/amir/miniconda3/envs/TensorFlowQuantum/lib/python3.9/site-packages (from tensorflow==2.7.0) (1.16.0)\n",
      "Requirement already satisfied: termcolor>=1.1.0 in /home/amir/miniconda3/envs/TensorFlowQuantum/lib/python3.9/site-packages (from tensorflow==2.7.0) (2.3.0)\n",
      "Requirement already satisfied: typing-extensions>=3.6.6 in /home/amir/miniconda3/envs/TensorFlowQuantum/lib/python3.9/site-packages (from tensorflow==2.7.0) (4.6.1)\n",
      "Requirement already satisfied: wheel<1.0,>=0.32.0 in /home/amir/miniconda3/envs/TensorFlowQuantum/lib/python3.9/site-packages (from tensorflow==2.7.0) (0.40.0)\n",
      "Requirement already satisfied: wrapt>=1.11.0 in /home/amir/miniconda3/envs/TensorFlowQuantum/lib/python3.9/site-packages (from tensorflow==2.7.0) (1.14.1)\n",
      "Requirement already satisfied: gast<0.5.0,>=0.2.1 in /home/amir/miniconda3/envs/TensorFlowQuantum/lib/python3.9/site-packages (from tensorflow==2.7.0) (0.4.0)\n",
      "Requirement already satisfied: tensorboard~=2.6 in /home/amir/miniconda3/envs/TensorFlowQuantum/lib/python3.9/site-packages (from tensorflow==2.7.0) (2.7.0)\n",
      "Requirement already satisfied: tensorflow-estimator<2.8,~=2.7.0rc0 in /home/amir/miniconda3/envs/TensorFlowQuantum/lib/python3.9/site-packages (from tensorflow==2.7.0) (2.7.0)\n",
      "Requirement already satisfied: keras<2.8,>=2.7.0rc0 in /home/amir/miniconda3/envs/TensorFlowQuantum/lib/python3.9/site-packages (from tensorflow==2.7.0) (2.7.0)\n",
      "Requirement already satisfied: tensorflow-io-gcs-filesystem>=0.21.0 in /home/amir/miniconda3/envs/TensorFlowQuantum/lib/python3.9/site-packages (from tensorflow==2.7.0) (0.32.0)\n",
      "Requirement already satisfied: grpcio<2.0,>=1.24.3 in /home/amir/miniconda3/envs/TensorFlowQuantum/lib/python3.9/site-packages (from tensorflow==2.7.0) (1.54.2)\n",
      "Requirement already satisfied: google-auth<3,>=1.6.3 in /home/amir/miniconda3/envs/TensorFlowQuantum/lib/python3.9/site-packages (from tensorboard~=2.6->tensorflow==2.7.0) (1.18.0)\n",
      "Requirement already satisfied: google-auth-oauthlib<0.5,>=0.4.1 in /home/amir/miniconda3/envs/TensorFlowQuantum/lib/python3.9/site-packages (from tensorboard~=2.6->tensorflow==2.7.0) (0.4.6)\n",
      "Requirement already satisfied: markdown>=2.6.8 in /home/amir/miniconda3/envs/TensorFlowQuantum/lib/python3.9/site-packages (from tensorboard~=2.6->tensorflow==2.7.0) (3.4.3)\n",
      "Requirement already satisfied: requests<3,>=2.21.0 in /home/amir/miniconda3/envs/TensorFlowQuantum/lib/python3.9/site-packages (from tensorboard~=2.6->tensorflow==2.7.0) (2.31.0)\n",
      "Requirement already satisfied: setuptools>=41.0.0 in /home/amir/miniconda3/envs/TensorFlowQuantum/lib/python3.9/site-packages (from tensorboard~=2.6->tensorflow==2.7.0) (67.7.2)\n",
      "Requirement already satisfied: tensorboard-data-server<0.7.0,>=0.6.0 in /home/amir/miniconda3/envs/TensorFlowQuantum/lib/python3.9/site-packages (from tensorboard~=2.6->tensorflow==2.7.0) (0.6.1)\n",
      "Requirement already satisfied: tensorboard-plugin-wit>=1.6.0 in /home/amir/miniconda3/envs/TensorFlowQuantum/lib/python3.9/site-packages (from tensorboard~=2.6->tensorflow==2.7.0) (1.8.1)\n",
      "Requirement already satisfied: werkzeug>=0.11.15 in /home/amir/miniconda3/envs/TensorFlowQuantum/lib/python3.9/site-packages (from tensorboard~=2.6->tensorflow==2.7.0) (2.3.4)\n",
      "Requirement already satisfied: cachetools<5.0,>=2.0.0 in /home/amir/miniconda3/envs/TensorFlowQuantum/lib/python3.9/site-packages (from google-auth<3,>=1.6.3->tensorboard~=2.6->tensorflow==2.7.0) (4.2.4)\n",
      "Requirement already satisfied: pyasn1-modules>=0.2.1 in /home/amir/miniconda3/envs/TensorFlowQuantum/lib/python3.9/site-packages (from google-auth<3,>=1.6.3->tensorboard~=2.6->tensorflow==2.7.0) (0.3.0)\n",
      "Requirement already satisfied: rsa<5,>=3.1.4 in /home/amir/miniconda3/envs/TensorFlowQuantum/lib/python3.9/site-packages (from google-auth<3,>=1.6.3->tensorboard~=2.6->tensorflow==2.7.0) (4.9)\n",
      "Requirement already satisfied: requests-oauthlib>=0.7.0 in /home/amir/miniconda3/envs/TensorFlowQuantum/lib/python3.9/site-packages (from google-auth-oauthlib<0.5,>=0.4.1->tensorboard~=2.6->tensorflow==2.7.0) (1.3.1)\n",
      "Requirement already satisfied: importlib-metadata>=4.4 in /home/amir/miniconda3/envs/TensorFlowQuantum/lib/python3.9/site-packages (from markdown>=2.6.8->tensorboard~=2.6->tensorflow==2.7.0) (6.6.0)\n",
      "Requirement already satisfied: charset-normalizer<4,>=2 in /home/amir/miniconda3/envs/TensorFlowQuantum/lib/python3.9/site-packages (from requests<3,>=2.21.0->tensorboard~=2.6->tensorflow==2.7.0) (3.1.0)\n",
      "Requirement already satisfied: idna<4,>=2.5 in /home/amir/miniconda3/envs/TensorFlowQuantum/lib/python3.9/site-packages (from requests<3,>=2.21.0->tensorboard~=2.6->tensorflow==2.7.0) (3.4)\n",
      "Requirement already satisfied: urllib3<3,>=1.21.1 in /home/amir/miniconda3/envs/TensorFlowQuantum/lib/python3.9/site-packages (from requests<3,>=2.21.0->tensorboard~=2.6->tensorflow==2.7.0) (1.26.16)\n",
      "Requirement already satisfied: certifi>=2017.4.17 in /home/amir/miniconda3/envs/TensorFlowQuantum/lib/python3.9/site-packages (from requests<3,>=2.21.0->tensorboard~=2.6->tensorflow==2.7.0) (2023.5.7)\n",
      "Requirement already satisfied: MarkupSafe>=2.1.1 in /home/amir/miniconda3/envs/TensorFlowQuantum/lib/python3.9/site-packages (from werkzeug>=0.11.15->tensorboard~=2.6->tensorflow==2.7.0) (2.1.2)\n",
      "Requirement already satisfied: zipp>=0.5 in /home/amir/miniconda3/envs/TensorFlowQuantum/lib/python3.9/site-packages (from importlib-metadata>=4.4->markdown>=2.6.8->tensorboard~=2.6->tensorflow==2.7.0) (3.15.0)\n",
      "Requirement already satisfied: pyasn1<0.6.0,>=0.4.6 in /home/amir/miniconda3/envs/TensorFlowQuantum/lib/python3.9/site-packages (from pyasn1-modules>=0.2.1->google-auth<3,>=1.6.3->tensorboard~=2.6->tensorflow==2.7.0) (0.5.0)\n",
      "Requirement already satisfied: oauthlib>=3.0.0 in /home/amir/miniconda3/envs/TensorFlowQuantum/lib/python3.9/site-packages (from requests-oauthlib>=0.7.0->google-auth-oauthlib<0.5,>=0.4.1->tensorboard~=2.6->tensorflow==2.7.0) (3.2.2)\n"
     ]
    }
   ],
   "source": [
    "!pip install tensorflow==2.7.0"
   ]
  },
  {
   "cell_type": "markdown",
   "metadata": {
    "colab_type": "text",
    "id": "FxkQA6oblNqI"
   },
   "source": [
    "Install TensorFlow Quantum:"
   ]
  },
  {
   "cell_type": "code",
   "execution_count": 3,
   "metadata": {
    "colab": {},
    "colab_type": "code",
    "execution": {
     "iopub.execute_input": "2023-03-21T11:34:24.955578Z",
     "iopub.status.busy": "2023-03-21T11:34:24.954875Z",
     "iopub.status.idle": "2023-03-21T11:34:42.677615Z",
     "shell.execute_reply": "2023-03-21T11:34:42.676570Z"
    },
    "id": "saFHsRDpkvkH"
   },
   "outputs": [
    {
     "name": "stdout",
     "output_type": "stream",
     "text": [
      "Requirement already satisfied: tensorflow-quantum==0.7.2 in /home/amir/miniconda3/envs/TensorFlowQuantum/lib/python3.9/site-packages (0.7.2)\n",
      "Requirement already satisfied: cirq-core==0.13.1 in /home/amir/miniconda3/envs/TensorFlowQuantum/lib/python3.9/site-packages (from tensorflow-quantum==0.7.2) (0.13.1)\n",
      "Requirement already satisfied: cirq-google>=0.13.1 in /home/amir/miniconda3/envs/TensorFlowQuantum/lib/python3.9/site-packages (from tensorflow-quantum==0.7.2) (0.13.1)\n",
      "Requirement already satisfied: sympy==1.8 in /home/amir/miniconda3/envs/TensorFlowQuantum/lib/python3.9/site-packages (from tensorflow-quantum==0.7.2) (1.8)\n",
      "Requirement already satisfied: googleapis-common-protos==1.52.0 in /home/amir/miniconda3/envs/TensorFlowQuantum/lib/python3.9/site-packages (from tensorflow-quantum==0.7.2) (1.52.0)\n",
      "Requirement already satisfied: google-api-core==1.21.0 in /home/amir/miniconda3/envs/TensorFlowQuantum/lib/python3.9/site-packages (from tensorflow-quantum==0.7.2) (1.21.0)\n",
      "Requirement already satisfied: google-auth==1.18.0 in /home/amir/miniconda3/envs/TensorFlowQuantum/lib/python3.9/site-packages (from tensorflow-quantum==0.7.2) (1.18.0)\n",
      "Requirement already satisfied: protobuf==3.17.3 in /home/amir/miniconda3/envs/TensorFlowQuantum/lib/python3.9/site-packages (from tensorflow-quantum==0.7.2) (3.17.3)\n",
      "Requirement already satisfied: duet~=0.2.0 in /home/amir/miniconda3/envs/TensorFlowQuantum/lib/python3.9/site-packages (from cirq-core==0.13.1->tensorflow-quantum==0.7.2) (0.2.8)\n",
      "Requirement already satisfied: matplotlib~=3.0 in /home/amir/miniconda3/envs/TensorFlowQuantum/lib/python3.9/site-packages (from cirq-core==0.13.1->tensorflow-quantum==0.7.2) (3.7.1)\n",
      "Requirement already satisfied: networkx~=2.4 in /home/amir/miniconda3/envs/TensorFlowQuantum/lib/python3.9/site-packages (from cirq-core==0.13.1->tensorflow-quantum==0.7.2) (2.8.8)\n",
      "Requirement already satisfied: numpy~=1.16 in /home/amir/miniconda3/envs/TensorFlowQuantum/lib/python3.9/site-packages (from cirq-core==0.13.1->tensorflow-quantum==0.7.2) (1.23.5)\n",
      "Requirement already satisfied: pandas in /home/amir/miniconda3/envs/TensorFlowQuantum/lib/python3.9/site-packages (from cirq-core==0.13.1->tensorflow-quantum==0.7.2) (2.0.1)\n",
      "Requirement already satisfied: scipy in /home/amir/miniconda3/envs/TensorFlowQuantum/lib/python3.9/site-packages (from cirq-core==0.13.1->tensorflow-quantum==0.7.2) (1.10.1)\n",
      "Requirement already satisfied: sortedcontainers~=2.0 in /home/amir/miniconda3/envs/TensorFlowQuantum/lib/python3.9/site-packages (from cirq-core==0.13.1->tensorflow-quantum==0.7.2) (2.4.0)\n",
      "Requirement already satisfied: tqdm in /home/amir/miniconda3/envs/TensorFlowQuantum/lib/python3.9/site-packages (from cirq-core==0.13.1->tensorflow-quantum==0.7.2) (4.65.0)\n",
      "Requirement already satisfied: typing-extensions in /home/amir/miniconda3/envs/TensorFlowQuantum/lib/python3.9/site-packages (from cirq-core==0.13.1->tensorflow-quantum==0.7.2) (4.6.1)\n",
      "Requirement already satisfied: requests<3.0.0dev,>=2.18.0 in /home/amir/miniconda3/envs/TensorFlowQuantum/lib/python3.9/site-packages (from google-api-core==1.21.0->tensorflow-quantum==0.7.2) (2.31.0)\n",
      "Requirement already satisfied: setuptools>=34.0.0 in /home/amir/miniconda3/envs/TensorFlowQuantum/lib/python3.9/site-packages (from google-api-core==1.21.0->tensorflow-quantum==0.7.2) (67.7.2)\n",
      "Requirement already satisfied: six>=1.10.0 in /home/amir/miniconda3/envs/TensorFlowQuantum/lib/python3.9/site-packages (from google-api-core==1.21.0->tensorflow-quantum==0.7.2) (1.16.0)\n",
      "Requirement already satisfied: pytz in /home/amir/miniconda3/envs/TensorFlowQuantum/lib/python3.9/site-packages (from google-api-core==1.21.0->tensorflow-quantum==0.7.2) (2023.3)\n",
      "Requirement already satisfied: cachetools<5.0,>=2.0.0 in /home/amir/miniconda3/envs/TensorFlowQuantum/lib/python3.9/site-packages (from google-auth==1.18.0->tensorflow-quantum==0.7.2) (4.2.4)\n",
      "Requirement already satisfied: pyasn1-modules>=0.2.1 in /home/amir/miniconda3/envs/TensorFlowQuantum/lib/python3.9/site-packages (from google-auth==1.18.0->tensorflow-quantum==0.7.2) (0.3.0)\n",
      "Requirement already satisfied: rsa<5,>=3.1.4 in /home/amir/miniconda3/envs/TensorFlowQuantum/lib/python3.9/site-packages (from google-auth==1.18.0->tensorflow-quantum==0.7.2) (4.9)\n",
      "Requirement already satisfied: mpmath>=0.19 in /home/amir/miniconda3/envs/TensorFlowQuantum/lib/python3.9/site-packages (from sympy==1.8->tensorflow-quantum==0.7.2) (1.3.0)\n",
      "Requirement already satisfied: grpcio<2.0dev,>=1.29.0 in /home/amir/miniconda3/envs/TensorFlowQuantum/lib/python3.9/site-packages (from google-api-core==1.21.0->tensorflow-quantum==0.7.2) (1.54.2)\n",
      "Requirement already satisfied: contourpy>=1.0.1 in /home/amir/miniconda3/envs/TensorFlowQuantum/lib/python3.9/site-packages (from matplotlib~=3.0->cirq-core==0.13.1->tensorflow-quantum==0.7.2) (1.0.7)\n",
      "Requirement already satisfied: cycler>=0.10 in /home/amir/miniconda3/envs/TensorFlowQuantum/lib/python3.9/site-packages (from matplotlib~=3.0->cirq-core==0.13.1->tensorflow-quantum==0.7.2) (0.11.0)\n",
      "Requirement already satisfied: fonttools>=4.22.0 in /home/amir/miniconda3/envs/TensorFlowQuantum/lib/python3.9/site-packages (from matplotlib~=3.0->cirq-core==0.13.1->tensorflow-quantum==0.7.2) (4.39.4)\n",
      "Requirement already satisfied: kiwisolver>=1.0.1 in /home/amir/miniconda3/envs/TensorFlowQuantum/lib/python3.9/site-packages (from matplotlib~=3.0->cirq-core==0.13.1->tensorflow-quantum==0.7.2) (1.4.4)\n",
      "Requirement already satisfied: packaging>=20.0 in /home/amir/miniconda3/envs/TensorFlowQuantum/lib/python3.9/site-packages (from matplotlib~=3.0->cirq-core==0.13.1->tensorflow-quantum==0.7.2) (23.1)\n",
      "Requirement already satisfied: pillow>=6.2.0 in /home/amir/miniconda3/envs/TensorFlowQuantum/lib/python3.9/site-packages (from matplotlib~=3.0->cirq-core==0.13.1->tensorflow-quantum==0.7.2) (9.5.0)\n",
      "Requirement already satisfied: pyparsing>=2.3.1 in /home/amir/miniconda3/envs/TensorFlowQuantum/lib/python3.9/site-packages (from matplotlib~=3.0->cirq-core==0.13.1->tensorflow-quantum==0.7.2) (3.0.9)\n",
      "Requirement already satisfied: python-dateutil>=2.7 in /home/amir/miniconda3/envs/TensorFlowQuantum/lib/python3.9/site-packages (from matplotlib~=3.0->cirq-core==0.13.1->tensorflow-quantum==0.7.2) (2.8.2)\n",
      "Requirement already satisfied: importlib-resources>=3.2.0 in /home/amir/miniconda3/envs/TensorFlowQuantum/lib/python3.9/site-packages (from matplotlib~=3.0->cirq-core==0.13.1->tensorflow-quantum==0.7.2) (5.12.0)\n",
      "Requirement already satisfied: pyasn1<0.6.0,>=0.4.6 in /home/amir/miniconda3/envs/TensorFlowQuantum/lib/python3.9/site-packages (from pyasn1-modules>=0.2.1->google-auth==1.18.0->tensorflow-quantum==0.7.2) (0.5.0)\n",
      "Requirement already satisfied: charset-normalizer<4,>=2 in /home/amir/miniconda3/envs/TensorFlowQuantum/lib/python3.9/site-packages (from requests<3.0.0dev,>=2.18.0->google-api-core==1.21.0->tensorflow-quantum==0.7.2) (3.1.0)\n",
      "Requirement already satisfied: idna<4,>=2.5 in /home/amir/miniconda3/envs/TensorFlowQuantum/lib/python3.9/site-packages (from requests<3.0.0dev,>=2.18.0->google-api-core==1.21.0->tensorflow-quantum==0.7.2) (3.4)\n",
      "Requirement already satisfied: urllib3<3,>=1.21.1 in /home/amir/miniconda3/envs/TensorFlowQuantum/lib/python3.9/site-packages (from requests<3.0.0dev,>=2.18.0->google-api-core==1.21.0->tensorflow-quantum==0.7.2) (1.26.16)\n",
      "Requirement already satisfied: certifi>=2017.4.17 in /home/amir/miniconda3/envs/TensorFlowQuantum/lib/python3.9/site-packages (from requests<3.0.0dev,>=2.18.0->google-api-core==1.21.0->tensorflow-quantum==0.7.2) (2023.5.7)\n",
      "Requirement already satisfied: tzdata>=2022.1 in /home/amir/miniconda3/envs/TensorFlowQuantum/lib/python3.9/site-packages (from pandas->cirq-core==0.13.1->tensorflow-quantum==0.7.2) (2023.3)\n",
      "Requirement already satisfied: zipp>=3.1.0 in /home/amir/miniconda3/envs/TensorFlowQuantum/lib/python3.9/site-packages (from importlib-resources>=3.2.0->matplotlib~=3.0->cirq-core==0.13.1->tensorflow-quantum==0.7.2) (3.15.0)\n"
     ]
    }
   ],
   "source": [
    "!pip install tensorflow-quantum==0.7.2"
   ]
  },
  {
   "cell_type": "code",
   "execution_count": 4,
   "metadata": {
    "colab": {},
    "colab_type": "code",
    "execution": {
     "iopub.execute_input": "2023-03-21T11:34:42.681253Z",
     "iopub.status.busy": "2023-03-21T11:34:42.680963Z",
     "iopub.status.idle": "2023-03-21T11:34:42.732429Z",
     "shell.execute_reply": "2023-03-21T11:34:42.731730Z"
    },
    "id": "4Ql5PW-ACO0J"
   },
   "outputs": [
    {
     "data": {
      "text/plain": [
       "<module 'pkg_resources' from '/home/amir/miniconda3/envs/TensorFlowQuantum/lib/python3.9/site-packages/pkg_resources/__init__.py'>"
      ]
     },
     "execution_count": 4,
     "metadata": {},
     "output_type": "execute_result"
    }
   ],
   "source": [
    "# Update package resources to account for version changes.\n",
    "import importlib, pkg_resources\n",
    "importlib.reload(pkg_resources)"
   ]
  },
  {
   "cell_type": "markdown",
   "metadata": {
    "colab_type": "text",
    "id": "hdgMMZEBGqyl"
   },
   "source": [
    "Now import TensorFlow and the module dependencies:"
   ]
  },
  {
   "cell_type": "code",
   "execution_count": 5,
   "metadata": {
    "colab": {},
    "colab_type": "code",
    "execution": {
     "iopub.execute_input": "2023-03-21T11:34:42.735851Z",
     "iopub.status.busy": "2023-03-21T11:34:42.735242Z",
     "iopub.status.idle": "2023-03-21T11:34:46.481506Z",
     "shell.execute_reply": "2023-03-21T11:34:46.480608Z"
    },
    "id": "enZ300Bflq80"
   },
   "outputs": [
    {
     "name": "stderr",
     "output_type": "stream",
     "text": [
      "2023-06-06 11:35:35.531116: W tensorflow/stream_executor/platform/default/dso_loader.cc:64] Could not load dynamic library 'libcudart.so.11.0'; dlerror: libcudart.so.11.0: cannot open shared object file: No such file or directory\n",
      "2023-06-06 11:35:35.531176: I tensorflow/stream_executor/cuda/cudart_stub.cc:29] Ignore above cudart dlerror if you do not have a GPU set up on your machine.\n",
      "2023-06-06 11:35:40.555086: W tensorflow/stream_executor/platform/default/dso_loader.cc:64] Could not load dynamic library 'libcuda.so.1'; dlerror: libcuda.so.1: cannot open shared object file: No such file or directory\n",
      "2023-06-06 11:35:40.555109: W tensorflow/stream_executor/cuda/cuda_driver.cc:269] failed call to cuInit: UNKNOWN ERROR (303)\n",
      "2023-06-06 11:35:40.555126: I tensorflow/stream_executor/cuda/cuda_diagnostics.cc:156] kernel driver does not appear to be running on this host (amir-asus): /proc/driver/nvidia/version does not exist\n",
      "2023-06-06 11:35:40.556308: I tensorflow/core/platform/cpu_feature_guard.cc:151] This TensorFlow binary is optimized with oneAPI Deep Neural Network Library (oneDNN) to use the following CPU instructions in performance-critical operations:  AVX2 FMA\n",
      "To enable them in other operations, rebuild TensorFlow with the appropriate compiler flags.\n"
     ]
    }
   ],
   "source": [
    "import tensorflow as tf\n",
    "import tensorflow_quantum as tfq\n",
    "\n",
    "import cirq\n",
    "import sympy\n",
    "import numpy as np\n",
    "import seaborn as sns\n",
    "import collections\n",
    "\n",
    "# visualization tools\n",
    "%matplotlib inline\n",
    "import matplotlib.pyplot as plt\n",
    "from cirq.contrib.svg import SVGCircuit"
   ]
  },
  {
   "cell_type": "markdown",
   "metadata": {
    "colab_type": "text",
    "id": "b08Mmbs8lr81"
   },
   "source": [
    "## 1. Load the data\n",
    "\n",
    "In this tutorial you will build a binary classifier to distinguish between the digits 3 and 6, following <a href=\"https://arxiv.org/pdf/1802.06002.pdf\" class=\"external\">Farhi et al.</a> This section covers the data handling that:\n",
    "\n",
    "- Loads the raw data from Keras.\n",
    "- Filters the dataset to only 3s and 6s.\n",
    "- Downscales the images so they fit can fit in a quantum computer.\n",
    "- Removes any contradictory examples.\n",
    "- Converts the binary images to Cirq circuits.\n",
    "- Converts the Cirq circuits to TensorFlow Quantum circuits. "
   ]
  },
  {
   "cell_type": "markdown",
   "metadata": {
    "colab_type": "text",
    "id": "pDUdGxn-ojgy"
   },
   "source": [
    "### 1.1 Load the raw data"
   ]
  },
  {
   "cell_type": "markdown",
   "metadata": {
    "colab_type": "text",
    "id": "xZyGXlaKojgz"
   },
   "source": [
    "Load the MNIST dataset distributed with Keras. "
   ]
  },
  {
   "cell_type": "code",
   "execution_count": 6,
   "metadata": {
    "colab": {},
    "colab_type": "code",
    "execution": {
     "iopub.execute_input": "2023-03-21T11:34:46.486372Z",
     "iopub.status.busy": "2023-03-21T11:34:46.484926Z",
     "iopub.status.idle": "2023-03-21T11:34:47.121710Z",
     "shell.execute_reply": "2023-03-21T11:34:47.120913Z"
    },
    "id": "d9OSExvCojg0"
   },
   "outputs": [
    {
     "name": "stdout",
     "output_type": "stream",
     "text": [
      "Number of original training examples: 60000\n",
      "Number of original test examples: 10000\n"
     ]
    }
   ],
   "source": [
    "(x_train, y_train), (x_test, y_test) = tf.keras.datasets.mnist.load_data()\n",
    "\n",
    "# Rescale the images from [0,255] to the [0.0,1.0] range.\n",
    "x_train, x_test = x_train[..., np.newaxis]/255.0, x_test[..., np.newaxis]/255.0\n",
    "\n",
    "print(\"Number of original training examples:\", len(x_train))\n",
    "print(\"Number of original test examples:\", len(x_test))"
   ]
  },
  {
   "cell_type": "markdown",
   "metadata": {
    "colab_type": "text",
    "id": "fZpbygdGojg3"
   },
   "source": [
    "Filter the dataset to keep just the 3s and 6s,  remove the other classes. At the same time convert the label, `y`, to boolean: `True` for `3` and `False` for 6. "
   ]
  },
  {
   "cell_type": "code",
   "execution_count": 7,
   "metadata": {
    "colab": {},
    "colab_type": "code",
    "execution": {
     "iopub.execute_input": "2023-03-21T11:34:47.125227Z",
     "iopub.status.busy": "2023-03-21T11:34:47.124647Z",
     "iopub.status.idle": "2023-03-21T11:34:47.128767Z",
     "shell.execute_reply": "2023-03-21T11:34:47.128094Z"
    },
    "id": "hOw68cCZojg4"
   },
   "outputs": [],
   "source": [
    "def filter_36(x, y):\n",
    "    keep = (y == 3) | (y == 6)\n",
    "    x, y = x[keep], y[keep]\n",
    "    y = y == 3\n",
    "    return x,y"
   ]
  },
  {
   "cell_type": "code",
   "execution_count": 8,
   "metadata": {
    "colab": {},
    "colab_type": "code",
    "execution": {
     "iopub.execute_input": "2023-03-21T11:34:47.131737Z",
     "iopub.status.busy": "2023-03-21T11:34:47.131279Z",
     "iopub.status.idle": "2023-03-21T11:34:47.172507Z",
     "shell.execute_reply": "2023-03-21T11:34:47.171720Z"
    },
    "id": "p-XEU8egGL6q"
   },
   "outputs": [
    {
     "name": "stdout",
     "output_type": "stream",
     "text": [
      "Number of filtered training examples: 12049\n",
      "Number of filtered test examples: 1968\n"
     ]
    }
   ],
   "source": [
    "x_train, y_train = filter_36(x_train, y_train)\n",
    "x_test, y_test = filter_36(x_test, y_test)\n",
    "\n",
    "print(\"Number of filtered training examples:\", len(x_train))\n",
    "print(\"Number of filtered test examples:\", len(x_test))"
   ]
  },
  {
   "cell_type": "markdown",
   "metadata": {
    "colab_type": "text",
    "id": "3wyiaP0Xojg_"
   },
   "source": [
    "Show the first example:"
   ]
  },
  {
   "cell_type": "code",
   "execution_count": 9,
   "metadata": {
    "colab": {},
    "colab_type": "code",
    "execution": {
     "iopub.execute_input": "2023-03-21T11:34:47.176062Z",
     "iopub.status.busy": "2023-03-21T11:34:47.175515Z",
     "iopub.status.idle": "2023-03-21T11:34:47.482701Z",
     "shell.execute_reply": "2023-03-21T11:34:47.481778Z"
    },
    "id": "j5STP7MbojhA"
   },
   "outputs": [
    {
     "name": "stdout",
     "output_type": "stream",
     "text": [
      "True\n"
     ]
    },
    {
     "data": {
      "text/plain": [
       "<matplotlib.colorbar.Colorbar at 0x7f32c8415220>"
      ]
     },
     "execution_count": 9,
     "metadata": {},
     "output_type": "execute_result"
    },
    {
     "data": {
      "image/png": "[encoded data removed]",
      "text/plain": [
       "<Figure size 640x480 with 2 Axes>"
      ]
     },
     "metadata": {},
     "output_type": "display_data"
    }
   ],
   "source": [
    "print(y_train[0])\n",
    "\n",
    "plt.imshow(x_train[0, :, :, 0])\n",
    "plt.colorbar()"
   ]
  },
  {
   "cell_type": "markdown",
   "metadata": {
    "colab_type": "text",
    "id": "wNS9sVPQojhC"
   },
   "source": [
    "### 1.2 Downscale the images"
   ]
  },
  {
   "cell_type": "markdown",
   "metadata": {
    "colab_type": "text",
    "id": "fmmtplIFGL6t"
   },
   "source": [
    "An image size of 28x28 is much too large for current quantum computers. Resize the image down to 4x4:"
   ]
  },
  {
   "cell_type": "code",
   "execution_count": 10,
   "metadata": {
    "colab": {},
    "colab_type": "code",
    "execution": {
     "iopub.execute_input": "2023-03-21T11:34:47.486559Z",
     "iopub.status.busy": "2023-03-21T11:34:47.485823Z",
     "iopub.status.idle": "2023-03-21T11:34:47.583288Z",
     "shell.execute_reply": "2023-03-21T11:34:47.582349Z"
    },
    "id": "lbhUdBFWojhE",
    "scrolled": false
   },
   "outputs": [
    {
     "name": "stderr",
     "output_type": "stream",
     "text": [
      "2023-06-06 11:35:42.878250: W tensorflow/core/framework/cpu_allocator_impl.cc:82] Allocation of 75571328 exceeds 10% of free system memory.\n"
     ]
    }
   ],
   "source": [
    "x_train_small = tf.image.resize(x_train, (4,4)).numpy()\n",
    "x_test_small = tf.image.resize(x_test, (4,4)).numpy()"
   ]
  },
  {
   "cell_type": "markdown",
   "metadata": {
    "colab_type": "text",
    "id": "pOMd7zIjGL6x"
   },
   "source": [
    "Again, display the first training example—after resize: "
   ]
  },
  {
   "cell_type": "code",
   "execution_count": 11,
   "metadata": {
    "colab": {},
    "colab_type": "code",
    "execution": {
     "iopub.execute_input": "2023-03-21T11:34:47.587071Z",
     "iopub.status.busy": "2023-03-21T11:34:47.586363Z",
     "iopub.status.idle": "2023-03-21T11:34:47.858444Z",
     "shell.execute_reply": "2023-03-21T11:34:47.857517Z"
    },
    "id": "YIYOtCRIGL6y",
    "scrolled": true
   },
   "outputs": [
    {
     "name": "stdout",
     "output_type": "stream",
     "text": [
      "True\n"
     ]
    },
    {
     "data": {
      "text/plain": [
       "<matplotlib.colorbar.Colorbar at 0x7f32c82c9ee0>"
      ]
     },
     "execution_count": 11,
     "metadata": {},
     "output_type": "execute_result"
    },
    {
     "data": {
      "image/png": "[encoded data removed]",
      "text/plain": [
       "<Figure size 640x480 with 2 Axes>"
      ]
     },
     "metadata": {},
     "output_type": "display_data"
    }
   ],
   "source": [
    "print(y_train[0])\n",
    "\n",
    "plt.imshow(x_train_small[0,:,:,0], vmin=0, vmax=1)\n",
    "plt.colorbar()"
   ]
  },
  {
   "cell_type": "markdown",
   "metadata": {
    "colab_type": "text",
    "id": "gGeF1_qtojhK"
   },
   "source": [
    "### 1.3 Remove contradictory examples"
   ]
  },
  {
   "cell_type": "markdown",
   "metadata": {
    "colab_type": "text",
    "id": "7ZLkq2yeojhL"
   },
   "source": [
    "From section *3.3 Learning to Distinguish Digits* of <a href=\"https://arxiv.org/pdf/1802.06002.pdf\" class=\"external\">Farhi et al.</a>, filter the dataset to remove images that are labeled as belonging to both classes.\n",
    "\n",
    "This is not a standard machine-learning procedure, but is included in the interest of following the paper."
   ]
  },
  {
   "cell_type": "code",
   "execution_count": 12,
   "metadata": {
    "colab": {},
    "colab_type": "code",
    "execution": {
     "iopub.execute_input": "2023-03-21T11:34:47.862246Z",
     "iopub.status.busy": "2023-03-21T11:34:47.861552Z",
     "iopub.status.idle": "2023-03-21T11:34:47.870209Z",
     "shell.execute_reply": "2023-03-21T11:34:47.869326Z"
    },
    "id": "LqOPW0C7ojhL"
   },
   "outputs": [],
   "source": [
    "def remove_contradicting(xs, ys):\n",
    "    mapping = collections.defaultdict(set)\n",
    "    orig_x = {}\n",
    "    # Determine the set of labels for each unique image:\n",
    "    for x,y in zip(xs,ys):\n",
    "       orig_x[tuple(x.flatten())] = x\n",
    "       mapping[tuple(x.flatten())].add(y)\n",
    "    \n",
    "    new_x = []\n",
    "    new_y = []\n",
    "    for flatten_x in mapping:\n",
    "      x = orig_x[flatten_x]\n",
    "      labels = mapping[flatten_x]\n",
    "      if len(labels) == 1:\n",
    "          new_x.append(x)\n",
    "          new_y.append(next(iter(labels)))\n",
    "      else:\n",
    "          # Throw out images that match more than one label.\n",
    "          pass\n",
    "    \n",
    "    num_uniq_3 = sum(1 for value in mapping.values() if len(value) == 1 and True in value)\n",
    "    num_uniq_6 = sum(1 for value in mapping.values() if len(value) == 1 and False in value)\n",
    "    num_uniq_both = sum(1 for value in mapping.values() if len(value) == 2)\n",
    "\n",
    "    print(\"Number of unique images:\", len(mapping.values()))\n",
    "    print(\"Number of unique 3s: \", num_uniq_3)\n",
    "    print(\"Number of unique 6s: \", num_uniq_6)\n",
    "    print(\"Number of unique contradicting labels (both 3 and 6): \", num_uniq_both)\n",
    "    print()\n",
    "    print(\"Initial number of images: \", len(xs))\n",
    "    print(\"Remaining non-contradicting unique images: \", len(new_x))\n",
    "    \n",
    "    return np.array(new_x), np.array(new_y)"
   ]
  },
  {
   "cell_type": "markdown",
   "metadata": {
    "colab_type": "text",
    "id": "VMOiJfz_ojhP"
   },
   "source": [
    "The resulting counts do not closely match the reported values, but the exact procedure is not specified.\n",
    "\n",
    "It is also worth noting here that applying filtering contradictory examples at this point does not totally prevent the model from receiving contradictory training examples: the next step binarizes the data which will cause more collisions. "
   ]
  },
  {
   "cell_type": "code",
   "execution_count": 13,
   "metadata": {
    "colab": {},
    "colab_type": "code",
    "execution": {
     "iopub.execute_input": "2023-03-21T11:34:47.873282Z",
     "iopub.status.busy": "2023-03-21T11:34:47.872807Z",
     "iopub.status.idle": "2023-03-21T11:34:48.013719Z",
     "shell.execute_reply": "2023-03-21T11:34:48.012747Z"
    },
    "id": "zpnsAssWojhP",
    "scrolled": true
   },
   "outputs": [
    {
     "name": "stdout",
     "output_type": "stream",
     "text": [
      "Number of unique images: 10387\n",
      "Number of unique 3s:  4912\n",
      "Number of unique 6s:  5426\n",
      "Number of unique contradicting labels (both 3 and 6):  49\n",
      "\n",
      "Initial number of images:  12049\n",
      "Remaining non-contradicting unique images:  10338\n"
     ]
    }
   ],
   "source": [
    "x_train_nocon, y_train_nocon = remove_contradicting(x_train_small, y_train)"
   ]
  },
  {
   "cell_type": "markdown",
   "metadata": {
    "colab_type": "text",
    "id": "SlJ5NVaPojhT"
   },
   "source": [
    "### 1.4 Encode the data as quantum circuits\n",
    "\n",
    "To process images using a quantum computer, <a href=\"https://arxiv.org/pdf/1802.06002.pdf\" class=\"external\">Farhi et al.</a> proposed representing each pixel with a qubit, with the state depending on the value of the pixel. The first step is to convert to a binary encoding."
   ]
  },
  {
   "cell_type": "code",
   "execution_count": 14,
   "metadata": {
    "colab": {},
    "colab_type": "code",
    "execution": {
     "iopub.execute_input": "2023-03-21T11:34:48.017334Z",
     "iopub.status.busy": "2023-03-21T11:34:48.016608Z",
     "iopub.status.idle": "2023-03-21T11:34:48.021725Z",
     "shell.execute_reply": "2023-03-21T11:34:48.020835Z"
    },
    "id": "1z8J7OyDojhV"
   },
   "outputs": [],
   "source": [
    "THRESHOLD = 0.1\n",
    "\n",
    "x_train_bin = np.array(x_train_nocon > THRESHOLD, dtype=np.float32)\n",
    "x_test_bin = np.array(x_test_small > THRESHOLD, dtype=np.float32)"
   ]
  },
  {
   "cell_type": "markdown",
   "metadata": {
    "colab_type": "text",
    "id": "SlJ5NVaPojhU"
   },
   "source": [
    "If you were to remove contradictory images at this point you would be left with only 193, likely not enough for effective training."
   ]
  },
  {
   "cell_type": "code",
   "execution_count": 15,
   "metadata": {
    "colab": {},
    "colab_type": "code",
    "execution": {
     "iopub.execute_input": "2023-03-21T11:34:48.025059Z",
     "iopub.status.busy": "2023-03-21T11:34:48.024374Z",
     "iopub.status.idle": "2023-03-21T11:34:48.096023Z",
     "shell.execute_reply": "2023-03-21T11:34:48.095146Z"
    },
    "id": "1z8J7OyDojhW"
   },
   "outputs": [
    {
     "name": "stdout",
     "output_type": "stream",
     "text": [
      "Number of unique images: 275\n",
      "Number of unique 3s:  123\n",
      "Number of unique 6s:  93\n",
      "Number of unique contradicting labels (both 3 and 6):  59\n",
      "\n",
      "Initial number of images:  10338\n",
      "Remaining non-contradicting unique images:  216\n"
     ]
    }
   ],
   "source": [
    "_ = remove_contradicting(x_train_bin, y_train_nocon)"
   ]
  },
  {
   "cell_type": "markdown",
   "metadata": {
    "colab_type": "text",
    "id": "oLyxS9KlojhZ"
   },
   "source": [
    "The qubits at pixel indices with values that exceed a threshold, are rotated through an $X$ gate."
   ]
  },
  {
   "cell_type": "code",
   "execution_count": 16,
   "metadata": {
    "colab": {},
    "colab_type": "code",
    "execution": {
     "iopub.execute_input": "2023-03-21T11:34:48.099500Z",
     "iopub.status.busy": "2023-03-21T11:34:48.099001Z",
     "iopub.status.idle": "2023-03-21T11:34:50.313236Z",
     "shell.execute_reply": "2023-03-21T11:34:50.312427Z"
    },
    "id": "aOu_3-3ZGL61"
   },
   "outputs": [],
   "source": [
    "def convert_to_circuit(image):\n",
    "    \"\"\"Encode truncated classical image into quantum datapoint.\"\"\"\n",
    "    values = np.ndarray.flatten(image)\n",
    "    qubits = cirq.GridQubit.rect(4, 4)\n",
    "    circuit = cirq.Circuit()\n",
    "    for i, value in enumerate(values):\n",
    "        if value:\n",
    "            circuit.append(cirq.X(qubits[i]))\n",
    "    return circuit\n",
    "\n",
    "\n",
    "x_train_circ = [convert_to_circuit(x) for x in x_train_bin]\n",
    "x_test_circ = [convert_to_circuit(x) for x in x_test_bin]"
   ]
  },
  {
   "cell_type": "markdown",
   "metadata": {
    "colab_type": "text",
    "id": "zSCXqzOzojhd"
   },
   "source": [
    "Here is the circuit created for the first example (circuit diagrams do not show qubits with zero gates):"
   ]
  },
  {
   "cell_type": "code",
   "execution_count": 17,
   "metadata": {
    "colab": {},
    "colab_type": "code",
    "execution": {
     "iopub.execute_input": "2023-03-21T11:34:50.317059Z",
     "iopub.status.busy": "2023-03-21T11:34:50.316407Z",
     "iopub.status.idle": "2023-03-21T11:34:50.359258Z",
     "shell.execute_reply": "2023-03-21T11:34:50.358605Z"
    },
    "id": "w3POmUEUojhe",
    "scrolled": false
   },
   "outputs": [
    {
     "name": "stderr",
     "output_type": "stream",
     "text": [
      "findfont: Font family 'Arial' not found.\n",
      "findfont: Font family 'Arial' not found.\n",
      "findfont: Font family 'Arial' not found.\n",
      "findfont: Font family 'Arial' not found.\n",
      "findfont: Font family 'Arial' not found.\n",
      "findfont: Font family 'Arial' not found.\n"
     ]
    },
    {
     "data": {
      "image/svg+xml": [
       "<svg xmlns=\"http://www.w3.org/2000/svg\" width=\"169.517734375\" height=\"150.0\"><line x1=\"34.7588671875\" x2=\"139.517734375\" y1=\"25.0\" y2=\"25.0\" stroke=\"#1967d2\" stroke-width=\"1\" /><line x1=\"34.7588671875\" x2=\"139.517734375\" y1=\"75.0\" y2=\"75.0\" stroke=\"#1967d2\" stroke-width=\"1\" /><line x1=\"34.7588671875\" x2=\"139.517734375\" y1=\"125.0\" y2=\"125.0\" stroke=\"#1967d2\" stroke-width=\"1\" /><rect x=\"10.0\" y=\"5.0\" width=\"49.517734375\" height=\"40\" stroke=\"black\" fill=\"white\" stroke-width=\"0\" /><text x=\"34.7588671875\" y=\"25.0\" dominant-baseline=\"middle\" text-anchor=\"middle\" font-size=\"14px\" font-family=\"Arial\">(1, 2): </text><rect x=\"10.0\" y=\"55.0\" width=\"49.517734375\" height=\"40\" stroke=\"black\" fill=\"white\" stroke-width=\"0\" /><text x=\"34.7588671875\" y=\"75.0\" dominant-baseline=\"middle\" text-anchor=\"middle\" font-size=\"14px\" font-family=\"Arial\">(2, 2): </text><rect x=\"10.0\" y=\"105.0\" width=\"49.517734375\" height=\"40\" stroke=\"black\" fill=\"white\" stroke-width=\"0\" /><text x=\"34.7588671875\" y=\"125.0\" dominant-baseline=\"middle\" text-anchor=\"middle\" font-size=\"14px\" font-family=\"Arial\">(3, 1): </text><rect x=\"79.517734375\" y=\"5.0\" width=\"40\" height=\"40\" stroke=\"black\" fill=\"white\" stroke-width=\"1\" /><text x=\"99.517734375\" y=\"25.0\" dominant-baseline=\"middle\" text-anchor=\"middle\" font-size=\"18px\" font-family=\"Arial\">X</text><rect x=\"79.517734375\" y=\"55.0\" width=\"40\" height=\"40\" stroke=\"black\" fill=\"white\" stroke-width=\"1\" /><text x=\"99.517734375\" y=\"75.0\" dominant-baseline=\"middle\" text-anchor=\"middle\" font-size=\"18px\" font-family=\"Arial\">X</text><rect x=\"79.517734375\" y=\"105.0\" width=\"40\" height=\"40\" stroke=\"black\" fill=\"white\" stroke-width=\"1\" /><text x=\"99.517734375\" y=\"125.0\" dominant-baseline=\"middle\" text-anchor=\"middle\" font-size=\"18px\" font-family=\"Arial\">X</text></svg>"
      ],
      "text/plain": [
       "<cirq.contrib.svg.svg.SVGCircuit at 0x7f32c825fbe0>"
      ]
     },
     "execution_count": 17,
     "metadata": {},
     "output_type": "execute_result"
    }
   ],
   "source": [
    "SVGCircuit(x_train_circ[0])"
   ]
  },
  {
   "cell_type": "markdown",
   "metadata": {
    "colab_type": "text",
    "id": "AEQMxCcBojhg"
   },
   "source": [
    "Compare this circuit to the indices where the image value exceeds the threshold:"
   ]
  },
  {
   "cell_type": "code",
   "execution_count": 18,
   "metadata": {
    "colab": {},
    "colab_type": "code",
    "execution": {
     "iopub.execute_input": "2023-03-21T11:34:50.362398Z",
     "iopub.status.busy": "2023-03-21T11:34:50.361823Z",
     "iopub.status.idle": "2023-03-21T11:34:50.367004Z",
     "shell.execute_reply": "2023-03-21T11:34:50.366356Z"
    },
    "id": "TBIsiXdtojhh"
   },
   "outputs": [
    {
     "data": {
      "text/plain": [
       "array([[1, 2],\n",
       "       [2, 2],\n",
       "       [3, 1]])"
      ]
     },
     "execution_count": 18,
     "metadata": {},
     "output_type": "execute_result"
    }
   ],
   "source": [
    "bin_img = x_train_bin[0,:,:,0]\n",
    "indices = np.array(np.where(bin_img)).T\n",
    "indices"
   ]
  },
  {
   "cell_type": "markdown",
   "metadata": {
    "colab_type": "text",
    "id": "mWZ24w1Oojhk"
   },
   "source": [
    "Convert these `Cirq` circuits to tensors for `tfq`:"
   ]
  },
  {
   "cell_type": "code",
   "execution_count": 19,
   "metadata": {
    "colab": {},
    "colab_type": "code",
    "execution": {
     "iopub.execute_input": "2023-03-21T11:34:50.370120Z",
     "iopub.status.busy": "2023-03-21T11:34:50.369582Z",
     "iopub.status.idle": "2023-03-21T11:34:55.924172Z",
     "shell.execute_reply": "2023-03-21T11:34:55.923321Z"
    },
    "id": "IZStEMk4ojhk"
   },
   "outputs": [],
   "source": [
    "x_train_tfcirc = tfq.convert_to_tensor(x_train_circ)\n",
    "x_test_tfcirc = tfq.convert_to_tensor(x_test_circ)"
   ]
  },
  {
   "cell_type": "markdown",
   "metadata": {
    "colab_type": "text",
    "id": "4USiqeOqGL67"
   },
   "source": [
    "## 2. Quantum neural network\n",
    "\n",
    "There is little guidance for a quantum circuit structure that classifies images. Since the classification is based on the expectation of the readout qubit, <a href=\"https://arxiv.org/pdf/1802.06002.pdf\" class=\"external\">Farhi et al.</a> propose using two qubit gates, with the readout qubit always acted upon. This is similar in some ways to running small a <a href=\"https://arxiv.org/abs/1511.06464\" class=\"external\">Unitary RNN</a> across the pixels."
   ]
  },
  {
   "cell_type": "markdown",
   "metadata": {
    "colab_type": "text",
    "id": "knIzawEeojho"
   },
   "source": [
    "### 2.1 Build the model circuit\n",
    "\n",
    "This following example shows this layered approach. Each layer uses *n* instances of the same gate, with each of the data qubits acting on the readout qubit.\n",
    "\n",
    "Start with a simple class that will add a layer of these gates to a circuit:"
   ]
  },
  {
   "cell_type": "code",
   "execution_count": 20,
   "metadata": {
    "colab": {},
    "colab_type": "code",
    "execution": {
     "iopub.execute_input": "2023-03-21T11:34:55.928697Z",
     "iopub.status.busy": "2023-03-21T11:34:55.928012Z",
     "iopub.status.idle": "2023-03-21T11:34:55.932882Z",
     "shell.execute_reply": "2023-03-21T11:34:55.932236Z"
    },
    "id": "-hjxxgU5ojho"
   },
   "outputs": [],
   "source": [
    "class CircuitLayerBuilder():\n",
    "    def __init__(self, data_qubits, readout):\n",
    "        self.data_qubits = data_qubits\n",
    "        self.readout = readout\n",
    "    \n",
    "    def add_layer(self, circuit, gate, prefix):\n",
    "        for i, qubit in enumerate(self.data_qubits):\n",
    "            symbol = sympy.Symbol(prefix + '-' + str(i))\n",
    "            circuit.append(gate(qubit, self.readout)**symbol)"
   ]
  },
  {
   "cell_type": "markdown",
   "metadata": {
    "colab_type": "text",
    "id": "Sjo5hANFojhr"
   },
   "source": [
    "Build an example circuit layer to see how it looks:"
   ]
  },
  {
   "cell_type": "code",
   "execution_count": 21,
   "metadata": {
    "colab": {},
    "colab_type": "code",
    "execution": {
     "iopub.execute_input": "2023-03-21T11:34:55.935947Z",
     "iopub.status.busy": "2023-03-21T11:34:55.935423Z",
     "iopub.status.idle": "2023-03-21T11:34:56.068217Z",
     "shell.execute_reply": "2023-03-21T11:34:56.067561Z"
    },
    "id": "SzXWOpUGojhs"
   },
   "outputs": [
    {
     "name": "stderr",
     "output_type": "stream",
     "text": [
      "findfont: Font family 'Arial' not found.\n",
      "findfont: Font family 'Arial' not found.\n",
      "findfont: Font family 'Arial' not found.\n",
      "findfont: Font family 'Arial' not found.\n",
      "findfont: Font family 'Arial' not found.\n",
      "findfont: Font family 'Arial' not found.\n",
      "findfont: Font family 'Arial' not found.\n",
      "findfont: Font family 'Arial' not found.\n",
      "findfont: Font family 'Arial' not found.\n",
      "findfont: Font family 'Arial' not found.\n",
      "findfont: Font family 'Arial' not found.\n",
      "findfont: Font family 'Arial' not found.\n",
      "findfont: Font family 'Arial' not found.\n"
     ]
    },
    {
     "data": {
      "image/svg+xml": [
       "<svg xmlns=\"http://www.w3.org/2000/svg\" width=\"522.59953125\" height=\"250.0\"><line x1=\"39.810625\" x2=\"492.59953125000004\" y1=\"25.0\" y2=\"25.0\" stroke=\"#1967d2\" stroke-width=\"1\" /><line x1=\"39.810625\" x2=\"492.59953125000004\" y1=\"75.0\" y2=\"75.0\" stroke=\"#1967d2\" stroke-width=\"1\" /><line x1=\"39.810625\" x2=\"492.59953125000004\" y1=\"125.0\" y2=\"125.0\" stroke=\"#1967d2\" stroke-width=\"1\" /><line x1=\"39.810625\" x2=\"492.59953125000004\" y1=\"175.0\" y2=\"175.0\" stroke=\"#1967d2\" stroke-width=\"1\" /><line x1=\"39.810625\" x2=\"492.59953125000004\" y1=\"225.0\" y2=\"225.0\" stroke=\"#1967d2\" stroke-width=\"1\" /><line x1=\"129.99353515625\" x2=\"129.99353515625\" y1=\"25.0\" y2=\"75.0\" stroke=\"black\" stroke-width=\"3\" /><line x1=\"230.73810546875004\" x2=\"230.73810546875004\" y1=\"25.0\" y2=\"125.0\" stroke=\"black\" stroke-width=\"3\" /><line x1=\"331.48267578125007\" x2=\"331.48267578125007\" y1=\"25.0\" y2=\"175.0\" stroke=\"black\" stroke-width=\"3\" /><line x1=\"432.22724609375007\" x2=\"432.22724609375007\" y1=\"25.0\" y2=\"225.0\" stroke=\"black\" stroke-width=\"3\" /><rect x=\"10.0\" y=\"5.0\" width=\"59.62125\" height=\"40\" stroke=\"black\" fill=\"white\" stroke-width=\"0\" /><text x=\"39.810625\" y=\"25.0\" dominant-baseline=\"middle\" text-anchor=\"middle\" font-size=\"14px\" font-family=\"Arial\">(-1, -1): </text><rect x=\"10.0\" y=\"55.0\" width=\"59.62125\" height=\"40\" stroke=\"black\" fill=\"white\" stroke-width=\"0\" /><text x=\"39.810625\" y=\"75.0\" dominant-baseline=\"middle\" text-anchor=\"middle\" font-size=\"14px\" font-family=\"Arial\">(0, 0): </text><rect x=\"10.0\" y=\"105.0\" width=\"59.62125\" height=\"40\" stroke=\"black\" fill=\"white\" stroke-width=\"0\" /><text x=\"39.810625\" y=\"125.0\" dominant-baseline=\"middle\" text-anchor=\"middle\" font-size=\"14px\" font-family=\"Arial\">(1, 0): </text><rect x=\"10.0\" y=\"155.0\" width=\"59.62125\" height=\"40\" stroke=\"black\" fill=\"white\" stroke-width=\"0\" /><text x=\"39.810625\" y=\"175.0\" dominant-baseline=\"middle\" text-anchor=\"middle\" font-size=\"14px\" font-family=\"Arial\">(2, 0): </text><rect x=\"10.0\" y=\"205.0\" width=\"59.62125\" height=\"40\" stroke=\"black\" fill=\"white\" stroke-width=\"0\" /><text x=\"39.810625\" y=\"225.0\" dominant-baseline=\"middle\" text-anchor=\"middle\" font-size=\"14px\" font-family=\"Arial\">(3, 0): </text><rect x=\"89.62125\" y=\"55.0\" width=\"80.74457031250002\" height=\"40\" stroke=\"black\" fill=\"white\" stroke-width=\"1\" /><text x=\"129.99353515625\" y=\"75.0\" dominant-baseline=\"middle\" text-anchor=\"middle\" font-size=\"14px\" font-family=\"Arial\">XX^(xx-0)</text><rect x=\"89.62125\" y=\"5.0\" width=\"80.74457031250002\" height=\"40\" stroke=\"black\" fill=\"white\" stroke-width=\"1\" /><text x=\"129.99353515625\" y=\"25.0\" dominant-baseline=\"middle\" text-anchor=\"middle\" font-size=\"14px\" font-family=\"Arial\">XX</text><rect x=\"190.36582031250003\" y=\"105.0\" width=\"80.74457031250002\" height=\"40\" stroke=\"black\" fill=\"white\" stroke-width=\"1\" /><text x=\"230.73810546875004\" y=\"125.0\" dominant-baseline=\"middle\" text-anchor=\"middle\" font-size=\"14px\" font-family=\"Arial\">XX^(xx-1)</text><rect x=\"190.36582031250003\" y=\"5.0\" width=\"80.74457031250002\" height=\"40\" stroke=\"black\" fill=\"white\" stroke-width=\"1\" /><text x=\"230.73810546875004\" y=\"25.0\" dominant-baseline=\"middle\" text-anchor=\"middle\" font-size=\"14px\" font-family=\"Arial\">XX</text><rect x=\"291.11039062500004\" y=\"155.0\" width=\"80.74457031250002\" height=\"40\" stroke=\"black\" fill=\"white\" stroke-width=\"1\" /><text x=\"331.48267578125007\" y=\"175.0\" dominant-baseline=\"middle\" text-anchor=\"middle\" font-size=\"14px\" font-family=\"Arial\">XX^(xx-2)</text><rect x=\"291.11039062500004\" y=\"5.0\" width=\"80.74457031250002\" height=\"40\" stroke=\"black\" fill=\"white\" stroke-width=\"1\" /><text x=\"331.48267578125007\" y=\"25.0\" dominant-baseline=\"middle\" text-anchor=\"middle\" font-size=\"14px\" font-family=\"Arial\">XX</text><rect x=\"391.85496093750004\" y=\"205.0\" width=\"80.74457031250002\" height=\"40\" stroke=\"black\" fill=\"white\" stroke-width=\"1\" /><text x=\"432.22724609375007\" y=\"225.0\" dominant-baseline=\"middle\" text-anchor=\"middle\" font-size=\"14px\" font-family=\"Arial\">XX^(xx-3)</text><rect x=\"391.85496093750004\" y=\"5.0\" width=\"80.74457031250002\" height=\"40\" stroke=\"black\" fill=\"white\" stroke-width=\"1\" /><text x=\"432.22724609375007\" y=\"25.0\" dominant-baseline=\"middle\" text-anchor=\"middle\" font-size=\"14px\" font-family=\"Arial\">XX</text></svg>"
      ],
      "text/plain": [
       "<cirq.contrib.svg.svg.SVGCircuit at 0x7f32c825f970>"
      ]
     },
     "execution_count": 21,
     "metadata": {},
     "output_type": "execute_result"
    }
   ],
   "source": [
    "demo_builder = CircuitLayerBuilder(data_qubits = cirq.GridQubit.rect(4,1),\n",
    "                                   readout=cirq.GridQubit(-1,-1))\n",
    "\n",
    "circuit = cirq.Circuit()\n",
    "demo_builder.add_layer(circuit, gate = cirq.XX, prefix='xx')\n",
    "SVGCircuit(circuit)"
   ]
  },
  {
   "cell_type": "markdown",
   "metadata": {
    "colab_type": "text",
    "id": "T-QhPE1pojhu"
   },
   "source": [
    "Now build a two-layered model, matching the data-circuit size, and include the preparation and readout operations."
   ]
  },
  {
   "cell_type": "code",
   "execution_count": 22,
   "metadata": {
    "colab": {},
    "colab_type": "code",
    "execution": {
     "iopub.execute_input": "2023-03-21T11:34:56.071509Z",
     "iopub.status.busy": "2023-03-21T11:34:56.071014Z",
     "iopub.status.idle": "2023-03-21T11:34:56.076185Z",
     "shell.execute_reply": "2023-03-21T11:34:56.075517Z"
    },
    "id": "JiALbpwRGL69"
   },
   "outputs": [],
   "source": [
    "def create_quantum_model():\n",
    "    \"\"\"Create a QNN model circuit and readout operation to go along with it.\"\"\"\n",
    "    data_qubits = cirq.GridQubit.rect(4, 4)  # a 4x4 grid.\n",
    "    readout = cirq.GridQubit(-1, -1)         # a single qubit at [-1,-1]\n",
    "    circuit = cirq.Circuit()\n",
    "    \n",
    "    # Prepare the readout qubit.\n",
    "    circuit.append(cirq.X(readout))\n",
    "    circuit.append(cirq.H(readout))\n",
    "    \n",
    "    builder = CircuitLayerBuilder(\n",
    "        data_qubits = data_qubits,\n",
    "        readout=readout)\n",
    "\n",
    "    # Then add layers (experiment by adding more).\n",
    "    builder.add_layer(circuit, cirq.XX, \"xx1\")\n",
    "    builder.add_layer(circuit, cirq.ZZ, \"zz1\")\n",
    "\n",
    "    # Finally, prepare the readout qubit.\n",
    "    circuit.append(cirq.H(readout))\n",
    "\n",
    "    return circuit, cirq.Z(readout)"
   ]
  },
  {
   "cell_type": "code",
   "execution_count": 23,
   "metadata": {
    "colab": {},
    "colab_type": "code",
    "execution": {
     "iopub.execute_input": "2023-03-21T11:34:56.079094Z",
     "iopub.status.busy": "2023-03-21T11:34:56.078556Z",
     "iopub.status.idle": "2023-03-21T11:34:56.092611Z",
     "shell.execute_reply": "2023-03-21T11:34:56.091960Z"
    },
    "id": "2QZvVh7vojhx"
   },
   "outputs": [],
   "source": [
    "model_circuit, model_readout = create_quantum_model()"
   ]
  },
  {
   "cell_type": "code",
   "execution_count": 24,
   "metadata": {},
   "outputs": [
    {
     "name": "stderr",
     "output_type": "stream",
     "text": [
      "findfont: Font family 'Arial' not found.\n",
      "findfont: Font family 'Arial' not found.\n",
      "findfont: Font family 'Arial' not found.\n",
      "findfont: Font family 'Arial' not found.\n",
      "findfont: Font family 'Arial' not found.\n",
      "findfont: Font family 'Arial' not found.\n",
      "findfont: Font family 'Arial' not found.\n",
      "findfont: Font family 'Arial' not found.\n",
      "findfont: Font family 'Arial' not found.\n",
      "findfont: Font family 'Arial' not found.\n",
      "findfont: Font family 'Arial' not found.\n",
      "findfont: Font family 'Arial' not found.\n",
      "findfont: Font family 'Arial' not found.\n",
      "findfont: Font family 'Arial' not found.\n",
      "findfont: Font family 'Arial' not found.\n",
      "findfont: Font family 'Arial' not found.\n",
      "findfont: Font family 'Arial' not found.\n",
      "findfont: Font family 'Arial' not found.\n",
      "findfont: Font family 'Arial' not found.\n",
      "findfont: Font family 'Arial' not found.\n",
      "findfont: Font family 'Arial' not found.\n",
      "findfont: Font family 'Arial' not found.\n",
      "findfont: Font family 'Arial' not found.\n",
      "findfont: Font family 'Arial' not found.\n",
      "findfont: Font family 'Arial' not found.\n",
      "findfont: Font family 'Arial' not found.\n",
      "findfont: Font family 'Arial' not found.\n",
      "findfont: Font family 'Arial' not found.\n",
      "findfont: Font family 'Arial' not found.\n",
      "findfont: Font family 'Arial' not found.\n",
      "findfont: Font family 'Arial' not found.\n",
      "findfont: Font family 'Arial' not found.\n",
      "findfont: Font family 'Arial' not found.\n",
      "findfont: Font family 'Arial' not found.\n",
      "findfont: Font family 'Arial' not found.\n",
      "findfont: Font family 'Arial' not found.\n",
      "findfont: Font family 'Arial' not found.\n",
      "findfont: Font family 'Arial' not found.\n",
      "findfont: Font family 'Arial' not found.\n",
      "findfont: Font family 'Arial' not found.\n",
      "findfont: Font family 'Arial' not found.\n",
      "findfont: Font family 'Arial' not found.\n",
      "findfont: Font family 'Arial' not found.\n",
      "findfont: Font family 'Arial' not found.\n",
      "findfont: Font family 'Arial' not found.\n",
      "findfont: Font family 'Arial' not found.\n",
      "findfont: Font family 'Arial' not found.\n",
      "findfont: Font family 'Arial' not found.\n",
      "findfont: Font family 'Arial' not found.\n",
      "findfont: Font family 'Arial' not found.\n",
      "findfont: Font family 'Arial' not found.\n",
      "findfont: Font family 'Arial' not found.\n",
      "findfont: Font family 'Arial' not found.\n",
      "findfont: Font family 'Arial' not found.\n",
      "findfont: Font family 'Arial' not found.\n",
      "findfont: Font family 'Arial' not found.\n",
      "findfont: Font family 'Arial' not found.\n",
      "findfont: Font family 'Arial' not found.\n",
      "findfont: Font family 'Arial' not found.\n",
      "findfont: Font family 'Arial' not found.\n",
      "findfont: Font family 'Arial' not found.\n",
      "findfont: Font family 'Arial' not found.\n",
      "findfont: Font family 'Arial' not found.\n",
      "findfont: Font family 'Arial' not found.\n",
      "findfont: Font family 'Arial' not found.\n",
      "findfont: Font family 'Arial' not found.\n",
      "findfont: Font family 'Arial' not found.\n",
      "findfont: Font family 'Arial' not found.\n",
      "findfont: Font family 'Arial' not found.\n",
      "findfont: Font family 'Arial' not found.\n",
      "findfont: Font family 'Arial' not found.\n",
      "findfont: Font family 'Arial' not found.\n",
      "findfont: Font family 'Arial' not found.\n",
      "findfont: Font family 'Arial' not found.\n",
      "findfont: Font family 'Arial' not found.\n",
      "findfont: Font family 'Arial' not found.\n",
      "findfont: Font family 'Arial' not found.\n",
      "findfont: Font family 'Arial' not found.\n",
      "findfont: Font family 'Arial' not found.\n",
      "findfont: Font family 'Arial' not found.\n",
      "findfont: Font family 'Arial' not found.\n",
      "findfont: Font family 'Arial' not found.\n",
      "findfont: Font family 'Arial' not found.\n",
      "findfont: Font family 'Arial' not found.\n"
     ]
    },
    {
     "data": {
      "image/svg+xml": [
       "<svg xmlns=\"http://www.w3.org/2000/svg\" width=\"3882.001718750002\" height=\"850.0\"><line x1=\"39.810625\" x2=\"3852.001718750002\" y1=\"25.0\" y2=\"25.0\" stroke=\"#1967d2\" stroke-width=\"1\" /><line x1=\"39.810625\" x2=\"3852.001718750002\" y1=\"75.0\" y2=\"75.0\" stroke=\"#1967d2\" stroke-width=\"1\" /><line x1=\"39.810625\" x2=\"3852.001718750002\" y1=\"125.0\" y2=\"125.0\" stroke=\"#1967d2\" stroke-width=\"1\" /><line x1=\"39.810625\" x2=\"3852.001718750002\" y1=\"175.0\" y2=\"175.0\" stroke=\"#1967d2\" stroke-width=\"1\" /><line x1=\"39.810625\" x2=\"3852.001718750002\" y1=\"225.0\" y2=\"225.0\" stroke=\"#1967d2\" stroke-width=\"1\" /><line x1=\"39.810625\" x2=\"3852.001718750002\" y1=\"275.0\" y2=\"275.0\" stroke=\"#1967d2\" stroke-width=\"1\" /><line x1=\"39.810625\" x2=\"3852.001718750002\" y1=\"325.0\" y2=\"325.0\" stroke=\"#1967d2\" stroke-width=\"1\" /><line x1=\"39.810625\" x2=\"3852.001718750002\" y1=\"375.0\" y2=\"375.0\" stroke=\"#1967d2\" stroke-width=\"1\" /><line x1=\"39.810625\" x2=\"3852.001718750002\" y1=\"425.0\" y2=\"425.0\" stroke=\"#1967d2\" stroke-width=\"1\" /><line x1=\"39.810625\" x2=\"3852.001718750002\" y1=\"475.0\" y2=\"475.0\" stroke=\"#1967d2\" stroke-width=\"1\" /><line x1=\"39.810625\" x2=\"3852.001718750002\" y1=\"525.0\" y2=\"525.0\" stroke=\"#1967d2\" stroke-width=\"1\" /><line x1=\"39.810625\" x2=\"3852.001718750002\" y1=\"575.0\" y2=\"575.0\" stroke=\"#1967d2\" stroke-width=\"1\" /><line x1=\"39.810625\" x2=\"3852.001718750002\" y1=\"625.0\" y2=\"625.0\" stroke=\"#1967d2\" stroke-width=\"1\" /><line x1=\"39.810625\" x2=\"3852.001718750002\" y1=\"675.0\" y2=\"675.0\" stroke=\"#1967d2\" stroke-width=\"1\" /><line x1=\"39.810625\" x2=\"3852.001718750002\" y1=\"725.0\" y2=\"725.0\" stroke=\"#1967d2\" stroke-width=\"1\" /><line x1=\"39.810625\" x2=\"3852.001718750002\" y1=\"775.0\" y2=\"775.0\" stroke=\"#1967d2\" stroke-width=\"1\" /><line x1=\"39.810625\" x2=\"3852.001718750002\" y1=\"825.0\" y2=\"825.0\" stroke=\"#1967d2\" stroke-width=\"1\" /><line x1=\"254.4471484375\" x2=\"254.4471484375\" y1=\"25.0\" y2=\"75.0\" stroke=\"black\" stroke-width=\"3\" /><line x1=\"364.09894531250006\" x2=\"364.09894531250006\" y1=\"25.0\" y2=\"125.0\" stroke=\"black\" stroke-width=\"3\" /><line x1=\"473.75074218750007\" x2=\"473.75074218750007\" y1=\"25.0\" y2=\"175.0\" stroke=\"black\" stroke-width=\"3\" /><line x1=\"583.4025390625001\" x2=\"583.4025390625001\" y1=\"25.0\" y2=\"225.0\" stroke=\"black\" stroke-width=\"3\" /><line x1=\"693.0543359375001\" x2=\"693.0543359375001\" y1=\"25.0\" y2=\"275.0\" stroke=\"black\" stroke-width=\"3\" /><line x1=\"802.7061328125002\" x2=\"802.7061328125002\" y1=\"25.0\" y2=\"325.0\" stroke=\"black\" stroke-width=\"3\" /><line x1=\"912.3579296875002\" x2=\"912.3579296875002\" y1=\"25.0\" y2=\"375.0\" stroke=\"black\" stroke-width=\"3\" /><line x1=\"1022.0097265625003\" x2=\"1022.0097265625003\" y1=\"25.0\" y2=\"425.0\" stroke=\"black\" stroke-width=\"3\" /><line x1=\"1131.6615234375004\" x2=\"1131.6615234375004\" y1=\"25.0\" y2=\"475.0\" stroke=\"black\" stroke-width=\"3\" /><line x1=\"1241.3133203125003\" x2=\"1241.3133203125003\" y1=\"25.0\" y2=\"525.0\" stroke=\"black\" stroke-width=\"3\" /><line x1=\"1355.4187304687503\" x2=\"1355.4187304687503\" y1=\"25.0\" y2=\"575.0\" stroke=\"black\" stroke-width=\"3\" /><line x1=\"1473.9777539062502\" x2=\"1473.9777539062502\" y1=\"25.0\" y2=\"625.0\" stroke=\"black\" stroke-width=\"3\" /><line x1=\"1592.5367773437501\" x2=\"1592.5367773437501\" y1=\"25.0\" y2=\"675.0\" stroke=\"black\" stroke-width=\"3\" /><line x1=\"1711.09580078125\" x2=\"1711.09580078125\" y1=\"25.0\" y2=\"725.0\" stroke=\"black\" stroke-width=\"3\" /><line x1=\"1829.65482421875\" x2=\"1829.65482421875\" y1=\"25.0\" y2=\"775.0\" stroke=\"black\" stroke-width=\"3\" /><line x1=\"1948.21384765625\" x2=\"1948.21384765625\" y1=\"25.0\" y2=\"825.0\" stroke=\"black\" stroke-width=\"3\" /><line x1=\"2061.276640625\" x2=\"2061.276640625\" y1=\"25.0\" y2=\"75.0\" stroke=\"black\" stroke-width=\"3\" /><line x1=\"2168.843203125\" x2=\"2168.843203125\" y1=\"25.0\" y2=\"125.0\" stroke=\"black\" stroke-width=\"3\" /><line x1=\"2276.409765625\" x2=\"2276.409765625\" y1=\"25.0\" y2=\"175.0\" stroke=\"black\" stroke-width=\"3\" /><line x1=\"2383.9763281250002\" x2=\"2383.9763281250002\" y1=\"25.0\" y2=\"225.0\" stroke=\"black\" stroke-width=\"3\" /><line x1=\"2491.5428906250004\" x2=\"2491.5428906250004\" y1=\"25.0\" y2=\"275.0\" stroke=\"black\" stroke-width=\"3\" /><line x1=\"2599.1094531250005\" x2=\"2599.1094531250005\" y1=\"25.0\" y2=\"325.0\" stroke=\"black\" stroke-width=\"3\" /><line x1=\"2706.6760156250007\" x2=\"2706.6760156250007\" y1=\"25.0\" y2=\"375.0\" stroke=\"black\" stroke-width=\"3\" /><line x1=\"2814.242578125001\" x2=\"2814.242578125001\" y1=\"25.0\" y2=\"425.0\" stroke=\"black\" stroke-width=\"3\" /><line x1=\"2921.809140625001\" x2=\"2921.809140625001\" y1=\"25.0\" y2=\"475.0\" stroke=\"black\" stroke-width=\"3\" /><line x1=\"3029.375703125001\" x2=\"3029.375703125001\" y1=\"25.0\" y2=\"525.0\" stroke=\"black\" stroke-width=\"3\" /><line x1=\"3141.3958789062513\" x2=\"3141.3958789062513\" y1=\"25.0\" y2=\"575.0\" stroke=\"black\" stroke-width=\"3\" /><line x1=\"3257.8696679687514\" x2=\"3257.8696679687514\" y1=\"25.0\" y2=\"625.0\" stroke=\"black\" stroke-width=\"3\" /><line x1=\"3374.3434570312515\" x2=\"3374.3434570312515\" y1=\"25.0\" y2=\"675.0\" stroke=\"black\" stroke-width=\"3\" /><line x1=\"3490.8172460937517\" x2=\"3490.8172460937517\" y1=\"25.0\" y2=\"725.0\" stroke=\"black\" stroke-width=\"3\" /><line x1=\"3607.291035156252\" x2=\"3607.291035156252\" y1=\"25.0\" y2=\"775.0\" stroke=\"black\" stroke-width=\"3\" /><line x1=\"3723.764824218752\" x2=\"3723.764824218752\" y1=\"25.0\" y2=\"825.0\" stroke=\"black\" stroke-width=\"3\" /><rect x=\"10.0\" y=\"5.0\" width=\"59.62125\" height=\"40\" stroke=\"black\" fill=\"white\" stroke-width=\"0\" /><text x=\"39.810625\" y=\"25.0\" dominant-baseline=\"middle\" text-anchor=\"middle\" font-size=\"14px\" font-family=\"Arial\">(-1, -1): </text><rect x=\"10.0\" y=\"55.0\" width=\"59.62125\" height=\"40\" stroke=\"black\" fill=\"white\" stroke-width=\"0\" /><text x=\"39.810625\" y=\"75.0\" dominant-baseline=\"middle\" text-anchor=\"middle\" font-size=\"14px\" font-family=\"Arial\">(0, 0): </text><rect x=\"10.0\" y=\"105.0\" width=\"59.62125\" height=\"40\" stroke=\"black\" fill=\"white\" stroke-width=\"0\" /><text x=\"39.810625\" y=\"125.0\" dominant-baseline=\"middle\" text-anchor=\"middle\" font-size=\"14px\" font-family=\"Arial\">(0, 1): </text><rect x=\"10.0\" y=\"155.0\" width=\"59.62125\" height=\"40\" stroke=\"black\" fill=\"white\" stroke-width=\"0\" /><text x=\"39.810625\" y=\"175.0\" dominant-baseline=\"middle\" text-anchor=\"middle\" font-size=\"14px\" font-family=\"Arial\">(0, 2): </text><rect x=\"10.0\" y=\"205.0\" width=\"59.62125\" height=\"40\" stroke=\"black\" fill=\"white\" stroke-width=\"0\" /><text x=\"39.810625\" y=\"225.0\" dominant-baseline=\"middle\" text-anchor=\"middle\" font-size=\"14px\" font-family=\"Arial\">(0, 3): </text><rect x=\"10.0\" y=\"255.0\" width=\"59.62125\" height=\"40\" stroke=\"black\" fill=\"white\" stroke-width=\"0\" /><text x=\"39.810625\" y=\"275.0\" dominant-baseline=\"middle\" text-anchor=\"middle\" font-size=\"14px\" font-family=\"Arial\">(1, 0): </text><rect x=\"10.0\" y=\"305.0\" width=\"59.62125\" height=\"40\" stroke=\"black\" fill=\"white\" stroke-width=\"0\" /><text x=\"39.810625\" y=\"325.0\" dominant-baseline=\"middle\" text-anchor=\"middle\" font-size=\"14px\" font-family=\"Arial\">(1, 1): </text><rect x=\"10.0\" y=\"355.0\" width=\"59.62125\" height=\"40\" stroke=\"black\" fill=\"white\" stroke-width=\"0\" /><text x=\"39.810625\" y=\"375.0\" dominant-baseline=\"middle\" text-anchor=\"middle\" font-size=\"14px\" font-family=\"Arial\">(1, 2): </text><rect x=\"10.0\" y=\"405.0\" width=\"59.62125\" height=\"40\" stroke=\"black\" fill=\"white\" stroke-width=\"0\" /><text x=\"39.810625\" y=\"425.0\" dominant-baseline=\"middle\" text-anchor=\"middle\" font-size=\"14px\" font-family=\"Arial\">(1, 3): </text><rect x=\"10.0\" y=\"455.0\" width=\"59.62125\" height=\"40\" stroke=\"black\" fill=\"white\" stroke-width=\"0\" /><text x=\"39.810625\" y=\"475.0\" dominant-baseline=\"middle\" text-anchor=\"middle\" font-size=\"14px\" font-family=\"Arial\">(2, 0): </text><rect x=\"10.0\" y=\"505.0\" width=\"59.62125\" height=\"40\" stroke=\"black\" fill=\"white\" stroke-width=\"0\" /><text x=\"39.810625\" y=\"525.0\" dominant-baseline=\"middle\" text-anchor=\"middle\" font-size=\"14px\" font-family=\"Arial\">(2, 1): </text><rect x=\"10.0\" y=\"555.0\" width=\"59.62125\" height=\"40\" stroke=\"black\" fill=\"white\" stroke-width=\"0\" /><text x=\"39.810625\" y=\"575.0\" dominant-baseline=\"middle\" text-anchor=\"middle\" font-size=\"14px\" font-family=\"Arial\">(2, 2): </text><rect x=\"10.0\" y=\"605.0\" width=\"59.62125\" height=\"40\" stroke=\"black\" fill=\"white\" stroke-width=\"0\" /><text x=\"39.810625\" y=\"625.0\" dominant-baseline=\"middle\" text-anchor=\"middle\" font-size=\"14px\" font-family=\"Arial\">(2, 3): </text><rect x=\"10.0\" y=\"655.0\" width=\"59.62125\" height=\"40\" stroke=\"black\" fill=\"white\" stroke-width=\"0\" /><text x=\"39.810625\" y=\"675.0\" dominant-baseline=\"middle\" text-anchor=\"middle\" font-size=\"14px\" font-family=\"Arial\">(3, 0): </text><rect x=\"10.0\" y=\"705.0\" width=\"59.62125\" height=\"40\" stroke=\"black\" fill=\"white\" stroke-width=\"0\" /><text x=\"39.810625\" y=\"725.0\" dominant-baseline=\"middle\" text-anchor=\"middle\" font-size=\"14px\" font-family=\"Arial\">(3, 1): </text><rect x=\"10.0\" y=\"755.0\" width=\"59.62125\" height=\"40\" stroke=\"black\" fill=\"white\" stroke-width=\"0\" /><text x=\"39.810625\" y=\"775.0\" dominant-baseline=\"middle\" text-anchor=\"middle\" font-size=\"14px\" font-family=\"Arial\">(3, 2): </text><rect x=\"10.0\" y=\"805.0\" width=\"59.62125\" height=\"40\" stroke=\"black\" fill=\"white\" stroke-width=\"0\" /><text x=\"39.810625\" y=\"825.0\" dominant-baseline=\"middle\" text-anchor=\"middle\" font-size=\"14px\" font-family=\"Arial\">(3, 3): </text><rect x=\"89.62125\" y=\"5.0\" width=\"40\" height=\"40\" stroke=\"black\" fill=\"white\" stroke-width=\"1\" /><text x=\"109.62125\" y=\"25.0\" dominant-baseline=\"middle\" text-anchor=\"middle\" font-size=\"18px\" font-family=\"Arial\">X</text><rect x=\"149.62125\" y=\"5.0\" width=\"40\" height=\"40\" stroke=\"black\" fill=\"white\" stroke-width=\"1\" /><text x=\"169.62125\" y=\"25.0\" dominant-baseline=\"middle\" text-anchor=\"middle\" font-size=\"18px\" font-family=\"Arial\">H</text><rect x=\"209.62125\" y=\"55.0\" width=\"89.65179687500002\" height=\"40\" stroke=\"black\" fill=\"white\" stroke-width=\"1\" /><text x=\"254.4471484375\" y=\"75.0\" dominant-baseline=\"middle\" text-anchor=\"middle\" font-size=\"14px\" font-family=\"Arial\">XX^(xx1-0)</text><rect x=\"209.62125\" y=\"5.0\" width=\"89.65179687500002\" height=\"40\" stroke=\"black\" fill=\"white\" stroke-width=\"1\" /><text x=\"254.4471484375\" y=\"25.0\" dominant-baseline=\"middle\" text-anchor=\"middle\" font-size=\"14px\" font-family=\"Arial\">XX</text><rect x=\"319.27304687500003\" y=\"105.0\" width=\"89.65179687500002\" height=\"40\" stroke=\"black\" fill=\"white\" stroke-width=\"1\" /><text x=\"364.09894531250006\" y=\"125.0\" dominant-baseline=\"middle\" text-anchor=\"middle\" font-size=\"14px\" font-family=\"Arial\">XX^(xx1-1)</text><rect x=\"319.27304687500003\" y=\"5.0\" width=\"89.65179687500002\" height=\"40\" stroke=\"black\" fill=\"white\" stroke-width=\"1\" /><text x=\"364.09894531250006\" y=\"25.0\" dominant-baseline=\"middle\" text-anchor=\"middle\" font-size=\"14px\" font-family=\"Arial\">XX</text><rect x=\"428.92484375000004\" y=\"155.0\" width=\"89.65179687500002\" height=\"40\" stroke=\"black\" fill=\"white\" stroke-width=\"1\" /><text x=\"473.75074218750007\" y=\"175.0\" dominant-baseline=\"middle\" text-anchor=\"middle\" font-size=\"14px\" font-family=\"Arial\">XX^(xx1-2)</text><rect x=\"428.92484375000004\" y=\"5.0\" width=\"89.65179687500002\" height=\"40\" stroke=\"black\" fill=\"white\" stroke-width=\"1\" /><text x=\"473.75074218750007\" y=\"25.0\" dominant-baseline=\"middle\" text-anchor=\"middle\" font-size=\"14px\" font-family=\"Arial\">XX</text><rect x=\"538.5766406250001\" y=\"205.0\" width=\"89.65179687500002\" height=\"40\" stroke=\"black\" fill=\"white\" stroke-width=\"1\" /><text x=\"583.4025390625001\" y=\"225.0\" dominant-baseline=\"middle\" text-anchor=\"middle\" font-size=\"14px\" font-family=\"Arial\">XX^(xx1-3)</text><rect x=\"538.5766406250001\" y=\"5.0\" width=\"89.65179687500002\" height=\"40\" stroke=\"black\" fill=\"white\" stroke-width=\"1\" /><text x=\"583.4025390625001\" y=\"25.0\" dominant-baseline=\"middle\" text-anchor=\"middle\" font-size=\"14px\" font-family=\"Arial\">XX</text><rect x=\"648.2284375000002\" y=\"255.0\" width=\"89.65179687500002\" height=\"40\" stroke=\"black\" fill=\"white\" stroke-width=\"1\" /><text x=\"693.0543359375001\" y=\"275.0\" dominant-baseline=\"middle\" text-anchor=\"middle\" font-size=\"14px\" font-family=\"Arial\">XX^(xx1-4)</text><rect x=\"648.2284375000002\" y=\"5.0\" width=\"89.65179687500002\" height=\"40\" stroke=\"black\" fill=\"white\" stroke-width=\"1\" /><text x=\"693.0543359375001\" y=\"25.0\" dominant-baseline=\"middle\" text-anchor=\"middle\" font-size=\"14px\" font-family=\"Arial\">XX</text><rect x=\"757.8802343750002\" y=\"305.0\" width=\"89.65179687500002\" height=\"40\" stroke=\"black\" fill=\"white\" stroke-width=\"1\" /><text x=\"802.7061328125002\" y=\"325.0\" dominant-baseline=\"middle\" text-anchor=\"middle\" font-size=\"14px\" font-family=\"Arial\">XX^(xx1-5)</text><rect x=\"757.8802343750002\" y=\"5.0\" width=\"89.65179687500002\" height=\"40\" stroke=\"black\" fill=\"white\" stroke-width=\"1\" /><text x=\"802.7061328125002\" y=\"25.0\" dominant-baseline=\"middle\" text-anchor=\"middle\" font-size=\"14px\" font-family=\"Arial\">XX</text><rect x=\"867.5320312500003\" y=\"355.0\" width=\"89.65179687500002\" height=\"40\" stroke=\"black\" fill=\"white\" stroke-width=\"1\" /><text x=\"912.3579296875002\" y=\"375.0\" dominant-baseline=\"middle\" text-anchor=\"middle\" font-size=\"14px\" font-family=\"Arial\">XX^(xx1-6)</text><rect x=\"867.5320312500003\" y=\"5.0\" width=\"89.65179687500002\" height=\"40\" stroke=\"black\" fill=\"white\" stroke-width=\"1\" /><text x=\"912.3579296875002\" y=\"25.0\" dominant-baseline=\"middle\" text-anchor=\"middle\" font-size=\"14px\" font-family=\"Arial\">XX</text><rect x=\"977.1838281250003\" y=\"405.0\" width=\"89.65179687500002\" height=\"40\" stroke=\"black\" fill=\"white\" stroke-width=\"1\" /><text x=\"1022.0097265625003\" y=\"425.0\" dominant-baseline=\"middle\" text-anchor=\"middle\" font-size=\"14px\" font-family=\"Arial\">XX^(xx1-7)</text><rect x=\"977.1838281250003\" y=\"5.0\" width=\"89.65179687500002\" height=\"40\" stroke=\"black\" fill=\"white\" stroke-width=\"1\" /><text x=\"1022.0097265625003\" y=\"25.0\" dominant-baseline=\"middle\" text-anchor=\"middle\" font-size=\"14px\" font-family=\"Arial\">XX</text><rect x=\"1086.8356250000004\" y=\"455.0\" width=\"89.65179687500002\" height=\"40\" stroke=\"black\" fill=\"white\" stroke-width=\"1\" /><text x=\"1131.6615234375004\" y=\"475.0\" dominant-baseline=\"middle\" text-anchor=\"middle\" font-size=\"14px\" font-family=\"Arial\">XX^(xx1-8)</text><rect x=\"1086.8356250000004\" y=\"5.0\" width=\"89.65179687500002\" height=\"40\" stroke=\"black\" fill=\"white\" stroke-width=\"1\" /><text x=\"1131.6615234375004\" y=\"25.0\" dominant-baseline=\"middle\" text-anchor=\"middle\" font-size=\"14px\" font-family=\"Arial\">XX</text><rect x=\"1196.4874218750003\" y=\"505.0\" width=\"89.65179687500002\" height=\"40\" stroke=\"black\" fill=\"white\" stroke-width=\"1\" /><text x=\"1241.3133203125003\" y=\"525.0\" dominant-baseline=\"middle\" text-anchor=\"middle\" font-size=\"14px\" font-family=\"Arial\">XX^(xx1-9)</text><rect x=\"1196.4874218750003\" y=\"5.0\" width=\"89.65179687500002\" height=\"40\" stroke=\"black\" fill=\"white\" stroke-width=\"1\" /><text x=\"1241.3133203125003\" y=\"25.0\" dominant-baseline=\"middle\" text-anchor=\"middle\" font-size=\"14px\" font-family=\"Arial\">XX</text><rect x=\"1306.1392187500003\" y=\"555.0\" width=\"98.55902343750002\" height=\"40\" stroke=\"black\" fill=\"white\" stroke-width=\"1\" /><text x=\"1355.4187304687503\" y=\"575.0\" dominant-baseline=\"middle\" text-anchor=\"middle\" font-size=\"14px\" font-family=\"Arial\">XX^(xx1-10)</text><rect x=\"1306.1392187500003\" y=\"5.0\" width=\"98.55902343750002\" height=\"40\" stroke=\"black\" fill=\"white\" stroke-width=\"1\" /><text x=\"1355.4187304687503\" y=\"25.0\" dominant-baseline=\"middle\" text-anchor=\"middle\" font-size=\"14px\" font-family=\"Arial\">XX</text><rect x=\"1424.6982421875002\" y=\"605.0\" width=\"98.55902343750002\" height=\"40\" stroke=\"black\" fill=\"white\" stroke-width=\"1\" /><text x=\"1473.9777539062502\" y=\"625.0\" dominant-baseline=\"middle\" text-anchor=\"middle\" font-size=\"14px\" font-family=\"Arial\">XX^(xx1-11)</text><rect x=\"1424.6982421875002\" y=\"5.0\" width=\"98.55902343750002\" height=\"40\" stroke=\"black\" fill=\"white\" stroke-width=\"1\" /><text x=\"1473.9777539062502\" y=\"25.0\" dominant-baseline=\"middle\" text-anchor=\"middle\" font-size=\"14px\" font-family=\"Arial\">XX</text><rect x=\"1543.2572656250002\" y=\"655.0\" width=\"98.55902343750002\" height=\"40\" stroke=\"black\" fill=\"white\" stroke-width=\"1\" /><text x=\"1592.5367773437501\" y=\"675.0\" dominant-baseline=\"middle\" text-anchor=\"middle\" font-size=\"14px\" font-family=\"Arial\">XX^(xx1-12)</text><rect x=\"1543.2572656250002\" y=\"5.0\" width=\"98.55902343750002\" height=\"40\" stroke=\"black\" fill=\"white\" stroke-width=\"1\" /><text x=\"1592.5367773437501\" y=\"25.0\" dominant-baseline=\"middle\" text-anchor=\"middle\" font-size=\"14px\" font-family=\"Arial\">XX</text><rect x=\"1661.8162890625001\" y=\"705.0\" width=\"98.55902343750002\" height=\"40\" stroke=\"black\" fill=\"white\" stroke-width=\"1\" /><text x=\"1711.09580078125\" y=\"725.0\" dominant-baseline=\"middle\" text-anchor=\"middle\" font-size=\"14px\" font-family=\"Arial\">XX^(xx1-13)</text><rect x=\"1661.8162890625001\" y=\"5.0\" width=\"98.55902343750002\" height=\"40\" stroke=\"black\" fill=\"white\" stroke-width=\"1\" /><text x=\"1711.09580078125\" y=\"25.0\" dominant-baseline=\"middle\" text-anchor=\"middle\" font-size=\"14px\" font-family=\"Arial\">XX</text><rect x=\"1780.3753125\" y=\"755.0\" width=\"98.55902343750002\" height=\"40\" stroke=\"black\" fill=\"white\" stroke-width=\"1\" /><text x=\"1829.65482421875\" y=\"775.0\" dominant-baseline=\"middle\" text-anchor=\"middle\" font-size=\"14px\" font-family=\"Arial\">XX^(xx1-14)</text><rect x=\"1780.3753125\" y=\"5.0\" width=\"98.55902343750002\" height=\"40\" stroke=\"black\" fill=\"white\" stroke-width=\"1\" /><text x=\"1829.65482421875\" y=\"25.0\" dominant-baseline=\"middle\" text-anchor=\"middle\" font-size=\"14px\" font-family=\"Arial\">XX</text><rect x=\"1898.9343359375\" y=\"805.0\" width=\"98.55902343750002\" height=\"40\" stroke=\"black\" fill=\"white\" stroke-width=\"1\" /><text x=\"1948.21384765625\" y=\"825.0\" dominant-baseline=\"middle\" text-anchor=\"middle\" font-size=\"14px\" font-family=\"Arial\">XX^(xx1-15)</text><rect x=\"1898.9343359375\" y=\"5.0\" width=\"98.55902343750002\" height=\"40\" stroke=\"black\" fill=\"white\" stroke-width=\"1\" /><text x=\"1948.21384765625\" y=\"25.0\" dominant-baseline=\"middle\" text-anchor=\"middle\" font-size=\"14px\" font-family=\"Arial\">XX</text><rect x=\"2017.4933593749997\" y=\"55.0\" width=\"87.56656250000002\" height=\"40\" stroke=\"black\" fill=\"white\" stroke-width=\"1\" /><text x=\"2061.276640625\" y=\"75.0\" dominant-baseline=\"middle\" text-anchor=\"middle\" font-size=\"14px\" font-family=\"Arial\">ZZ^(zz1-0)</text><rect x=\"2017.4933593749997\" y=\"5.0\" width=\"87.56656250000002\" height=\"40\" stroke=\"black\" fill=\"white\" stroke-width=\"1\" /><text x=\"2061.276640625\" y=\"25.0\" dominant-baseline=\"middle\" text-anchor=\"middle\" font-size=\"14px\" font-family=\"Arial\">ZZ</text><rect x=\"2125.059921875\" y=\"105.0\" width=\"87.56656250000002\" height=\"40\" stroke=\"black\" fill=\"white\" stroke-width=\"1\" /><text x=\"2168.843203125\" y=\"125.0\" dominant-baseline=\"middle\" text-anchor=\"middle\" font-size=\"14px\" font-family=\"Arial\">ZZ^(zz1-1)</text><rect x=\"2125.059921875\" y=\"5.0\" width=\"87.56656250000002\" height=\"40\" stroke=\"black\" fill=\"white\" stroke-width=\"1\" /><text x=\"2168.843203125\" y=\"25.0\" dominant-baseline=\"middle\" text-anchor=\"middle\" font-size=\"14px\" font-family=\"Arial\">ZZ</text><rect x=\"2232.626484375\" y=\"155.0\" width=\"87.56656250000002\" height=\"40\" stroke=\"black\" fill=\"white\" stroke-width=\"1\" /><text x=\"2276.409765625\" y=\"175.0\" dominant-baseline=\"middle\" text-anchor=\"middle\" font-size=\"14px\" font-family=\"Arial\">ZZ^(zz1-2)</text><rect x=\"2232.626484375\" y=\"5.0\" width=\"87.56656250000002\" height=\"40\" stroke=\"black\" fill=\"white\" stroke-width=\"1\" /><text x=\"2276.409765625\" y=\"25.0\" dominant-baseline=\"middle\" text-anchor=\"middle\" font-size=\"14px\" font-family=\"Arial\">ZZ</text><rect x=\"2340.193046875\" y=\"205.0\" width=\"87.56656250000002\" height=\"40\" stroke=\"black\" fill=\"white\" stroke-width=\"1\" /><text x=\"2383.9763281250002\" y=\"225.0\" dominant-baseline=\"middle\" text-anchor=\"middle\" font-size=\"14px\" font-family=\"Arial\">ZZ^(zz1-3)</text><rect x=\"2340.193046875\" y=\"5.0\" width=\"87.56656250000002\" height=\"40\" stroke=\"black\" fill=\"white\" stroke-width=\"1\" /><text x=\"2383.9763281250002\" y=\"25.0\" dominant-baseline=\"middle\" text-anchor=\"middle\" font-size=\"14px\" font-family=\"Arial\">ZZ</text><rect x=\"2447.7596093750003\" y=\"255.0\" width=\"87.56656250000002\" height=\"40\" stroke=\"black\" fill=\"white\" stroke-width=\"1\" /><text x=\"2491.5428906250004\" y=\"275.0\" dominant-baseline=\"middle\" text-anchor=\"middle\" font-size=\"14px\" font-family=\"Arial\">ZZ^(zz1-4)</text><rect x=\"2447.7596093750003\" y=\"5.0\" width=\"87.56656250000002\" height=\"40\" stroke=\"black\" fill=\"white\" stroke-width=\"1\" /><text x=\"2491.5428906250004\" y=\"25.0\" dominant-baseline=\"middle\" text-anchor=\"middle\" font-size=\"14px\" font-family=\"Arial\">ZZ</text><rect x=\"2555.3261718750005\" y=\"305.0\" width=\"87.56656250000002\" height=\"40\" stroke=\"black\" fill=\"white\" stroke-width=\"1\" /><text x=\"2599.1094531250005\" y=\"325.0\" dominant-baseline=\"middle\" text-anchor=\"middle\" font-size=\"14px\" font-family=\"Arial\">ZZ^(zz1-5)</text><rect x=\"2555.3261718750005\" y=\"5.0\" width=\"87.56656250000002\" height=\"40\" stroke=\"black\" fill=\"white\" stroke-width=\"1\" /><text x=\"2599.1094531250005\" y=\"25.0\" dominant-baseline=\"middle\" text-anchor=\"middle\" font-size=\"14px\" font-family=\"Arial\">ZZ</text><rect x=\"2662.8927343750006\" y=\"355.0\" width=\"87.56656250000002\" height=\"40\" stroke=\"black\" fill=\"white\" stroke-width=\"1\" /><text x=\"2706.6760156250007\" y=\"375.0\" dominant-baseline=\"middle\" text-anchor=\"middle\" font-size=\"14px\" font-family=\"Arial\">ZZ^(zz1-6)</text><rect x=\"2662.8927343750006\" y=\"5.0\" width=\"87.56656250000002\" height=\"40\" stroke=\"black\" fill=\"white\" stroke-width=\"1\" /><text x=\"2706.6760156250007\" y=\"25.0\" dominant-baseline=\"middle\" text-anchor=\"middle\" font-size=\"14px\" font-family=\"Arial\">ZZ</text><rect x=\"2770.4592968750007\" y=\"405.0\" width=\"87.56656250000002\" height=\"40\" stroke=\"black\" fill=\"white\" stroke-width=\"1\" /><text x=\"2814.242578125001\" y=\"425.0\" dominant-baseline=\"middle\" text-anchor=\"middle\" font-size=\"14px\" font-family=\"Arial\">ZZ^(zz1-7)</text><rect x=\"2770.4592968750007\" y=\"5.0\" width=\"87.56656250000002\" height=\"40\" stroke=\"black\" fill=\"white\" stroke-width=\"1\" /><text x=\"2814.242578125001\" y=\"25.0\" dominant-baseline=\"middle\" text-anchor=\"middle\" font-size=\"14px\" font-family=\"Arial\">ZZ</text><rect x=\"2878.025859375001\" y=\"455.0\" width=\"87.56656250000002\" height=\"40\" stroke=\"black\" fill=\"white\" stroke-width=\"1\" /><text x=\"2921.809140625001\" y=\"475.0\" dominant-baseline=\"middle\" text-anchor=\"middle\" font-size=\"14px\" font-family=\"Arial\">ZZ^(zz1-8)</text><rect x=\"2878.025859375001\" y=\"5.0\" width=\"87.56656250000002\" height=\"40\" stroke=\"black\" fill=\"white\" stroke-width=\"1\" /><text x=\"2921.809140625001\" y=\"25.0\" dominant-baseline=\"middle\" text-anchor=\"middle\" font-size=\"14px\" font-family=\"Arial\">ZZ</text><rect x=\"2985.592421875001\" y=\"505.0\" width=\"87.56656250000002\" height=\"40\" stroke=\"black\" fill=\"white\" stroke-width=\"1\" /><text x=\"3029.375703125001\" y=\"525.0\" dominant-baseline=\"middle\" text-anchor=\"middle\" font-size=\"14px\" font-family=\"Arial\">ZZ^(zz1-9)</text><rect x=\"2985.592421875001\" y=\"5.0\" width=\"87.56656250000002\" height=\"40\" stroke=\"black\" fill=\"white\" stroke-width=\"1\" /><text x=\"3029.375703125001\" y=\"25.0\" dominant-baseline=\"middle\" text-anchor=\"middle\" font-size=\"14px\" font-family=\"Arial\">ZZ</text><rect x=\"3093.158984375001\" y=\"555.0\" width=\"96.47378906250002\" height=\"40\" stroke=\"black\" fill=\"white\" stroke-width=\"1\" /><text x=\"3141.3958789062513\" y=\"575.0\" dominant-baseline=\"middle\" text-anchor=\"middle\" font-size=\"14px\" font-family=\"Arial\">ZZ^(zz1-10)</text><rect x=\"3093.158984375001\" y=\"5.0\" width=\"96.47378906250002\" height=\"40\" stroke=\"black\" fill=\"white\" stroke-width=\"1\" /><text x=\"3141.3958789062513\" y=\"25.0\" dominant-baseline=\"middle\" text-anchor=\"middle\" font-size=\"14px\" font-family=\"Arial\">ZZ</text><rect x=\"3209.6327734375013\" y=\"605.0\" width=\"96.47378906250002\" height=\"40\" stroke=\"black\" fill=\"white\" stroke-width=\"1\" /><text x=\"3257.8696679687514\" y=\"625.0\" dominant-baseline=\"middle\" text-anchor=\"middle\" font-size=\"14px\" font-family=\"Arial\">ZZ^(zz1-11)</text><rect x=\"3209.6327734375013\" y=\"5.0\" width=\"96.47378906250002\" height=\"40\" stroke=\"black\" fill=\"white\" stroke-width=\"1\" /><text x=\"3257.8696679687514\" y=\"25.0\" dominant-baseline=\"middle\" text-anchor=\"middle\" font-size=\"14px\" font-family=\"Arial\">ZZ</text><rect x=\"3326.1065625000015\" y=\"655.0\" width=\"96.47378906250002\" height=\"40\" stroke=\"black\" fill=\"white\" stroke-width=\"1\" /><text x=\"3374.3434570312515\" y=\"675.0\" dominant-baseline=\"middle\" text-anchor=\"middle\" font-size=\"14px\" font-family=\"Arial\">ZZ^(zz1-12)</text><rect x=\"3326.1065625000015\" y=\"5.0\" width=\"96.47378906250002\" height=\"40\" stroke=\"black\" fill=\"white\" stroke-width=\"1\" /><text x=\"3374.3434570312515\" y=\"25.0\" dominant-baseline=\"middle\" text-anchor=\"middle\" font-size=\"14px\" font-family=\"Arial\">ZZ</text><rect x=\"3442.5803515625016\" y=\"705.0\" width=\"96.47378906250002\" height=\"40\" stroke=\"black\" fill=\"white\" stroke-width=\"1\" /><text x=\"3490.8172460937517\" y=\"725.0\" dominant-baseline=\"middle\" text-anchor=\"middle\" font-size=\"14px\" font-family=\"Arial\">ZZ^(zz1-13)</text><rect x=\"3442.5803515625016\" y=\"5.0\" width=\"96.47378906250002\" height=\"40\" stroke=\"black\" fill=\"white\" stroke-width=\"1\" /><text x=\"3490.8172460937517\" y=\"25.0\" dominant-baseline=\"middle\" text-anchor=\"middle\" font-size=\"14px\" font-family=\"Arial\">ZZ</text><rect x=\"3559.0541406250018\" y=\"755.0\" width=\"96.47378906250002\" height=\"40\" stroke=\"black\" fill=\"white\" stroke-width=\"1\" /><text x=\"3607.291035156252\" y=\"775.0\" dominant-baseline=\"middle\" text-anchor=\"middle\" font-size=\"14px\" font-family=\"Arial\">ZZ^(zz1-14)</text><rect x=\"3559.0541406250018\" y=\"5.0\" width=\"96.47378906250002\" height=\"40\" stroke=\"black\" fill=\"white\" stroke-width=\"1\" /><text x=\"3607.291035156252\" y=\"25.0\" dominant-baseline=\"middle\" text-anchor=\"middle\" font-size=\"14px\" font-family=\"Arial\">ZZ</text><rect x=\"3675.527929687502\" y=\"805.0\" width=\"96.47378906250002\" height=\"40\" stroke=\"black\" fill=\"white\" stroke-width=\"1\" /><text x=\"3723.764824218752\" y=\"825.0\" dominant-baseline=\"middle\" text-anchor=\"middle\" font-size=\"14px\" font-family=\"Arial\">ZZ^(zz1-15)</text><rect x=\"3675.527929687502\" y=\"5.0\" width=\"96.47378906250002\" height=\"40\" stroke=\"black\" fill=\"white\" stroke-width=\"1\" /><text x=\"3723.764824218752\" y=\"25.0\" dominant-baseline=\"middle\" text-anchor=\"middle\" font-size=\"14px\" font-family=\"Arial\">ZZ</text><rect x=\"3792.001718750002\" y=\"5.0\" width=\"40\" height=\"40\" stroke=\"black\" fill=\"white\" stroke-width=\"1\" /><text x=\"3812.001718750002\" y=\"25.0\" dominant-baseline=\"middle\" text-anchor=\"middle\" font-size=\"18px\" font-family=\"Arial\">H</text></svg>"
      ],
      "text/plain": [
       "<cirq.contrib.svg.svg.SVGCircuit at 0x7f328ed309a0>"
      ]
     },
     "execution_count": 24,
     "metadata": {},
     "output_type": "execute_result"
    }
   ],
   "source": [
    "SVGCircuit(model_circuit)"
   ]
  },
  {
   "cell_type": "markdown",
   "metadata": {
    "colab_type": "text",
    "id": "LY7vbY6yfABE"
   },
   "source": [
    "### 2.2 Wrap the model-circuit in a tfq-keras model\n",
    "\n",
    "Build the Keras model with the quantum components. This model is fed the \"quantum data\", from `x_train_circ`, that encodes the classical data. It uses a *Parametrized Quantum Circuit* layer, `tfq.layers.PQC`, to train the model circuit, on the quantum data.\n",
    "\n",
    "To classify these images, <a href=\"https://arxiv.org/pdf/1802.06002.pdf\" class=\"external\">Farhi et al.</a> proposed taking the expectation of a readout qubit in a parameterized circuit. The expectation returns a value between 1 and -1."
   ]
  },
  {
   "cell_type": "code",
   "execution_count": 20,
   "metadata": {
    "colab": {},
    "colab_type": "code",
    "execution": {
     "iopub.execute_input": "2023-03-21T11:34:56.095614Z",
     "iopub.status.busy": "2023-03-21T11:34:56.095078Z",
     "iopub.status.idle": "2023-03-21T11:34:57.350875Z",
     "shell.execute_reply": "2023-03-21T11:34:57.350074Z"
    },
    "id": "ZYdf_KOxojh0"
   },
   "outputs": [],
   "source": [
    "# Build the Keras model.\n",
    "model = tf.keras.Sequential([\n",
    "    # The input is the data-circuit, encoded as a tf.string\n",
    "    tf.keras.layers.Input(shape=(), dtype=tf.string),\n",
    "    # The PQC layer returns the expected value of the readout gate, range [-1,1].\n",
    "    tfq.layers.PQC(model_circuit, model_readout),\n",
    "])"
   ]
  },
  {
   "cell_type": "markdown",
   "metadata": {
    "colab_type": "text",
    "id": "jz-FbVc9ojh3"
   },
   "source": [
    "Next, describe the training procedure to the model, using the `compile` method.\n",
    "\n",
    "Since the the expected readout is in the range `[-1,1]`, optimizing the hinge loss is a somewhat natural fit. \n",
    "\n",
    "Note: Another valid approach would be to shift the output range to `[0,1]`, and treat it as the probability the model assigns to class `3`. This could be used with a standard a `tf.losses.BinaryCrossentropy` loss.\n",
    "\n",
    "To use the hinge loss here you need to make two small adjustments. First convert the labels, `y_train_nocon`, from boolean to `[-1,1]`, as expected by the hinge loss."
   ]
  },
  {
   "cell_type": "code",
   "execution_count": 21,
   "metadata": {
    "colab": {},
    "colab_type": "code",
    "execution": {
     "iopub.execute_input": "2023-03-21T11:34:57.354489Z",
     "iopub.status.busy": "2023-03-21T11:34:57.354227Z",
     "iopub.status.idle": "2023-03-21T11:34:57.358167Z",
     "shell.execute_reply": "2023-03-21T11:34:57.357437Z"
    },
    "id": "CgMNkC1Fojh5"
   },
   "outputs": [],
   "source": [
    "y_train_hinge = 2.0*y_train_nocon-1.0\n",
    "y_test_hinge = 2.0*y_test-1.0"
   ]
  },
  {
   "cell_type": "markdown",
   "metadata": {
    "colab_type": "text",
    "id": "5nwnveDiojh7"
   },
   "source": [
    "Second, use a custiom `hinge_accuracy` metric that correctly handles `[-1, 1]` as the `y_true` labels argument. \n",
    "`tf.losses.BinaryAccuracy(threshold=0.0)` expects `y_true` to be a boolean, and so can't be used with hinge loss)."
   ]
  },
  {
   "cell_type": "code",
   "execution_count": 22,
   "metadata": {
    "colab": {},
    "colab_type": "code",
    "execution": {
     "iopub.execute_input": "2023-03-21T11:34:57.361143Z",
     "iopub.status.busy": "2023-03-21T11:34:57.360647Z",
     "iopub.status.idle": "2023-03-21T11:34:57.364606Z",
     "shell.execute_reply": "2023-03-21T11:34:57.363955Z"
    },
    "id": "3XKtZ_TEojh8"
   },
   "outputs": [],
   "source": [
    "def hinge_accuracy(y_true, y_pred):\n",
    "    y_true = tf.squeeze(y_true) > 0.0\n",
    "    y_pred = tf.squeeze(y_pred) > 0.0\n",
    "    result = tf.cast(y_true == y_pred, tf.float32)\n",
    "\n",
    "    return tf.reduce_mean(result)"
   ]
  },
  {
   "cell_type": "code",
   "execution_count": 23,
   "metadata": {
    "colab": {},
    "colab_type": "code",
    "execution": {
     "iopub.execute_input": "2023-03-21T11:34:57.367616Z",
     "iopub.status.busy": "2023-03-21T11:34:57.367067Z",
     "iopub.status.idle": "2023-03-21T11:34:57.378148Z",
     "shell.execute_reply": "2023-03-21T11:34:57.377472Z"
    },
    "id": "FlpETlLRojiA"
   },
   "outputs": [],
   "source": [
    "model.compile(\n",
    "    loss=tf.keras.losses.Hinge(),\n",
    "    optimizer=tf.keras.optimizers.Adam(),\n",
    "    metrics=[hinge_accuracy])"
   ]
  },
  {
   "cell_type": "code",
   "execution_count": 24,
   "metadata": {
    "colab": {},
    "colab_type": "code",
    "execution": {
     "iopub.execute_input": "2023-03-21T11:34:57.380936Z",
     "iopub.status.busy": "2023-03-21T11:34:57.380446Z",
     "iopub.status.idle": "2023-03-21T11:34:57.384656Z",
     "shell.execute_reply": "2023-03-21T11:34:57.383981Z"
    },
    "id": "jkHq2RstojiC"
   },
   "outputs": [
    {
     "name": "stdout",
     "output_type": "stream",
     "text": [
      "Model: \"sequential\"\n",
      "_________________________________________________________________\n",
      " Layer (type)                Output Shape              Param #   \n",
      "=================================================================\n",
      " pqc (PQC)                   (None, 1)                 32        \n",
      "                                                                 \n",
      "=================================================================\n",
      "Total params: 32\n",
      "Trainable params: 32\n",
      "Non-trainable params: 0\n",
      "_________________________________________________________________\n",
      "None\n"
     ]
    }
   ],
   "source": [
    "print(model.summary())"
   ]
  },
  {
   "cell_type": "markdown",
   "metadata": {
    "colab_type": "text",
    "id": "lsuOzDYblA9s"
   },
   "source": [
    "### Train the quantum model\n",
    "\n",
    "Now train the model—this takes about 45 min. If you don't want to wait that long, use a small subset of the data (set `NUM_EXAMPLES=500`, below). This doesn't really affect the model's progress during training (it only has 32 parameters, and doesn't need much data to constrain these). Using fewer examples just ends training earlier (5min), but runs long enough to show that it is making progress in the validation logs."
   ]
  },
  {
   "cell_type": "code",
   "execution_count": 25,
   "metadata": {
    "colab": {},
    "colab_type": "code",
    "execution": {
     "iopub.execute_input": "2023-03-21T11:34:57.387597Z",
     "iopub.status.busy": "2023-03-21T11:34:57.387081Z",
     "iopub.status.idle": "2023-03-21T11:34:57.390441Z",
     "shell.execute_reply": "2023-03-21T11:34:57.389772Z"
    },
    "id": "n8vuQpSLlBV2"
   },
   "outputs": [],
   "source": [
    "EPOCHS = 3\n",
    "BATCH_SIZE = 32\n",
    "\n",
    "# NUM_EXAMPLES = len(x_train_tfcirc)\n",
    "NUM_EXAMPLES = 1000"
   ]
  },
  {
   "cell_type": "code",
   "execution_count": 26,
   "metadata": {
    "colab": {},
    "colab_type": "code",
    "execution": {
     "iopub.execute_input": "2023-03-21T11:34:57.393215Z",
     "iopub.status.busy": "2023-03-21T11:34:57.392817Z",
     "iopub.status.idle": "2023-03-21T11:34:57.396468Z",
     "shell.execute_reply": "2023-03-21T11:34:57.395818Z"
    },
    "id": "qJnNG-3JojiI"
   },
   "outputs": [],
   "source": [
    "x_train_tfcirc_sub = x_train_tfcirc[:NUM_EXAMPLES]\n",
    "y_train_hinge_sub = y_train_hinge[:NUM_EXAMPLES]"
   ]
  },
  {
   "cell_type": "markdown",
   "metadata": {
    "colab_type": "text",
    "id": "QMSdgGC1GL7D"
   },
   "source": [
    "Training this model to convergence should achieve >85% accuracy on the test set."
   ]
  },
  {
   "cell_type": "code",
   "execution_count": 27,
   "metadata": {
    "colab": {},
    "colab_type": "code",
    "execution": {
     "iopub.execute_input": "2023-03-21T11:34:57.399510Z",
     "iopub.status.busy": "2023-03-21T11:34:57.398999Z",
     "iopub.status.idle": "2023-03-21T11:38:11.850634Z",
     "shell.execute_reply": "2023-03-21T11:38:11.849803Z"
    },
    "id": "Ya9qP3KkojiM"
   },
   "outputs": [
    {
     "name": "stdout",
     "output_type": "stream",
     "text": [
      "Epoch 1/3\n",
      "32/32 [==============================] - 28s 857ms/step - loss: 1.0154 - hinge_accuracy: 0.4629 - val_loss: 0.9645 - val_hinge_accuracy: 0.6235\n",
      "Epoch 2/3\n",
      "32/32 [==============================] - 26s 826ms/step - loss: 0.9616 - hinge_accuracy: 0.6006 - val_loss: 0.9278 - val_hinge_accuracy: 0.7132\n",
      "Epoch 3/3\n",
      "32/32 [==============================] - 26s 821ms/step - loss: 0.9046 - hinge_accuracy: 0.7031 - val_loss: 0.8613 - val_hinge_accuracy: 0.7122\n",
      "62/62 [==============================] - 4s 65ms/step - loss: 0.8613 - hinge_accuracy: 0.7122\n"
     ]
    }
   ],
   "source": [
    "qnn_history = model.fit(\n",
    "      x_train_tfcirc_sub, y_train_hinge_sub,\n",
    "      batch_size=32,\n",
    "      epochs=EPOCHS,\n",
    "      verbose=1,\n",
    "      validation_data=(x_test_tfcirc, y_test_hinge))\n",
    "\n",
    "qnn_results = model.evaluate(x_test_tfcirc, y_test)"
   ]
  },
  {
   "cell_type": "markdown",
   "metadata": {
    "colab_type": "text",
    "id": "3ER7B7aaojiP"
   },
   "source": [
    "Note: The training accuracy reports the average over the epoch. The validation accuracy is evaluated at the end of each epoch."
   ]
  },
  {
   "cell_type": "markdown",
   "metadata": {
    "colab_type": "text",
    "id": "8952YvuWGL7J"
   },
   "source": [
    "## 3. Classical neural network\n",
    "\n",
    "While the quantum neural network works for this simplified MNIST problem, a basic classical neural network can easily outperform a QNN on this task. After a single epoch, a classical neural network can achieve >98% accuracy on the holdout set.\n",
    "\n",
    "In the following example, a classical neural network is used for for the 3-6 classification problem using the entire 28x28 image instead of subsampling the image. This easily converges to nearly 100% accuracy of the test set."
   ]
  },
  {
   "cell_type": "code",
   "execution_count": null,
   "metadata": {
    "colab": {},
    "colab_type": "code",
    "execution": {
     "iopub.execute_input": "2023-03-21T11:38:11.854650Z",
     "iopub.status.busy": "2023-03-21T11:38:11.854056Z",
     "iopub.status.idle": "2023-03-21T11:38:11.915983Z",
     "shell.execute_reply": "2023-03-21T11:38:11.915281Z"
    },
    "id": "pZofEHhLGL7L"
   },
   "outputs": [
    {
     "name": "stdout",
     "output_type": "stream",
     "text": [
      "Model: \"sequential_1\"\n",
      "_________________________________________________________________\n",
      " Layer (type)                Output Shape              Param #   \n",
      "=================================================================\n",
      " conv2d (Conv2D)             (None, 26, 26, 32)        320       \n",
      "                                                                 \n",
      " conv2d_1 (Conv2D)           (None, 24, 24, 64)        18496     \n",
      "                                                                 \n",
      " max_pooling2d (MaxPooling2D  (None, 12, 12, 64)       0         \n",
      " )                                                               \n",
      "                                                                 \n",
      " dropout (Dropout)           (None, 12, 12, 64)        0         \n",
      "                                                                 \n",
      " flatten (Flatten)           (None, 9216)              0         \n",
      "                                                                 \n",
      " dense (Dense)               (None, 128)               1179776   \n",
      "                                                                 \n",
      " dropout_1 (Dropout)         (None, 128)               0         \n",
      "                                                                 \n",
      " dense_1 (Dense)             (None, 1)                 129       \n",
      "                                                                 \n",
      "=================================================================\n",
      "Total params: 1,198,721\n",
      "Trainable params: 1,198,721\n",
      "Non-trainable params: 0\n",
      "_________________________________________________________________\n"
     ]
    }
   ],
   "source": [
    "def create_classical_model():\n",
    "    # A simple model based off LeNet from https://keras.io/examples/mnist_cnn/\n",
    "    model = tf.keras.Sequential()\n",
    "    model.add(tf.keras.layers.Conv2D(32, [3, 3], activation='relu', input_shape=(28,28,1)))\n",
    "    model.add(tf.keras.layers.Conv2D(64, [3, 3], activation='relu'))\n",
    "    model.add(tf.keras.layers.MaxPooling2D(pool_size=(2, 2)))\n",
    "    model.add(tf.keras.layers.Dropout(0.25))\n",
    "    model.add(tf.keras.layers.Flatten())\n",
    "    model.add(tf.keras.layers.Dense(128, activation='relu'))\n",
    "    model.add(tf.keras.layers.Dropout(0.5))\n",
    "    model.add(tf.keras.layers.Dense(1))\n",
    "    return model\n",
    "\n",
    "\n",
    "model = create_classical_model()\n",
    "model.compile(loss=tf.keras.losses.BinaryCrossentropy(from_logits=True),\n",
    "              optimizer=tf.keras.optimizers.Adam(),\n",
    "              metrics=['accuracy'])\n",
    "\n",
    "model.summary()"
   ]
  },
  {
   "cell_type": "code",
   "execution_count": null,
   "metadata": {
    "colab": {},
    "colab_type": "code",
    "execution": {
     "iopub.execute_input": "2023-03-21T11:38:11.919274Z",
     "iopub.status.busy": "2023-03-21T11:38:11.918677Z",
     "iopub.status.idle": "2023-03-21T11:38:15.631175Z",
     "shell.execute_reply": "2023-03-21T11:38:15.630430Z"
    },
    "id": "CiAJl7sZojiU"
   },
   "outputs": [
    {
     "name": "stderr",
     "output_type": "stream",
     "text": [
      "2023-05-27 17:48:16.482242: W tensorflow/core/framework/cpu_allocator_impl.cc:82] Allocation of 37785664 exceeds 10% of free system memory.\n"
     ]
    },
    {
     "name": "stdout",
     "output_type": "stream",
     "text": [
      " 2/95 [..............................] - ETA: 8s - loss: 0.6080 - accuracy: 0.6641 "
     ]
    },
    {
     "name": "stderr",
     "output_type": "stream",
     "text": [
      "2023-05-27 17:48:16.947758: W tensorflow/core/framework/cpu_allocator_impl.cc:82] Allocation of 18874368 exceeds 10% of free system memory.\n",
      "2023-05-27 17:48:16.976220: W tensorflow/core/framework/cpu_allocator_impl.cc:82] Allocation of 18874368 exceeds 10% of free system memory.\n",
      "2023-05-27 17:48:16.990529: W tensorflow/core/framework/cpu_allocator_impl.cc:82] Allocation of 23887872 exceeds 10% of free system memory.\n"
     ]
    },
    {
     "name": "stdout",
     "output_type": "stream",
     "text": [
      "95/95 [==============================] - 10s 105ms/step - loss: 0.0448 - accuracy: 0.9839 - val_loss: 0.0048 - val_accuracy: 0.9990\n",
      "62/62 [==============================] - 0s 6ms/step - loss: 0.0048 - accuracy: 0.9990\n"
     ]
    }
   ],
   "source": [
    "model.fit(x_train,\n",
    "          y_train,\n",
    "          batch_size=128,\n",
    "          epochs=1,\n",
    "          verbose=1,\n",
    "          validation_data=(x_test, y_test))\n",
    "\n",
    "cnn_results = model.evaluate(x_test, y_test)"
   ]
  },
  {
   "cell_type": "markdown",
   "metadata": {
    "colab_type": "text",
    "id": "X5-5BVJaojiZ"
   },
   "source": [
    "The above model has nearly 1.2M parameters. For a more fair comparison, try a 37-parameter model, on the subsampled images:"
   ]
  },
  {
   "cell_type": "code",
   "execution_count": null,
   "metadata": {
    "colab": {},
    "colab_type": "code",
    "execution": {
     "iopub.execute_input": "2023-03-21T11:38:15.634858Z",
     "iopub.status.busy": "2023-03-21T11:38:15.634296Z",
     "iopub.status.idle": "2023-03-21T11:38:15.663745Z",
     "shell.execute_reply": "2023-03-21T11:38:15.663076Z"
    },
    "id": "70TOM6r-ojiZ",
    "scrolled": false
   },
   "outputs": [
    {
     "name": "stdout",
     "output_type": "stream",
     "text": [
      "Model: \"sequential_2\"\n",
      "_________________________________________________________________\n",
      " Layer (type)                Output Shape              Param #   \n",
      "=================================================================\n",
      " flatten_1 (Flatten)         (None, 16)                0         \n",
      "                                                                 \n",
      " dense_2 (Dense)             (None, 2)                 34        \n",
      "                                                                 \n",
      " dense_3 (Dense)             (None, 1)                 3         \n",
      "                                                                 \n",
      "=================================================================\n",
      "Total params: 37\n",
      "Trainable params: 37\n",
      "Non-trainable params: 0\n",
      "_________________________________________________________________\n"
     ]
    }
   ],
   "source": [
    "def create_fair_classical_model():\n",
    "    # A simple model based off LeNet from https://keras.io/examples/mnist_cnn/\n",
    "    model = tf.keras.Sequential()\n",
    "    model.add(tf.keras.layers.Flatten(input_shape=(4,4,1)))\n",
    "    model.add(tf.keras.layers.Dense(2, activation='relu'))\n",
    "    model.add(tf.keras.layers.Dense(1))\n",
    "    return model\n",
    "\n",
    "\n",
    "model = create_fair_classical_model()\n",
    "model.compile(loss=tf.keras.losses.BinaryCrossentropy(from_logits=True),\n",
    "              optimizer=tf.keras.optimizers.Adam(),\n",
    "              metrics=['accuracy'])\n",
    "\n",
    "model.summary()"
   ]
  },
  {
   "cell_type": "code",
   "execution_count": null,
   "metadata": {
    "colab": {},
    "colab_type": "code",
    "execution": {
     "iopub.execute_input": "2023-03-21T11:38:15.666842Z",
     "iopub.status.busy": "2023-03-21T11:38:15.666248Z",
     "iopub.status.idle": "2023-03-21T11:38:18.278954Z",
     "shell.execute_reply": "2023-03-21T11:38:18.278213Z"
    },
    "id": "lA_Fx-8gojid"
   },
   "outputs": [
    {
     "name": "stdout",
     "output_type": "stream",
     "text": [
      "Epoch 1/20\n",
      "81/81 - 1s - loss: 0.8900 - accuracy: 0.2335 - val_loss: 0.8232 - val_accuracy: 0.2327 - 529ms/epoch - 7ms/step\n",
      "Epoch 2/20\n",
      "81/81 - 0s - loss: 0.7797 - accuracy: 0.3864 - val_loss: 0.7495 - val_accuracy: 0.3633 - 90ms/epoch - 1ms/step\n",
      "Epoch 3/20\n",
      "81/81 - 0s - loss: 0.7189 - accuracy: 0.5226 - val_loss: 0.7060 - val_accuracy: 0.5213 - 75ms/epoch - 920us/step\n",
      "Epoch 4/20\n",
      "81/81 - 0s - loss: 0.6781 - accuracy: 0.5748 - val_loss: 0.6727 - val_accuracy: 0.5351 - 73ms/epoch - 907us/step\n",
      "Epoch 5/20\n",
      "81/81 - 0s - loss: 0.6353 - accuracy: 0.6389 - val_loss: 0.6253 - val_accuracy: 0.6453 - 68ms/epoch - 843us/step\n",
      "Epoch 6/20\n",
      "81/81 - 0s - loss: 0.5788 - accuracy: 0.7480 - val_loss: 0.5686 - val_accuracy: 0.7083 - 69ms/epoch - 852us/step\n",
      "Epoch 7/20\n",
      "81/81 - 0s - loss: 0.5245 - accuracy: 0.7866 - val_loss: 0.5189 - val_accuracy: 0.8176 - 76ms/epoch - 935us/step\n",
      "Epoch 8/20\n",
      "81/81 - 0s - loss: 0.4801 - accuracy: 0.8585 - val_loss: 0.4765 - val_accuracy: 0.8120 - 62ms/epoch - 760us/step\n",
      "Epoch 9/20\n",
      "81/81 - 0s - loss: 0.4422 - accuracy: 0.8629 - val_loss: 0.4404 - val_accuracy: 0.8206 - 66ms/epoch - 816us/step\n",
      "Epoch 10/20\n",
      "81/81 - 0s - loss: 0.4100 - accuracy: 0.8818 - val_loss: 0.4086 - val_accuracy: 0.8638 - 74ms/epoch - 915us/step\n",
      "Epoch 11/20\n",
      "81/81 - 0s - loss: 0.3822 - accuracy: 0.9014 - val_loss: 0.3823 - val_accuracy: 0.8725 - 89ms/epoch - 1ms/step\n",
      "Epoch 12/20\n",
      "81/81 - 0s - loss: 0.3596 - accuracy: 0.9043 - val_loss: 0.3614 - val_accuracy: 0.8725 - 75ms/epoch - 926us/step\n",
      "Epoch 13/20\n",
      "81/81 - 0s - loss: 0.3406 - accuracy: 0.9048 - val_loss: 0.3438 - val_accuracy: 0.8725 - 75ms/epoch - 926us/step\n",
      "Epoch 14/20\n",
      "81/81 - 0s - loss: 0.3240 - accuracy: 0.9098 - val_loss: 0.3283 - val_accuracy: 0.8791 - 79ms/epoch - 974us/step\n",
      "Epoch 15/20\n",
      "81/81 - 0s - loss: 0.3092 - accuracy: 0.9124 - val_loss: 0.3149 - val_accuracy: 0.8796 - 78ms/epoch - 966us/step\n",
      "Epoch 16/20\n",
      "81/81 - 0s - loss: 0.2961 - accuracy: 0.9123 - val_loss: 0.3026 - val_accuracy: 0.8796 - 80ms/epoch - 989us/step\n",
      "Epoch 17/20\n",
      "81/81 - 0s - loss: 0.2844 - accuracy: 0.9124 - val_loss: 0.2919 - val_accuracy: 0.8796 - 78ms/epoch - 959us/step\n",
      "Epoch 18/20\n",
      "81/81 - 0s - loss: 0.2740 - accuracy: 0.9123 - val_loss: 0.2820 - val_accuracy: 0.8796 - 83ms/epoch - 1ms/step\n",
      "Epoch 19/20\n",
      "81/81 - 0s - loss: 0.2646 - accuracy: 0.9145 - val_loss: 0.2731 - val_accuracy: 0.8801 - 81ms/epoch - 1ms/step\n",
      "Epoch 20/20\n",
      "81/81 - 0s - loss: 0.2561 - accuracy: 0.9149 - val_loss: 0.2652 - val_accuracy: 0.8801 - 76ms/epoch - 941us/step\n",
      "62/62 [==============================] - 0s 513us/step - loss: 0.2652 - accuracy: 0.8801\n"
     ]
    }
   ],
   "source": [
    "model.fit(x_train_bin,\n",
    "          y_train_nocon,\n",
    "          batch_size=128,\n",
    "          epochs=20,\n",
    "          verbose=2,\n",
    "          validation_data=(x_test_bin, y_test))\n",
    "\n",
    "fair_nn_results = model.evaluate(x_test_bin, y_test)"
   ]
  },
  {
   "cell_type": "markdown",
   "metadata": {
    "colab_type": "text",
    "id": "RH3mam7EGL7N"
   },
   "source": [
    "## 4. Comparison\n",
    "\n",
    "Higher resolution input and a more powerful model make this problem easy for the CNN. While a classical model of similar power (~32 parameters) trains to a similar accuracy in a fraction of the time. One way or the other, the classical neural network easily outperforms the quantum neural network. For classical data, it is difficult to beat a classical neural network."
   ]
  },
  {
   "cell_type": "code",
   "execution_count": null,
   "metadata": {
    "colab": {},
    "colab_type": "code",
    "execution": {
     "iopub.execute_input": "2023-03-21T11:38:18.282725Z",
     "iopub.status.busy": "2023-03-21T11:38:18.282071Z",
     "iopub.status.idle": "2023-03-21T11:38:18.418457Z",
     "shell.execute_reply": "2023-03-21T11:38:18.417721Z"
    },
    "id": "NOMeN7pMGL7P"
   },
   "outputs": [
    {
     "data": {
      "text/plain": [
       "<Axes: >"
      ]
     },
     "execution_count": 34,
     "metadata": {},
     "output_type": "execute_result"
    },
    {
     "data": {
      "image/png": "[encoded data removed]",
      "text/plain": [
       "<Figure size 640x480 with 1 Axes>"
      ]
     },
     "metadata": {},
     "output_type": "display_data"
    }
   ],
   "source": [
    "qnn_accuracy = qnn_results[1]\n",
    "cnn_accuracy = cnn_results[1]\n",
    "fair_nn_accuracy = fair_nn_results[1]\n",
    "\n",
    "sns.barplot(x=[\"Quantum\", \"Classical, full\", \"Classical, fair\"],\n",
    "            y=[qnn_accuracy, cnn_accuracy, fair_nn_accuracy])"
   ]
  },
  {
   "attachments": {},
   "cell_type": "markdown",
   "metadata": {},
   "source": [
    "## 5. Квантовая нейросеть с фазовым кодированием. "
   ]
  },
  {
   "cell_type": "code",
   "execution_count": null,
   "metadata": {},
   "outputs": [],
   "source": [
    "def convert_to_circuit_2(image):\n",
    "    \"\"\"Encode truncated classical image into quantum datapoint.\"\"\"\n",
    "    values = np.ndarray.flatten(image)\n",
    "    qubits = cirq.GridQubit.rect(4, 4)\n",
    "    circuit = cirq.Circuit()\n",
    "    for i, value in enumerate(values):\n",
    "        if value:\n",
    "            circuit.append(cirq.rx(value*np.pi)(qubits[i]))\n",
    "    return circuit\n",
    "\n",
    "\n",
    "x_train_circ_2 = [convert_to_circuit_2(x) for x in x_train_nocon]\n",
    "x_test_circ_2 = [convert_to_circuit_2(x) for x in x_test_small]"
   ]
  },
  {
   "cell_type": "code",
   "execution_count": null,
   "metadata": {},
   "outputs": [
    {
     "name": "stderr",
     "output_type": "stream",
     "text": [
      "findfont: Font family 'Arial' not found.\n",
      "findfont: Font family 'Arial' not found.\n",
      "findfont: Font family 'Arial' not found.\n",
      "findfont: Font family 'Arial' not found.\n",
      "findfont: Font family 'Arial' not found.\n",
      "findfont: Font family 'Arial' not found.\n"
     ]
    },
    {
     "data": {
      "image/svg+xml": [
       "<svg xmlns=\"http://www.w3.org/2000/svg\" width=\"214.38546875000003\" height=\"150.0\"><line x1=\"34.7588671875\" x2=\"184.38546875000003\" y1=\"25.0\" y2=\"25.0\" stroke=\"#1967d2\" stroke-width=\"1\" /><line x1=\"34.7588671875\" x2=\"184.38546875000003\" y1=\"75.0\" y2=\"75.0\" stroke=\"#1967d2\" stroke-width=\"1\" /><line x1=\"34.7588671875\" x2=\"184.38546875000003\" y1=\"125.0\" y2=\"125.0\" stroke=\"#1967d2\" stroke-width=\"1\" /><rect x=\"10.0\" y=\"5.0\" width=\"49.517734375\" height=\"40\" stroke=\"black\" fill=\"white\" stroke-width=\"0\" /><text x=\"34.7588671875\" y=\"25.0\" dominant-baseline=\"middle\" text-anchor=\"middle\" font-size=\"14px\" font-family=\"Arial\">(1, 2): </text><rect x=\"10.0\" y=\"55.0\" width=\"49.517734375\" height=\"40\" stroke=\"black\" fill=\"white\" stroke-width=\"0\" /><text x=\"34.7588671875\" y=\"75.0\" dominant-baseline=\"middle\" text-anchor=\"middle\" font-size=\"14px\" font-family=\"Arial\">(2, 2): </text><rect x=\"10.0\" y=\"105.0\" width=\"49.517734375\" height=\"40\" stroke=\"black\" fill=\"white\" stroke-width=\"0\" /><text x=\"34.7588671875\" y=\"125.0\" dominant-baseline=\"middle\" text-anchor=\"middle\" font-size=\"14px\" font-family=\"Arial\">(3, 1): </text><rect x=\"79.517734375\" y=\"5.0\" width=\"84.86773437500001\" height=\"40\" stroke=\"black\" fill=\"white\" stroke-width=\"1\" /><text x=\"121.9516015625\" y=\"25.0\" dominant-baseline=\"middle\" text-anchor=\"middle\" font-size=\"14px\" font-family=\"Arial\">Rx(0.333π)</text><rect x=\"79.517734375\" y=\"55.0\" width=\"84.86773437500001\" height=\"40\" stroke=\"black\" fill=\"white\" stroke-width=\"1\" /><text x=\"121.9516015625\" y=\"75.0\" dominant-baseline=\"middle\" text-anchor=\"middle\" font-size=\"14px\" font-family=\"Arial\">Rx(0.988π)</text><rect x=\"79.517734375\" y=\"105.0\" width=\"84.86773437500001\" height=\"40\" stroke=\"black\" fill=\"white\" stroke-width=\"1\" /><text x=\"121.9516015625\" y=\"125.0\" dominant-baseline=\"middle\" text-anchor=\"middle\" font-size=\"14px\" font-family=\"Arial\">Rx(0.675π)</text></svg>"
      ],
      "text/plain": [
       "<cirq.contrib.svg.svg.SVGCircuit at 0x7fe48b874e50>"
      ]
     },
     "execution_count": 36,
     "metadata": {},
     "output_type": "execute_result"
    }
   ],
   "source": [
    "SVGCircuit(x_train_circ_2[0])"
   ]
  },
  {
   "cell_type": "markdown",
   "metadata": {},
   "source": [
    "Compare this circuit to the indices where the image value exceeds the threshold:"
   ]
  },
  {
   "cell_type": "code",
   "execution_count": null,
   "metadata": {},
   "outputs": [
    {
     "data": {
      "text/plain": [
       "array([[0.        , 0.        , 0.        , 0.        ],\n",
       "       [0.        , 0.        , 0.33333334, 0.        ],\n",
       "       [0.        , 0.        , 0.9882353 , 0.        ],\n",
       "       [0.        , 0.6745098 , 0.        , 0.        ]], dtype=float32)"
      ]
     },
     "execution_count": 37,
     "metadata": {},
     "output_type": "execute_result"
    }
   ],
   "source": [
    "bin_img = x_train_nocon[0,:,:,0]\n",
    "indices = np.array(bin_img)\n",
    "indices"
   ]
  },
  {
   "cell_type": "markdown",
   "metadata": {},
   "source": [
    "Convert these `Cirq` circuits to tensors for `tfq`:"
   ]
  },
  {
   "cell_type": "code",
   "execution_count": null,
   "metadata": {},
   "outputs": [],
   "source": [
    "x_train_tfcirc_2 = tfq.convert_to_tensor(x_train_circ_2)\n",
    "x_test_tfcirc_2 = tfq.convert_to_tensor(x_test_circ_2)"
   ]
  },
  {
   "cell_type": "markdown",
   "metadata": {},
   "source": [
    "### Train the quantum model\n",
    "\n",
    "Now train the model—this takes about 45 min. If you don't want to wait that long, use a small subset of the data (set `NUM_EXAMPLES=500`, below). This doesn't really affect the model's progress during training (it only has 32 parameters, and doesn't need much data to constrain these). Using fewer examples just ends training earlier (5min), but runs long enough to show that it is making progress in the validation logs."
   ]
  },
  {
   "cell_type": "code",
   "execution_count": null,
   "metadata": {},
   "outputs": [],
   "source": [
    "EPOCHS = 10\n",
    "BATCH_SIZE = 32\n",
    "\n",
    "# NUM_EXAMPLES = len(x_train_tfcirc)\n",
    "NUM_EXAMPLES = 1000"
   ]
  },
  {
   "cell_type": "code",
   "execution_count": null,
   "metadata": {},
   "outputs": [
    {
     "ename": "NameError",
     "evalue": "name 'x_train_tfcirc_2' is not defined",
     "output_type": "error",
     "traceback": [
      "\u001b[0;31m---------------------------------------------------------------------------\u001b[0m",
      "\u001b[0;31mNameError\u001b[0m                                 Traceback (most recent call last)",
      "Cell \u001b[0;32mIn[31], line 1\u001b[0m\n\u001b[0;32m----> 1\u001b[0m x_train_tfcirc_sub_2 \u001b[39m=\u001b[39m x_train_tfcirc_2[:NUM_EXAMPLES]\n\u001b[1;32m      2\u001b[0m y_train_hinge_sub \u001b[39m=\u001b[39m y_train_hinge[:NUM_EXAMPLES]\n",
      "\u001b[0;31mNameError\u001b[0m: name 'x_train_tfcirc_2' is not defined"
     ]
    }
   ],
   "source": [
    "x_train_tfcirc_sub_2 = x_train_tfcirc_2[:NUM_EXAMPLES]\n",
    "y_train_hinge_sub = y_train_hinge[:NUM_EXAMPLES]"
   ]
  },
  {
   "cell_type": "code",
   "execution_count": null,
   "metadata": {},
   "outputs": [
    {
     "name": "stdout",
     "output_type": "stream",
     "text": [
      "Epoch 1/10\n",
      "WARNING:tensorflow:Model was constructed with shape (None, 4, 4, 1) for input KerasTensor(type_spec=TensorSpec(shape=(None, 4, 4, 1), dtype=tf.float32, name='flatten_1_input'), name='flatten_1_input', description=\"created by layer 'flatten_1_input'\"), but it was called on an input with incompatible shape (None,).\n"
     ]
    },
    {
     "ename": "ValueError",
     "evalue": "in user code:\n\n    File \"/home/amir/miniconda3/envs/TensorFlowQuantum/lib/python3.9/site-packages/keras/engine/training.py\", line 878, in train_function  *\n        return step_function(self, iterator)\n    File \"/home/amir/miniconda3/envs/TensorFlowQuantum/lib/python3.9/site-packages/keras/engine/training.py\", line 867, in step_function  **\n        outputs = model.distribute_strategy.run(run_step, args=(data,))\n    File \"/home/amir/miniconda3/envs/TensorFlowQuantum/lib/python3.9/site-packages/keras/engine/training.py\", line 860, in run_step  **\n        outputs = model.train_step(data)\n    File \"/home/amir/miniconda3/envs/TensorFlowQuantum/lib/python3.9/site-packages/keras/engine/training.py\", line 808, in train_step\n        y_pred = self(x, training=True)\n    File \"/home/amir/miniconda3/envs/TensorFlowQuantum/lib/python3.9/site-packages/keras/utils/traceback_utils.py\", line 67, in error_handler\n        raise e.with_traceback(filtered_tb) from None\n    File \"/home/amir/miniconda3/envs/TensorFlowQuantum/lib/python3.9/site-packages/keras/engine/input_spec.py\", line 247, in assert_input_compatibility\n        raise ValueError(\n\n    ValueError: Exception encountered when calling layer \"sequential_2\" (type Sequential).\n    \n    Input 0 of layer \"dense_2\" is incompatible with the layer: expected axis -1of input shape to have value 16, but received input with shape (None, 1)\n    \n    Call arguments received:\n      • inputs=tf.Tensor(shape=(None,), dtype=string)\n      • training=True\n      • mask=None\n",
     "output_type": "error",
     "traceback": [
      "\u001b[0;31m---------------------------------------------------------------------------\u001b[0m",
      "\u001b[0;31mValueError\u001b[0m                                Traceback (most recent call last)",
      "Cell \u001b[0;32mIn[41], line 1\u001b[0m\n\u001b[0;32m----> 1\u001b[0m qnn_history \u001b[39m=\u001b[39m model\u001b[39m.\u001b[39;49mfit(\n\u001b[1;32m      2\u001b[0m       x_train_tfcirc_sub_2, y_train_hinge_sub,\n\u001b[1;32m      3\u001b[0m       batch_size\u001b[39m=\u001b[39;49m\u001b[39m32\u001b[39;49m,\n\u001b[1;32m      4\u001b[0m       epochs\u001b[39m=\u001b[39;49mEPOCHS,\n\u001b[1;32m      5\u001b[0m       verbose\u001b[39m=\u001b[39;49m\u001b[39m1\u001b[39;49m,\n\u001b[1;32m      6\u001b[0m       validation_data\u001b[39m=\u001b[39;49m(x_test_tfcirc_2, y_test_hinge))\n\u001b[1;32m      8\u001b[0m qnn_results \u001b[39m=\u001b[39m model\u001b[39m.\u001b[39mevaluate(x_test_tfcirc_2, y_test)\n",
      "File \u001b[0;32m~/miniconda3/envs/TensorFlowQuantum/lib/python3.9/site-packages/keras/utils/traceback_utils.py:67\u001b[0m, in \u001b[0;36mfilter_traceback.<locals>.error_handler\u001b[0;34m(*args, **kwargs)\u001b[0m\n\u001b[1;32m     65\u001b[0m \u001b[39mexcept\u001b[39;00m \u001b[39mException\u001b[39;00m \u001b[39mas\u001b[39;00m e:  \u001b[39m# pylint: disable=broad-except\u001b[39;00m\n\u001b[1;32m     66\u001b[0m   filtered_tb \u001b[39m=\u001b[39m _process_traceback_frames(e\u001b[39m.\u001b[39m__traceback__)\n\u001b[0;32m---> 67\u001b[0m   \u001b[39mraise\u001b[39;00m e\u001b[39m.\u001b[39mwith_traceback(filtered_tb) \u001b[39mfrom\u001b[39;00m \u001b[39mNone\u001b[39;00m\n\u001b[1;32m     68\u001b[0m \u001b[39mfinally\u001b[39;00m:\n\u001b[1;32m     69\u001b[0m   \u001b[39mdel\u001b[39;00m filtered_tb\n",
      "File \u001b[0;32m~/miniconda3/envs/TensorFlowQuantum/lib/python3.9/site-packages/tensorflow/python/framework/func_graph.py:1129\u001b[0m, in \u001b[0;36mfunc_graph_from_py_func.<locals>.autograph_handler\u001b[0;34m(*args, **kwargs)\u001b[0m\n\u001b[1;32m   1127\u001b[0m \u001b[39mexcept\u001b[39;00m \u001b[39mException\u001b[39;00m \u001b[39mas\u001b[39;00m e:  \u001b[39m# pylint:disable=broad-except\u001b[39;00m\n\u001b[1;32m   1128\u001b[0m   \u001b[39mif\u001b[39;00m \u001b[39mhasattr\u001b[39m(e, \u001b[39m\"\u001b[39m\u001b[39mag_error_metadata\u001b[39m\u001b[39m\"\u001b[39m):\n\u001b[0;32m-> 1129\u001b[0m     \u001b[39mraise\u001b[39;00m e\u001b[39m.\u001b[39mag_error_metadata\u001b[39m.\u001b[39mto_exception(e)\n\u001b[1;32m   1130\u001b[0m   \u001b[39melse\u001b[39;00m:\n\u001b[1;32m   1131\u001b[0m     \u001b[39mraise\u001b[39;00m\n",
      "\u001b[0;31mValueError\u001b[0m: in user code:\n\n    File \"/home/amir/miniconda3/envs/TensorFlowQuantum/lib/python3.9/site-packages/keras/engine/training.py\", line 878, in train_function  *\n        return step_function(self, iterator)\n    File \"/home/amir/miniconda3/envs/TensorFlowQuantum/lib/python3.9/site-packages/keras/engine/training.py\", line 867, in step_function  **\n        outputs = model.distribute_strategy.run(run_step, args=(data,))\n    File \"/home/amir/miniconda3/envs/TensorFlowQuantum/lib/python3.9/site-packages/keras/engine/training.py\", line 860, in run_step  **\n        outputs = model.train_step(data)\n    File \"/home/amir/miniconda3/envs/TensorFlowQuantum/lib/python3.9/site-packages/keras/engine/training.py\", line 808, in train_step\n        y_pred = self(x, training=True)\n    File \"/home/amir/miniconda3/envs/TensorFlowQuantum/lib/python3.9/site-packages/keras/utils/traceback_utils.py\", line 67, in error_handler\n        raise e.with_traceback(filtered_tb) from None\n    File \"/home/amir/miniconda3/envs/TensorFlowQuantum/lib/python3.9/site-packages/keras/engine/input_spec.py\", line 247, in assert_input_compatibility\n        raise ValueError(\n\n    ValueError: Exception encountered when calling layer \"sequential_2\" (type Sequential).\n    \n    Input 0 of layer \"dense_2\" is incompatible with the layer: expected axis -1of input shape to have value 16, but received input with shape (None, 1)\n    \n    Call arguments received:\n      • inputs=tf.Tensor(shape=(None,), dtype=string)\n      • training=True\n      • mask=None\n"
     ]
    }
   ],
   "source": [
    "qnn_history = model.fit(\n",
    "      x_train_tfcirc_sub_2, y_train_hinge_sub,\n",
    "      batch_size=32,\n",
    "      epochs=EPOCHS,\n",
    "      verbose=1,\n",
    "      validation_data=(x_test_tfcirc_2, y_test_hinge))\n",
    "\n",
    "qnn_results = model.evaluate(x_test_tfcirc_2, y_test)"
   ]
  },
  {
   "attachments": {},
   "cell_type": "markdown",
   "metadata": {},
   "source": [
    "### try to repeat paper success"
   ]
  },
  {
   "cell_type": "code",
   "execution_count": null,
   "metadata": {},
   "outputs": [],
   "source": [
    "class CircuitLayerBuilder():\n",
    "    def __init__(self, data_qubits, readout):\n",
    "        self.data_qubits = data_qubits\n",
    "        self.readout = readout\n",
    "    \n",
    "    def add_layer(self, circuit, gate, prefix):\n",
    "        for i, qubit in enumerate(self.data_qubits):\n",
    "            symbol = sympy.Symbol(prefix + '-' + str(i))\n",
    "            circuit.append(gate(qubit, self.readout)**symbol)"
   ]
  },
  {
   "cell_type": "code",
   "execution_count": null,
   "metadata": {},
   "outputs": [],
   "source": [
    "def create_quantum_model():\n",
    "    \"\"\"Create a QNN model circuit and readout operation to go along with it.\"\"\"\n",
    "    data_qubits = cirq.GridQubit.rect(4, 4)  # a 4x4 grid.\n",
    "    readout = cirq.GridQubit(-1, -1)         # a single qubit at [-1,-1]\n",
    "    circuit = cirq.Circuit()\n",
    "    \n",
    "    # Prepare the readout qubit.\n",
    "    circuit.append(cirq.X(readout))\n",
    "    circuit.append(cirq.H(readout))\n",
    "    \n",
    "    builder = CircuitLayerBuilder(\n",
    "        data_qubits=data_qubits,\n",
    "        readout=readout)\n",
    "\n",
    "    # Then add layers (experiment by adding more).\n",
    "    builder.add_layer(circuit, cirq.ZZ, \"zz1\")\n",
    "    builder.add_layer(circuit, cirq.ZZ, \"zz2\")\n",
    "    builder.add_layer(circuit, cirq.ZZ, \"zz3\")\n",
    "    builder.add_layer(circuit, cirq.XX, \"xx1\")\n",
    "    builder.add_layer(circuit, cirq.XX, \"xx2\")\n",
    "    builder.add_layer(circuit, cirq.XX, \"xx3\")\n",
    "\n",
    "    # Finally, prepare the readout qubit.\n",
    "    circuit.append(cirq.H(readout))\n",
    "\n",
    "    return circuit, cirq.Z(readout)"
   ]
  },
  {
   "cell_type": "code",
   "execution_count": null,
   "metadata": {},
   "outputs": [],
   "source": [
    "model_circuit, model_readout = create_quantum_model()"
   ]
  },
  {
   "cell_type": "code",
   "execution_count": null,
   "metadata": {},
   "outputs": [],
   "source": [
    "# Build the Keras model.\n",
    "model = tf.keras.Sequential([\n",
    "    # The input is the data-circuit, encoded as a tf.string\n",
    "    tf.keras.layers.Input(shape=(), dtype=tf.string),\n",
    "    # The PQC layer returns the expected value of the readout gate, range [-1,1].\n",
    "    tfq.layers.PQC(model_circuit, model_readout),\n",
    "])"
   ]
  },
  {
   "cell_type": "code",
   "execution_count": null,
   "metadata": {},
   "outputs": [],
   "source": [
    "model.compile(\n",
    "    loss=tf.keras.losses.Hinge(),\n",
    "    optimizer=tf.keras.optimizers.Adam(),\n",
    "    metrics=[hinge_accuracy])"
   ]
  },
  {
   "cell_type": "code",
   "execution_count": null,
   "metadata": {},
   "outputs": [
    {
     "name": "stdout",
     "output_type": "stream",
     "text": [
      "Model: \"sequential_3\"\n",
      "_________________________________________________________________\n",
      " Layer (type)                Output Shape              Param #   \n",
      "=================================================================\n",
      " pqc_1 (PQC)                 (None, 1)                 96        \n",
      "                                                                 \n",
      "=================================================================\n",
      "Total params: 96\n",
      "Trainable params: 96\n",
      "Non-trainable params: 0\n",
      "_________________________________________________________________\n",
      "None\n"
     ]
    }
   ],
   "source": [
    "print(model.summary())"
   ]
  },
  {
   "cell_type": "code",
   "execution_count": null,
   "metadata": {},
   "outputs": [
    {
     "data": {
      "text/plain": [
       "10338"
      ]
     },
     "execution_count": 50,
     "metadata": {},
     "output_type": "execute_result"
    }
   ],
   "source": [
    "len(x_train_tfcirc)"
   ]
  },
  {
   "cell_type": "code",
   "execution_count": null,
   "metadata": {},
   "outputs": [],
   "source": [
    "EPOCHS = 3\n",
    "BATCH_SIZE = 32\n",
    "\n",
    "NUM_EXAMPLES = len(x_train_tfcirc)\n",
    "# NUM_EXAMPLES = 1000"
   ]
  },
  {
   "cell_type": "code",
   "execution_count": null,
   "metadata": {},
   "outputs": [],
   "source": [
    "x_train_tfcirc_sub = x_train_tfcirc[:NUM_EXAMPLES]\n",
    "y_train_hinge_sub = y_train_hinge[:NUM_EXAMPLES]"
   ]
  },
  {
   "cell_type": "code",
   "execution_count": null,
   "metadata": {},
   "outputs": [
    {
     "name": "stdout",
     "output_type": "stream",
     "text": [
      "Epoch 1/3\n",
      "324/324 [==============================] - 708s 2s/step - loss: 0.4306 - hinge_accuracy: 0.8256 - val_loss: 0.3022 - val_hinge_accuracy: 0.8916\n",
      "Epoch 2/3\n",
      "324/324 [==============================] - 737s 2s/step - loss: 0.2856 - hinge_accuracy: 0.8930 - val_loss: 0.2748 - val_hinge_accuracy: 0.8967\n",
      "Epoch 3/3\n",
      "150/324 [============>.................] - ETA: 5:43 - loss: 0.2804 - hinge_accuracy: 0.8940"
     ]
    },
    {
     "ename": "KeyboardInterrupt",
     "evalue": "",
     "output_type": "error",
     "traceback": [
      "\u001b[0;31m---------------------------------------------------------------------------\u001b[0m",
      "\u001b[0;31mKeyboardInterrupt\u001b[0m                         Traceback (most recent call last)",
      "Cell \u001b[0;32mIn[52], line 1\u001b[0m\n\u001b[0;32m----> 1\u001b[0m qnn_history \u001b[39m=\u001b[39m model\u001b[39m.\u001b[39;49mfit(\n\u001b[1;32m      2\u001b[0m       x_train_tfcirc_sub, y_train_hinge_sub,\n\u001b[1;32m      3\u001b[0m       batch_size\u001b[39m=\u001b[39;49m\u001b[39m32\u001b[39;49m,\n\u001b[1;32m      4\u001b[0m       epochs\u001b[39m=\u001b[39;49mEPOCHS,\n\u001b[1;32m      5\u001b[0m       verbose\u001b[39m=\u001b[39;49m\u001b[39m1\u001b[39;49m,\n\u001b[1;32m      6\u001b[0m       validation_data\u001b[39m=\u001b[39;49m(x_test_tfcirc, y_test_hinge))\n\u001b[1;32m      8\u001b[0m qnn_results \u001b[39m=\u001b[39m model\u001b[39m.\u001b[39mevaluate(x_test_tfcirc, y_test)\n",
      "File \u001b[0;32m~/miniconda3/envs/TensorFlowQuantum/lib/python3.9/site-packages/keras/utils/traceback_utils.py:64\u001b[0m, in \u001b[0;36mfilter_traceback.<locals>.error_handler\u001b[0;34m(*args, **kwargs)\u001b[0m\n\u001b[1;32m     62\u001b[0m filtered_tb \u001b[39m=\u001b[39m \u001b[39mNone\u001b[39;00m\n\u001b[1;32m     63\u001b[0m \u001b[39mtry\u001b[39;00m:\n\u001b[0;32m---> 64\u001b[0m   \u001b[39mreturn\u001b[39;00m fn(\u001b[39m*\u001b[39;49margs, \u001b[39m*\u001b[39;49m\u001b[39m*\u001b[39;49mkwargs)\n\u001b[1;32m     65\u001b[0m \u001b[39mexcept\u001b[39;00m \u001b[39mException\u001b[39;00m \u001b[39mas\u001b[39;00m e:  \u001b[39m# pylint: disable=broad-except\u001b[39;00m\n\u001b[1;32m     66\u001b[0m   filtered_tb \u001b[39m=\u001b[39m _process_traceback_frames(e\u001b[39m.\u001b[39m__traceback__)\n",
      "File \u001b[0;32m~/miniconda3/envs/TensorFlowQuantum/lib/python3.9/site-packages/keras/engine/training.py:1216\u001b[0m, in \u001b[0;36mModel.fit\u001b[0;34m(self, x, y, batch_size, epochs, verbose, callbacks, validation_split, validation_data, shuffle, class_weight, sample_weight, initial_epoch, steps_per_epoch, validation_steps, validation_batch_size, validation_freq, max_queue_size, workers, use_multiprocessing)\u001b[0m\n\u001b[1;32m   1209\u001b[0m \u001b[39mwith\u001b[39;00m tf\u001b[39m.\u001b[39mprofiler\u001b[39m.\u001b[39mexperimental\u001b[39m.\u001b[39mTrace(\n\u001b[1;32m   1210\u001b[0m     \u001b[39m'\u001b[39m\u001b[39mtrain\u001b[39m\u001b[39m'\u001b[39m,\n\u001b[1;32m   1211\u001b[0m     epoch_num\u001b[39m=\u001b[39mepoch,\n\u001b[1;32m   1212\u001b[0m     step_num\u001b[39m=\u001b[39mstep,\n\u001b[1;32m   1213\u001b[0m     batch_size\u001b[39m=\u001b[39mbatch_size,\n\u001b[1;32m   1214\u001b[0m     _r\u001b[39m=\u001b[39m\u001b[39m1\u001b[39m):\n\u001b[1;32m   1215\u001b[0m   callbacks\u001b[39m.\u001b[39mon_train_batch_begin(step)\n\u001b[0;32m-> 1216\u001b[0m   tmp_logs \u001b[39m=\u001b[39m \u001b[39mself\u001b[39;49m\u001b[39m.\u001b[39;49mtrain_function(iterator)\n\u001b[1;32m   1217\u001b[0m   \u001b[39mif\u001b[39;00m data_handler\u001b[39m.\u001b[39mshould_sync:\n\u001b[1;32m   1218\u001b[0m     context\u001b[39m.\u001b[39masync_wait()\n",
      "File \u001b[0;32m~/miniconda3/envs/TensorFlowQuantum/lib/python3.9/site-packages/tensorflow/python/util/traceback_utils.py:150\u001b[0m, in \u001b[0;36mfilter_traceback.<locals>.error_handler\u001b[0;34m(*args, **kwargs)\u001b[0m\n\u001b[1;32m    148\u001b[0m filtered_tb \u001b[39m=\u001b[39m \u001b[39mNone\u001b[39;00m\n\u001b[1;32m    149\u001b[0m \u001b[39mtry\u001b[39;00m:\n\u001b[0;32m--> 150\u001b[0m   \u001b[39mreturn\u001b[39;00m fn(\u001b[39m*\u001b[39;49margs, \u001b[39m*\u001b[39;49m\u001b[39m*\u001b[39;49mkwargs)\n\u001b[1;32m    151\u001b[0m \u001b[39mexcept\u001b[39;00m \u001b[39mException\u001b[39;00m \u001b[39mas\u001b[39;00m e:\n\u001b[1;32m    152\u001b[0m   filtered_tb \u001b[39m=\u001b[39m _process_traceback_frames(e\u001b[39m.\u001b[39m__traceback__)\n",
      "File \u001b[0;32m~/miniconda3/envs/TensorFlowQuantum/lib/python3.9/site-packages/tensorflow/python/eager/def_function.py:910\u001b[0m, in \u001b[0;36mFunction.__call__\u001b[0;34m(self, *args, **kwds)\u001b[0m\n\u001b[1;32m    907\u001b[0m compiler \u001b[39m=\u001b[39m \u001b[39m\"\u001b[39m\u001b[39mxla\u001b[39m\u001b[39m\"\u001b[39m \u001b[39mif\u001b[39;00m \u001b[39mself\u001b[39m\u001b[39m.\u001b[39m_jit_compile \u001b[39melse\u001b[39;00m \u001b[39m\"\u001b[39m\u001b[39mnonXla\u001b[39m\u001b[39m\"\u001b[39m\n\u001b[1;32m    909\u001b[0m \u001b[39mwith\u001b[39;00m OptionalXlaContext(\u001b[39mself\u001b[39m\u001b[39m.\u001b[39m_jit_compile):\n\u001b[0;32m--> 910\u001b[0m   result \u001b[39m=\u001b[39m \u001b[39mself\u001b[39;49m\u001b[39m.\u001b[39;49m_call(\u001b[39m*\u001b[39;49margs, \u001b[39m*\u001b[39;49m\u001b[39m*\u001b[39;49mkwds)\n\u001b[1;32m    912\u001b[0m new_tracing_count \u001b[39m=\u001b[39m \u001b[39mself\u001b[39m\u001b[39m.\u001b[39mexperimental_get_tracing_count()\n\u001b[1;32m    913\u001b[0m without_tracing \u001b[39m=\u001b[39m (tracing_count \u001b[39m==\u001b[39m new_tracing_count)\n",
      "File \u001b[0;32m~/miniconda3/envs/TensorFlowQuantum/lib/python3.9/site-packages/tensorflow/python/eager/def_function.py:942\u001b[0m, in \u001b[0;36mFunction._call\u001b[0;34m(self, *args, **kwds)\u001b[0m\n\u001b[1;32m    939\u001b[0m   \u001b[39mself\u001b[39m\u001b[39m.\u001b[39m_lock\u001b[39m.\u001b[39mrelease()\n\u001b[1;32m    940\u001b[0m   \u001b[39m# In this case we have created variables on the first call, so we run the\u001b[39;00m\n\u001b[1;32m    941\u001b[0m   \u001b[39m# defunned version which is guaranteed to never create variables.\u001b[39;00m\n\u001b[0;32m--> 942\u001b[0m   \u001b[39mreturn\u001b[39;00m \u001b[39mself\u001b[39;49m\u001b[39m.\u001b[39;49m_stateless_fn(\u001b[39m*\u001b[39;49margs, \u001b[39m*\u001b[39;49m\u001b[39m*\u001b[39;49mkwds)  \u001b[39m# pylint: disable=not-callable\u001b[39;00m\n\u001b[1;32m    943\u001b[0m \u001b[39melif\u001b[39;00m \u001b[39mself\u001b[39m\u001b[39m.\u001b[39m_stateful_fn \u001b[39mis\u001b[39;00m \u001b[39mnot\u001b[39;00m \u001b[39mNone\u001b[39;00m:\n\u001b[1;32m    944\u001b[0m   \u001b[39m# Release the lock early so that multiple threads can perform the call\u001b[39;00m\n\u001b[1;32m    945\u001b[0m   \u001b[39m# in parallel.\u001b[39;00m\n\u001b[1;32m    946\u001b[0m   \u001b[39mself\u001b[39m\u001b[39m.\u001b[39m_lock\u001b[39m.\u001b[39mrelease()\n",
      "File \u001b[0;32m~/miniconda3/envs/TensorFlowQuantum/lib/python3.9/site-packages/tensorflow/python/eager/function.py:3130\u001b[0m, in \u001b[0;36mFunction.__call__\u001b[0;34m(self, *args, **kwargs)\u001b[0m\n\u001b[1;32m   3127\u001b[0m \u001b[39mwith\u001b[39;00m \u001b[39mself\u001b[39m\u001b[39m.\u001b[39m_lock:\n\u001b[1;32m   3128\u001b[0m   (graph_function,\n\u001b[1;32m   3129\u001b[0m    filtered_flat_args) \u001b[39m=\u001b[39m \u001b[39mself\u001b[39m\u001b[39m.\u001b[39m_maybe_define_function(args, kwargs)\n\u001b[0;32m-> 3130\u001b[0m \u001b[39mreturn\u001b[39;00m graph_function\u001b[39m.\u001b[39;49m_call_flat(\n\u001b[1;32m   3131\u001b[0m     filtered_flat_args, captured_inputs\u001b[39m=\u001b[39;49mgraph_function\u001b[39m.\u001b[39;49mcaptured_inputs)\n",
      "File \u001b[0;32m~/miniconda3/envs/TensorFlowQuantum/lib/python3.9/site-packages/tensorflow/python/eager/function.py:1959\u001b[0m, in \u001b[0;36mConcreteFunction._call_flat\u001b[0;34m(self, args, captured_inputs, cancellation_manager)\u001b[0m\n\u001b[1;32m   1955\u001b[0m possible_gradient_type \u001b[39m=\u001b[39m gradients_util\u001b[39m.\u001b[39mPossibleTapeGradientTypes(args)\n\u001b[1;32m   1956\u001b[0m \u001b[39mif\u001b[39;00m (possible_gradient_type \u001b[39m==\u001b[39m gradients_util\u001b[39m.\u001b[39mPOSSIBLE_GRADIENT_TYPES_NONE\n\u001b[1;32m   1957\u001b[0m     \u001b[39mand\u001b[39;00m executing_eagerly):\n\u001b[1;32m   1958\u001b[0m   \u001b[39m# No tape is watching; skip to running the function.\u001b[39;00m\n\u001b[0;32m-> 1959\u001b[0m   \u001b[39mreturn\u001b[39;00m \u001b[39mself\u001b[39m\u001b[39m.\u001b[39m_build_call_outputs(\u001b[39mself\u001b[39;49m\u001b[39m.\u001b[39;49m_inference_function\u001b[39m.\u001b[39;49mcall(\n\u001b[1;32m   1960\u001b[0m       ctx, args, cancellation_manager\u001b[39m=\u001b[39;49mcancellation_manager))\n\u001b[1;32m   1961\u001b[0m forward_backward \u001b[39m=\u001b[39m \u001b[39mself\u001b[39m\u001b[39m.\u001b[39m_select_forward_and_backward_functions(\n\u001b[1;32m   1962\u001b[0m     args,\n\u001b[1;32m   1963\u001b[0m     possible_gradient_type,\n\u001b[1;32m   1964\u001b[0m     executing_eagerly)\n\u001b[1;32m   1965\u001b[0m forward_function, args_with_tangents \u001b[39m=\u001b[39m forward_backward\u001b[39m.\u001b[39mforward()\n",
      "File \u001b[0;32m~/miniconda3/envs/TensorFlowQuantum/lib/python3.9/site-packages/tensorflow/python/eager/function.py:598\u001b[0m, in \u001b[0;36m_EagerDefinedFunction.call\u001b[0;34m(self, ctx, args, cancellation_manager)\u001b[0m\n\u001b[1;32m    596\u001b[0m \u001b[39mwith\u001b[39;00m _InterpolateFunctionError(\u001b[39mself\u001b[39m):\n\u001b[1;32m    597\u001b[0m   \u001b[39mif\u001b[39;00m cancellation_manager \u001b[39mis\u001b[39;00m \u001b[39mNone\u001b[39;00m:\n\u001b[0;32m--> 598\u001b[0m     outputs \u001b[39m=\u001b[39m execute\u001b[39m.\u001b[39;49mexecute(\n\u001b[1;32m    599\u001b[0m         \u001b[39mstr\u001b[39;49m(\u001b[39mself\u001b[39;49m\u001b[39m.\u001b[39;49msignature\u001b[39m.\u001b[39;49mname),\n\u001b[1;32m    600\u001b[0m         num_outputs\u001b[39m=\u001b[39;49m\u001b[39mself\u001b[39;49m\u001b[39m.\u001b[39;49m_num_outputs,\n\u001b[1;32m    601\u001b[0m         inputs\u001b[39m=\u001b[39;49margs,\n\u001b[1;32m    602\u001b[0m         attrs\u001b[39m=\u001b[39;49mattrs,\n\u001b[1;32m    603\u001b[0m         ctx\u001b[39m=\u001b[39;49mctx)\n\u001b[1;32m    604\u001b[0m   \u001b[39melse\u001b[39;00m:\n\u001b[1;32m    605\u001b[0m     outputs \u001b[39m=\u001b[39m execute\u001b[39m.\u001b[39mexecute_with_cancellation(\n\u001b[1;32m    606\u001b[0m         \u001b[39mstr\u001b[39m(\u001b[39mself\u001b[39m\u001b[39m.\u001b[39msignature\u001b[39m.\u001b[39mname),\n\u001b[1;32m    607\u001b[0m         num_outputs\u001b[39m=\u001b[39m\u001b[39mself\u001b[39m\u001b[39m.\u001b[39m_num_outputs,\n\u001b[0;32m   (...)\u001b[0m\n\u001b[1;32m    610\u001b[0m         ctx\u001b[39m=\u001b[39mctx,\n\u001b[1;32m    611\u001b[0m         cancellation_manager\u001b[39m=\u001b[39mcancellation_manager)\n",
      "File \u001b[0;32m~/miniconda3/envs/TensorFlowQuantum/lib/python3.9/site-packages/tensorflow/python/eager/execute.py:58\u001b[0m, in \u001b[0;36mquick_execute\u001b[0;34m(op_name, num_outputs, inputs, attrs, ctx, name)\u001b[0m\n\u001b[1;32m     56\u001b[0m \u001b[39mtry\u001b[39;00m:\n\u001b[1;32m     57\u001b[0m   ctx\u001b[39m.\u001b[39mensure_initialized()\n\u001b[0;32m---> 58\u001b[0m   tensors \u001b[39m=\u001b[39m pywrap_tfe\u001b[39m.\u001b[39;49mTFE_Py_Execute(ctx\u001b[39m.\u001b[39;49m_handle, device_name, op_name,\n\u001b[1;32m     59\u001b[0m                                       inputs, attrs, num_outputs)\n\u001b[1;32m     60\u001b[0m \u001b[39mexcept\u001b[39;00m core\u001b[39m.\u001b[39m_NotOkStatusException \u001b[39mas\u001b[39;00m e:\n\u001b[1;32m     61\u001b[0m   \u001b[39mif\u001b[39;00m name \u001b[39mis\u001b[39;00m \u001b[39mnot\u001b[39;00m \u001b[39mNone\u001b[39;00m:\n",
      "\u001b[0;31mKeyboardInterrupt\u001b[0m: "
     ]
    }
   ],
   "source": [
    "qnn_history = model.fit(\n",
    "      x_train_tfcirc_sub, y_train_hinge_sub,\n",
    "      batch_size=32,\n",
    "      epochs=EPOCHS,\n",
    "      verbose=1,\n",
    "      validation_data=(x_test_tfcirc, y_test_hinge))\n",
    "\n",
    "qnn_results = model.evaluate(x_test_tfcirc, y_test)"
   ]
  },
  {
   "attachments": {},
   "cell_type": "markdown",
   "metadata": {},
   "source": [
    "The same on small subset of dataset"
   ]
  },
  {
   "cell_type": "code",
   "execution_count": null,
   "metadata": {},
   "outputs": [],
   "source": [
    "# Build the Keras model.\n",
    "model = tf.keras.Sequential([\n",
    "    # The input is the data-circuit, encoded as a tf.string\n",
    "    tf.keras.layers.Input(shape=(), dtype=tf.string),\n",
    "    # The PQC layer returns the expected value of the readout gate, range [-1,1].\n",
    "    tfq.layers.PQC(model_circuit, model_readout),\n",
    "])"
   ]
  },
  {
   "cell_type": "code",
   "execution_count": null,
   "metadata": {},
   "outputs": [],
   "source": [
    "model.compile(\n",
    "    loss=tf.keras.losses.Hinge(),\n",
    "    optimizer=tf.keras.optimizers.Adam(),\n",
    "    metrics=[hinge_accuracy])"
   ]
  },
  {
   "cell_type": "code",
   "execution_count": null,
   "metadata": {},
   "outputs": [],
   "source": [
    "NUM_EXAMPLES = 1000\n",
    "\n",
    "x_train_tfcirc_sub = x_train_tfcirc[:NUM_EXAMPLES]\n",
    "y_train_hinge_sub = y_train_hinge[:NUM_EXAMPLES]\n"
   ]
  },
  {
   "cell_type": "code",
   "execution_count": null,
   "metadata": {},
   "outputs": [
    {
     "name": "stdout",
     "output_type": "stream",
     "text": [
      "Epoch 1/3\n",
      "32/32 [==============================] - 82s 3s/step - loss: 0.7677 - hinge_accuracy: 0.6455 - val_loss: 0.7684 - val_hinge_accuracy: 0.6099\n",
      "Epoch 2/3\n",
      "32/32 [==============================] - 82s 3s/step - loss: 0.6600 - hinge_accuracy: 0.7012 - val_loss: 0.6711 - val_hinge_accuracy: 0.7812\n",
      "Epoch 3/3\n",
      "12/32 [==========>...................] - ETA: 44s - loss: 0.5541 - hinge_accuracy: 0.8151"
     ]
    },
    {
     "ename": "KeyboardInterrupt",
     "evalue": "",
     "output_type": "error",
     "traceback": [
      "\u001b[0;31m---------------------------------------------------------------------------\u001b[0m",
      "\u001b[0;31mKeyboardInterrupt\u001b[0m                         Traceback (most recent call last)",
      "Cell \u001b[0;32mIn[61], line 1\u001b[0m\n\u001b[0;32m----> 1\u001b[0m qnn_history \u001b[39m=\u001b[39m model\u001b[39m.\u001b[39;49mfit(\n\u001b[1;32m      2\u001b[0m       x_train_tfcirc_sub, y_train_hinge_sub,\n\u001b[1;32m      3\u001b[0m       batch_size\u001b[39m=\u001b[39;49m\u001b[39m32\u001b[39;49m,\n\u001b[1;32m      4\u001b[0m       epochs\u001b[39m=\u001b[39;49mEPOCHS,\n\u001b[1;32m      5\u001b[0m       verbose\u001b[39m=\u001b[39;49m\u001b[39m1\u001b[39;49m,\n\u001b[1;32m      6\u001b[0m       validation_data\u001b[39m=\u001b[39;49m(x_test_tfcirc, y_test_hinge))\n\u001b[1;32m      8\u001b[0m qnn_results \u001b[39m=\u001b[39m model\u001b[39m.\u001b[39mevaluate(x_test_tfcirc, y_test)\n",
      "File \u001b[0;32m~/miniconda3/envs/TensorFlowQuantum/lib/python3.9/site-packages/keras/utils/traceback_utils.py:64\u001b[0m, in \u001b[0;36mfilter_traceback.<locals>.error_handler\u001b[0;34m(*args, **kwargs)\u001b[0m\n\u001b[1;32m     62\u001b[0m filtered_tb \u001b[39m=\u001b[39m \u001b[39mNone\u001b[39;00m\n\u001b[1;32m     63\u001b[0m \u001b[39mtry\u001b[39;00m:\n\u001b[0;32m---> 64\u001b[0m   \u001b[39mreturn\u001b[39;00m fn(\u001b[39m*\u001b[39;49margs, \u001b[39m*\u001b[39;49m\u001b[39m*\u001b[39;49mkwargs)\n\u001b[1;32m     65\u001b[0m \u001b[39mexcept\u001b[39;00m \u001b[39mException\u001b[39;00m \u001b[39mas\u001b[39;00m e:  \u001b[39m# pylint: disable=broad-except\u001b[39;00m\n\u001b[1;32m     66\u001b[0m   filtered_tb \u001b[39m=\u001b[39m _process_traceback_frames(e\u001b[39m.\u001b[39m__traceback__)\n",
      "File \u001b[0;32m~/miniconda3/envs/TensorFlowQuantum/lib/python3.9/site-packages/keras/engine/training.py:1216\u001b[0m, in \u001b[0;36mModel.fit\u001b[0;34m(self, x, y, batch_size, epochs, verbose, callbacks, validation_split, validation_data, shuffle, class_weight, sample_weight, initial_epoch, steps_per_epoch, validation_steps, validation_batch_size, validation_freq, max_queue_size, workers, use_multiprocessing)\u001b[0m\n\u001b[1;32m   1209\u001b[0m \u001b[39mwith\u001b[39;00m tf\u001b[39m.\u001b[39mprofiler\u001b[39m.\u001b[39mexperimental\u001b[39m.\u001b[39mTrace(\n\u001b[1;32m   1210\u001b[0m     \u001b[39m'\u001b[39m\u001b[39mtrain\u001b[39m\u001b[39m'\u001b[39m,\n\u001b[1;32m   1211\u001b[0m     epoch_num\u001b[39m=\u001b[39mepoch,\n\u001b[1;32m   1212\u001b[0m     step_num\u001b[39m=\u001b[39mstep,\n\u001b[1;32m   1213\u001b[0m     batch_size\u001b[39m=\u001b[39mbatch_size,\n\u001b[1;32m   1214\u001b[0m     _r\u001b[39m=\u001b[39m\u001b[39m1\u001b[39m):\n\u001b[1;32m   1215\u001b[0m   callbacks\u001b[39m.\u001b[39mon_train_batch_begin(step)\n\u001b[0;32m-> 1216\u001b[0m   tmp_logs \u001b[39m=\u001b[39m \u001b[39mself\u001b[39;49m\u001b[39m.\u001b[39;49mtrain_function(iterator)\n\u001b[1;32m   1217\u001b[0m   \u001b[39mif\u001b[39;00m data_handler\u001b[39m.\u001b[39mshould_sync:\n\u001b[1;32m   1218\u001b[0m     context\u001b[39m.\u001b[39masync_wait()\n",
      "File \u001b[0;32m~/miniconda3/envs/TensorFlowQuantum/lib/python3.9/site-packages/tensorflow/python/util/traceback_utils.py:150\u001b[0m, in \u001b[0;36mfilter_traceback.<locals>.error_handler\u001b[0;34m(*args, **kwargs)\u001b[0m\n\u001b[1;32m    148\u001b[0m filtered_tb \u001b[39m=\u001b[39m \u001b[39mNone\u001b[39;00m\n\u001b[1;32m    149\u001b[0m \u001b[39mtry\u001b[39;00m:\n\u001b[0;32m--> 150\u001b[0m   \u001b[39mreturn\u001b[39;00m fn(\u001b[39m*\u001b[39;49margs, \u001b[39m*\u001b[39;49m\u001b[39m*\u001b[39;49mkwargs)\n\u001b[1;32m    151\u001b[0m \u001b[39mexcept\u001b[39;00m \u001b[39mException\u001b[39;00m \u001b[39mas\u001b[39;00m e:\n\u001b[1;32m    152\u001b[0m   filtered_tb \u001b[39m=\u001b[39m _process_traceback_frames(e\u001b[39m.\u001b[39m__traceback__)\n",
      "File \u001b[0;32m~/miniconda3/envs/TensorFlowQuantum/lib/python3.9/site-packages/tensorflow/python/eager/def_function.py:910\u001b[0m, in \u001b[0;36mFunction.__call__\u001b[0;34m(self, *args, **kwds)\u001b[0m\n\u001b[1;32m    907\u001b[0m compiler \u001b[39m=\u001b[39m \u001b[39m\"\u001b[39m\u001b[39mxla\u001b[39m\u001b[39m\"\u001b[39m \u001b[39mif\u001b[39;00m \u001b[39mself\u001b[39m\u001b[39m.\u001b[39m_jit_compile \u001b[39melse\u001b[39;00m \u001b[39m\"\u001b[39m\u001b[39mnonXla\u001b[39m\u001b[39m\"\u001b[39m\n\u001b[1;32m    909\u001b[0m \u001b[39mwith\u001b[39;00m OptionalXlaContext(\u001b[39mself\u001b[39m\u001b[39m.\u001b[39m_jit_compile):\n\u001b[0;32m--> 910\u001b[0m   result \u001b[39m=\u001b[39m \u001b[39mself\u001b[39;49m\u001b[39m.\u001b[39;49m_call(\u001b[39m*\u001b[39;49margs, \u001b[39m*\u001b[39;49m\u001b[39m*\u001b[39;49mkwds)\n\u001b[1;32m    912\u001b[0m new_tracing_count \u001b[39m=\u001b[39m \u001b[39mself\u001b[39m\u001b[39m.\u001b[39mexperimental_get_tracing_count()\n\u001b[1;32m    913\u001b[0m without_tracing \u001b[39m=\u001b[39m (tracing_count \u001b[39m==\u001b[39m new_tracing_count)\n",
      "File \u001b[0;32m~/miniconda3/envs/TensorFlowQuantum/lib/python3.9/site-packages/tensorflow/python/eager/def_function.py:942\u001b[0m, in \u001b[0;36mFunction._call\u001b[0;34m(self, *args, **kwds)\u001b[0m\n\u001b[1;32m    939\u001b[0m   \u001b[39mself\u001b[39m\u001b[39m.\u001b[39m_lock\u001b[39m.\u001b[39mrelease()\n\u001b[1;32m    940\u001b[0m   \u001b[39m# In this case we have created variables on the first call, so we run the\u001b[39;00m\n\u001b[1;32m    941\u001b[0m   \u001b[39m# defunned version which is guaranteed to never create variables.\u001b[39;00m\n\u001b[0;32m--> 942\u001b[0m   \u001b[39mreturn\u001b[39;00m \u001b[39mself\u001b[39;49m\u001b[39m.\u001b[39;49m_stateless_fn(\u001b[39m*\u001b[39;49margs, \u001b[39m*\u001b[39;49m\u001b[39m*\u001b[39;49mkwds)  \u001b[39m# pylint: disable=not-callable\u001b[39;00m\n\u001b[1;32m    943\u001b[0m \u001b[39melif\u001b[39;00m \u001b[39mself\u001b[39m\u001b[39m.\u001b[39m_stateful_fn \u001b[39mis\u001b[39;00m \u001b[39mnot\u001b[39;00m \u001b[39mNone\u001b[39;00m:\n\u001b[1;32m    944\u001b[0m   \u001b[39m# Release the lock early so that multiple threads can perform the call\u001b[39;00m\n\u001b[1;32m    945\u001b[0m   \u001b[39m# in parallel.\u001b[39;00m\n\u001b[1;32m    946\u001b[0m   \u001b[39mself\u001b[39m\u001b[39m.\u001b[39m_lock\u001b[39m.\u001b[39mrelease()\n",
      "File \u001b[0;32m~/miniconda3/envs/TensorFlowQuantum/lib/python3.9/site-packages/tensorflow/python/eager/function.py:3130\u001b[0m, in \u001b[0;36mFunction.__call__\u001b[0;34m(self, *args, **kwargs)\u001b[0m\n\u001b[1;32m   3127\u001b[0m \u001b[39mwith\u001b[39;00m \u001b[39mself\u001b[39m\u001b[39m.\u001b[39m_lock:\n\u001b[1;32m   3128\u001b[0m   (graph_function,\n\u001b[1;32m   3129\u001b[0m    filtered_flat_args) \u001b[39m=\u001b[39m \u001b[39mself\u001b[39m\u001b[39m.\u001b[39m_maybe_define_function(args, kwargs)\n\u001b[0;32m-> 3130\u001b[0m \u001b[39mreturn\u001b[39;00m graph_function\u001b[39m.\u001b[39;49m_call_flat(\n\u001b[1;32m   3131\u001b[0m     filtered_flat_args, captured_inputs\u001b[39m=\u001b[39;49mgraph_function\u001b[39m.\u001b[39;49mcaptured_inputs)\n",
      "File \u001b[0;32m~/miniconda3/envs/TensorFlowQuantum/lib/python3.9/site-packages/tensorflow/python/eager/function.py:1959\u001b[0m, in \u001b[0;36mConcreteFunction._call_flat\u001b[0;34m(self, args, captured_inputs, cancellation_manager)\u001b[0m\n\u001b[1;32m   1955\u001b[0m possible_gradient_type \u001b[39m=\u001b[39m gradients_util\u001b[39m.\u001b[39mPossibleTapeGradientTypes(args)\n\u001b[1;32m   1956\u001b[0m \u001b[39mif\u001b[39;00m (possible_gradient_type \u001b[39m==\u001b[39m gradients_util\u001b[39m.\u001b[39mPOSSIBLE_GRADIENT_TYPES_NONE\n\u001b[1;32m   1957\u001b[0m     \u001b[39mand\u001b[39;00m executing_eagerly):\n\u001b[1;32m   1958\u001b[0m   \u001b[39m# No tape is watching; skip to running the function.\u001b[39;00m\n\u001b[0;32m-> 1959\u001b[0m   \u001b[39mreturn\u001b[39;00m \u001b[39mself\u001b[39m\u001b[39m.\u001b[39m_build_call_outputs(\u001b[39mself\u001b[39;49m\u001b[39m.\u001b[39;49m_inference_function\u001b[39m.\u001b[39;49mcall(\n\u001b[1;32m   1960\u001b[0m       ctx, args, cancellation_manager\u001b[39m=\u001b[39;49mcancellation_manager))\n\u001b[1;32m   1961\u001b[0m forward_backward \u001b[39m=\u001b[39m \u001b[39mself\u001b[39m\u001b[39m.\u001b[39m_select_forward_and_backward_functions(\n\u001b[1;32m   1962\u001b[0m     args,\n\u001b[1;32m   1963\u001b[0m     possible_gradient_type,\n\u001b[1;32m   1964\u001b[0m     executing_eagerly)\n\u001b[1;32m   1965\u001b[0m forward_function, args_with_tangents \u001b[39m=\u001b[39m forward_backward\u001b[39m.\u001b[39mforward()\n",
      "File \u001b[0;32m~/miniconda3/envs/TensorFlowQuantum/lib/python3.9/site-packages/tensorflow/python/eager/function.py:598\u001b[0m, in \u001b[0;36m_EagerDefinedFunction.call\u001b[0;34m(self, ctx, args, cancellation_manager)\u001b[0m\n\u001b[1;32m    596\u001b[0m \u001b[39mwith\u001b[39;00m _InterpolateFunctionError(\u001b[39mself\u001b[39m):\n\u001b[1;32m    597\u001b[0m   \u001b[39mif\u001b[39;00m cancellation_manager \u001b[39mis\u001b[39;00m \u001b[39mNone\u001b[39;00m:\n\u001b[0;32m--> 598\u001b[0m     outputs \u001b[39m=\u001b[39m execute\u001b[39m.\u001b[39;49mexecute(\n\u001b[1;32m    599\u001b[0m         \u001b[39mstr\u001b[39;49m(\u001b[39mself\u001b[39;49m\u001b[39m.\u001b[39;49msignature\u001b[39m.\u001b[39;49mname),\n\u001b[1;32m    600\u001b[0m         num_outputs\u001b[39m=\u001b[39;49m\u001b[39mself\u001b[39;49m\u001b[39m.\u001b[39;49m_num_outputs,\n\u001b[1;32m    601\u001b[0m         inputs\u001b[39m=\u001b[39;49margs,\n\u001b[1;32m    602\u001b[0m         attrs\u001b[39m=\u001b[39;49mattrs,\n\u001b[1;32m    603\u001b[0m         ctx\u001b[39m=\u001b[39;49mctx)\n\u001b[1;32m    604\u001b[0m   \u001b[39melse\u001b[39;00m:\n\u001b[1;32m    605\u001b[0m     outputs \u001b[39m=\u001b[39m execute\u001b[39m.\u001b[39mexecute_with_cancellation(\n\u001b[1;32m    606\u001b[0m         \u001b[39mstr\u001b[39m(\u001b[39mself\u001b[39m\u001b[39m.\u001b[39msignature\u001b[39m.\u001b[39mname),\n\u001b[1;32m    607\u001b[0m         num_outputs\u001b[39m=\u001b[39m\u001b[39mself\u001b[39m\u001b[39m.\u001b[39m_num_outputs,\n\u001b[0;32m   (...)\u001b[0m\n\u001b[1;32m    610\u001b[0m         ctx\u001b[39m=\u001b[39mctx,\n\u001b[1;32m    611\u001b[0m         cancellation_manager\u001b[39m=\u001b[39mcancellation_manager)\n",
      "File \u001b[0;32m~/miniconda3/envs/TensorFlowQuantum/lib/python3.9/site-packages/tensorflow/python/eager/execute.py:58\u001b[0m, in \u001b[0;36mquick_execute\u001b[0;34m(op_name, num_outputs, inputs, attrs, ctx, name)\u001b[0m\n\u001b[1;32m     56\u001b[0m \u001b[39mtry\u001b[39;00m:\n\u001b[1;32m     57\u001b[0m   ctx\u001b[39m.\u001b[39mensure_initialized()\n\u001b[0;32m---> 58\u001b[0m   tensors \u001b[39m=\u001b[39m pywrap_tfe\u001b[39m.\u001b[39;49mTFE_Py_Execute(ctx\u001b[39m.\u001b[39;49m_handle, device_name, op_name,\n\u001b[1;32m     59\u001b[0m                                       inputs, attrs, num_outputs)\n\u001b[1;32m     60\u001b[0m \u001b[39mexcept\u001b[39;00m core\u001b[39m.\u001b[39m_NotOkStatusException \u001b[39mas\u001b[39;00m e:\n\u001b[1;32m     61\u001b[0m   \u001b[39mif\u001b[39;00m name \u001b[39mis\u001b[39;00m \u001b[39mnot\u001b[39;00m \u001b[39mNone\u001b[39;00m:\n",
      "\u001b[0;31mKeyboardInterrupt\u001b[0m: "
     ]
    }
   ],
   "source": [
    "\n",
    "qnn_history = model.fit(\n",
    "      x_train_tfcirc_sub, y_train_hinge_sub,\n",
    "      batch_size=32,\n",
    "      epochs=EPOCHS,\n",
    "      verbose=1,\n",
    "      validation_data=(x_test_tfcirc, y_test_hinge))\n",
    "\n",
    "qnn_results = model.evaluate(x_test_tfcirc, y_test)"
   ]
  },
  {
   "attachments": {},
   "cell_type": "markdown",
   "metadata": {},
   "source": [
    "## Декомпозиция ZX"
   ]
  },
  {
   "cell_type": "code",
   "execution_count": 68,
   "metadata": {},
   "outputs": [],
   "source": [
    "class CircuitLayerBuilder():\n",
    "    def __init__(self, data_qubits, readout):\n",
    "        self.data_qubits = data_qubits\n",
    "        self.readout = readout\n",
    "    \n",
    "    def add_layer(self, circuit, gate, prefix):\n",
    "        for i, qubit in enumerate(self.data_qubits):\n",
    "            symbol = sympy.Symbol(prefix + '-' + str(i))\n",
    "            circuit.append(gate(qubit, self.readout)**symbol)\n",
    "    def add_ZX_gate(self, circuit, prefix):\n",
    "        for i, qubit in enumerate(self.data_qubits):\n",
    "            symbol = sympy.Symbol(prefix + '-' + str(i))\n",
    "            circuit.append(cirq.H(qubit))\n",
    "            circuit.append(cirq.X(qubit).controlled_by(self.readout))\n",
    "            circuit.append(cirq.rz(symbol).on(qubit))\n",
    "            circuit.append(cirq.X(qubit).controlled_by(self.readout))\n",
    "            circuit.append(cirq.H(qubit))\n",
    "        "
   ]
  },
  {
   "cell_type": "code",
   "execution_count": null,
   "metadata": {},
   "outputs": [],
   "source": [
    "def create_quantum_model():\n",
    "    \"\"\"Create a QNN model circuit and readout operation to go along with it.\"\"\"\n",
    "    data_qubits = cirq.GridQubit.rect(4, 4)  # a 4x4 grid.\n",
    "    readout = cirq.GridQubit(-1, -1)         # a single qubit at [-1,-1]\n",
    "    circuit = cirq.Circuit()\n",
    "    \n",
    "    # Prepare the readout qubit.\n",
    "    circuit.append(cirq.X(readout))\n",
    "    circuit.append(cirq.H(readout))\n",
    "    \n",
    "    builder = CircuitLayerBuilder(\n",
    "        data_qubits=data_qubits,\n",
    "        readout=readout)\n",
    "\n",
    "    # Then add layers (experiment by adding more).\n",
    "    builder.add_ZX_gate(circuit, \"zx1\")\n",
    "    builder.add_layer(circuit, cirq.XX, \"xx1\")\n",
    "    builder.add_ZX_gate(circuit, \"zx2\")\n",
    "    builder.add_layer(circuit, cirq.XX, \"xx2\")\n",
    "    builder.add_ZX_gate(circuit, \"zx3\")\n",
    "    builder.add_layer(circuit, cirq.XX, \"xx3\")\n",
    "\n",
    "    # Finally, prepare the readout qubit.\n",
    "    circuit.append(cirq.H(readout))\n",
    "\n",
    "    return circuit, cirq.Z(readout)"
   ]
  },
  {
   "cell_type": "code",
   "execution_count": null,
   "metadata": {},
   "outputs": [],
   "source": [
    "model_circuit, model_readout = create_quantum_model()"
   ]
  },
  {
   "cell_type": "code",
   "execution_count": null,
   "metadata": {},
   "outputs": [],
   "source": [
    "# Build the Keras model.\n",
    "model = tf.keras.Sequential([\n",
    "    # The input is the data-circuit, encoded as a tf.string\n",
    "    tf.keras.layers.Input(shape=(), dtype=tf.string),\n",
    "    # The PQC layer returns the expected value of the readout gate, range [-1,1].\n",
    "    tfq.layers.PQC(model_circuit, model_readout),\n",
    "])"
   ]
  },
  {
   "cell_type": "code",
   "execution_count": null,
   "metadata": {},
   "outputs": [
    {
     "name": "stderr",
     "output_type": "stream",
     "text": [
      "findfont: Font family 'Arial' not found.\n",
      "findfont: Font family 'Arial' not found.\n",
      "findfont: Font family 'Arial' not found.\n",
      "findfont: Font family 'Arial' not found.\n",
      "findfont: Font family 'Arial' not found.\n",
      "findfont: Font family 'Arial' not found.\n",
      "findfont: Font family 'Arial' not found.\n",
      "findfont: Font family 'Arial' not found.\n",
      "findfont: Font family 'Arial' not found.\n",
      "findfont: Font family 'Arial' not found.\n",
      "findfont: Font family 'Arial' not found.\n",
      "findfont: Font family 'Arial' not found.\n",
      "findfont: Font family 'Arial' not found.\n",
      "findfont: Font family 'Arial' not found.\n",
      "findfont: Font family 'Arial' not found.\n",
      "findfont: Font family 'Arial' not found.\n",
      "findfont: Font family 'Arial' not found.\n",
      "findfont: Font family 'Arial' not found.\n",
      "findfont: Font family 'Arial' not found.\n",
      "findfont: Font family 'Arial' not found.\n",
      "findfont: Font family 'Arial' not found.\n",
      "findfont: Font family 'Arial' not found.\n",
      "findfont: Font family 'Arial' not found.\n",
      "findfont: Font family 'Arial' not found.\n",
      "findfont: Font family 'Arial' not found.\n",
      "findfont: Font family 'Arial' not found.\n",
      "findfont: Font family 'Arial' not found.\n",
      "findfont: Font family 'Arial' not found.\n",
      "findfont: Font family 'Arial' not found.\n",
      "findfont: Font family 'Arial' not found.\n",
      "findfont: Font family 'Arial' not found.\n",
      "findfont: Font family 'Arial' not found.\n",
      "findfont: Font family 'Arial' not found.\n",
      "findfont: Font family 'Arial' not found.\n",
      "findfont: Font family 'Arial' not found.\n",
      "findfont: Font family 'Arial' not found.\n",
      "findfont: Font family 'Arial' not found.\n",
      "findfont: Font family 'Arial' not found.\n",
      "findfont: Font family 'Arial' not found.\n",
      "findfont: Font family 'Arial' not found.\n",
      "findfont: Font family 'Arial' not found.\n",
      "findfont: Font family 'Arial' not found.\n",
      "findfont: Font family 'Arial' not found.\n",
      "findfont: Font family 'Arial' not found.\n",
      "findfont: Font family 'Arial' not found.\n",
      "findfont: Font family 'Arial' not found.\n",
      "findfont: Font family 'Arial' not found.\n",
      "findfont: Font family 'Arial' not found.\n",
      "findfont: Font family 'Arial' not found.\n",
      "findfont: Font family 'Arial' not found.\n",
      "findfont: Font family 'Arial' not found.\n",
      "findfont: Font family 'Arial' not found.\n",
      "findfont: Font family 'Arial' not found.\n",
      "findfont: Font family 'Arial' not found.\n",
      "findfont: Font family 'Arial' not found.\n",
      "findfont: Font family 'Arial' not found.\n",
      "findfont: Font family 'Arial' not found.\n",
      "findfont: Font family 'Arial' not found.\n",
      "findfont: Font family 'Arial' not found.\n",
      "findfont: Font family 'Arial' not found.\n",
      "findfont: Font family 'Arial' not found.\n",
      "findfont: Font family 'Arial' not found.\n",
      "findfont: Font family 'Arial' not found.\n",
      "findfont: Font family 'Arial' not found.\n",
      "findfont: Font family 'Arial' not found.\n",
      "findfont: Font family 'Arial' not found.\n",
      "findfont: Font family 'Arial' not found.\n",
      "findfont: Font family 'Arial' not found.\n",
      "findfont: Font family 'Arial' not found.\n",
      "findfont: Font family 'Arial' not found.\n",
      "findfont: Font family 'Arial' not found.\n",
      "findfont: Font family 'Arial' not found.\n",
      "findfont: Font family 'Arial' not found.\n",
      "findfont: Font family 'Arial' not found.\n",
      "findfont: Font family 'Arial' not found.\n",
      "findfont: Font family 'Arial' not found.\n",
      "findfont: Font family 'Arial' not found.\n",
      "findfont: Font family 'Arial' not found.\n",
      "findfont: Font family 'Arial' not found.\n",
      "findfont: Font family 'Arial' not found.\n",
      "findfont: Font family 'Arial' not found.\n",
      "findfont: Font family 'Arial' not found.\n",
      "findfont: Font family 'Arial' not found.\n",
      "findfont: Font family 'Arial' not found.\n",
      "findfont: Font family 'Arial' not found.\n",
      "findfont: Font family 'Arial' not found.\n",
      "findfont: Font family 'Arial' not found.\n",
      "findfont: Font family 'Arial' not found.\n",
      "findfont: Font family 'Arial' not found.\n",
      "findfont: Font family 'Arial' not found.\n",
      "findfont: Font family 'Arial' not found.\n",
      "findfont: Font family 'Arial' not found.\n",
      "findfont: Font family 'Arial' not found.\n",
      "findfont: Font family 'Arial' not found.\n",
      "findfont: Font family 'Arial' not found.\n",
      "findfont: Font family 'Arial' not found.\n",
      "findfont: Font family 'Arial' not found.\n",
      "findfont: Font family 'Arial' not found.\n",
      "findfont: Font family 'Arial' not found.\n",
      "findfont: Font family 'Arial' not found.\n",
      "findfont: Font family 'Arial' not found.\n",
      "findfont: Font family 'Arial' not found.\n",
      "findfont: Font family 'Arial' not found.\n",
      "findfont: Font family 'Arial' not found.\n",
      "findfont: Font family 'Arial' not found.\n",
      "findfont: Font family 'Arial' not found.\n",
      "findfont: Font family 'Arial' not found.\n",
      "findfont: Font family 'Arial' not found.\n",
      "findfont: Font family 'Arial' not found.\n",
      "findfont: Font family 'Arial' not found.\n",
      "findfont: Font family 'Arial' not found.\n",
      "findfont: Font family 'Arial' not found.\n",
      "findfont: Font family 'Arial' not found.\n",
      "findfont: Font family 'Arial' not found.\n",
      "findfont: Font family 'Arial' not found.\n",
      "findfont: Font family 'Arial' not found.\n",
      "findfont: Font family 'Arial' not found.\n",
      "findfont: Font family 'Arial' not found.\n",
      "findfont: Font family 'Arial' not found.\n",
      "findfont: Font family 'Arial' not found.\n",
      "findfont: Font family 'Arial' not found.\n",
      "findfont: Font family 'Arial' not found.\n",
      "findfont: Font family 'Arial' not found.\n",
      "findfont: Font family 'Arial' not found.\n",
      "findfont: Font family 'Arial' not found.\n",
      "findfont: Font family 'Arial' not found.\n",
      "findfont: Font family 'Arial' not found.\n",
      "findfont: Font family 'Arial' not found.\n",
      "findfont: Font family 'Arial' not found.\n",
      "findfont: Font family 'Arial' not found.\n",
      "findfont: Font family 'Arial' not found.\n",
      "findfont: Font family 'Arial' not found.\n",
      "findfont: Font family 'Arial' not found.\n",
      "findfont: Font family 'Arial' not found.\n",
      "findfont: Font family 'Arial' not found.\n",
      "findfont: Font family 'Arial' not found.\n",
      "findfont: Font family 'Arial' not found.\n",
      "findfont: Font family 'Arial' not found.\n",
      "findfont: Font family 'Arial' not found.\n",
      "findfont: Font family 'Arial' not found.\n",
      "findfont: Font family 'Arial' not found.\n",
      "findfont: Font family 'Arial' not found.\n",
      "findfont: Font family 'Arial' not found.\n",
      "findfont: Font family 'Arial' not found.\n",
      "findfont: Font family 'Arial' not found.\n",
      "findfont: Font family 'Arial' not found.\n",
      "findfont: Font family 'Arial' not found.\n",
      "findfont: Font family 'Arial' not found.\n",
      "findfont: Font family 'Arial' not found.\n",
      "findfont: Font family 'Arial' not found.\n",
      "findfont: Font family 'Arial' not found.\n",
      "findfont: Font family 'Arial' not found.\n",
      "findfont: Font family 'Arial' not found.\n",
      "findfont: Font family 'Arial' not found.\n",
      "findfont: Font family 'Arial' not found.\n",
      "findfont: Font family 'Arial' not found.\n",
      "findfont: Font family 'Arial' not found.\n",
      "findfont: Font family 'Arial' not found.\n",
      "findfont: Font family 'Arial' not found.\n",
      "findfont: Font family 'Arial' not found.\n",
      "findfont: Font family 'Arial' not found.\n",
      "findfont: Font family 'Arial' not found.\n",
      "findfont: Font family 'Arial' not found.\n",
      "findfont: Font family 'Arial' not found.\n",
      "findfont: Font family 'Arial' not found.\n",
      "findfont: Font family 'Arial' not found.\n",
      "findfont: Font family 'Arial' not found.\n",
      "findfont: Font family 'Arial' not found.\n",
      "findfont: Font family 'Arial' not found.\n",
      "findfont: Font family 'Arial' not found.\n",
      "findfont: Font family 'Arial' not found.\n",
      "findfont: Font family 'Arial' not found.\n",
      "findfont: Font family 'Arial' not found.\n",
      "findfont: Font family 'Arial' not found.\n",
      "findfont: Font family 'Arial' not found.\n",
      "findfont: Font family 'Arial' not found.\n",
      "findfont: Font family 'Arial' not found.\n",
      "findfont: Font family 'Arial' not found.\n",
      "findfont: Font family 'Arial' not found.\n",
      "findfont: Font family 'Arial' not found.\n",
      "findfont: Font family 'Arial' not found.\n",
      "findfont: Font family 'Arial' not found.\n",
      "findfont: Font family 'Arial' not found.\n",
      "findfont: Font family 'Arial' not found.\n",
      "findfont: Font family 'Arial' not found.\n",
      "findfont: Font family 'Arial' not found.\n",
      "findfont: Font family 'Arial' not found.\n",
      "findfont: Font family 'Arial' not found.\n",
      "findfont: Font family 'Arial' not found.\n",
      "findfont: Font family 'Arial' not found.\n",
      "findfont: Font family 'Arial' not found.\n",
      "findfont: Font family 'Arial' not found.\n",
      "findfont: Font family 'Arial' not found.\n",
      "findfont: Font family 'Arial' not found.\n",
      "findfont: Font family 'Arial' not found.\n",
      "findfont: Font family 'Arial' not found.\n",
      "findfont: Font family 'Arial' not found.\n",
      "findfont: Font family 'Arial' not found.\n",
      "findfont: Font family 'Arial' not found.\n",
      "findfont: Font family 'Arial' not found.\n",
      "findfont: Font family 'Arial' not found.\n",
      "findfont: Font family 'Arial' not found.\n",
      "findfont: Font family 'Arial' not found.\n",
      "findfont: Font family 'Arial' not found.\n",
      "findfont: Font family 'Arial' not found.\n",
      "findfont: Font family 'Arial' not found.\n",
      "findfont: Font family 'Arial' not found.\n",
      "findfont: Font family 'Arial' not found.\n",
      "findfont: Font family 'Arial' not found.\n",
      "findfont: Font family 'Arial' not found.\n",
      "findfont: Font family 'Arial' not found.\n",
      "findfont: Font family 'Arial' not found.\n",
      "findfont: Font family 'Arial' not found.\n",
      "findfont: Font family 'Arial' not found.\n",
      "findfont: Font family 'Arial' not found.\n",
      "findfont: Font family 'Arial' not found.\n",
      "findfont: Font family 'Arial' not found.\n",
      "findfont: Font family 'Arial' not found.\n",
      "findfont: Font family 'Arial' not found.\n",
      "findfont: Font family 'Arial' not found.\n",
      "findfont: Font family 'Arial' not found.\n",
      "findfont: Font family 'Arial' not found.\n",
      "findfont: Font family 'Arial' not found.\n",
      "findfont: Font family 'Arial' not found.\n",
      "findfont: Font family 'Arial' not found.\n",
      "findfont: Font family 'Arial' not found.\n",
      "findfont: Font family 'Arial' not found.\n",
      "findfont: Font family 'Arial' not found.\n",
      "findfont: Font family 'Arial' not found.\n",
      "findfont: Font family 'Arial' not found.\n",
      "findfont: Font family 'Arial' not found.\n",
      "findfont: Font family 'Arial' not found.\n",
      "findfont: Font family 'Arial' not found.\n",
      "findfont: Font family 'Arial' not found.\n",
      "findfont: Font family 'Arial' not found.\n",
      "findfont: Font family 'Arial' not found.\n",
      "findfont: Font family 'Arial' not found.\n",
      "findfont: Font family 'Arial' not found.\n",
      "findfont: Font family 'Arial' not found.\n",
      "findfont: Font family 'Arial' not found.\n",
      "findfont: Font family 'Arial' not found.\n",
      "findfont: Font family 'Arial' not found.\n",
      "findfont: Font family 'Arial' not found.\n",
      "findfont: Font family 'Arial' not found.\n",
      "findfont: Font family 'Arial' not found.\n",
      "findfont: Font family 'Arial' not found.\n",
      "findfont: Font family 'Arial' not found.\n",
      "findfont: Font family 'Arial' not found.\n",
      "findfont: Font family 'Arial' not found.\n",
      "findfont: Font family 'Arial' not found.\n",
      "findfont: Font family 'Arial' not found.\n",
      "findfont: Font family 'Arial' not found.\n",
      "findfont: Font family 'Arial' not found.\n",
      "findfont: Font family 'Arial' not found.\n",
      "findfont: Font family 'Arial' not found.\n",
      "findfont: Font family 'Arial' not found.\n",
      "findfont: Font family 'Arial' not found.\n",
      "findfont: Font family 'Arial' not found.\n",
      "findfont: Font family 'Arial' not found.\n",
      "findfont: Font family 'Arial' not found.\n",
      "findfont: Font family 'Arial' not found.\n",
      "findfont: Font family 'Arial' not found.\n",
      "findfont: Font family 'Arial' not found.\n",
      "findfont: Font family 'Arial' not found.\n",
      "findfont: Font family 'Arial' not found.\n",
      "findfont: Font family 'Arial' not found.\n",
      "findfont: Font family 'Arial' not found.\n",
      "findfont: Font family 'Arial' not found.\n",
      "findfont: Font family 'Arial' not found.\n",
      "findfont: Font family 'Arial' not found.\n",
      "findfont: Font family 'Arial' not found.\n",
      "findfont: Font family 'Arial' not found.\n",
      "findfont: Font family 'Arial' not found.\n",
      "findfont: Font family 'Arial' not found.\n",
      "findfont: Font family 'Arial' not found.\n",
      "findfont: Font family 'Arial' not found.\n",
      "findfont: Font family 'Arial' not found.\n",
      "findfont: Font family 'Arial' not found.\n",
      "findfont: Font family 'Arial' not found.\n",
      "findfont: Font family 'Arial' not found.\n",
      "findfont: Font family 'Arial' not found.\n",
      "findfont: Font family 'Arial' not found.\n",
      "findfont: Font family 'Arial' not found.\n",
      "findfont: Font family 'Arial' not found.\n",
      "findfont: Font family 'Arial' not found.\n",
      "findfont: Font family 'Arial' not found.\n",
      "findfont: Font family 'Arial' not found.\n",
      "findfont: Font family 'Arial' not found.\n",
      "findfont: Font family 'Arial' not found.\n",
      "findfont: Font family 'Arial' not found.\n",
      "findfont: Font family 'Arial' not found.\n",
      "findfont: Font family 'Arial' not found.\n",
      "findfont: Font family 'Arial' not found.\n",
      "findfont: Font family 'Arial' not found.\n",
      "findfont: Font family 'Arial' not found.\n",
      "findfont: Font family 'Arial' not found.\n",
      "findfont: Font family 'Arial' not found.\n",
      "findfont: Font family 'Arial' not found.\n",
      "findfont: Font family 'Arial' not found.\n",
      "findfont: Font family 'Arial' not found.\n",
      "findfont: Font family 'Arial' not found.\n",
      "findfont: Font family 'Arial' not found.\n",
      "findfont: Font family 'Arial' not found.\n",
      "findfont: Font family 'Arial' not found.\n",
      "findfont: Font family 'Arial' not found.\n",
      "findfont: Font family 'Arial' not found.\n",
      "findfont: Font family 'Arial' not found.\n",
      "findfont: Font family 'Arial' not found.\n",
      "findfont: Font family 'Arial' not found.\n",
      "findfont: Font family 'Arial' not found.\n",
      "findfont: Font family 'Arial' not found.\n",
      "findfont: Font family 'Arial' not found.\n",
      "findfont: Font family 'Arial' not found.\n",
      "findfont: Font family 'Arial' not found.\n",
      "findfont: Font family 'Arial' not found.\n",
      "findfont: Font family 'Arial' not found.\n",
      "findfont: Font family 'Arial' not found.\n",
      "findfont: Font family 'Arial' not found.\n",
      "findfont: Font family 'Arial' not found.\n",
      "findfont: Font family 'Arial' not found.\n",
      "findfont: Font family 'Arial' not found.\n",
      "findfont: Font family 'Arial' not found.\n",
      "findfont: Font family 'Arial' not found.\n",
      "findfont: Font family 'Arial' not found.\n",
      "findfont: Font family 'Arial' not found.\n",
      "findfont: Font family 'Arial' not found.\n",
      "findfont: Font family 'Arial' not found.\n",
      "findfont: Font family 'Arial' not found.\n",
      "findfont: Font family 'Arial' not found.\n",
      "findfont: Font family 'Arial' not found.\n",
      "findfont: Font family 'Arial' not found.\n",
      "findfont: Font family 'Arial' not found.\n",
      "findfont: Font family 'Arial' not found.\n",
      "findfont: Font family 'Arial' not found.\n",
      "findfont: Font family 'Arial' not found.\n",
      "findfont: Font family 'Arial' not found.\n",
      "findfont: Font family 'Arial' not found.\n",
      "findfont: Font family 'Arial' not found.\n",
      "findfont: Font family 'Arial' not found.\n",
      "findfont: Font family 'Arial' not found.\n",
      "findfont: Font family 'Arial' not found.\n",
      "findfont: Font family 'Arial' not found.\n",
      "findfont: Font family 'Arial' not found.\n",
      "findfont: Font family 'Arial' not found.\n",
      "findfont: Font family 'Arial' not found.\n",
      "findfont: Font family 'Arial' not found.\n",
      "findfont: Font family 'Arial' not found.\n",
      "findfont: Font family 'Arial' not found.\n",
      "findfont: Font family 'Arial' not found.\n",
      "findfont: Font family 'Arial' not found.\n",
      "findfont: Font family 'Arial' not found.\n",
      "findfont: Font family 'Arial' not found.\n",
      "findfont: Font family 'Arial' not found.\n",
      "findfont: Font family 'Arial' not found.\n",
      "findfont: Font family 'Arial' not found.\n",
      "findfont: Font family 'Arial' not found.\n",
      "findfont: Font family 'Arial' not found.\n",
      "findfont: Font family 'Arial' not found.\n",
      "findfont: Font family 'Arial' not found.\n",
      "findfont: Font family 'Arial' not found.\n",
      "findfont: Font family 'Arial' not found.\n",
      "findfont: Font family 'Arial' not found.\n",
      "findfont: Font family 'Arial' not found.\n",
      "findfont: Font family 'Arial' not found.\n",
      "findfont: Font family 'Arial' not found.\n",
      "findfont: Font family 'Arial' not found.\n",
      "findfont: Font family 'Arial' not found.\n",
      "findfont: Font family 'Arial' not found.\n",
      "findfont: Font family 'Arial' not found.\n",
      "findfont: Font family 'Arial' not found.\n",
      "findfont: Font family 'Arial' not found.\n",
      "findfont: Font family 'Arial' not found.\n",
      "findfont: Font family 'Arial' not found.\n",
      "findfont: Font family 'Arial' not found.\n",
      "findfont: Font family 'Arial' not found.\n",
      "findfont: Font family 'Arial' not found.\n",
      "findfont: Font family 'Arial' not found.\n",
      "findfont: Font family 'Arial' not found.\n",
      "findfont: Font family 'Arial' not found.\n",
      "findfont: Font family 'Arial' not found.\n",
      "findfont: Font family 'Arial' not found.\n",
      "findfont: Font family 'Arial' not found.\n",
      "findfont: Font family 'Arial' not found.\n",
      "findfont: Font family 'Arial' not found.\n",
      "findfont: Font family 'Arial' not found.\n",
      "findfont: Font family 'Arial' not found.\n",
      "findfont: Font family 'Arial' not found.\n",
      "findfont: Font family 'Arial' not found.\n",
      "findfont: Font family 'Arial' not found.\n",
      "findfont: Font family 'Arial' not found.\n",
      "findfont: Font family 'Arial' not found.\n",
      "findfont: Font family 'Arial' not found.\n",
      "findfont: Font family 'Arial' not found.\n",
      "findfont: Font family 'Arial' not found.\n",
      "findfont: Font family 'Arial' not found.\n",
      "findfont: Font family 'Arial' not found.\n",
      "findfont: Font family 'Arial' not found.\n",
      "findfont: Font family 'Arial' not found.\n",
      "findfont: Font family 'Arial' not found.\n",
      "findfont: Font family 'Arial' not found.\n",
      "findfont: Font family 'Arial' not found.\n",
      "findfont: Font family 'Arial' not found.\n",
      "findfont: Font family 'Arial' not found.\n",
      "findfont: Font family 'Arial' not found.\n",
      "findfont: Font family 'Arial' not found.\n",
      "findfont: Font family 'Arial' not found.\n",
      "findfont: Font family 'Arial' not found.\n",
      "findfont: Font family 'Arial' not found.\n",
      "findfont: Font family 'Arial' not found.\n",
      "findfont: Font family 'Arial' not found.\n",
      "findfont: Font family 'Arial' not found.\n",
      "findfont: Font family 'Arial' not found.\n",
      "findfont: Font family 'Arial' not found.\n",
      "findfont: Font family 'Arial' not found.\n",
      "findfont: Font family 'Arial' not found.\n",
      "findfont: Font family 'Arial' not found.\n",
      "findfont: Font family 'Arial' not found.\n",
      "findfont: Font family 'Arial' not found.\n",
      "findfont: Font family 'Arial' not found.\n",
      "findfont: Font family 'Arial' not found.\n",
      "findfont: Font family 'Arial' not found.\n",
      "findfont: Font family 'Arial' not found.\n",
      "findfont: Font family 'Arial' not found.\n",
      "findfont: Font family 'Arial' not found.\n",
      "findfont: Font family 'Arial' not found.\n",
      "findfont: Font family 'Arial' not found.\n",
      "findfont: Font family 'Arial' not found.\n",
      "findfont: Font family 'Arial' not found.\n",
      "findfont: Font family 'Arial' not found.\n",
      "findfont: Font family 'Arial' not found.\n",
      "findfont: Font family 'Arial' not found.\n",
      "findfont: Font family 'Arial' not found.\n",
      "findfont: Font family 'Arial' not found.\n",
      "findfont: Font family 'Arial' not found.\n",
      "findfont: Font family 'Arial' not found.\n",
      "findfont: Font family 'Arial' not found.\n",
      "findfont: Font family 'Arial' not found.\n",
      "findfont: Font family 'Arial' not found.\n",
      "findfont: Font family 'Arial' not found.\n",
      "findfont: Font family 'Arial' not found.\n",
      "findfont: Font family 'Arial' not found.\n",
      "findfont: Font family 'Arial' not found.\n",
      "findfont: Font family 'Arial' not found.\n",
      "findfont: Font family 'Arial' not found.\n",
      "findfont: Font family 'Arial' not found.\n",
      "findfont: Font family 'Arial' not found.\n",
      "findfont: Font family 'Arial' not found.\n",
      "findfont: Font family 'Arial' not found.\n",
      "findfont: Font family 'Arial' not found.\n",
      "findfont: Font family 'Arial' not found.\n",
      "findfont: Font family 'Arial' not found.\n",
      "findfont: Font family 'Arial' not found.\n"
     ]
    },
    {
     "data": {
      "image/svg+xml": [
       "<svg xmlns=\"http://www.w3.org/2000/svg\" width=\"19151.890781250022\" height=\"890.0\"><line x1=\"39.810625\" x2=\"19121.890781250022\" y1=\"45.0\" y2=\"45.0\" stroke=\"#1967d2\" stroke-width=\"1\" /><line x1=\"39.810625\" x2=\"19121.890781250022\" y1=\"95.0\" y2=\"95.0\" stroke=\"#1967d2\" stroke-width=\"1\" /><line x1=\"39.810625\" x2=\"19121.890781250022\" y1=\"145.0\" y2=\"145.0\" stroke=\"#1967d2\" stroke-width=\"1\" /><line x1=\"39.810625\" x2=\"19121.890781250022\" y1=\"195.0\" y2=\"195.0\" stroke=\"#1967d2\" stroke-width=\"1\" /><line x1=\"39.810625\" x2=\"19121.890781250022\" y1=\"245.0\" y2=\"245.0\" stroke=\"#1967d2\" stroke-width=\"1\" /><line x1=\"39.810625\" x2=\"19121.890781250022\" y1=\"295.0\" y2=\"295.0\" stroke=\"#1967d2\" stroke-width=\"1\" /><line x1=\"39.810625\" x2=\"19121.890781250022\" y1=\"345.0\" y2=\"345.0\" stroke=\"#1967d2\" stroke-width=\"1\" /><line x1=\"39.810625\" x2=\"19121.890781250022\" y1=\"395.0\" y2=\"395.0\" stroke=\"#1967d2\" stroke-width=\"1\" /><line x1=\"39.810625\" x2=\"19121.890781250022\" y1=\"445.0\" y2=\"445.0\" stroke=\"#1967d2\" stroke-width=\"1\" /><line x1=\"39.810625\" x2=\"19121.890781250022\" y1=\"495.0\" y2=\"495.0\" stroke=\"#1967d2\" stroke-width=\"1\" /><line x1=\"39.810625\" x2=\"19121.890781250022\" y1=\"545.0\" y2=\"545.0\" stroke=\"#1967d2\" stroke-width=\"1\" /><line x1=\"39.810625\" x2=\"19121.890781250022\" y1=\"595.0\" y2=\"595.0\" stroke=\"#1967d2\" stroke-width=\"1\" /><line x1=\"39.810625\" x2=\"19121.890781250022\" y1=\"645.0\" y2=\"645.0\" stroke=\"#1967d2\" stroke-width=\"1\" /><line x1=\"39.810625\" x2=\"19121.890781250022\" y1=\"695.0\" y2=\"695.0\" stroke=\"#1967d2\" stroke-width=\"1\" /><line x1=\"39.810625\" x2=\"19121.890781250022\" y1=\"745.0\" y2=\"745.0\" stroke=\"#1967d2\" stroke-width=\"1\" /><line x1=\"39.810625\" x2=\"19121.890781250022\" y1=\"795.0\" y2=\"795.0\" stroke=\"#1967d2\" stroke-width=\"1\" /><line x1=\"39.810625\" x2=\"19121.890781250022\" y1=\"845.0\" y2=\"845.0\" stroke=\"#1967d2\" stroke-width=\"1\" /><line x1=\"16981.188046875002\" x2=\"17071.188046875002\" y1=\"5.0\" y2=\"5.0\" stroke=\"black\" stroke-width=\"1\" /><line x1=\"16981.188046875002\" x2=\"17071.188046875002\" y1=\"885.0\" y2=\"885.0\" stroke=\"black\" stroke-width=\"1\" /><line x1=\"16718.357421875004\" x2=\"16808.357421875004\" y1=\"5.0\" y2=\"5.0\" stroke=\"black\" stroke-width=\"1\" /><line x1=\"16718.357421875004\" x2=\"16808.357421875004\" y1=\"885.0\" y2=\"885.0\" stroke=\"black\" stroke-width=\"1\" /><line x1=\"16455.526796875005\" x2=\"16545.526796875005\" y1=\"5.0\" y2=\"5.0\" stroke=\"black\" stroke-width=\"1\" /><line x1=\"16455.526796875005\" x2=\"16545.526796875005\" y1=\"885.0\" y2=\"885.0\" stroke=\"black\" stroke-width=\"1\" /><line x1=\"16192.696171875006\" x2=\"16282.696171875006\" y1=\"5.0\" y2=\"5.0\" stroke=\"black\" stroke-width=\"1\" /><line x1=\"16192.696171875006\" x2=\"16282.696171875006\" y1=\"885.0\" y2=\"885.0\" stroke=\"black\" stroke-width=\"1\" /><line x1=\"15929.865546875006\" x2=\"16019.865546875006\" y1=\"5.0\" y2=\"5.0\" stroke=\"black\" stroke-width=\"1\" /><line x1=\"15929.865546875006\" x2=\"16019.865546875006\" y1=\"885.0\" y2=\"885.0\" stroke=\"black\" stroke-width=\"1\" /><line x1=\"15667.034921875005\" x2=\"15757.034921875005\" y1=\"5.0\" y2=\"5.0\" stroke=\"black\" stroke-width=\"1\" /><line x1=\"15667.034921875005\" x2=\"15757.034921875005\" y1=\"885.0\" y2=\"885.0\" stroke=\"black\" stroke-width=\"1\" /><line x1=\"15413.111523437505\" x2=\"15503.111523437505\" y1=\"5.0\" y2=\"5.0\" stroke=\"black\" stroke-width=\"1\" /><line x1=\"15413.111523437505\" x2=\"15503.111523437505\" y1=\"885.0\" y2=\"885.0\" stroke=\"black\" stroke-width=\"1\" /><line x1=\"15159.188125000004\" x2=\"15249.188125000004\" y1=\"5.0\" y2=\"5.0\" stroke=\"black\" stroke-width=\"1\" /><line x1=\"15159.188125000004\" x2=\"15249.188125000004\" y1=\"885.0\" y2=\"885.0\" stroke=\"black\" stroke-width=\"1\" /><line x1=\"14905.264726562504\" x2=\"14995.264726562504\" y1=\"5.0\" y2=\"5.0\" stroke=\"black\" stroke-width=\"1\" /><line x1=\"14905.264726562504\" x2=\"14995.264726562504\" y1=\"885.0\" y2=\"885.0\" stroke=\"black\" stroke-width=\"1\" /><line x1=\"14651.341328125003\" x2=\"14741.341328125003\" y1=\"5.0\" y2=\"5.0\" stroke=\"black\" stroke-width=\"1\" /><line x1=\"14651.341328125003\" x2=\"14741.341328125003\" y1=\"885.0\" y2=\"885.0\" stroke=\"black\" stroke-width=\"1\" /><line x1=\"14397.417929687503\" x2=\"14487.417929687503\" y1=\"5.0\" y2=\"5.0\" stroke=\"black\" stroke-width=\"1\" /><line x1=\"14397.417929687503\" x2=\"14487.417929687503\" y1=\"885.0\" y2=\"885.0\" stroke=\"black\" stroke-width=\"1\" /><line x1=\"14143.494531250002\" x2=\"14233.494531250002\" y1=\"5.0\" y2=\"5.0\" stroke=\"black\" stroke-width=\"1\" /><line x1=\"14143.494531250002\" x2=\"14233.494531250002\" y1=\"885.0\" y2=\"885.0\" stroke=\"black\" stroke-width=\"1\" /><line x1=\"13889.571132812502\" x2=\"13979.571132812502\" y1=\"5.0\" y2=\"5.0\" stroke=\"black\" stroke-width=\"1\" /><line x1=\"13889.571132812502\" x2=\"13979.571132812502\" y1=\"885.0\" y2=\"885.0\" stroke=\"black\" stroke-width=\"1\" /><line x1=\"13635.647734375001\" x2=\"13725.647734375001\" y1=\"5.0\" y2=\"5.0\" stroke=\"black\" stroke-width=\"1\" /><line x1=\"13635.647734375001\" x2=\"13725.647734375001\" y1=\"885.0\" y2=\"885.0\" stroke=\"black\" stroke-width=\"1\" /><line x1=\"13381.7243359375\" x2=\"13471.7243359375\" y1=\"5.0\" y2=\"5.0\" stroke=\"black\" stroke-width=\"1\" /><line x1=\"13381.7243359375\" x2=\"13471.7243359375\" y1=\"885.0\" y2=\"885.0\" stroke=\"black\" stroke-width=\"1\" /><line x1=\"13009.2419140625\" x2=\"13157.8009375\" y1=\"5.0\" y2=\"5.0\" stroke=\"black\" stroke-width=\"1\" /><line x1=\"13009.2419140625\" x2=\"13157.8009375\" y1=\"885.0\" y2=\"885.0\" stroke=\"black\" stroke-width=\"1\" /><line x1=\"12850.682890625001\" x2=\"12999.2419140625\" y1=\"5.0\" y2=\"5.0\" stroke=\"black\" stroke-width=\"1\" /><line x1=\"12850.682890625001\" x2=\"12999.2419140625\" y1=\"885.0\" y2=\"885.0\" stroke=\"black\" stroke-width=\"1\" /><line x1=\"12692.123867187502\" x2=\"12840.682890625001\" y1=\"5.0\" y2=\"5.0\" stroke=\"black\" stroke-width=\"1\" /><line x1=\"12692.123867187502\" x2=\"12840.682890625001\" y1=\"885.0\" y2=\"885.0\" stroke=\"black\" stroke-width=\"1\" /><line x1=\"12533.564843750002\" x2=\"12682.123867187502\" y1=\"5.0\" y2=\"5.0\" stroke=\"black\" stroke-width=\"1\" /><line x1=\"12533.564843750002\" x2=\"12682.123867187502\" y1=\"885.0\" y2=\"885.0\" stroke=\"black\" stroke-width=\"1\" /><line x1=\"12375.005820312503\" x2=\"12523.564843750002\" y1=\"5.0\" y2=\"5.0\" stroke=\"black\" stroke-width=\"1\" /><line x1=\"12375.005820312503\" x2=\"12523.564843750002\" y1=\"885.0\" y2=\"885.0\" stroke=\"black\" stroke-width=\"1\" /><line x1=\"12216.446796875003\" x2=\"12365.005820312503\" y1=\"5.0\" y2=\"5.0\" stroke=\"black\" stroke-width=\"1\" /><line x1=\"12216.446796875003\" x2=\"12365.005820312503\" y1=\"885.0\" y2=\"885.0\" stroke=\"black\" stroke-width=\"1\" /><line x1=\"12066.795000000004\" x2=\"12206.446796875003\" y1=\"5.0\" y2=\"5.0\" stroke=\"black\" stroke-width=\"1\" /><line x1=\"12066.795000000004\" x2=\"12206.446796875003\" y1=\"885.0\" y2=\"885.0\" stroke=\"black\" stroke-width=\"1\" /><line x1=\"11917.143203125004\" x2=\"12056.795000000004\" y1=\"5.0\" y2=\"5.0\" stroke=\"black\" stroke-width=\"1\" /><line x1=\"11917.143203125004\" x2=\"12056.795000000004\" y1=\"885.0\" y2=\"885.0\" stroke=\"black\" stroke-width=\"1\" /><line x1=\"11767.491406250005\" x2=\"11907.143203125004\" y1=\"5.0\" y2=\"5.0\" stroke=\"black\" stroke-width=\"1\" /><line x1=\"11767.491406250005\" x2=\"11907.143203125004\" y1=\"885.0\" y2=\"885.0\" stroke=\"black\" stroke-width=\"1\" /><line x1=\"11617.839609375005\" x2=\"11757.491406250005\" y1=\"5.0\" y2=\"5.0\" stroke=\"black\" stroke-width=\"1\" /><line x1=\"11617.839609375005\" x2=\"11757.491406250005\" y1=\"885.0\" y2=\"885.0\" stroke=\"black\" stroke-width=\"1\" /><line x1=\"11468.187812500006\" x2=\"11607.839609375005\" y1=\"5.0\" y2=\"5.0\" stroke=\"black\" stroke-width=\"1\" /><line x1=\"11468.187812500006\" x2=\"11607.839609375005\" y1=\"885.0\" y2=\"885.0\" stroke=\"black\" stroke-width=\"1\" /><line x1=\"11318.536015625006\" x2=\"11458.187812500006\" y1=\"5.0\" y2=\"5.0\" stroke=\"black\" stroke-width=\"1\" /><line x1=\"11318.536015625006\" x2=\"11458.187812500006\" y1=\"885.0\" y2=\"885.0\" stroke=\"black\" stroke-width=\"1\" /><line x1=\"11168.884218750007\" x2=\"11308.536015625006\" y1=\"5.0\" y2=\"5.0\" stroke=\"black\" stroke-width=\"1\" /><line x1=\"11168.884218750007\" x2=\"11308.536015625006\" y1=\"885.0\" y2=\"885.0\" stroke=\"black\" stroke-width=\"1\" /><line x1=\"11019.232421875007\" x2=\"11158.884218750007\" y1=\"5.0\" y2=\"5.0\" stroke=\"black\" stroke-width=\"1\" /><line x1=\"11019.232421875007\" x2=\"11158.884218750007\" y1=\"885.0\" y2=\"885.0\" stroke=\"black\" stroke-width=\"1\" /><line x1=\"10869.580625000008\" x2=\"11009.232421875007\" y1=\"5.0\" y2=\"5.0\" stroke=\"black\" stroke-width=\"1\" /><line x1=\"10869.580625000008\" x2=\"11009.232421875007\" y1=\"885.0\" y2=\"885.0\" stroke=\"black\" stroke-width=\"1\" /><line x1=\"10497.098203125008\" x2=\"10587.098203125008\" y1=\"5.0\" y2=\"5.0\" stroke=\"black\" stroke-width=\"1\" /><line x1=\"10497.098203125008\" x2=\"10587.098203125008\" y1=\"885.0\" y2=\"885.0\" stroke=\"black\" stroke-width=\"1\" /><line x1=\"10234.267578125007\" x2=\"10324.267578125007\" y1=\"5.0\" y2=\"5.0\" stroke=\"black\" stroke-width=\"1\" /><line x1=\"10234.267578125007\" x2=\"10324.267578125007\" y1=\"885.0\" y2=\"885.0\" stroke=\"black\" stroke-width=\"1\" /><line x1=\"9971.436953125007\" x2=\"10061.436953125007\" y1=\"5.0\" y2=\"5.0\" stroke=\"black\" stroke-width=\"1\" /><line x1=\"9971.436953125007\" x2=\"10061.436953125007\" y1=\"885.0\" y2=\"885.0\" stroke=\"black\" stroke-width=\"1\" /><line x1=\"9708.606328125006\" x2=\"9798.606328125006\" y1=\"5.0\" y2=\"5.0\" stroke=\"black\" stroke-width=\"1\" /><line x1=\"9708.606328125006\" x2=\"9798.606328125006\" y1=\"885.0\" y2=\"885.0\" stroke=\"black\" stroke-width=\"1\" /><line x1=\"9445.775703125006\" x2=\"9535.775703125006\" y1=\"5.0\" y2=\"5.0\" stroke=\"black\" stroke-width=\"1\" /><line x1=\"9445.775703125006\" x2=\"9535.775703125006\" y1=\"885.0\" y2=\"885.0\" stroke=\"black\" stroke-width=\"1\" /><line x1=\"9182.945078125005\" x2=\"9272.945078125005\" y1=\"5.0\" y2=\"5.0\" stroke=\"black\" stroke-width=\"1\" /><line x1=\"9182.945078125005\" x2=\"9272.945078125005\" y1=\"885.0\" y2=\"885.0\" stroke=\"black\" stroke-width=\"1\" /><line x1=\"8929.021679687505\" x2=\"9019.021679687505\" y1=\"5.0\" y2=\"5.0\" stroke=\"black\" stroke-width=\"1\" /><line x1=\"8929.021679687505\" x2=\"9019.021679687505\" y1=\"885.0\" y2=\"885.0\" stroke=\"black\" stroke-width=\"1\" /><line x1=\"8675.098281250004\" x2=\"8765.098281250004\" y1=\"5.0\" y2=\"5.0\" stroke=\"black\" stroke-width=\"1\" /><line x1=\"8675.098281250004\" x2=\"8765.098281250004\" y1=\"885.0\" y2=\"885.0\" stroke=\"black\" stroke-width=\"1\" /><line x1=\"8421.174882812504\" x2=\"8511.174882812504\" y1=\"5.0\" y2=\"5.0\" stroke=\"black\" stroke-width=\"1\" /><line x1=\"8421.174882812504\" x2=\"8511.174882812504\" y1=\"885.0\" y2=\"885.0\" stroke=\"black\" stroke-width=\"1\" /><line x1=\"8167.251484375004\" x2=\"8257.251484375003\" y1=\"5.0\" y2=\"5.0\" stroke=\"black\" stroke-width=\"1\" /><line x1=\"8167.251484375004\" x2=\"8257.251484375003\" y1=\"885.0\" y2=\"885.0\" stroke=\"black\" stroke-width=\"1\" /><line x1=\"7913.3280859375045\" x2=\"8003.3280859375045\" y1=\"5.0\" y2=\"5.0\" stroke=\"black\" stroke-width=\"1\" /><line x1=\"7913.3280859375045\" x2=\"8003.3280859375045\" y1=\"885.0\" y2=\"885.0\" stroke=\"black\" stroke-width=\"1\" /><line x1=\"7659.404687500005\" x2=\"7749.404687500005\" y1=\"5.0\" y2=\"5.0\" stroke=\"black\" stroke-width=\"1\" /><line x1=\"7659.404687500005\" x2=\"7749.404687500005\" y1=\"885.0\" y2=\"885.0\" stroke=\"black\" stroke-width=\"1\" /><line x1=\"7405.481289062505\" x2=\"7495.481289062505\" y1=\"5.0\" y2=\"5.0\" stroke=\"black\" stroke-width=\"1\" /><line x1=\"7405.481289062505\" x2=\"7495.481289062505\" y1=\"885.0\" y2=\"885.0\" stroke=\"black\" stroke-width=\"1\" /><line x1=\"7151.557890625006\" x2=\"7241.557890625006\" y1=\"5.0\" y2=\"5.0\" stroke=\"black\" stroke-width=\"1\" /><line x1=\"7151.557890625006\" x2=\"7241.557890625006\" y1=\"885.0\" y2=\"885.0\" stroke=\"black\" stroke-width=\"1\" /><line x1=\"6897.634492187506\" x2=\"6987.634492187506\" y1=\"5.0\" y2=\"5.0\" stroke=\"black\" stroke-width=\"1\" /><line x1=\"6897.634492187506\" x2=\"6987.634492187506\" y1=\"885.0\" y2=\"885.0\" stroke=\"black\" stroke-width=\"1\" /><line x1=\"6525.152070312506\" x2=\"6673.7110937500065\" y1=\"5.0\" y2=\"5.0\" stroke=\"black\" stroke-width=\"1\" /><line x1=\"6525.152070312506\" x2=\"6673.7110937500065\" y1=\"885.0\" y2=\"885.0\" stroke=\"black\" stroke-width=\"1\" /><line x1=\"6366.593046875006\" x2=\"6515.152070312506\" y1=\"5.0\" y2=\"5.0\" stroke=\"black\" stroke-width=\"1\" /><line x1=\"6366.593046875006\" x2=\"6515.152070312506\" y1=\"885.0\" y2=\"885.0\" stroke=\"black\" stroke-width=\"1\" /><line x1=\"6208.034023437505\" x2=\"6356.593046875006\" y1=\"5.0\" y2=\"5.0\" stroke=\"black\" stroke-width=\"1\" /><line x1=\"6208.034023437505\" x2=\"6356.593046875006\" y1=\"885.0\" y2=\"885.0\" stroke=\"black\" stroke-width=\"1\" /><line x1=\"6049.475000000005\" x2=\"6198.034023437505\" y1=\"5.0\" y2=\"5.0\" stroke=\"black\" stroke-width=\"1\" /><line x1=\"6049.475000000005\" x2=\"6198.034023437505\" y1=\"885.0\" y2=\"885.0\" stroke=\"black\" stroke-width=\"1\" /><line x1=\"5890.9159765625045\" x2=\"6039.475000000005\" y1=\"5.0\" y2=\"5.0\" stroke=\"black\" stroke-width=\"1\" /><line x1=\"5890.9159765625045\" x2=\"6039.475000000005\" y1=\"885.0\" y2=\"885.0\" stroke=\"black\" stroke-width=\"1\" /><line x1=\"5732.356953125004\" x2=\"5880.9159765625045\" y1=\"5.0\" y2=\"5.0\" stroke=\"black\" stroke-width=\"1\" /><line x1=\"5732.356953125004\" x2=\"5880.9159765625045\" y1=\"885.0\" y2=\"885.0\" stroke=\"black\" stroke-width=\"1\" /><line x1=\"5582.705156250004\" x2=\"5722.356953125004\" y1=\"5.0\" y2=\"5.0\" stroke=\"black\" stroke-width=\"1\" /><line x1=\"5582.705156250004\" x2=\"5722.356953125004\" y1=\"885.0\" y2=\"885.0\" stroke=\"black\" stroke-width=\"1\" /><line x1=\"5433.053359375003\" x2=\"5572.705156250004\" y1=\"5.0\" y2=\"5.0\" stroke=\"black\" stroke-width=\"1\" /><line x1=\"5433.053359375003\" x2=\"5572.705156250004\" y1=\"885.0\" y2=\"885.0\" stroke=\"black\" stroke-width=\"1\" /><line x1=\"5283.401562500003\" x2=\"5423.053359375003\" y1=\"5.0\" y2=\"5.0\" stroke=\"black\" stroke-width=\"1\" /><line x1=\"5283.401562500003\" x2=\"5423.053359375003\" y1=\"885.0\" y2=\"885.0\" stroke=\"black\" stroke-width=\"1\" /><line x1=\"5133.7497656250025\" x2=\"5273.401562500003\" y1=\"5.0\" y2=\"5.0\" stroke=\"black\" stroke-width=\"1\" /><line x1=\"5133.7497656250025\" x2=\"5273.401562500003\" y1=\"885.0\" y2=\"885.0\" stroke=\"black\" stroke-width=\"1\" /><line x1=\"4984.097968750002\" x2=\"5123.7497656250025\" y1=\"5.0\" y2=\"5.0\" stroke=\"black\" stroke-width=\"1\" /><line x1=\"4984.097968750002\" x2=\"5123.7497656250025\" y1=\"885.0\" y2=\"885.0\" stroke=\"black\" stroke-width=\"1\" /><line x1=\"4834.446171875002\" x2=\"4974.097968750002\" y1=\"5.0\" y2=\"5.0\" stroke=\"black\" stroke-width=\"1\" /><line x1=\"4834.446171875002\" x2=\"4974.097968750002\" y1=\"885.0\" y2=\"885.0\" stroke=\"black\" stroke-width=\"1\" /><line x1=\"4684.794375000001\" x2=\"4824.446171875002\" y1=\"5.0\" y2=\"5.0\" stroke=\"black\" stroke-width=\"1\" /><line x1=\"4684.794375000001\" x2=\"4824.446171875002\" y1=\"885.0\" y2=\"885.0\" stroke=\"black\" stroke-width=\"1\" /><line x1=\"4535.142578125001\" x2=\"4674.794375000001\" y1=\"5.0\" y2=\"5.0\" stroke=\"black\" stroke-width=\"1\" /><line x1=\"4535.142578125001\" x2=\"4674.794375000001\" y1=\"885.0\" y2=\"885.0\" stroke=\"black\" stroke-width=\"1\" /><line x1=\"4385.4907812500005\" x2=\"4525.142578125001\" y1=\"5.0\" y2=\"5.0\" stroke=\"black\" stroke-width=\"1\" /><line x1=\"4385.4907812500005\" x2=\"4525.142578125001\" y1=\"885.0\" y2=\"885.0\" stroke=\"black\" stroke-width=\"1\" /><line x1=\"4013.0083593750005\" x2=\"4103.0083593750005\" y1=\"5.0\" y2=\"5.0\" stroke=\"black\" stroke-width=\"1\" /><line x1=\"4013.0083593750005\" x2=\"4103.0083593750005\" y1=\"885.0\" y2=\"885.0\" stroke=\"black\" stroke-width=\"1\" /><line x1=\"3750.1777343750005\" x2=\"3840.1777343750005\" y1=\"5.0\" y2=\"5.0\" stroke=\"black\" stroke-width=\"1\" /><line x1=\"3750.1777343750005\" x2=\"3840.1777343750005\" y1=\"885.0\" y2=\"885.0\" stroke=\"black\" stroke-width=\"1\" /><line x1=\"3487.3471093750004\" x2=\"3577.3471093750004\" y1=\"5.0\" y2=\"5.0\" stroke=\"black\" stroke-width=\"1\" /><line x1=\"3487.3471093750004\" x2=\"3577.3471093750004\" y1=\"885.0\" y2=\"885.0\" stroke=\"black\" stroke-width=\"1\" /><line x1=\"3224.5164843750003\" x2=\"3314.5164843750003\" y1=\"5.0\" y2=\"5.0\" stroke=\"black\" stroke-width=\"1\" /><line x1=\"3224.5164843750003\" x2=\"3314.5164843750003\" y1=\"885.0\" y2=\"885.0\" stroke=\"black\" stroke-width=\"1\" /><line x1=\"2961.6858593750003\" x2=\"3051.6858593750003\" y1=\"5.0\" y2=\"5.0\" stroke=\"black\" stroke-width=\"1\" /><line x1=\"2961.6858593750003\" x2=\"3051.6858593750003\" y1=\"885.0\" y2=\"885.0\" stroke=\"black\" stroke-width=\"1\" /><line x1=\"2698.8552343750002\" x2=\"2788.8552343750002\" y1=\"5.0\" y2=\"5.0\" stroke=\"black\" stroke-width=\"1\" /><line x1=\"2698.8552343750002\" x2=\"2788.8552343750002\" y1=\"885.0\" y2=\"885.0\" stroke=\"black\" stroke-width=\"1\" /><line x1=\"2444.9318359375\" x2=\"2534.9318359375\" y1=\"5.0\" y2=\"5.0\" stroke=\"black\" stroke-width=\"1\" /><line x1=\"2444.9318359375\" x2=\"2534.9318359375\" y1=\"885.0\" y2=\"885.0\" stroke=\"black\" stroke-width=\"1\" /><line x1=\"2191.0084375\" x2=\"2281.0084375\" y1=\"5.0\" y2=\"5.0\" stroke=\"black\" stroke-width=\"1\" /><line x1=\"2191.0084375\" x2=\"2281.0084375\" y1=\"885.0\" y2=\"885.0\" stroke=\"black\" stroke-width=\"1\" /><line x1=\"1937.0850390625003\" x2=\"2027.0850390625003\" y1=\"5.0\" y2=\"5.0\" stroke=\"black\" stroke-width=\"1\" /><line x1=\"1937.0850390625003\" x2=\"2027.0850390625003\" y1=\"885.0\" y2=\"885.0\" stroke=\"black\" stroke-width=\"1\" /><line x1=\"1683.1616406250002\" x2=\"1773.1616406250002\" y1=\"5.0\" y2=\"5.0\" stroke=\"black\" stroke-width=\"1\" /><line x1=\"1683.1616406250002\" x2=\"1773.1616406250002\" y1=\"885.0\" y2=\"885.0\" stroke=\"black\" stroke-width=\"1\" /><line x1=\"1429.2382421875002\" x2=\"1519.2382421875002\" y1=\"5.0\" y2=\"5.0\" stroke=\"black\" stroke-width=\"1\" /><line x1=\"1429.2382421875002\" x2=\"1519.2382421875002\" y1=\"885.0\" y2=\"885.0\" stroke=\"black\" stroke-width=\"1\" /><line x1=\"1175.3148437500001\" x2=\"1265.3148437500001\" y1=\"5.0\" y2=\"5.0\" stroke=\"black\" stroke-width=\"1\" /><line x1=\"1175.3148437500001\" x2=\"1265.3148437500001\" y1=\"885.0\" y2=\"885.0\" stroke=\"black\" stroke-width=\"1\" /><line x1=\"921.3914453125001\" x2=\"1011.3914453125001\" y1=\"5.0\" y2=\"5.0\" stroke=\"black\" stroke-width=\"1\" /><line x1=\"921.3914453125001\" x2=\"1011.3914453125001\" y1=\"885.0\" y2=\"885.0\" stroke=\"black\" stroke-width=\"1\" /><line x1=\"667.468046875\" x2=\"757.468046875\" y1=\"5.0\" y2=\"5.0\" stroke=\"black\" stroke-width=\"1\" /><line x1=\"667.468046875\" x2=\"757.468046875\" y1=\"885.0\" y2=\"885.0\" stroke=\"black\" stroke-width=\"1\" /><line x1=\"413.54464843750003\" x2=\"503.54464843750003\" y1=\"5.0\" y2=\"5.0\" stroke=\"black\" stroke-width=\"1\" /><line x1=\"413.54464843750003\" x2=\"503.54464843750003\" y1=\"885.0\" y2=\"885.0\" stroke=\"black\" stroke-width=\"1\" /><line x1=\"229.62125\" x2=\"229.62125\" y1=\"45.0\" y2=\"95.0\" stroke=\"black\" stroke-width=\"3\" /><line x1=\"383.54464843750003\" x2=\"383.54464843750003\" y1=\"45.0\" y2=\"95.0\" stroke=\"black\" stroke-width=\"3\" /><line x1=\"473.54464843750003\" x2=\"473.54464843750003\" y1=\"45.0\" y2=\"145.0\" stroke=\"black\" stroke-width=\"3\" /><line x1=\"637.468046875\" x2=\"637.468046875\" y1=\"45.0\" y2=\"145.0\" stroke=\"black\" stroke-width=\"3\" /><line x1=\"727.468046875\" x2=\"727.468046875\" y1=\"45.0\" y2=\"195.0\" stroke=\"black\" stroke-width=\"3\" /><line x1=\"891.3914453125001\" x2=\"891.3914453125001\" y1=\"45.0\" y2=\"195.0\" stroke=\"black\" stroke-width=\"3\" /><line x1=\"981.3914453125001\" x2=\"981.3914453125001\" y1=\"45.0\" y2=\"245.0\" stroke=\"black\" stroke-width=\"3\" /><line x1=\"1145.3148437500001\" x2=\"1145.3148437500001\" y1=\"45.0\" y2=\"245.0\" stroke=\"black\" stroke-width=\"3\" /><line x1=\"1235.3148437500001\" x2=\"1235.3148437500001\" y1=\"45.0\" y2=\"295.0\" stroke=\"black\" stroke-width=\"3\" /><line x1=\"1399.2382421875002\" x2=\"1399.2382421875002\" y1=\"45.0\" y2=\"295.0\" stroke=\"black\" stroke-width=\"3\" /><line x1=\"1489.2382421875002\" x2=\"1489.2382421875002\" y1=\"45.0\" y2=\"345.0\" stroke=\"black\" stroke-width=\"3\" /><line x1=\"1653.1616406250002\" x2=\"1653.1616406250002\" y1=\"45.0\" y2=\"345.0\" stroke=\"black\" stroke-width=\"3\" /><line x1=\"1743.1616406250002\" x2=\"1743.1616406250002\" y1=\"45.0\" y2=\"395.0\" stroke=\"black\" stroke-width=\"3\" /><line x1=\"1907.0850390625003\" x2=\"1907.0850390625003\" y1=\"45.0\" y2=\"395.0\" stroke=\"black\" stroke-width=\"3\" /><line x1=\"1997.0850390625003\" x2=\"1997.0850390625003\" y1=\"45.0\" y2=\"445.0\" stroke=\"black\" stroke-width=\"3\" /><line x1=\"2161.0084375\" x2=\"2161.0084375\" y1=\"45.0\" y2=\"445.0\" stroke=\"black\" stroke-width=\"3\" /><line x1=\"2251.0084375\" x2=\"2251.0084375\" y1=\"45.0\" y2=\"495.0\" stroke=\"black\" stroke-width=\"3\" /><line x1=\"2414.9318359375\" x2=\"2414.9318359375\" y1=\"45.0\" y2=\"495.0\" stroke=\"black\" stroke-width=\"3\" /><line x1=\"2504.9318359375\" x2=\"2504.9318359375\" y1=\"45.0\" y2=\"545.0\" stroke=\"black\" stroke-width=\"3\" /><line x1=\"2668.8552343750002\" x2=\"2668.8552343750002\" y1=\"45.0\" y2=\"545.0\" stroke=\"black\" stroke-width=\"3\" /><line x1=\"2758.8552343750002\" x2=\"2758.8552343750002\" y1=\"45.0\" y2=\"595.0\" stroke=\"black\" stroke-width=\"3\" /><line x1=\"2931.6858593750003\" x2=\"2931.6858593750003\" y1=\"45.0\" y2=\"595.0\" stroke=\"black\" stroke-width=\"3\" /><line x1=\"3021.6858593750003\" x2=\"3021.6858593750003\" y1=\"45.0\" y2=\"645.0\" stroke=\"black\" stroke-width=\"3\" /><line x1=\"3194.5164843750003\" x2=\"3194.5164843750003\" y1=\"45.0\" y2=\"645.0\" stroke=\"black\" stroke-width=\"3\" /><line x1=\"3284.5164843750003\" x2=\"3284.5164843750003\" y1=\"45.0\" y2=\"695.0\" stroke=\"black\" stroke-width=\"3\" /><line x1=\"3457.3471093750004\" x2=\"3457.3471093750004\" y1=\"45.0\" y2=\"695.0\" stroke=\"black\" stroke-width=\"3\" /><line x1=\"3547.3471093750004\" x2=\"3547.3471093750004\" y1=\"45.0\" y2=\"745.0\" stroke=\"black\" stroke-width=\"3\" /><line x1=\"3720.1777343750005\" x2=\"3720.1777343750005\" y1=\"45.0\" y2=\"745.0\" stroke=\"black\" stroke-width=\"3\" /><line x1=\"3810.1777343750005\" x2=\"3810.1777343750005\" y1=\"45.0\" y2=\"795.0\" stroke=\"black\" stroke-width=\"3\" /><line x1=\"3983.0083593750005\" x2=\"3983.0083593750005\" y1=\"45.0\" y2=\"795.0\" stroke=\"black\" stroke-width=\"3\" /><line x1=\"4073.0083593750005\" x2=\"4073.0083593750005\" y1=\"45.0\" y2=\"845.0\" stroke=\"black\" stroke-width=\"3\" /><line x1=\"4245.838984375\" x2=\"4245.838984375\" y1=\"45.0\" y2=\"845.0\" stroke=\"black\" stroke-width=\"3\" /><line x1=\"4330.6648828125\" x2=\"4330.6648828125\" y1=\"45.0\" y2=\"95.0\" stroke=\"black\" stroke-width=\"3\" /><line x1=\"4430.3166796875\" x2=\"4430.3166796875\" y1=\"45.0\" y2=\"145.0\" stroke=\"black\" stroke-width=\"3\" /><line x1=\"4579.968476562501\" x2=\"4579.968476562501\" y1=\"45.0\" y2=\"195.0\" stroke=\"black\" stroke-width=\"3\" /><line x1=\"4729.620273437501\" x2=\"4729.620273437501\" y1=\"45.0\" y2=\"245.0\" stroke=\"black\" stroke-width=\"3\" /><line x1=\"4879.2720703125015\" x2=\"4879.2720703125015\" y1=\"45.0\" y2=\"295.0\" stroke=\"black\" stroke-width=\"3\" /><line x1=\"5028.923867187502\" x2=\"5028.923867187502\" y1=\"45.0\" y2=\"345.0\" stroke=\"black\" stroke-width=\"3\" /><line x1=\"5178.575664062502\" x2=\"5178.575664062502\" y1=\"45.0\" y2=\"395.0\" stroke=\"black\" stroke-width=\"3\" /><line x1=\"5328.227460937503\" x2=\"5328.227460937503\" y1=\"45.0\" y2=\"445.0\" stroke=\"black\" stroke-width=\"3\" /><line x1=\"5477.879257812503\" x2=\"5477.879257812503\" y1=\"45.0\" y2=\"495.0\" stroke=\"black\" stroke-width=\"3\" /><line x1=\"5627.5310546875035\" x2=\"5627.5310546875035\" y1=\"45.0\" y2=\"545.0\" stroke=\"black\" stroke-width=\"3\" /><line x1=\"5781.636464843754\" x2=\"5781.636464843754\" y1=\"45.0\" y2=\"595.0\" stroke=\"black\" stroke-width=\"3\" /><line x1=\"5940.195488281254\" x2=\"5940.195488281254\" y1=\"45.0\" y2=\"645.0\" stroke=\"black\" stroke-width=\"3\" /><line x1=\"6098.754511718755\" x2=\"6098.754511718755\" y1=\"45.0\" y2=\"695.0\" stroke=\"black\" stroke-width=\"3\" /><line x1=\"6257.313535156255\" x2=\"6257.313535156255\" y1=\"45.0\" y2=\"745.0\" stroke=\"black\" stroke-width=\"3\" /><line x1=\"6415.8725585937555\" x2=\"6415.8725585937555\" y1=\"45.0\" y2=\"795.0\" stroke=\"black\" stroke-width=\"3\" /><line x1=\"6574.431582031256\" x2=\"6574.431582031256\" y1=\"45.0\" y2=\"845.0\" stroke=\"black\" stroke-width=\"3\" /><line x1=\"6713.7110937500065\" x2=\"6713.7110937500065\" y1=\"45.0\" y2=\"95.0\" stroke=\"black\" stroke-width=\"3\" /><line x1=\"6867.634492187506\" x2=\"6867.634492187506\" y1=\"45.0\" y2=\"95.0\" stroke=\"black\" stroke-width=\"3\" /><line x1=\"6957.634492187506\" x2=\"6957.634492187506\" y1=\"45.0\" y2=\"145.0\" stroke=\"black\" stroke-width=\"3\" /><line x1=\"7121.557890625006\" x2=\"7121.557890625006\" y1=\"45.0\" y2=\"145.0\" stroke=\"black\" stroke-width=\"3\" /><line x1=\"7211.557890625006\" x2=\"7211.557890625006\" y1=\"45.0\" y2=\"195.0\" stroke=\"black\" stroke-width=\"3\" /><line x1=\"7375.481289062505\" x2=\"7375.481289062505\" y1=\"45.0\" y2=\"195.0\" stroke=\"black\" stroke-width=\"3\" /><line x1=\"7465.481289062505\" x2=\"7465.481289062505\" y1=\"45.0\" y2=\"245.0\" stroke=\"black\" stroke-width=\"3\" /><line x1=\"7629.404687500005\" x2=\"7629.404687500005\" y1=\"45.0\" y2=\"245.0\" stroke=\"black\" stroke-width=\"3\" /><line x1=\"7719.404687500005\" x2=\"7719.404687500005\" y1=\"45.0\" y2=\"295.0\" stroke=\"black\" stroke-width=\"3\" /><line x1=\"7883.3280859375045\" x2=\"7883.3280859375045\" y1=\"45.0\" y2=\"295.0\" stroke=\"black\" stroke-width=\"3\" /><line x1=\"7973.3280859375045\" x2=\"7973.3280859375045\" y1=\"45.0\" y2=\"345.0\" stroke=\"black\" stroke-width=\"3\" /><line x1=\"8137.251484375004\" x2=\"8137.251484375004\" y1=\"45.0\" y2=\"345.0\" stroke=\"black\" stroke-width=\"3\" /><line x1=\"8227.251484375003\" x2=\"8227.251484375003\" y1=\"45.0\" y2=\"395.0\" stroke=\"black\" stroke-width=\"3\" /><line x1=\"8391.174882812504\" x2=\"8391.174882812504\" y1=\"45.0\" y2=\"395.0\" stroke=\"black\" stroke-width=\"3\" /><line x1=\"8481.174882812504\" x2=\"8481.174882812504\" y1=\"45.0\" y2=\"445.0\" stroke=\"black\" stroke-width=\"3\" /><line x1=\"8645.098281250004\" x2=\"8645.098281250004\" y1=\"45.0\" y2=\"445.0\" stroke=\"black\" stroke-width=\"3\" /><line x1=\"8735.098281250004\" x2=\"8735.098281250004\" y1=\"45.0\" y2=\"495.0\" stroke=\"black\" stroke-width=\"3\" /><line x1=\"8899.021679687505\" x2=\"8899.021679687505\" y1=\"45.0\" y2=\"495.0\" stroke=\"black\" stroke-width=\"3\" /><line x1=\"8989.021679687505\" x2=\"8989.021679687505\" y1=\"45.0\" y2=\"545.0\" stroke=\"black\" stroke-width=\"3\" /><line x1=\"9152.945078125005\" x2=\"9152.945078125005\" y1=\"45.0\" y2=\"545.0\" stroke=\"black\" stroke-width=\"3\" /><line x1=\"9242.945078125005\" x2=\"9242.945078125005\" y1=\"45.0\" y2=\"595.0\" stroke=\"black\" stroke-width=\"3\" /><line x1=\"9415.775703125006\" x2=\"9415.775703125006\" y1=\"45.0\" y2=\"595.0\" stroke=\"black\" stroke-width=\"3\" /><line x1=\"9505.775703125006\" x2=\"9505.775703125006\" y1=\"45.0\" y2=\"645.0\" stroke=\"black\" stroke-width=\"3\" /><line x1=\"9678.606328125006\" x2=\"9678.606328125006\" y1=\"45.0\" y2=\"645.0\" stroke=\"black\" stroke-width=\"3\" /><line x1=\"9768.606328125006\" x2=\"9768.606328125006\" y1=\"45.0\" y2=\"695.0\" stroke=\"black\" stroke-width=\"3\" /><line x1=\"9941.436953125007\" x2=\"9941.436953125007\" y1=\"45.0\" y2=\"695.0\" stroke=\"black\" stroke-width=\"3\" /><line x1=\"10031.436953125007\" x2=\"10031.436953125007\" y1=\"45.0\" y2=\"745.0\" stroke=\"black\" stroke-width=\"3\" /><line x1=\"10204.267578125007\" x2=\"10204.267578125007\" y1=\"45.0\" y2=\"745.0\" stroke=\"black\" stroke-width=\"3\" /><line x1=\"10294.267578125007\" x2=\"10294.267578125007\" y1=\"45.0\" y2=\"795.0\" stroke=\"black\" stroke-width=\"3\" /><line x1=\"10467.098203125008\" x2=\"10467.098203125008\" y1=\"45.0\" y2=\"795.0\" stroke=\"black\" stroke-width=\"3\" /><line x1=\"10557.098203125008\" x2=\"10557.098203125008\" y1=\"45.0\" y2=\"845.0\" stroke=\"black\" stroke-width=\"3\" /><line x1=\"10729.928828125008\" x2=\"10729.928828125008\" y1=\"45.0\" y2=\"845.0\" stroke=\"black\" stroke-width=\"3\" /><line x1=\"10814.754726562509\" x2=\"10814.754726562509\" y1=\"45.0\" y2=\"95.0\" stroke=\"black\" stroke-width=\"3\" /><line x1=\"10914.406523437508\" x2=\"10914.406523437508\" y1=\"45.0\" y2=\"145.0\" stroke=\"black\" stroke-width=\"3\" /><line x1=\"11064.058320312508\" x2=\"11064.058320312508\" y1=\"45.0\" y2=\"195.0\" stroke=\"black\" stroke-width=\"3\" /><line x1=\"11213.710117187507\" x2=\"11213.710117187507\" y1=\"45.0\" y2=\"245.0\" stroke=\"black\" stroke-width=\"3\" /><line x1=\"11363.361914062507\" x2=\"11363.361914062507\" y1=\"45.0\" y2=\"295.0\" stroke=\"black\" stroke-width=\"3\" /><line x1=\"11513.013710937506\" x2=\"11513.013710937506\" y1=\"45.0\" y2=\"345.0\" stroke=\"black\" stroke-width=\"3\" /><line x1=\"11662.665507812506\" x2=\"11662.665507812506\" y1=\"45.0\" y2=\"395.0\" stroke=\"black\" stroke-width=\"3\" /><line x1=\"11812.317304687505\" x2=\"11812.317304687505\" y1=\"45.0\" y2=\"445.0\" stroke=\"black\" stroke-width=\"3\" /><line x1=\"11961.969101562505\" x2=\"11961.969101562505\" y1=\"45.0\" y2=\"495.0\" stroke=\"black\" stroke-width=\"3\" /><line x1=\"12111.620898437504\" x2=\"12111.620898437504\" y1=\"45.0\" y2=\"545.0\" stroke=\"black\" stroke-width=\"3\" /><line x1=\"12265.726308593754\" x2=\"12265.726308593754\" y1=\"45.0\" y2=\"595.0\" stroke=\"black\" stroke-width=\"3\" /><line x1=\"12424.285332031253\" x2=\"12424.285332031253\" y1=\"45.0\" y2=\"645.0\" stroke=\"black\" stroke-width=\"3\" /><line x1=\"12582.844355468753\" x2=\"12582.844355468753\" y1=\"45.0\" y2=\"695.0\" stroke=\"black\" stroke-width=\"3\" /><line x1=\"12741.403378906252\" x2=\"12741.403378906252\" y1=\"45.0\" y2=\"745.0\" stroke=\"black\" stroke-width=\"3\" /><line x1=\"12899.962402343752\" x2=\"12899.962402343752\" y1=\"45.0\" y2=\"795.0\" stroke=\"black\" stroke-width=\"3\" /><line x1=\"13058.521425781251\" x2=\"13058.521425781251\" y1=\"45.0\" y2=\"845.0\" stroke=\"black\" stroke-width=\"3\" /><line x1=\"13197.8009375\" x2=\"13197.8009375\" y1=\"45.0\" y2=\"95.0\" stroke=\"black\" stroke-width=\"3\" /><line x1=\"13351.7243359375\" x2=\"13351.7243359375\" y1=\"45.0\" y2=\"95.0\" stroke=\"black\" stroke-width=\"3\" /><line x1=\"13441.7243359375\" x2=\"13441.7243359375\" y1=\"45.0\" y2=\"145.0\" stroke=\"black\" stroke-width=\"3\" /><line x1=\"13605.647734375001\" x2=\"13605.647734375001\" y1=\"45.0\" y2=\"145.0\" stroke=\"black\" stroke-width=\"3\" /><line x1=\"13695.647734375001\" x2=\"13695.647734375001\" y1=\"45.0\" y2=\"195.0\" stroke=\"black\" stroke-width=\"3\" /><line x1=\"13859.571132812502\" x2=\"13859.571132812502\" y1=\"45.0\" y2=\"195.0\" stroke=\"black\" stroke-width=\"3\" /><line x1=\"13949.571132812502\" x2=\"13949.571132812502\" y1=\"45.0\" y2=\"245.0\" stroke=\"black\" stroke-width=\"3\" /><line x1=\"14113.494531250002\" x2=\"14113.494531250002\" y1=\"45.0\" y2=\"245.0\" stroke=\"black\" stroke-width=\"3\" /><line x1=\"14203.494531250002\" x2=\"14203.494531250002\" y1=\"45.0\" y2=\"295.0\" stroke=\"black\" stroke-width=\"3\" /><line x1=\"14367.417929687503\" x2=\"14367.417929687503\" y1=\"45.0\" y2=\"295.0\" stroke=\"black\" stroke-width=\"3\" /><line x1=\"14457.417929687503\" x2=\"14457.417929687503\" y1=\"45.0\" y2=\"345.0\" stroke=\"black\" stroke-width=\"3\" /><line x1=\"14621.341328125003\" x2=\"14621.341328125003\" y1=\"45.0\" y2=\"345.0\" stroke=\"black\" stroke-width=\"3\" /><line x1=\"14711.341328125003\" x2=\"14711.341328125003\" y1=\"45.0\" y2=\"395.0\" stroke=\"black\" stroke-width=\"3\" /><line x1=\"14875.264726562504\" x2=\"14875.264726562504\" y1=\"45.0\" y2=\"395.0\" stroke=\"black\" stroke-width=\"3\" /><line x1=\"14965.264726562504\" x2=\"14965.264726562504\" y1=\"45.0\" y2=\"445.0\" stroke=\"black\" stroke-width=\"3\" /><line x1=\"15129.188125000004\" x2=\"15129.188125000004\" y1=\"45.0\" y2=\"445.0\" stroke=\"black\" stroke-width=\"3\" /><line x1=\"15219.188125000004\" x2=\"15219.188125000004\" y1=\"45.0\" y2=\"495.0\" stroke=\"black\" stroke-width=\"3\" /><line x1=\"15383.111523437505\" x2=\"15383.111523437505\" y1=\"45.0\" y2=\"495.0\" stroke=\"black\" stroke-width=\"3\" /><line x1=\"15473.111523437505\" x2=\"15473.111523437505\" y1=\"45.0\" y2=\"545.0\" stroke=\"black\" stroke-width=\"3\" /><line x1=\"15637.034921875005\" x2=\"15637.034921875005\" y1=\"45.0\" y2=\"545.0\" stroke=\"black\" stroke-width=\"3\" /><line x1=\"15727.034921875005\" x2=\"15727.034921875005\" y1=\"45.0\" y2=\"595.0\" stroke=\"black\" stroke-width=\"3\" /><line x1=\"15899.865546875006\" x2=\"15899.865546875006\" y1=\"45.0\" y2=\"595.0\" stroke=\"black\" stroke-width=\"3\" /><line x1=\"15989.865546875006\" x2=\"15989.865546875006\" y1=\"45.0\" y2=\"645.0\" stroke=\"black\" stroke-width=\"3\" /><line x1=\"16162.696171875006\" x2=\"16162.696171875006\" y1=\"45.0\" y2=\"645.0\" stroke=\"black\" stroke-width=\"3\" /><line x1=\"16252.696171875006\" x2=\"16252.696171875006\" y1=\"45.0\" y2=\"695.0\" stroke=\"black\" stroke-width=\"3\" /><line x1=\"16425.526796875005\" x2=\"16425.526796875005\" y1=\"45.0\" y2=\"695.0\" stroke=\"black\" stroke-width=\"3\" /><line x1=\"16515.526796875005\" x2=\"16515.526796875005\" y1=\"45.0\" y2=\"745.0\" stroke=\"black\" stroke-width=\"3\" /><line x1=\"16688.357421875004\" x2=\"16688.357421875004\" y1=\"45.0\" y2=\"745.0\" stroke=\"black\" stroke-width=\"3\" /><line x1=\"16778.357421875004\" x2=\"16778.357421875004\" y1=\"45.0\" y2=\"795.0\" stroke=\"black\" stroke-width=\"3\" /><line x1=\"16951.188046875002\" x2=\"16951.188046875002\" y1=\"45.0\" y2=\"795.0\" stroke=\"black\" stroke-width=\"3\" /><line x1=\"17041.188046875002\" x2=\"17041.188046875002\" y1=\"45.0\" y2=\"845.0\" stroke=\"black\" stroke-width=\"3\" /><line x1=\"17214.018671875\" x2=\"17214.018671875\" y1=\"45.0\" y2=\"845.0\" stroke=\"black\" stroke-width=\"3\" /><line x1=\"17298.8445703125\" x2=\"17298.8445703125\" y1=\"45.0\" y2=\"95.0\" stroke=\"black\" stroke-width=\"3\" /><line x1=\"17408.4963671875\" x2=\"17408.4963671875\" y1=\"45.0\" y2=\"145.0\" stroke=\"black\" stroke-width=\"3\" /><line x1=\"17518.148164062502\" x2=\"17518.148164062502\" y1=\"45.0\" y2=\"195.0\" stroke=\"black\" stroke-width=\"3\" /><line x1=\"17627.799960937504\" x2=\"17627.799960937504\" y1=\"45.0\" y2=\"245.0\" stroke=\"black\" stroke-width=\"3\" /><line x1=\"17737.451757812505\" x2=\"17737.451757812505\" y1=\"45.0\" y2=\"295.0\" stroke=\"black\" stroke-width=\"3\" /><line x1=\"17847.103554687506\" x2=\"17847.103554687506\" y1=\"45.0\" y2=\"345.0\" stroke=\"black\" stroke-width=\"3\" /><line x1=\"17956.755351562508\" x2=\"17956.755351562508\" y1=\"45.0\" y2=\"395.0\" stroke=\"black\" stroke-width=\"3\" /><line x1=\"18066.40714843751\" x2=\"18066.40714843751\" y1=\"45.0\" y2=\"445.0\" stroke=\"black\" stroke-width=\"3\" /><line x1=\"18176.05894531251\" x2=\"18176.05894531251\" y1=\"45.0\" y2=\"495.0\" stroke=\"black\" stroke-width=\"3\" /><line x1=\"18285.71074218751\" x2=\"18285.71074218751\" y1=\"45.0\" y2=\"545.0\" stroke=\"black\" stroke-width=\"3\" /><line x1=\"18399.816152343763\" x2=\"18399.816152343763\" y1=\"45.0\" y2=\"595.0\" stroke=\"black\" stroke-width=\"3\" /><line x1=\"18518.375175781264\" x2=\"18518.375175781264\" y1=\"45.0\" y2=\"645.0\" stroke=\"black\" stroke-width=\"3\" /><line x1=\"18636.934199218766\" x2=\"18636.934199218766\" y1=\"45.0\" y2=\"695.0\" stroke=\"black\" stroke-width=\"3\" /><line x1=\"18755.493222656267\" x2=\"18755.493222656267\" y1=\"45.0\" y2=\"745.0\" stroke=\"black\" stroke-width=\"3\" /><line x1=\"18874.05224609377\" x2=\"18874.05224609377\" y1=\"45.0\" y2=\"795.0\" stroke=\"black\" stroke-width=\"3\" /><line x1=\"18992.61126953127\" x2=\"18992.61126953127\" y1=\"45.0\" y2=\"845.0\" stroke=\"black\" stroke-width=\"3\" /><line x1=\"16981.188046875002\" x2=\"16981.188046875002\" y1=\"5.0\" y2=\"15.0\" stroke=\"black\" stroke-width=\"3\" /><line x1=\"17071.188046875002\" x2=\"17071.188046875002\" y1=\"5.0\" y2=\"15.0\" stroke=\"black\" stroke-width=\"3\" /><line x1=\"16981.188046875002\" x2=\"16981.188046875002\" y1=\"875.0\" y2=\"885.0\" stroke=\"black\" stroke-width=\"3\" /><line x1=\"17071.188046875002\" x2=\"17071.188046875002\" y1=\"875.0\" y2=\"885.0\" stroke=\"black\" stroke-width=\"3\" /><line x1=\"16718.357421875004\" x2=\"16718.357421875004\" y1=\"5.0\" y2=\"15.0\" stroke=\"black\" stroke-width=\"3\" /><line x1=\"16808.357421875004\" x2=\"16808.357421875004\" y1=\"5.0\" y2=\"15.0\" stroke=\"black\" stroke-width=\"3\" /><line x1=\"16718.357421875004\" x2=\"16718.357421875004\" y1=\"875.0\" y2=\"885.0\" stroke=\"black\" stroke-width=\"3\" /><line x1=\"16808.357421875004\" x2=\"16808.357421875004\" y1=\"875.0\" y2=\"885.0\" stroke=\"black\" stroke-width=\"3\" /><line x1=\"16455.526796875005\" x2=\"16455.526796875005\" y1=\"5.0\" y2=\"15.0\" stroke=\"black\" stroke-width=\"3\" /><line x1=\"16545.526796875005\" x2=\"16545.526796875005\" y1=\"5.0\" y2=\"15.0\" stroke=\"black\" stroke-width=\"3\" /><line x1=\"16455.526796875005\" x2=\"16455.526796875005\" y1=\"875.0\" y2=\"885.0\" stroke=\"black\" stroke-width=\"3\" /><line x1=\"16545.526796875005\" x2=\"16545.526796875005\" y1=\"875.0\" y2=\"885.0\" stroke=\"black\" stroke-width=\"3\" /><line x1=\"16192.696171875006\" x2=\"16192.696171875006\" y1=\"5.0\" y2=\"15.0\" stroke=\"black\" stroke-width=\"3\" /><line x1=\"16282.696171875006\" x2=\"16282.696171875006\" y1=\"5.0\" y2=\"15.0\" stroke=\"black\" stroke-width=\"3\" /><line x1=\"16192.696171875006\" x2=\"16192.696171875006\" y1=\"875.0\" y2=\"885.0\" stroke=\"black\" stroke-width=\"3\" /><line x1=\"16282.696171875006\" x2=\"16282.696171875006\" y1=\"875.0\" y2=\"885.0\" stroke=\"black\" stroke-width=\"3\" /><line x1=\"15929.865546875006\" x2=\"15929.865546875006\" y1=\"5.0\" y2=\"15.0\" stroke=\"black\" stroke-width=\"3\" /><line x1=\"16019.865546875006\" x2=\"16019.865546875006\" y1=\"5.0\" y2=\"15.0\" stroke=\"black\" stroke-width=\"3\" /><line x1=\"15929.865546875006\" x2=\"15929.865546875006\" y1=\"875.0\" y2=\"885.0\" stroke=\"black\" stroke-width=\"3\" /><line x1=\"16019.865546875006\" x2=\"16019.865546875006\" y1=\"875.0\" y2=\"885.0\" stroke=\"black\" stroke-width=\"3\" /><line x1=\"15667.034921875005\" x2=\"15667.034921875005\" y1=\"5.0\" y2=\"15.0\" stroke=\"black\" stroke-width=\"3\" /><line x1=\"15757.034921875005\" x2=\"15757.034921875005\" y1=\"5.0\" y2=\"15.0\" stroke=\"black\" stroke-width=\"3\" /><line x1=\"15667.034921875005\" x2=\"15667.034921875005\" y1=\"875.0\" y2=\"885.0\" stroke=\"black\" stroke-width=\"3\" /><line x1=\"15757.034921875005\" x2=\"15757.034921875005\" y1=\"875.0\" y2=\"885.0\" stroke=\"black\" stroke-width=\"3\" /><line x1=\"15413.111523437505\" x2=\"15413.111523437505\" y1=\"5.0\" y2=\"15.0\" stroke=\"black\" stroke-width=\"3\" /><line x1=\"15503.111523437505\" x2=\"15503.111523437505\" y1=\"5.0\" y2=\"15.0\" stroke=\"black\" stroke-width=\"3\" /><line x1=\"15413.111523437505\" x2=\"15413.111523437505\" y1=\"875.0\" y2=\"885.0\" stroke=\"black\" stroke-width=\"3\" /><line x1=\"15503.111523437505\" x2=\"15503.111523437505\" y1=\"875.0\" y2=\"885.0\" stroke=\"black\" stroke-width=\"3\" /><line x1=\"15159.188125000004\" x2=\"15159.188125000004\" y1=\"5.0\" y2=\"15.0\" stroke=\"black\" stroke-width=\"3\" /><line x1=\"15249.188125000004\" x2=\"15249.188125000004\" y1=\"5.0\" y2=\"15.0\" stroke=\"black\" stroke-width=\"3\" /><line x1=\"15159.188125000004\" x2=\"15159.188125000004\" y1=\"875.0\" y2=\"885.0\" stroke=\"black\" stroke-width=\"3\" /><line x1=\"15249.188125000004\" x2=\"15249.188125000004\" y1=\"875.0\" y2=\"885.0\" stroke=\"black\" stroke-width=\"3\" /><line x1=\"14905.264726562504\" x2=\"14905.264726562504\" y1=\"5.0\" y2=\"15.0\" stroke=\"black\" stroke-width=\"3\" /><line x1=\"14995.264726562504\" x2=\"14995.264726562504\" y1=\"5.0\" y2=\"15.0\" stroke=\"black\" stroke-width=\"3\" /><line x1=\"14905.264726562504\" x2=\"14905.264726562504\" y1=\"875.0\" y2=\"885.0\" stroke=\"black\" stroke-width=\"3\" /><line x1=\"14995.264726562504\" x2=\"14995.264726562504\" y1=\"875.0\" y2=\"885.0\" stroke=\"black\" stroke-width=\"3\" /><line x1=\"14651.341328125003\" x2=\"14651.341328125003\" y1=\"5.0\" y2=\"15.0\" stroke=\"black\" stroke-width=\"3\" /><line x1=\"14741.341328125003\" x2=\"14741.341328125003\" y1=\"5.0\" y2=\"15.0\" stroke=\"black\" stroke-width=\"3\" /><line x1=\"14651.341328125003\" x2=\"14651.341328125003\" y1=\"875.0\" y2=\"885.0\" stroke=\"black\" stroke-width=\"3\" /><line x1=\"14741.341328125003\" x2=\"14741.341328125003\" y1=\"875.0\" y2=\"885.0\" stroke=\"black\" stroke-width=\"3\" /><line x1=\"14397.417929687503\" x2=\"14397.417929687503\" y1=\"5.0\" y2=\"15.0\" stroke=\"black\" stroke-width=\"3\" /><line x1=\"14487.417929687503\" x2=\"14487.417929687503\" y1=\"5.0\" y2=\"15.0\" stroke=\"black\" stroke-width=\"3\" /><line x1=\"14397.417929687503\" x2=\"14397.417929687503\" y1=\"875.0\" y2=\"885.0\" stroke=\"black\" stroke-width=\"3\" /><line x1=\"14487.417929687503\" x2=\"14487.417929687503\" y1=\"875.0\" y2=\"885.0\" stroke=\"black\" stroke-width=\"3\" /><line x1=\"14143.494531250002\" x2=\"14143.494531250002\" y1=\"5.0\" y2=\"15.0\" stroke=\"black\" stroke-width=\"3\" /><line x1=\"14233.494531250002\" x2=\"14233.494531250002\" y1=\"5.0\" y2=\"15.0\" stroke=\"black\" stroke-width=\"3\" /><line x1=\"14143.494531250002\" x2=\"14143.494531250002\" y1=\"875.0\" y2=\"885.0\" stroke=\"black\" stroke-width=\"3\" /><line x1=\"14233.494531250002\" x2=\"14233.494531250002\" y1=\"875.0\" y2=\"885.0\" stroke=\"black\" stroke-width=\"3\" /><line x1=\"13889.571132812502\" x2=\"13889.571132812502\" y1=\"5.0\" y2=\"15.0\" stroke=\"black\" stroke-width=\"3\" /><line x1=\"13979.571132812502\" x2=\"13979.571132812502\" y1=\"5.0\" y2=\"15.0\" stroke=\"black\" stroke-width=\"3\" /><line x1=\"13889.571132812502\" x2=\"13889.571132812502\" y1=\"875.0\" y2=\"885.0\" stroke=\"black\" stroke-width=\"3\" /><line x1=\"13979.571132812502\" x2=\"13979.571132812502\" y1=\"875.0\" y2=\"885.0\" stroke=\"black\" stroke-width=\"3\" /><line x1=\"13635.647734375001\" x2=\"13635.647734375001\" y1=\"5.0\" y2=\"15.0\" stroke=\"black\" stroke-width=\"3\" /><line x1=\"13725.647734375001\" x2=\"13725.647734375001\" y1=\"5.0\" y2=\"15.0\" stroke=\"black\" stroke-width=\"3\" /><line x1=\"13635.647734375001\" x2=\"13635.647734375001\" y1=\"875.0\" y2=\"885.0\" stroke=\"black\" stroke-width=\"3\" /><line x1=\"13725.647734375001\" x2=\"13725.647734375001\" y1=\"875.0\" y2=\"885.0\" stroke=\"black\" stroke-width=\"3\" /><line x1=\"13381.7243359375\" x2=\"13381.7243359375\" y1=\"5.0\" y2=\"15.0\" stroke=\"black\" stroke-width=\"3\" /><line x1=\"13471.7243359375\" x2=\"13471.7243359375\" y1=\"5.0\" y2=\"15.0\" stroke=\"black\" stroke-width=\"3\" /><line x1=\"13381.7243359375\" x2=\"13381.7243359375\" y1=\"875.0\" y2=\"885.0\" stroke=\"black\" stroke-width=\"3\" /><line x1=\"13471.7243359375\" x2=\"13471.7243359375\" y1=\"875.0\" y2=\"885.0\" stroke=\"black\" stroke-width=\"3\" /><line x1=\"13009.2419140625\" x2=\"13009.2419140625\" y1=\"5.0\" y2=\"15.0\" stroke=\"black\" stroke-width=\"3\" /><line x1=\"13157.8009375\" x2=\"13157.8009375\" y1=\"5.0\" y2=\"15.0\" stroke=\"black\" stroke-width=\"3\" /><line x1=\"13009.2419140625\" x2=\"13009.2419140625\" y1=\"875.0\" y2=\"885.0\" stroke=\"black\" stroke-width=\"3\" /><line x1=\"13157.8009375\" x2=\"13157.8009375\" y1=\"875.0\" y2=\"885.0\" stroke=\"black\" stroke-width=\"3\" /><line x1=\"12850.682890625001\" x2=\"12850.682890625001\" y1=\"5.0\" y2=\"15.0\" stroke=\"black\" stroke-width=\"3\" /><line x1=\"12999.2419140625\" x2=\"12999.2419140625\" y1=\"5.0\" y2=\"15.0\" stroke=\"black\" stroke-width=\"3\" /><line x1=\"12850.682890625001\" x2=\"12850.682890625001\" y1=\"875.0\" y2=\"885.0\" stroke=\"black\" stroke-width=\"3\" /><line x1=\"12999.2419140625\" x2=\"12999.2419140625\" y1=\"875.0\" y2=\"885.0\" stroke=\"black\" stroke-width=\"3\" /><line x1=\"12692.123867187502\" x2=\"12692.123867187502\" y1=\"5.0\" y2=\"15.0\" stroke=\"black\" stroke-width=\"3\" /><line x1=\"12840.682890625001\" x2=\"12840.682890625001\" y1=\"5.0\" y2=\"15.0\" stroke=\"black\" stroke-width=\"3\" /><line x1=\"12692.123867187502\" x2=\"12692.123867187502\" y1=\"875.0\" y2=\"885.0\" stroke=\"black\" stroke-width=\"3\" /><line x1=\"12840.682890625001\" x2=\"12840.682890625001\" y1=\"875.0\" y2=\"885.0\" stroke=\"black\" stroke-width=\"3\" /><line x1=\"12533.564843750002\" x2=\"12533.564843750002\" y1=\"5.0\" y2=\"15.0\" stroke=\"black\" stroke-width=\"3\" /><line x1=\"12682.123867187502\" x2=\"12682.123867187502\" y1=\"5.0\" y2=\"15.0\" stroke=\"black\" stroke-width=\"3\" /><line x1=\"12533.564843750002\" x2=\"12533.564843750002\" y1=\"875.0\" y2=\"885.0\" stroke=\"black\" stroke-width=\"3\" /><line x1=\"12682.123867187502\" x2=\"12682.123867187502\" y1=\"875.0\" y2=\"885.0\" stroke=\"black\" stroke-width=\"3\" /><line x1=\"12375.005820312503\" x2=\"12375.005820312503\" y1=\"5.0\" y2=\"15.0\" stroke=\"black\" stroke-width=\"3\" /><line x1=\"12523.564843750002\" x2=\"12523.564843750002\" y1=\"5.0\" y2=\"15.0\" stroke=\"black\" stroke-width=\"3\" /><line x1=\"12375.005820312503\" x2=\"12375.005820312503\" y1=\"875.0\" y2=\"885.0\" stroke=\"black\" stroke-width=\"3\" /><line x1=\"12523.564843750002\" x2=\"12523.564843750002\" y1=\"875.0\" y2=\"885.0\" stroke=\"black\" stroke-width=\"3\" /><line x1=\"12216.446796875003\" x2=\"12216.446796875003\" y1=\"5.0\" y2=\"15.0\" stroke=\"black\" stroke-width=\"3\" /><line x1=\"12365.005820312503\" x2=\"12365.005820312503\" y1=\"5.0\" y2=\"15.0\" stroke=\"black\" stroke-width=\"3\" /><line x1=\"12216.446796875003\" x2=\"12216.446796875003\" y1=\"875.0\" y2=\"885.0\" stroke=\"black\" stroke-width=\"3\" /><line x1=\"12365.005820312503\" x2=\"12365.005820312503\" y1=\"875.0\" y2=\"885.0\" stroke=\"black\" stroke-width=\"3\" /><line x1=\"12066.795000000004\" x2=\"12066.795000000004\" y1=\"5.0\" y2=\"15.0\" stroke=\"black\" stroke-width=\"3\" /><line x1=\"12206.446796875003\" x2=\"12206.446796875003\" y1=\"5.0\" y2=\"15.0\" stroke=\"black\" stroke-width=\"3\" /><line x1=\"12066.795000000004\" x2=\"12066.795000000004\" y1=\"875.0\" y2=\"885.0\" stroke=\"black\" stroke-width=\"3\" /><line x1=\"12206.446796875003\" x2=\"12206.446796875003\" y1=\"875.0\" y2=\"885.0\" stroke=\"black\" stroke-width=\"3\" /><line x1=\"11917.143203125004\" x2=\"11917.143203125004\" y1=\"5.0\" y2=\"15.0\" stroke=\"black\" stroke-width=\"3\" /><line x1=\"12056.795000000004\" x2=\"12056.795000000004\" y1=\"5.0\" y2=\"15.0\" stroke=\"black\" stroke-width=\"3\" /><line x1=\"11917.143203125004\" x2=\"11917.143203125004\" y1=\"875.0\" y2=\"885.0\" stroke=\"black\" stroke-width=\"3\" /><line x1=\"12056.795000000004\" x2=\"12056.795000000004\" y1=\"875.0\" y2=\"885.0\" stroke=\"black\" stroke-width=\"3\" /><line x1=\"11767.491406250005\" x2=\"11767.491406250005\" y1=\"5.0\" y2=\"15.0\" stroke=\"black\" stroke-width=\"3\" /><line x1=\"11907.143203125004\" x2=\"11907.143203125004\" y1=\"5.0\" y2=\"15.0\" stroke=\"black\" stroke-width=\"3\" /><line x1=\"11767.491406250005\" x2=\"11767.491406250005\" y1=\"875.0\" y2=\"885.0\" stroke=\"black\" stroke-width=\"3\" /><line x1=\"11907.143203125004\" x2=\"11907.143203125004\" y1=\"875.0\" y2=\"885.0\" stroke=\"black\" stroke-width=\"3\" /><line x1=\"11617.839609375005\" x2=\"11617.839609375005\" y1=\"5.0\" y2=\"15.0\" stroke=\"black\" stroke-width=\"3\" /><line x1=\"11757.491406250005\" x2=\"11757.491406250005\" y1=\"5.0\" y2=\"15.0\" stroke=\"black\" stroke-width=\"3\" /><line x1=\"11617.839609375005\" x2=\"11617.839609375005\" y1=\"875.0\" y2=\"885.0\" stroke=\"black\" stroke-width=\"3\" /><line x1=\"11757.491406250005\" x2=\"11757.491406250005\" y1=\"875.0\" y2=\"885.0\" stroke=\"black\" stroke-width=\"3\" /><line x1=\"11468.187812500006\" x2=\"11468.187812500006\" y1=\"5.0\" y2=\"15.0\" stroke=\"black\" stroke-width=\"3\" /><line x1=\"11607.839609375005\" x2=\"11607.839609375005\" y1=\"5.0\" y2=\"15.0\" stroke=\"black\" stroke-width=\"3\" /><line x1=\"11468.187812500006\" x2=\"11468.187812500006\" y1=\"875.0\" y2=\"885.0\" stroke=\"black\" stroke-width=\"3\" /><line x1=\"11607.839609375005\" x2=\"11607.839609375005\" y1=\"875.0\" y2=\"885.0\" stroke=\"black\" stroke-width=\"3\" /><line x1=\"11318.536015625006\" x2=\"11318.536015625006\" y1=\"5.0\" y2=\"15.0\" stroke=\"black\" stroke-width=\"3\" /><line x1=\"11458.187812500006\" x2=\"11458.187812500006\" y1=\"5.0\" y2=\"15.0\" stroke=\"black\" stroke-width=\"3\" /><line x1=\"11318.536015625006\" x2=\"11318.536015625006\" y1=\"875.0\" y2=\"885.0\" stroke=\"black\" stroke-width=\"3\" /><line x1=\"11458.187812500006\" x2=\"11458.187812500006\" y1=\"875.0\" y2=\"885.0\" stroke=\"black\" stroke-width=\"3\" /><line x1=\"11168.884218750007\" x2=\"11168.884218750007\" y1=\"5.0\" y2=\"15.0\" stroke=\"black\" stroke-width=\"3\" /><line x1=\"11308.536015625006\" x2=\"11308.536015625006\" y1=\"5.0\" y2=\"15.0\" stroke=\"black\" stroke-width=\"3\" /><line x1=\"11168.884218750007\" x2=\"11168.884218750007\" y1=\"875.0\" y2=\"885.0\" stroke=\"black\" stroke-width=\"3\" /><line x1=\"11308.536015625006\" x2=\"11308.536015625006\" y1=\"875.0\" y2=\"885.0\" stroke=\"black\" stroke-width=\"3\" /><line x1=\"11019.232421875007\" x2=\"11019.232421875007\" y1=\"5.0\" y2=\"15.0\" stroke=\"black\" stroke-width=\"3\" /><line x1=\"11158.884218750007\" x2=\"11158.884218750007\" y1=\"5.0\" y2=\"15.0\" stroke=\"black\" stroke-width=\"3\" /><line x1=\"11019.232421875007\" x2=\"11019.232421875007\" y1=\"875.0\" y2=\"885.0\" stroke=\"black\" stroke-width=\"3\" /><line x1=\"11158.884218750007\" x2=\"11158.884218750007\" y1=\"875.0\" y2=\"885.0\" stroke=\"black\" stroke-width=\"3\" /><line x1=\"10869.580625000008\" x2=\"10869.580625000008\" y1=\"5.0\" y2=\"15.0\" stroke=\"black\" stroke-width=\"3\" /><line x1=\"11009.232421875007\" x2=\"11009.232421875007\" y1=\"5.0\" y2=\"15.0\" stroke=\"black\" stroke-width=\"3\" /><line x1=\"10869.580625000008\" x2=\"10869.580625000008\" y1=\"875.0\" y2=\"885.0\" stroke=\"black\" stroke-width=\"3\" /><line x1=\"11009.232421875007\" x2=\"11009.232421875007\" y1=\"875.0\" y2=\"885.0\" stroke=\"black\" stroke-width=\"3\" /><line x1=\"10497.098203125008\" x2=\"10497.098203125008\" y1=\"5.0\" y2=\"15.0\" stroke=\"black\" stroke-width=\"3\" /><line x1=\"10587.098203125008\" x2=\"10587.098203125008\" y1=\"5.0\" y2=\"15.0\" stroke=\"black\" stroke-width=\"3\" /><line x1=\"10497.098203125008\" x2=\"10497.098203125008\" y1=\"875.0\" y2=\"885.0\" stroke=\"black\" stroke-width=\"3\" /><line x1=\"10587.098203125008\" x2=\"10587.098203125008\" y1=\"875.0\" y2=\"885.0\" stroke=\"black\" stroke-width=\"3\" /><line x1=\"10234.267578125007\" x2=\"10234.267578125007\" y1=\"5.0\" y2=\"15.0\" stroke=\"black\" stroke-width=\"3\" /><line x1=\"10324.267578125007\" x2=\"10324.267578125007\" y1=\"5.0\" y2=\"15.0\" stroke=\"black\" stroke-width=\"3\" /><line x1=\"10234.267578125007\" x2=\"10234.267578125007\" y1=\"875.0\" y2=\"885.0\" stroke=\"black\" stroke-width=\"3\" /><line x1=\"10324.267578125007\" x2=\"10324.267578125007\" y1=\"875.0\" y2=\"885.0\" stroke=\"black\" stroke-width=\"3\" /><line x1=\"9971.436953125007\" x2=\"9971.436953125007\" y1=\"5.0\" y2=\"15.0\" stroke=\"black\" stroke-width=\"3\" /><line x1=\"10061.436953125007\" x2=\"10061.436953125007\" y1=\"5.0\" y2=\"15.0\" stroke=\"black\" stroke-width=\"3\" /><line x1=\"9971.436953125007\" x2=\"9971.436953125007\" y1=\"875.0\" y2=\"885.0\" stroke=\"black\" stroke-width=\"3\" /><line x1=\"10061.436953125007\" x2=\"10061.436953125007\" y1=\"875.0\" y2=\"885.0\" stroke=\"black\" stroke-width=\"3\" /><line x1=\"9708.606328125006\" x2=\"9708.606328125006\" y1=\"5.0\" y2=\"15.0\" stroke=\"black\" stroke-width=\"3\" /><line x1=\"9798.606328125006\" x2=\"9798.606328125006\" y1=\"5.0\" y2=\"15.0\" stroke=\"black\" stroke-width=\"3\" /><line x1=\"9708.606328125006\" x2=\"9708.606328125006\" y1=\"875.0\" y2=\"885.0\" stroke=\"black\" stroke-width=\"3\" /><line x1=\"9798.606328125006\" x2=\"9798.606328125006\" y1=\"875.0\" y2=\"885.0\" stroke=\"black\" stroke-width=\"3\" /><line x1=\"9445.775703125006\" x2=\"9445.775703125006\" y1=\"5.0\" y2=\"15.0\" stroke=\"black\" stroke-width=\"3\" /><line x1=\"9535.775703125006\" x2=\"9535.775703125006\" y1=\"5.0\" y2=\"15.0\" stroke=\"black\" stroke-width=\"3\" /><line x1=\"9445.775703125006\" x2=\"9445.775703125006\" y1=\"875.0\" y2=\"885.0\" stroke=\"black\" stroke-width=\"3\" /><line x1=\"9535.775703125006\" x2=\"9535.775703125006\" y1=\"875.0\" y2=\"885.0\" stroke=\"black\" stroke-width=\"3\" /><line x1=\"9182.945078125005\" x2=\"9182.945078125005\" y1=\"5.0\" y2=\"15.0\" stroke=\"black\" stroke-width=\"3\" /><line x1=\"9272.945078125005\" x2=\"9272.945078125005\" y1=\"5.0\" y2=\"15.0\" stroke=\"black\" stroke-width=\"3\" /><line x1=\"9182.945078125005\" x2=\"9182.945078125005\" y1=\"875.0\" y2=\"885.0\" stroke=\"black\" stroke-width=\"3\" /><line x1=\"9272.945078125005\" x2=\"9272.945078125005\" y1=\"875.0\" y2=\"885.0\" stroke=\"black\" stroke-width=\"3\" /><line x1=\"8929.021679687505\" x2=\"8929.021679687505\" y1=\"5.0\" y2=\"15.0\" stroke=\"black\" stroke-width=\"3\" /><line x1=\"9019.021679687505\" x2=\"9019.021679687505\" y1=\"5.0\" y2=\"15.0\" stroke=\"black\" stroke-width=\"3\" /><line x1=\"8929.021679687505\" x2=\"8929.021679687505\" y1=\"875.0\" y2=\"885.0\" stroke=\"black\" stroke-width=\"3\" /><line x1=\"9019.021679687505\" x2=\"9019.021679687505\" y1=\"875.0\" y2=\"885.0\" stroke=\"black\" stroke-width=\"3\" /><line x1=\"8675.098281250004\" x2=\"8675.098281250004\" y1=\"5.0\" y2=\"15.0\" stroke=\"black\" stroke-width=\"3\" /><line x1=\"8765.098281250004\" x2=\"8765.098281250004\" y1=\"5.0\" y2=\"15.0\" stroke=\"black\" stroke-width=\"3\" /><line x1=\"8675.098281250004\" x2=\"8675.098281250004\" y1=\"875.0\" y2=\"885.0\" stroke=\"black\" stroke-width=\"3\" /><line x1=\"8765.098281250004\" x2=\"8765.098281250004\" y1=\"875.0\" y2=\"885.0\" stroke=\"black\" stroke-width=\"3\" /><line x1=\"8421.174882812504\" x2=\"8421.174882812504\" y1=\"5.0\" y2=\"15.0\" stroke=\"black\" stroke-width=\"3\" /><line x1=\"8511.174882812504\" x2=\"8511.174882812504\" y1=\"5.0\" y2=\"15.0\" stroke=\"black\" stroke-width=\"3\" /><line x1=\"8421.174882812504\" x2=\"8421.174882812504\" y1=\"875.0\" y2=\"885.0\" stroke=\"black\" stroke-width=\"3\" /><line x1=\"8511.174882812504\" x2=\"8511.174882812504\" y1=\"875.0\" y2=\"885.0\" stroke=\"black\" stroke-width=\"3\" /><line x1=\"8167.251484375004\" x2=\"8167.251484375004\" y1=\"5.0\" y2=\"15.0\" stroke=\"black\" stroke-width=\"3\" /><line x1=\"8257.251484375003\" x2=\"8257.251484375003\" y1=\"5.0\" y2=\"15.0\" stroke=\"black\" stroke-width=\"3\" /><line x1=\"8167.251484375004\" x2=\"8167.251484375004\" y1=\"875.0\" y2=\"885.0\" stroke=\"black\" stroke-width=\"3\" /><line x1=\"8257.251484375003\" x2=\"8257.251484375003\" y1=\"875.0\" y2=\"885.0\" stroke=\"black\" stroke-width=\"3\" /><line x1=\"7913.3280859375045\" x2=\"7913.3280859375045\" y1=\"5.0\" y2=\"15.0\" stroke=\"black\" stroke-width=\"3\" /><line x1=\"8003.3280859375045\" x2=\"8003.3280859375045\" y1=\"5.0\" y2=\"15.0\" stroke=\"black\" stroke-width=\"3\" /><line x1=\"7913.3280859375045\" x2=\"7913.3280859375045\" y1=\"875.0\" y2=\"885.0\" stroke=\"black\" stroke-width=\"3\" /><line x1=\"8003.3280859375045\" x2=\"8003.3280859375045\" y1=\"875.0\" y2=\"885.0\" stroke=\"black\" stroke-width=\"3\" /><line x1=\"7659.404687500005\" x2=\"7659.404687500005\" y1=\"5.0\" y2=\"15.0\" stroke=\"black\" stroke-width=\"3\" /><line x1=\"7749.404687500005\" x2=\"7749.404687500005\" y1=\"5.0\" y2=\"15.0\" stroke=\"black\" stroke-width=\"3\" /><line x1=\"7659.404687500005\" x2=\"7659.404687500005\" y1=\"875.0\" y2=\"885.0\" stroke=\"black\" stroke-width=\"3\" /><line x1=\"7749.404687500005\" x2=\"7749.404687500005\" y1=\"875.0\" y2=\"885.0\" stroke=\"black\" stroke-width=\"3\" /><line x1=\"7405.481289062505\" x2=\"7405.481289062505\" y1=\"5.0\" y2=\"15.0\" stroke=\"black\" stroke-width=\"3\" /><line x1=\"7495.481289062505\" x2=\"7495.481289062505\" y1=\"5.0\" y2=\"15.0\" stroke=\"black\" stroke-width=\"3\" /><line x1=\"7405.481289062505\" x2=\"7405.481289062505\" y1=\"875.0\" y2=\"885.0\" stroke=\"black\" stroke-width=\"3\" /><line x1=\"7495.481289062505\" x2=\"7495.481289062505\" y1=\"875.0\" y2=\"885.0\" stroke=\"black\" stroke-width=\"3\" /><line x1=\"7151.557890625006\" x2=\"7151.557890625006\" y1=\"5.0\" y2=\"15.0\" stroke=\"black\" stroke-width=\"3\" /><line x1=\"7241.557890625006\" x2=\"7241.557890625006\" y1=\"5.0\" y2=\"15.0\" stroke=\"black\" stroke-width=\"3\" /><line x1=\"7151.557890625006\" x2=\"7151.557890625006\" y1=\"875.0\" y2=\"885.0\" stroke=\"black\" stroke-width=\"3\" /><line x1=\"7241.557890625006\" x2=\"7241.557890625006\" y1=\"875.0\" y2=\"885.0\" stroke=\"black\" stroke-width=\"3\" /><line x1=\"6897.634492187506\" x2=\"6897.634492187506\" y1=\"5.0\" y2=\"15.0\" stroke=\"black\" stroke-width=\"3\" /><line x1=\"6987.634492187506\" x2=\"6987.634492187506\" y1=\"5.0\" y2=\"15.0\" stroke=\"black\" stroke-width=\"3\" /><line x1=\"6897.634492187506\" x2=\"6897.634492187506\" y1=\"875.0\" y2=\"885.0\" stroke=\"black\" stroke-width=\"3\" /><line x1=\"6987.634492187506\" x2=\"6987.634492187506\" y1=\"875.0\" y2=\"885.0\" stroke=\"black\" stroke-width=\"3\" /><line x1=\"6525.152070312506\" x2=\"6525.152070312506\" y1=\"5.0\" y2=\"15.0\" stroke=\"black\" stroke-width=\"3\" /><line x1=\"6673.7110937500065\" x2=\"6673.7110937500065\" y1=\"5.0\" y2=\"15.0\" stroke=\"black\" stroke-width=\"3\" /><line x1=\"6525.152070312506\" x2=\"6525.152070312506\" y1=\"875.0\" y2=\"885.0\" stroke=\"black\" stroke-width=\"3\" /><line x1=\"6673.7110937500065\" x2=\"6673.7110937500065\" y1=\"875.0\" y2=\"885.0\" stroke=\"black\" stroke-width=\"3\" /><line x1=\"6366.593046875006\" x2=\"6366.593046875006\" y1=\"5.0\" y2=\"15.0\" stroke=\"black\" stroke-width=\"3\" /><line x1=\"6515.152070312506\" x2=\"6515.152070312506\" y1=\"5.0\" y2=\"15.0\" stroke=\"black\" stroke-width=\"3\" /><line x1=\"6366.593046875006\" x2=\"6366.593046875006\" y1=\"875.0\" y2=\"885.0\" stroke=\"black\" stroke-width=\"3\" /><line x1=\"6515.152070312506\" x2=\"6515.152070312506\" y1=\"875.0\" y2=\"885.0\" stroke=\"black\" stroke-width=\"3\" /><line x1=\"6208.034023437505\" x2=\"6208.034023437505\" y1=\"5.0\" y2=\"15.0\" stroke=\"black\" stroke-width=\"3\" /><line x1=\"6356.593046875006\" x2=\"6356.593046875006\" y1=\"5.0\" y2=\"15.0\" stroke=\"black\" stroke-width=\"3\" /><line x1=\"6208.034023437505\" x2=\"6208.034023437505\" y1=\"875.0\" y2=\"885.0\" stroke=\"black\" stroke-width=\"3\" /><line x1=\"6356.593046875006\" x2=\"6356.593046875006\" y1=\"875.0\" y2=\"885.0\" stroke=\"black\" stroke-width=\"3\" /><line x1=\"6049.475000000005\" x2=\"6049.475000000005\" y1=\"5.0\" y2=\"15.0\" stroke=\"black\" stroke-width=\"3\" /><line x1=\"6198.034023437505\" x2=\"6198.034023437505\" y1=\"5.0\" y2=\"15.0\" stroke=\"black\" stroke-width=\"3\" /><line x1=\"6049.475000000005\" x2=\"6049.475000000005\" y1=\"875.0\" y2=\"885.0\" stroke=\"black\" stroke-width=\"3\" /><line x1=\"6198.034023437505\" x2=\"6198.034023437505\" y1=\"875.0\" y2=\"885.0\" stroke=\"black\" stroke-width=\"3\" /><line x1=\"5890.9159765625045\" x2=\"5890.9159765625045\" y1=\"5.0\" y2=\"15.0\" stroke=\"black\" stroke-width=\"3\" /><line x1=\"6039.475000000005\" x2=\"6039.475000000005\" y1=\"5.0\" y2=\"15.0\" stroke=\"black\" stroke-width=\"3\" /><line x1=\"5890.9159765625045\" x2=\"5890.9159765625045\" y1=\"875.0\" y2=\"885.0\" stroke=\"black\" stroke-width=\"3\" /><line x1=\"6039.475000000005\" x2=\"6039.475000000005\" y1=\"875.0\" y2=\"885.0\" stroke=\"black\" stroke-width=\"3\" /><line x1=\"5732.356953125004\" x2=\"5732.356953125004\" y1=\"5.0\" y2=\"15.0\" stroke=\"black\" stroke-width=\"3\" /><line x1=\"5880.9159765625045\" x2=\"5880.9159765625045\" y1=\"5.0\" y2=\"15.0\" stroke=\"black\" stroke-width=\"3\" /><line x1=\"5732.356953125004\" x2=\"5732.356953125004\" y1=\"875.0\" y2=\"885.0\" stroke=\"black\" stroke-width=\"3\" /><line x1=\"5880.9159765625045\" x2=\"5880.9159765625045\" y1=\"875.0\" y2=\"885.0\" stroke=\"black\" stroke-width=\"3\" /><line x1=\"5582.705156250004\" x2=\"5582.705156250004\" y1=\"5.0\" y2=\"15.0\" stroke=\"black\" stroke-width=\"3\" /><line x1=\"5722.356953125004\" x2=\"5722.356953125004\" y1=\"5.0\" y2=\"15.0\" stroke=\"black\" stroke-width=\"3\" /><line x1=\"5582.705156250004\" x2=\"5582.705156250004\" y1=\"875.0\" y2=\"885.0\" stroke=\"black\" stroke-width=\"3\" /><line x1=\"5722.356953125004\" x2=\"5722.356953125004\" y1=\"875.0\" y2=\"885.0\" stroke=\"black\" stroke-width=\"3\" /><line x1=\"5433.053359375003\" x2=\"5433.053359375003\" y1=\"5.0\" y2=\"15.0\" stroke=\"black\" stroke-width=\"3\" /><line x1=\"5572.705156250004\" x2=\"5572.705156250004\" y1=\"5.0\" y2=\"15.0\" stroke=\"black\" stroke-width=\"3\" /><line x1=\"5433.053359375003\" x2=\"5433.053359375003\" y1=\"875.0\" y2=\"885.0\" stroke=\"black\" stroke-width=\"3\" /><line x1=\"5572.705156250004\" x2=\"5572.705156250004\" y1=\"875.0\" y2=\"885.0\" stroke=\"black\" stroke-width=\"3\" /><line x1=\"5283.401562500003\" x2=\"5283.401562500003\" y1=\"5.0\" y2=\"15.0\" stroke=\"black\" stroke-width=\"3\" /><line x1=\"5423.053359375003\" x2=\"5423.053359375003\" y1=\"5.0\" y2=\"15.0\" stroke=\"black\" stroke-width=\"3\" /><line x1=\"5283.401562500003\" x2=\"5283.401562500003\" y1=\"875.0\" y2=\"885.0\" stroke=\"black\" stroke-width=\"3\" /><line x1=\"5423.053359375003\" x2=\"5423.053359375003\" y1=\"875.0\" y2=\"885.0\" stroke=\"black\" stroke-width=\"3\" /><line x1=\"5133.7497656250025\" x2=\"5133.7497656250025\" y1=\"5.0\" y2=\"15.0\" stroke=\"black\" stroke-width=\"3\" /><line x1=\"5273.401562500003\" x2=\"5273.401562500003\" y1=\"5.0\" y2=\"15.0\" stroke=\"black\" stroke-width=\"3\" /><line x1=\"5133.7497656250025\" x2=\"5133.7497656250025\" y1=\"875.0\" y2=\"885.0\" stroke=\"black\" stroke-width=\"3\" /><line x1=\"5273.401562500003\" x2=\"5273.401562500003\" y1=\"875.0\" y2=\"885.0\" stroke=\"black\" stroke-width=\"3\" /><line x1=\"4984.097968750002\" x2=\"4984.097968750002\" y1=\"5.0\" y2=\"15.0\" stroke=\"black\" stroke-width=\"3\" /><line x1=\"5123.7497656250025\" x2=\"5123.7497656250025\" y1=\"5.0\" y2=\"15.0\" stroke=\"black\" stroke-width=\"3\" /><line x1=\"4984.097968750002\" x2=\"4984.097968750002\" y1=\"875.0\" y2=\"885.0\" stroke=\"black\" stroke-width=\"3\" /><line x1=\"5123.7497656250025\" x2=\"5123.7497656250025\" y1=\"875.0\" y2=\"885.0\" stroke=\"black\" stroke-width=\"3\" /><line x1=\"4834.446171875002\" x2=\"4834.446171875002\" y1=\"5.0\" y2=\"15.0\" stroke=\"black\" stroke-width=\"3\" /><line x1=\"4974.097968750002\" x2=\"4974.097968750002\" y1=\"5.0\" y2=\"15.0\" stroke=\"black\" stroke-width=\"3\" /><line x1=\"4834.446171875002\" x2=\"4834.446171875002\" y1=\"875.0\" y2=\"885.0\" stroke=\"black\" stroke-width=\"3\" /><line x1=\"4974.097968750002\" x2=\"4974.097968750002\" y1=\"875.0\" y2=\"885.0\" stroke=\"black\" stroke-width=\"3\" /><line x1=\"4684.794375000001\" x2=\"4684.794375000001\" y1=\"5.0\" y2=\"15.0\" stroke=\"black\" stroke-width=\"3\" /><line x1=\"4824.446171875002\" x2=\"4824.446171875002\" y1=\"5.0\" y2=\"15.0\" stroke=\"black\" stroke-width=\"3\" /><line x1=\"4684.794375000001\" x2=\"4684.794375000001\" y1=\"875.0\" y2=\"885.0\" stroke=\"black\" stroke-width=\"3\" /><line x1=\"4824.446171875002\" x2=\"4824.446171875002\" y1=\"875.0\" y2=\"885.0\" stroke=\"black\" stroke-width=\"3\" /><line x1=\"4535.142578125001\" x2=\"4535.142578125001\" y1=\"5.0\" y2=\"15.0\" stroke=\"black\" stroke-width=\"3\" /><line x1=\"4674.794375000001\" x2=\"4674.794375000001\" y1=\"5.0\" y2=\"15.0\" stroke=\"black\" stroke-width=\"3\" /><line x1=\"4535.142578125001\" x2=\"4535.142578125001\" y1=\"875.0\" y2=\"885.0\" stroke=\"black\" stroke-width=\"3\" /><line x1=\"4674.794375000001\" x2=\"4674.794375000001\" y1=\"875.0\" y2=\"885.0\" stroke=\"black\" stroke-width=\"3\" /><line x1=\"4385.4907812500005\" x2=\"4385.4907812500005\" y1=\"5.0\" y2=\"15.0\" stroke=\"black\" stroke-width=\"3\" /><line x1=\"4525.142578125001\" x2=\"4525.142578125001\" y1=\"5.0\" y2=\"15.0\" stroke=\"black\" stroke-width=\"3\" /><line x1=\"4385.4907812500005\" x2=\"4385.4907812500005\" y1=\"875.0\" y2=\"885.0\" stroke=\"black\" stroke-width=\"3\" /><line x1=\"4525.142578125001\" x2=\"4525.142578125001\" y1=\"875.0\" y2=\"885.0\" stroke=\"black\" stroke-width=\"3\" /><line x1=\"4013.0083593750005\" x2=\"4013.0083593750005\" y1=\"5.0\" y2=\"15.0\" stroke=\"black\" stroke-width=\"3\" /><line x1=\"4103.0083593750005\" x2=\"4103.0083593750005\" y1=\"5.0\" y2=\"15.0\" stroke=\"black\" stroke-width=\"3\" /><line x1=\"4013.0083593750005\" x2=\"4013.0083593750005\" y1=\"875.0\" y2=\"885.0\" stroke=\"black\" stroke-width=\"3\" /><line x1=\"4103.0083593750005\" x2=\"4103.0083593750005\" y1=\"875.0\" y2=\"885.0\" stroke=\"black\" stroke-width=\"3\" /><line x1=\"3750.1777343750005\" x2=\"3750.1777343750005\" y1=\"5.0\" y2=\"15.0\" stroke=\"black\" stroke-width=\"3\" /><line x1=\"3840.1777343750005\" x2=\"3840.1777343750005\" y1=\"5.0\" y2=\"15.0\" stroke=\"black\" stroke-width=\"3\" /><line x1=\"3750.1777343750005\" x2=\"3750.1777343750005\" y1=\"875.0\" y2=\"885.0\" stroke=\"black\" stroke-width=\"3\" /><line x1=\"3840.1777343750005\" x2=\"3840.1777343750005\" y1=\"875.0\" y2=\"885.0\" stroke=\"black\" stroke-width=\"3\" /><line x1=\"3487.3471093750004\" x2=\"3487.3471093750004\" y1=\"5.0\" y2=\"15.0\" stroke=\"black\" stroke-width=\"3\" /><line x1=\"3577.3471093750004\" x2=\"3577.3471093750004\" y1=\"5.0\" y2=\"15.0\" stroke=\"black\" stroke-width=\"3\" /><line x1=\"3487.3471093750004\" x2=\"3487.3471093750004\" y1=\"875.0\" y2=\"885.0\" stroke=\"black\" stroke-width=\"3\" /><line x1=\"3577.3471093750004\" x2=\"3577.3471093750004\" y1=\"875.0\" y2=\"885.0\" stroke=\"black\" stroke-width=\"3\" /><line x1=\"3224.5164843750003\" x2=\"3224.5164843750003\" y1=\"5.0\" y2=\"15.0\" stroke=\"black\" stroke-width=\"3\" /><line x1=\"3314.5164843750003\" x2=\"3314.5164843750003\" y1=\"5.0\" y2=\"15.0\" stroke=\"black\" stroke-width=\"3\" /><line x1=\"3224.5164843750003\" x2=\"3224.5164843750003\" y1=\"875.0\" y2=\"885.0\" stroke=\"black\" stroke-width=\"3\" /><line x1=\"3314.5164843750003\" x2=\"3314.5164843750003\" y1=\"875.0\" y2=\"885.0\" stroke=\"black\" stroke-width=\"3\" /><line x1=\"2961.6858593750003\" x2=\"2961.6858593750003\" y1=\"5.0\" y2=\"15.0\" stroke=\"black\" stroke-width=\"3\" /><line x1=\"3051.6858593750003\" x2=\"3051.6858593750003\" y1=\"5.0\" y2=\"15.0\" stroke=\"black\" stroke-width=\"3\" /><line x1=\"2961.6858593750003\" x2=\"2961.6858593750003\" y1=\"875.0\" y2=\"885.0\" stroke=\"black\" stroke-width=\"3\" /><line x1=\"3051.6858593750003\" x2=\"3051.6858593750003\" y1=\"875.0\" y2=\"885.0\" stroke=\"black\" stroke-width=\"3\" /><line x1=\"2698.8552343750002\" x2=\"2698.8552343750002\" y1=\"5.0\" y2=\"15.0\" stroke=\"black\" stroke-width=\"3\" /><line x1=\"2788.8552343750002\" x2=\"2788.8552343750002\" y1=\"5.0\" y2=\"15.0\" stroke=\"black\" stroke-width=\"3\" /><line x1=\"2698.8552343750002\" x2=\"2698.8552343750002\" y1=\"875.0\" y2=\"885.0\" stroke=\"black\" stroke-width=\"3\" /><line x1=\"2788.8552343750002\" x2=\"2788.8552343750002\" y1=\"875.0\" y2=\"885.0\" stroke=\"black\" stroke-width=\"3\" /><line x1=\"2444.9318359375\" x2=\"2444.9318359375\" y1=\"5.0\" y2=\"15.0\" stroke=\"black\" stroke-width=\"3\" /><line x1=\"2534.9318359375\" x2=\"2534.9318359375\" y1=\"5.0\" y2=\"15.0\" stroke=\"black\" stroke-width=\"3\" /><line x1=\"2444.9318359375\" x2=\"2444.9318359375\" y1=\"875.0\" y2=\"885.0\" stroke=\"black\" stroke-width=\"3\" /><line x1=\"2534.9318359375\" x2=\"2534.9318359375\" y1=\"875.0\" y2=\"885.0\" stroke=\"black\" stroke-width=\"3\" /><line x1=\"2191.0084375\" x2=\"2191.0084375\" y1=\"5.0\" y2=\"15.0\" stroke=\"black\" stroke-width=\"3\" /><line x1=\"2281.0084375\" x2=\"2281.0084375\" y1=\"5.0\" y2=\"15.0\" stroke=\"black\" stroke-width=\"3\" /><line x1=\"2191.0084375\" x2=\"2191.0084375\" y1=\"875.0\" y2=\"885.0\" stroke=\"black\" stroke-width=\"3\" /><line x1=\"2281.0084375\" x2=\"2281.0084375\" y1=\"875.0\" y2=\"885.0\" stroke=\"black\" stroke-width=\"3\" /><line x1=\"1937.0850390625003\" x2=\"1937.0850390625003\" y1=\"5.0\" y2=\"15.0\" stroke=\"black\" stroke-width=\"3\" /><line x1=\"2027.0850390625003\" x2=\"2027.0850390625003\" y1=\"5.0\" y2=\"15.0\" stroke=\"black\" stroke-width=\"3\" /><line x1=\"1937.0850390625003\" x2=\"1937.0850390625003\" y1=\"875.0\" y2=\"885.0\" stroke=\"black\" stroke-width=\"3\" /><line x1=\"2027.0850390625003\" x2=\"2027.0850390625003\" y1=\"875.0\" y2=\"885.0\" stroke=\"black\" stroke-width=\"3\" /><line x1=\"1683.1616406250002\" x2=\"1683.1616406250002\" y1=\"5.0\" y2=\"15.0\" stroke=\"black\" stroke-width=\"3\" /><line x1=\"1773.1616406250002\" x2=\"1773.1616406250002\" y1=\"5.0\" y2=\"15.0\" stroke=\"black\" stroke-width=\"3\" /><line x1=\"1683.1616406250002\" x2=\"1683.1616406250002\" y1=\"875.0\" y2=\"885.0\" stroke=\"black\" stroke-width=\"3\" /><line x1=\"1773.1616406250002\" x2=\"1773.1616406250002\" y1=\"875.0\" y2=\"885.0\" stroke=\"black\" stroke-width=\"3\" /><line x1=\"1429.2382421875002\" x2=\"1429.2382421875002\" y1=\"5.0\" y2=\"15.0\" stroke=\"black\" stroke-width=\"3\" /><line x1=\"1519.2382421875002\" x2=\"1519.2382421875002\" y1=\"5.0\" y2=\"15.0\" stroke=\"black\" stroke-width=\"3\" /><line x1=\"1429.2382421875002\" x2=\"1429.2382421875002\" y1=\"875.0\" y2=\"885.0\" stroke=\"black\" stroke-width=\"3\" /><line x1=\"1519.2382421875002\" x2=\"1519.2382421875002\" y1=\"875.0\" y2=\"885.0\" stroke=\"black\" stroke-width=\"3\" /><line x1=\"1175.3148437500001\" x2=\"1175.3148437500001\" y1=\"5.0\" y2=\"15.0\" stroke=\"black\" stroke-width=\"3\" /><line x1=\"1265.3148437500001\" x2=\"1265.3148437500001\" y1=\"5.0\" y2=\"15.0\" stroke=\"black\" stroke-width=\"3\" /><line x1=\"1175.3148437500001\" x2=\"1175.3148437500001\" y1=\"875.0\" y2=\"885.0\" stroke=\"black\" stroke-width=\"3\" /><line x1=\"1265.3148437500001\" x2=\"1265.3148437500001\" y1=\"875.0\" y2=\"885.0\" stroke=\"black\" stroke-width=\"3\" /><line x1=\"921.3914453125001\" x2=\"921.3914453125001\" y1=\"5.0\" y2=\"15.0\" stroke=\"black\" stroke-width=\"3\" /><line x1=\"1011.3914453125001\" x2=\"1011.3914453125001\" y1=\"5.0\" y2=\"15.0\" stroke=\"black\" stroke-width=\"3\" /><line x1=\"921.3914453125001\" x2=\"921.3914453125001\" y1=\"875.0\" y2=\"885.0\" stroke=\"black\" stroke-width=\"3\" /><line x1=\"1011.3914453125001\" x2=\"1011.3914453125001\" y1=\"875.0\" y2=\"885.0\" stroke=\"black\" stroke-width=\"3\" /><line x1=\"667.468046875\" x2=\"667.468046875\" y1=\"5.0\" y2=\"15.0\" stroke=\"black\" stroke-width=\"3\" /><line x1=\"757.468046875\" x2=\"757.468046875\" y1=\"5.0\" y2=\"15.0\" stroke=\"black\" stroke-width=\"3\" /><line x1=\"667.468046875\" x2=\"667.468046875\" y1=\"875.0\" y2=\"885.0\" stroke=\"black\" stroke-width=\"3\" /><line x1=\"757.468046875\" x2=\"757.468046875\" y1=\"875.0\" y2=\"885.0\" stroke=\"black\" stroke-width=\"3\" /><line x1=\"413.54464843750003\" x2=\"413.54464843750003\" y1=\"5.0\" y2=\"15.0\" stroke=\"black\" stroke-width=\"3\" /><line x1=\"503.54464843750003\" x2=\"503.54464843750003\" y1=\"5.0\" y2=\"15.0\" stroke=\"black\" stroke-width=\"3\" /><line x1=\"413.54464843750003\" x2=\"413.54464843750003\" y1=\"875.0\" y2=\"885.0\" stroke=\"black\" stroke-width=\"3\" /><line x1=\"503.54464843750003\" x2=\"503.54464843750003\" y1=\"875.0\" y2=\"885.0\" stroke=\"black\" stroke-width=\"3\" /><rect x=\"10.0\" y=\"25.0\" width=\"59.62125\" height=\"40\" stroke=\"black\" fill=\"white\" stroke-width=\"0\" /><text x=\"39.810625\" y=\"45.0\" dominant-baseline=\"middle\" text-anchor=\"middle\" font-size=\"14px\" font-family=\"Arial\">(-1, -1): </text><rect x=\"10.0\" y=\"75.0\" width=\"59.62125\" height=\"40\" stroke=\"black\" fill=\"white\" stroke-width=\"0\" /><text x=\"39.810625\" y=\"95.0\" dominant-baseline=\"middle\" text-anchor=\"middle\" font-size=\"14px\" font-family=\"Arial\">(0, 0): </text><rect x=\"10.0\" y=\"125.0\" width=\"59.62125\" height=\"40\" stroke=\"black\" fill=\"white\" stroke-width=\"0\" /><text x=\"39.810625\" y=\"145.0\" dominant-baseline=\"middle\" text-anchor=\"middle\" font-size=\"14px\" font-family=\"Arial\">(0, 1): </text><rect x=\"10.0\" y=\"175.0\" width=\"59.62125\" height=\"40\" stroke=\"black\" fill=\"white\" stroke-width=\"0\" /><text x=\"39.810625\" y=\"195.0\" dominant-baseline=\"middle\" text-anchor=\"middle\" font-size=\"14px\" font-family=\"Arial\">(0, 2): </text><rect x=\"10.0\" y=\"225.0\" width=\"59.62125\" height=\"40\" stroke=\"black\" fill=\"white\" stroke-width=\"0\" /><text x=\"39.810625\" y=\"245.0\" dominant-baseline=\"middle\" text-anchor=\"middle\" font-size=\"14px\" font-family=\"Arial\">(0, 3): </text><rect x=\"10.0\" y=\"275.0\" width=\"59.62125\" height=\"40\" stroke=\"black\" fill=\"white\" stroke-width=\"0\" /><text x=\"39.810625\" y=\"295.0\" dominant-baseline=\"middle\" text-anchor=\"middle\" font-size=\"14px\" font-family=\"Arial\">(1, 0): </text><rect x=\"10.0\" y=\"325.0\" width=\"59.62125\" height=\"40\" stroke=\"black\" fill=\"white\" stroke-width=\"0\" /><text x=\"39.810625\" y=\"345.0\" dominant-baseline=\"middle\" text-anchor=\"middle\" font-size=\"14px\" font-family=\"Arial\">(1, 1): </text><rect x=\"10.0\" y=\"375.0\" width=\"59.62125\" height=\"40\" stroke=\"black\" fill=\"white\" stroke-width=\"0\" /><text x=\"39.810625\" y=\"395.0\" dominant-baseline=\"middle\" text-anchor=\"middle\" font-size=\"14px\" font-family=\"Arial\">(1, 2): </text><rect x=\"10.0\" y=\"425.0\" width=\"59.62125\" height=\"40\" stroke=\"black\" fill=\"white\" stroke-width=\"0\" /><text x=\"39.810625\" y=\"445.0\" dominant-baseline=\"middle\" text-anchor=\"middle\" font-size=\"14px\" font-family=\"Arial\">(1, 3): </text><rect x=\"10.0\" y=\"475.0\" width=\"59.62125\" height=\"40\" stroke=\"black\" fill=\"white\" stroke-width=\"0\" /><text x=\"39.810625\" y=\"495.0\" dominant-baseline=\"middle\" text-anchor=\"middle\" font-size=\"14px\" font-family=\"Arial\">(2, 0): </text><rect x=\"10.0\" y=\"525.0\" width=\"59.62125\" height=\"40\" stroke=\"black\" fill=\"white\" stroke-width=\"0\" /><text x=\"39.810625\" y=\"545.0\" dominant-baseline=\"middle\" text-anchor=\"middle\" font-size=\"14px\" font-family=\"Arial\">(2, 1): </text><rect x=\"10.0\" y=\"575.0\" width=\"59.62125\" height=\"40\" stroke=\"black\" fill=\"white\" stroke-width=\"0\" /><text x=\"39.810625\" y=\"595.0\" dominant-baseline=\"middle\" text-anchor=\"middle\" font-size=\"14px\" font-family=\"Arial\">(2, 2): </text><rect x=\"10.0\" y=\"625.0\" width=\"59.62125\" height=\"40\" stroke=\"black\" fill=\"white\" stroke-width=\"0\" /><text x=\"39.810625\" y=\"645.0\" dominant-baseline=\"middle\" text-anchor=\"middle\" font-size=\"14px\" font-family=\"Arial\">(2, 3): </text><rect x=\"10.0\" y=\"675.0\" width=\"59.62125\" height=\"40\" stroke=\"black\" fill=\"white\" stroke-width=\"0\" /><text x=\"39.810625\" y=\"695.0\" dominant-baseline=\"middle\" text-anchor=\"middle\" font-size=\"14px\" font-family=\"Arial\">(3, 0): </text><rect x=\"10.0\" y=\"725.0\" width=\"59.62125\" height=\"40\" stroke=\"black\" fill=\"white\" stroke-width=\"0\" /><text x=\"39.810625\" y=\"745.0\" dominant-baseline=\"middle\" text-anchor=\"middle\" font-size=\"14px\" font-family=\"Arial\">(3, 1): </text><rect x=\"10.0\" y=\"775.0\" width=\"59.62125\" height=\"40\" stroke=\"black\" fill=\"white\" stroke-width=\"0\" /><text x=\"39.810625\" y=\"795.0\" dominant-baseline=\"middle\" text-anchor=\"middle\" font-size=\"14px\" font-family=\"Arial\">(3, 2): </text><rect x=\"10.0\" y=\"825.0\" width=\"59.62125\" height=\"40\" stroke=\"black\" fill=\"white\" stroke-width=\"0\" /><text x=\"39.810625\" y=\"845.0\" dominant-baseline=\"middle\" text-anchor=\"middle\" font-size=\"14px\" font-family=\"Arial\">(3, 3): </text><rect x=\"89.62125\" y=\"25.0\" width=\"40\" height=\"40\" stroke=\"black\" fill=\"white\" stroke-width=\"1\" /><text x=\"109.62125\" y=\"45.0\" dominant-baseline=\"middle\" text-anchor=\"middle\" font-size=\"18px\" font-family=\"Arial\">X</text><rect x=\"89.62125\" y=\"75.0\" width=\"40\" height=\"40\" stroke=\"black\" fill=\"white\" stroke-width=\"1\" /><text x=\"109.62125\" y=\"95.0\" dominant-baseline=\"middle\" text-anchor=\"middle\" font-size=\"18px\" font-family=\"Arial\">H</text><rect x=\"89.62125\" y=\"125.0\" width=\"40\" height=\"40\" stroke=\"black\" fill=\"white\" stroke-width=\"1\" /><text x=\"109.62125\" y=\"145.0\" dominant-baseline=\"middle\" text-anchor=\"middle\" font-size=\"18px\" font-family=\"Arial\">H</text><rect x=\"89.62125\" y=\"175.0\" width=\"40\" height=\"40\" stroke=\"black\" fill=\"white\" stroke-width=\"1\" /><text x=\"109.62125\" y=\"195.0\" dominant-baseline=\"middle\" text-anchor=\"middle\" font-size=\"18px\" font-family=\"Arial\">H</text><rect x=\"89.62125\" y=\"225.0\" width=\"40\" height=\"40\" stroke=\"black\" fill=\"white\" stroke-width=\"1\" /><text x=\"109.62125\" y=\"245.0\" dominant-baseline=\"middle\" text-anchor=\"middle\" font-size=\"18px\" font-family=\"Arial\">H</text><rect x=\"89.62125\" y=\"275.0\" width=\"40\" height=\"40\" stroke=\"black\" fill=\"white\" stroke-width=\"1\" /><text x=\"109.62125\" y=\"295.0\" dominant-baseline=\"middle\" text-anchor=\"middle\" font-size=\"18px\" font-family=\"Arial\">H</text><rect x=\"89.62125\" y=\"325.0\" width=\"40\" height=\"40\" stroke=\"black\" fill=\"white\" stroke-width=\"1\" /><text x=\"109.62125\" y=\"345.0\" dominant-baseline=\"middle\" text-anchor=\"middle\" font-size=\"18px\" font-family=\"Arial\">H</text><rect x=\"89.62125\" y=\"375.0\" width=\"40\" height=\"40\" stroke=\"black\" fill=\"white\" stroke-width=\"1\" /><text x=\"109.62125\" y=\"395.0\" dominant-baseline=\"middle\" text-anchor=\"middle\" font-size=\"18px\" font-family=\"Arial\">H</text><rect x=\"89.62125\" y=\"425.0\" width=\"40\" height=\"40\" stroke=\"black\" fill=\"white\" stroke-width=\"1\" /><text x=\"109.62125\" y=\"445.0\" dominant-baseline=\"middle\" text-anchor=\"middle\" font-size=\"18px\" font-family=\"Arial\">H</text><rect x=\"89.62125\" y=\"475.0\" width=\"40\" height=\"40\" stroke=\"black\" fill=\"white\" stroke-width=\"1\" /><text x=\"109.62125\" y=\"495.0\" dominant-baseline=\"middle\" text-anchor=\"middle\" font-size=\"18px\" font-family=\"Arial\">H</text><rect x=\"89.62125\" y=\"525.0\" width=\"40\" height=\"40\" stroke=\"black\" fill=\"white\" stroke-width=\"1\" /><text x=\"109.62125\" y=\"545.0\" dominant-baseline=\"middle\" text-anchor=\"middle\" font-size=\"18px\" font-family=\"Arial\">H</text><rect x=\"89.62125\" y=\"575.0\" width=\"40\" height=\"40\" stroke=\"black\" fill=\"white\" stroke-width=\"1\" /><text x=\"109.62125\" y=\"595.0\" dominant-baseline=\"middle\" text-anchor=\"middle\" font-size=\"18px\" font-family=\"Arial\">H</text><rect x=\"89.62125\" y=\"625.0\" width=\"40\" height=\"40\" stroke=\"black\" fill=\"white\" stroke-width=\"1\" /><text x=\"109.62125\" y=\"645.0\" dominant-baseline=\"middle\" text-anchor=\"middle\" font-size=\"18px\" font-family=\"Arial\">H</text><rect x=\"89.62125\" y=\"675.0\" width=\"40\" height=\"40\" stroke=\"black\" fill=\"white\" stroke-width=\"1\" /><text x=\"109.62125\" y=\"695.0\" dominant-baseline=\"middle\" text-anchor=\"middle\" font-size=\"18px\" font-family=\"Arial\">H</text><rect x=\"89.62125\" y=\"725.0\" width=\"40\" height=\"40\" stroke=\"black\" fill=\"white\" stroke-width=\"1\" /><text x=\"109.62125\" y=\"745.0\" dominant-baseline=\"middle\" text-anchor=\"middle\" font-size=\"18px\" font-family=\"Arial\">H</text><rect x=\"89.62125\" y=\"775.0\" width=\"40\" height=\"40\" stroke=\"black\" fill=\"white\" stroke-width=\"1\" /><text x=\"109.62125\" y=\"795.0\" dominant-baseline=\"middle\" text-anchor=\"middle\" font-size=\"18px\" font-family=\"Arial\">H</text><rect x=\"89.62125\" y=\"825.0\" width=\"40\" height=\"40\" stroke=\"black\" fill=\"white\" stroke-width=\"1\" /><text x=\"109.62125\" y=\"845.0\" dominant-baseline=\"middle\" text-anchor=\"middle\" font-size=\"18px\" font-family=\"Arial\">H</text><rect x=\"149.62125\" y=\"25.0\" width=\"40\" height=\"40\" stroke=\"black\" fill=\"white\" stroke-width=\"1\" /><text x=\"169.62125\" y=\"45.0\" dominant-baseline=\"middle\" text-anchor=\"middle\" font-size=\"18px\" font-family=\"Arial\">H</text><circle cx=\"229.62125\" cy=\"45.0\" r=\"10.0\" /><rect x=\"209.62125\" y=\"75.0\" width=\"40\" height=\"40\" stroke=\"black\" fill=\"white\" stroke-width=\"1\" /><text x=\"229.62125\" y=\"95.0\" dominant-baseline=\"middle\" text-anchor=\"middle\" font-size=\"18px\" font-family=\"Arial\">X</text><rect x=\"269.62125000000003\" y=\"75.0\" width=\"73.92339843750001\" height=\"40\" stroke=\"black\" fill=\"white\" stroke-width=\"1\" /><text x=\"306.58294921875006\" y=\"95.0\" dominant-baseline=\"middle\" text-anchor=\"middle\" font-size=\"14px\" font-family=\"Arial\">Rz(zx1-0)</text><circle cx=\"383.54464843750003\" cy=\"45.0\" r=\"10.0\" /><rect x=\"363.54464843750003\" y=\"75.0\" width=\"40\" height=\"40\" stroke=\"black\" fill=\"white\" stroke-width=\"1\" /><text x=\"383.54464843750003\" y=\"95.0\" dominant-baseline=\"middle\" text-anchor=\"middle\" font-size=\"18px\" font-family=\"Arial\">X</text><rect x=\"413.54464843750003\" y=\"75.0\" width=\"40\" height=\"40\" stroke=\"black\" fill=\"white\" stroke-width=\"1\" /><text x=\"433.54464843750003\" y=\"95.0\" dominant-baseline=\"middle\" text-anchor=\"middle\" font-size=\"18px\" font-family=\"Arial\">H</text><circle cx=\"473.54464843750003\" cy=\"45.0\" r=\"10.0\" /><rect x=\"453.54464843750003\" y=\"125.0\" width=\"40\" height=\"40\" stroke=\"black\" fill=\"white\" stroke-width=\"1\" /><text x=\"473.54464843750003\" y=\"145.0\" dominant-baseline=\"middle\" text-anchor=\"middle\" font-size=\"18px\" font-family=\"Arial\">X</text><rect x=\"523.5446484375\" y=\"125.0\" width=\"73.92339843750001\" height=\"40\" stroke=\"black\" fill=\"white\" stroke-width=\"1\" /><text x=\"560.50634765625\" y=\"145.0\" dominant-baseline=\"middle\" text-anchor=\"middle\" font-size=\"14px\" font-family=\"Arial\">Rz(zx1-1)</text><circle cx=\"637.468046875\" cy=\"45.0\" r=\"10.0\" /><rect x=\"617.468046875\" y=\"125.0\" width=\"40\" height=\"40\" stroke=\"black\" fill=\"white\" stroke-width=\"1\" /><text x=\"637.468046875\" y=\"145.0\" dominant-baseline=\"middle\" text-anchor=\"middle\" font-size=\"18px\" font-family=\"Arial\">X</text><rect x=\"667.468046875\" y=\"125.0\" width=\"40\" height=\"40\" stroke=\"black\" fill=\"white\" stroke-width=\"1\" /><text x=\"687.468046875\" y=\"145.0\" dominant-baseline=\"middle\" text-anchor=\"middle\" font-size=\"18px\" font-family=\"Arial\">H</text><circle cx=\"727.468046875\" cy=\"45.0\" r=\"10.0\" /><rect x=\"707.468046875\" y=\"175.0\" width=\"40\" height=\"40\" stroke=\"black\" fill=\"white\" stroke-width=\"1\" /><text x=\"727.468046875\" y=\"195.0\" dominant-baseline=\"middle\" text-anchor=\"middle\" font-size=\"18px\" font-family=\"Arial\">X</text><rect x=\"777.468046875\" y=\"175.0\" width=\"73.92339843750001\" height=\"40\" stroke=\"black\" fill=\"white\" stroke-width=\"1\" /><text x=\"814.42974609375\" y=\"195.0\" dominant-baseline=\"middle\" text-anchor=\"middle\" font-size=\"14px\" font-family=\"Arial\">Rz(zx1-2)</text><circle cx=\"891.3914453125001\" cy=\"45.0\" r=\"10.0\" /><rect x=\"871.3914453125001\" y=\"175.0\" width=\"40\" height=\"40\" stroke=\"black\" fill=\"white\" stroke-width=\"1\" /><text x=\"891.3914453125001\" y=\"195.0\" dominant-baseline=\"middle\" text-anchor=\"middle\" font-size=\"18px\" font-family=\"Arial\">X</text><rect x=\"921.3914453125001\" y=\"175.0\" width=\"40\" height=\"40\" stroke=\"black\" fill=\"white\" stroke-width=\"1\" /><text x=\"941.3914453125001\" y=\"195.0\" dominant-baseline=\"middle\" text-anchor=\"middle\" font-size=\"18px\" font-family=\"Arial\">H</text><circle cx=\"981.3914453125001\" cy=\"45.0\" r=\"10.0\" /><rect x=\"961.3914453125001\" y=\"225.0\" width=\"40\" height=\"40\" stroke=\"black\" fill=\"white\" stroke-width=\"1\" /><text x=\"981.3914453125001\" y=\"245.0\" dominant-baseline=\"middle\" text-anchor=\"middle\" font-size=\"18px\" font-family=\"Arial\">X</text><rect x=\"1031.3914453125\" y=\"225.0\" width=\"73.92339843750001\" height=\"40\" stroke=\"black\" fill=\"white\" stroke-width=\"1\" /><text x=\"1068.35314453125\" y=\"245.0\" dominant-baseline=\"middle\" text-anchor=\"middle\" font-size=\"14px\" font-family=\"Arial\">Rz(zx1-3)</text><circle cx=\"1145.3148437500001\" cy=\"45.0\" r=\"10.0\" /><rect x=\"1125.3148437500001\" y=\"225.0\" width=\"40\" height=\"40\" stroke=\"black\" fill=\"white\" stroke-width=\"1\" /><text x=\"1145.3148437500001\" y=\"245.0\" dominant-baseline=\"middle\" text-anchor=\"middle\" font-size=\"18px\" font-family=\"Arial\">X</text><rect x=\"1175.3148437500001\" y=\"225.0\" width=\"40\" height=\"40\" stroke=\"black\" fill=\"white\" stroke-width=\"1\" /><text x=\"1195.3148437500001\" y=\"245.0\" dominant-baseline=\"middle\" text-anchor=\"middle\" font-size=\"18px\" font-family=\"Arial\">H</text><circle cx=\"1235.3148437500001\" cy=\"45.0\" r=\"10.0\" /><rect x=\"1215.3148437500001\" y=\"275.0\" width=\"40\" height=\"40\" stroke=\"black\" fill=\"white\" stroke-width=\"1\" /><text x=\"1235.3148437500001\" y=\"295.0\" dominant-baseline=\"middle\" text-anchor=\"middle\" font-size=\"18px\" font-family=\"Arial\">X</text><rect x=\"1285.3148437500001\" y=\"275.0\" width=\"73.92339843750001\" height=\"40\" stroke=\"black\" fill=\"white\" stroke-width=\"1\" /><text x=\"1322.2765429687502\" y=\"295.0\" dominant-baseline=\"middle\" text-anchor=\"middle\" font-size=\"14px\" font-family=\"Arial\">Rz(zx1-4)</text><circle cx=\"1399.2382421875002\" cy=\"45.0\" r=\"10.0\" /><rect x=\"1379.2382421875002\" y=\"275.0\" width=\"40\" height=\"40\" stroke=\"black\" fill=\"white\" stroke-width=\"1\" /><text x=\"1399.2382421875002\" y=\"295.0\" dominant-baseline=\"middle\" text-anchor=\"middle\" font-size=\"18px\" font-family=\"Arial\">X</text><rect x=\"1429.2382421875002\" y=\"275.0\" width=\"40\" height=\"40\" stroke=\"black\" fill=\"white\" stroke-width=\"1\" /><text x=\"1449.2382421875002\" y=\"295.0\" dominant-baseline=\"middle\" text-anchor=\"middle\" font-size=\"18px\" font-family=\"Arial\">H</text><circle cx=\"1489.2382421875002\" cy=\"45.0\" r=\"10.0\" /><rect x=\"1469.2382421875002\" y=\"325.0\" width=\"40\" height=\"40\" stroke=\"black\" fill=\"white\" stroke-width=\"1\" /><text x=\"1489.2382421875002\" y=\"345.0\" dominant-baseline=\"middle\" text-anchor=\"middle\" font-size=\"18px\" font-family=\"Arial\">X</text><rect x=\"1539.2382421875002\" y=\"325.0\" width=\"73.92339843750001\" height=\"40\" stroke=\"black\" fill=\"white\" stroke-width=\"1\" /><text x=\"1576.1999414062502\" y=\"345.0\" dominant-baseline=\"middle\" text-anchor=\"middle\" font-size=\"14px\" font-family=\"Arial\">Rz(zx1-5)</text><circle cx=\"1653.1616406250002\" cy=\"45.0\" r=\"10.0\" /><rect x=\"1633.1616406250002\" y=\"325.0\" width=\"40\" height=\"40\" stroke=\"black\" fill=\"white\" stroke-width=\"1\" /><text x=\"1653.1616406250002\" y=\"345.0\" dominant-baseline=\"middle\" text-anchor=\"middle\" font-size=\"18px\" font-family=\"Arial\">X</text><rect x=\"1683.1616406250002\" y=\"325.0\" width=\"40\" height=\"40\" stroke=\"black\" fill=\"white\" stroke-width=\"1\" /><text x=\"1703.1616406250002\" y=\"345.0\" dominant-baseline=\"middle\" text-anchor=\"middle\" font-size=\"18px\" font-family=\"Arial\">H</text><circle cx=\"1743.1616406250002\" cy=\"45.0\" r=\"10.0\" /><rect x=\"1723.1616406250002\" y=\"375.0\" width=\"40\" height=\"40\" stroke=\"black\" fill=\"white\" stroke-width=\"1\" /><text x=\"1743.1616406250002\" y=\"395.0\" dominant-baseline=\"middle\" text-anchor=\"middle\" font-size=\"18px\" font-family=\"Arial\">X</text><rect x=\"1793.1616406250002\" y=\"375.0\" width=\"73.92339843750001\" height=\"40\" stroke=\"black\" fill=\"white\" stroke-width=\"1\" /><text x=\"1830.1233398437503\" y=\"395.0\" dominant-baseline=\"middle\" text-anchor=\"middle\" font-size=\"14px\" font-family=\"Arial\">Rz(zx1-6)</text><circle cx=\"1907.0850390625003\" cy=\"45.0\" r=\"10.0\" /><rect x=\"1887.0850390625003\" y=\"375.0\" width=\"40\" height=\"40\" stroke=\"black\" fill=\"white\" stroke-width=\"1\" /><text x=\"1907.0850390625003\" y=\"395.0\" dominant-baseline=\"middle\" text-anchor=\"middle\" font-size=\"18px\" font-family=\"Arial\">X</text><rect x=\"1937.0850390625003\" y=\"375.0\" width=\"40\" height=\"40\" stroke=\"black\" fill=\"white\" stroke-width=\"1\" /><text x=\"1957.0850390625003\" y=\"395.0\" dominant-baseline=\"middle\" text-anchor=\"middle\" font-size=\"18px\" font-family=\"Arial\">H</text><circle cx=\"1997.0850390625003\" cy=\"45.0\" r=\"10.0\" /><rect x=\"1977.0850390625003\" y=\"425.0\" width=\"40\" height=\"40\" stroke=\"black\" fill=\"white\" stroke-width=\"1\" /><text x=\"1997.0850390625003\" y=\"445.0\" dominant-baseline=\"middle\" text-anchor=\"middle\" font-size=\"18px\" font-family=\"Arial\">X</text><rect x=\"2047.0850390625003\" y=\"425.0\" width=\"73.92339843750001\" height=\"40\" stroke=\"black\" fill=\"white\" stroke-width=\"1\" /><text x=\"2084.0467382812503\" y=\"445.0\" dominant-baseline=\"middle\" text-anchor=\"middle\" font-size=\"14px\" font-family=\"Arial\">Rz(zx1-7)</text><circle cx=\"2161.0084375\" cy=\"45.0\" r=\"10.0\" /><rect x=\"2141.0084375\" y=\"425.0\" width=\"40\" height=\"40\" stroke=\"black\" fill=\"white\" stroke-width=\"1\" /><text x=\"2161.0084375\" y=\"445.0\" dominant-baseline=\"middle\" text-anchor=\"middle\" font-size=\"18px\" font-family=\"Arial\">X</text><rect x=\"2191.0084375\" y=\"425.0\" width=\"40\" height=\"40\" stroke=\"black\" fill=\"white\" stroke-width=\"1\" /><text x=\"2211.0084375\" y=\"445.0\" dominant-baseline=\"middle\" text-anchor=\"middle\" font-size=\"18px\" font-family=\"Arial\">H</text><circle cx=\"2251.0084375\" cy=\"45.0\" r=\"10.0\" /><rect x=\"2231.0084375\" y=\"475.0\" width=\"40\" height=\"40\" stroke=\"black\" fill=\"white\" stroke-width=\"1\" /><text x=\"2251.0084375\" y=\"495.0\" dominant-baseline=\"middle\" text-anchor=\"middle\" font-size=\"18px\" font-family=\"Arial\">X</text><rect x=\"2301.0084375\" y=\"475.0\" width=\"73.92339843750001\" height=\"40\" stroke=\"black\" fill=\"white\" stroke-width=\"1\" /><text x=\"2337.97013671875\" y=\"495.0\" dominant-baseline=\"middle\" text-anchor=\"middle\" font-size=\"14px\" font-family=\"Arial\">Rz(zx1-8)</text><circle cx=\"2414.9318359375\" cy=\"45.0\" r=\"10.0\" /><rect x=\"2394.9318359375\" y=\"475.0\" width=\"40\" height=\"40\" stroke=\"black\" fill=\"white\" stroke-width=\"1\" /><text x=\"2414.9318359375\" y=\"495.0\" dominant-baseline=\"middle\" text-anchor=\"middle\" font-size=\"18px\" font-family=\"Arial\">X</text><rect x=\"2444.9318359375\" y=\"475.0\" width=\"40\" height=\"40\" stroke=\"black\" fill=\"white\" stroke-width=\"1\" /><text x=\"2464.9318359375\" y=\"495.0\" dominant-baseline=\"middle\" text-anchor=\"middle\" font-size=\"18px\" font-family=\"Arial\">H</text><circle cx=\"2504.9318359375\" cy=\"45.0\" r=\"10.0\" /><rect x=\"2484.9318359375\" y=\"525.0\" width=\"40\" height=\"40\" stroke=\"black\" fill=\"white\" stroke-width=\"1\" /><text x=\"2504.9318359375\" y=\"545.0\" dominant-baseline=\"middle\" text-anchor=\"middle\" font-size=\"18px\" font-family=\"Arial\">X</text><rect x=\"2554.9318359375\" y=\"525.0\" width=\"73.92339843750001\" height=\"40\" stroke=\"black\" fill=\"white\" stroke-width=\"1\" /><text x=\"2591.89353515625\" y=\"545.0\" dominant-baseline=\"middle\" text-anchor=\"middle\" font-size=\"14px\" font-family=\"Arial\">Rz(zx1-9)</text><circle cx=\"2668.8552343750002\" cy=\"45.0\" r=\"10.0\" /><rect x=\"2648.8552343750002\" y=\"525.0\" width=\"40\" height=\"40\" stroke=\"black\" fill=\"white\" stroke-width=\"1\" /><text x=\"2668.8552343750002\" y=\"545.0\" dominant-baseline=\"middle\" text-anchor=\"middle\" font-size=\"18px\" font-family=\"Arial\">X</text><rect x=\"2698.8552343750002\" y=\"525.0\" width=\"40\" height=\"40\" stroke=\"black\" fill=\"white\" stroke-width=\"1\" /><text x=\"2718.8552343750002\" y=\"545.0\" dominant-baseline=\"middle\" text-anchor=\"middle\" font-size=\"18px\" font-family=\"Arial\">H</text><circle cx=\"2758.8552343750002\" cy=\"45.0\" r=\"10.0\" /><rect x=\"2738.8552343750002\" y=\"575.0\" width=\"40\" height=\"40\" stroke=\"black\" fill=\"white\" stroke-width=\"1\" /><text x=\"2758.8552343750002\" y=\"595.0\" dominant-baseline=\"middle\" text-anchor=\"middle\" font-size=\"18px\" font-family=\"Arial\">X</text><rect x=\"2808.8552343750002\" y=\"575.0\" width=\"82.83062500000001\" height=\"40\" stroke=\"black\" fill=\"white\" stroke-width=\"1\" /><text x=\"2850.270546875\" y=\"595.0\" dominant-baseline=\"middle\" text-anchor=\"middle\" font-size=\"14px\" font-family=\"Arial\">Rz(zx1-10)</text><circle cx=\"2931.6858593750003\" cy=\"45.0\" r=\"10.0\" /><rect x=\"2911.6858593750003\" y=\"575.0\" width=\"40\" height=\"40\" stroke=\"black\" fill=\"white\" stroke-width=\"1\" /><text x=\"2931.6858593750003\" y=\"595.0\" dominant-baseline=\"middle\" text-anchor=\"middle\" font-size=\"18px\" font-family=\"Arial\">X</text><rect x=\"2961.6858593750003\" y=\"575.0\" width=\"40\" height=\"40\" stroke=\"black\" fill=\"white\" stroke-width=\"1\" /><text x=\"2981.6858593750003\" y=\"595.0\" dominant-baseline=\"middle\" text-anchor=\"middle\" font-size=\"18px\" font-family=\"Arial\">H</text><circle cx=\"3021.6858593750003\" cy=\"45.0\" r=\"10.0\" /><rect x=\"3001.6858593750003\" y=\"625.0\" width=\"40\" height=\"40\" stroke=\"black\" fill=\"white\" stroke-width=\"1\" /><text x=\"3021.6858593750003\" y=\"645.0\" dominant-baseline=\"middle\" text-anchor=\"middle\" font-size=\"18px\" font-family=\"Arial\">X</text><rect x=\"3071.6858593750003\" y=\"625.0\" width=\"82.83062500000001\" height=\"40\" stroke=\"black\" fill=\"white\" stroke-width=\"1\" /><text x=\"3113.101171875\" y=\"645.0\" dominant-baseline=\"middle\" text-anchor=\"middle\" font-size=\"14px\" font-family=\"Arial\">Rz(zx1-11)</text><circle cx=\"3194.5164843750003\" cy=\"45.0\" r=\"10.0\" /><rect x=\"3174.5164843750003\" y=\"625.0\" width=\"40\" height=\"40\" stroke=\"black\" fill=\"white\" stroke-width=\"1\" /><text x=\"3194.5164843750003\" y=\"645.0\" dominant-baseline=\"middle\" text-anchor=\"middle\" font-size=\"18px\" font-family=\"Arial\">X</text><rect x=\"3224.5164843750003\" y=\"625.0\" width=\"40\" height=\"40\" stroke=\"black\" fill=\"white\" stroke-width=\"1\" /><text x=\"3244.5164843750003\" y=\"645.0\" dominant-baseline=\"middle\" text-anchor=\"middle\" font-size=\"18px\" font-family=\"Arial\">H</text><circle cx=\"3284.5164843750003\" cy=\"45.0\" r=\"10.0\" /><rect x=\"3264.5164843750003\" y=\"675.0\" width=\"40\" height=\"40\" stroke=\"black\" fill=\"white\" stroke-width=\"1\" /><text x=\"3284.5164843750003\" y=\"695.0\" dominant-baseline=\"middle\" text-anchor=\"middle\" font-size=\"18px\" font-family=\"Arial\">X</text><rect x=\"3334.5164843750003\" y=\"675.0\" width=\"82.83062500000001\" height=\"40\" stroke=\"black\" fill=\"white\" stroke-width=\"1\" /><text x=\"3375.931796875\" y=\"695.0\" dominant-baseline=\"middle\" text-anchor=\"middle\" font-size=\"14px\" font-family=\"Arial\">Rz(zx1-12)</text><circle cx=\"3457.3471093750004\" cy=\"45.0\" r=\"10.0\" /><rect x=\"3437.3471093750004\" y=\"675.0\" width=\"40\" height=\"40\" stroke=\"black\" fill=\"white\" stroke-width=\"1\" /><text x=\"3457.3471093750004\" y=\"695.0\" dominant-baseline=\"middle\" text-anchor=\"middle\" font-size=\"18px\" font-family=\"Arial\">X</text><rect x=\"3487.3471093750004\" y=\"675.0\" width=\"40\" height=\"40\" stroke=\"black\" fill=\"white\" stroke-width=\"1\" /><text x=\"3507.3471093750004\" y=\"695.0\" dominant-baseline=\"middle\" text-anchor=\"middle\" font-size=\"18px\" font-family=\"Arial\">H</text><circle cx=\"3547.3471093750004\" cy=\"45.0\" r=\"10.0\" /><rect x=\"3527.3471093750004\" y=\"725.0\" width=\"40\" height=\"40\" stroke=\"black\" fill=\"white\" stroke-width=\"1\" /><text x=\"3547.3471093750004\" y=\"745.0\" dominant-baseline=\"middle\" text-anchor=\"middle\" font-size=\"18px\" font-family=\"Arial\">X</text><rect x=\"3597.3471093750004\" y=\"725.0\" width=\"82.83062500000001\" height=\"40\" stroke=\"black\" fill=\"white\" stroke-width=\"1\" /><text x=\"3638.762421875\" y=\"745.0\" dominant-baseline=\"middle\" text-anchor=\"middle\" font-size=\"14px\" font-family=\"Arial\">Rz(zx1-13)</text><circle cx=\"3720.1777343750005\" cy=\"45.0\" r=\"10.0\" /><rect x=\"3700.1777343750005\" y=\"725.0\" width=\"40\" height=\"40\" stroke=\"black\" fill=\"white\" stroke-width=\"1\" /><text x=\"3720.1777343750005\" y=\"745.0\" dominant-baseline=\"middle\" text-anchor=\"middle\" font-size=\"18px\" font-family=\"Arial\">X</text><rect x=\"3750.1777343750005\" y=\"725.0\" width=\"40\" height=\"40\" stroke=\"black\" fill=\"white\" stroke-width=\"1\" /><text x=\"3770.1777343750005\" y=\"745.0\" dominant-baseline=\"middle\" text-anchor=\"middle\" font-size=\"18px\" font-family=\"Arial\">H</text><circle cx=\"3810.1777343750005\" cy=\"45.0\" r=\"10.0\" /><rect x=\"3790.1777343750005\" y=\"775.0\" width=\"40\" height=\"40\" stroke=\"black\" fill=\"white\" stroke-width=\"1\" /><text x=\"3810.1777343750005\" y=\"795.0\" dominant-baseline=\"middle\" text-anchor=\"middle\" font-size=\"18px\" font-family=\"Arial\">X</text><rect x=\"3860.1777343750005\" y=\"775.0\" width=\"82.83062500000001\" height=\"40\" stroke=\"black\" fill=\"white\" stroke-width=\"1\" /><text x=\"3901.5930468750003\" y=\"795.0\" dominant-baseline=\"middle\" text-anchor=\"middle\" font-size=\"14px\" font-family=\"Arial\">Rz(zx1-14)</text><circle cx=\"3983.0083593750005\" cy=\"45.0\" r=\"10.0\" /><rect x=\"3963.0083593750005\" y=\"775.0\" width=\"40\" height=\"40\" stroke=\"black\" fill=\"white\" stroke-width=\"1\" /><text x=\"3983.0083593750005\" y=\"795.0\" dominant-baseline=\"middle\" text-anchor=\"middle\" font-size=\"18px\" font-family=\"Arial\">X</text><rect x=\"4013.0083593750005\" y=\"775.0\" width=\"40\" height=\"40\" stroke=\"black\" fill=\"white\" stroke-width=\"1\" /><text x=\"4033.0083593750005\" y=\"795.0\" dominant-baseline=\"middle\" text-anchor=\"middle\" font-size=\"18px\" font-family=\"Arial\">H</text><circle cx=\"4073.0083593750005\" cy=\"45.0\" r=\"10.0\" /><rect x=\"4053.0083593750005\" y=\"825.0\" width=\"40\" height=\"40\" stroke=\"black\" fill=\"white\" stroke-width=\"1\" /><text x=\"4073.0083593750005\" y=\"845.0\" dominant-baseline=\"middle\" text-anchor=\"middle\" font-size=\"18px\" font-family=\"Arial\">X</text><rect x=\"4123.0083593750005\" y=\"825.0\" width=\"82.83062500000001\" height=\"40\" stroke=\"black\" fill=\"white\" stroke-width=\"1\" /><text x=\"4164.423671875001\" y=\"845.0\" dominant-baseline=\"middle\" text-anchor=\"middle\" font-size=\"14px\" font-family=\"Arial\">Rz(zx1-15)</text><circle cx=\"4245.838984375\" cy=\"45.0\" r=\"10.0\" /><rect x=\"4225.838984375\" y=\"825.0\" width=\"40\" height=\"40\" stroke=\"black\" fill=\"white\" stroke-width=\"1\" /><text x=\"4245.838984375\" y=\"845.0\" dominant-baseline=\"middle\" text-anchor=\"middle\" font-size=\"18px\" font-family=\"Arial\">X</text><rect x=\"4285.838984375\" y=\"825.0\" width=\"89.65179687500002\" height=\"40\" stroke=\"black\" fill=\"white\" stroke-width=\"1\" /><text x=\"4330.6648828125\" y=\"845.0\" dominant-baseline=\"middle\" text-anchor=\"middle\" font-size=\"18px\" font-family=\"Arial\">H</text><rect x=\"4285.838984375\" y=\"75.0\" width=\"89.65179687500002\" height=\"40\" stroke=\"black\" fill=\"white\" stroke-width=\"1\" /><text x=\"4330.6648828125\" y=\"95.0\" dominant-baseline=\"middle\" text-anchor=\"middle\" font-size=\"14px\" font-family=\"Arial\">XX^(xx1-0)</text><rect x=\"4285.838984375\" y=\"25.0\" width=\"89.65179687500002\" height=\"40\" stroke=\"black\" fill=\"white\" stroke-width=\"1\" /><text x=\"4330.6648828125\" y=\"45.0\" dominant-baseline=\"middle\" text-anchor=\"middle\" font-size=\"14px\" font-family=\"Arial\">XX</text><rect x=\"4385.4907812500005\" y=\"125.0\" width=\"89.65179687500002\" height=\"40\" stroke=\"black\" fill=\"white\" stroke-width=\"1\" /><text x=\"4430.3166796875\" y=\"145.0\" dominant-baseline=\"middle\" text-anchor=\"middle\" font-size=\"14px\" font-family=\"Arial\">XX^(xx1-1)</text><rect x=\"4385.4907812500005\" y=\"25.0\" width=\"89.65179687500002\" height=\"40\" stroke=\"black\" fill=\"white\" stroke-width=\"1\" /><text x=\"4430.3166796875\" y=\"45.0\" dominant-baseline=\"middle\" text-anchor=\"middle\" font-size=\"14px\" font-family=\"Arial\">XX</text><rect x=\"4475.142578125001\" y=\"75.0\" width=\"40\" height=\"40\" stroke=\"black\" fill=\"white\" stroke-width=\"1\" /><text x=\"4495.142578125001\" y=\"95.0\" dominant-baseline=\"middle\" text-anchor=\"middle\" font-size=\"18px\" font-family=\"Arial\">H</text><rect x=\"4535.142578125001\" y=\"175.0\" width=\"89.65179687500002\" height=\"40\" stroke=\"black\" fill=\"white\" stroke-width=\"1\" /><text x=\"4579.968476562501\" y=\"195.0\" dominant-baseline=\"middle\" text-anchor=\"middle\" font-size=\"14px\" font-family=\"Arial\">XX^(xx1-2)</text><rect x=\"4535.142578125001\" y=\"25.0\" width=\"89.65179687500002\" height=\"40\" stroke=\"black\" fill=\"white\" stroke-width=\"1\" /><text x=\"4579.968476562501\" y=\"45.0\" dominant-baseline=\"middle\" text-anchor=\"middle\" font-size=\"14px\" font-family=\"Arial\">XX</text><rect x=\"4624.794375000001\" y=\"125.0\" width=\"40\" height=\"40\" stroke=\"black\" fill=\"white\" stroke-width=\"1\" /><text x=\"4644.794375000001\" y=\"145.0\" dominant-baseline=\"middle\" text-anchor=\"middle\" font-size=\"18px\" font-family=\"Arial\">H</text><rect x=\"4684.794375000001\" y=\"225.0\" width=\"89.65179687500002\" height=\"40\" stroke=\"black\" fill=\"white\" stroke-width=\"1\" /><text x=\"4729.620273437501\" y=\"245.0\" dominant-baseline=\"middle\" text-anchor=\"middle\" font-size=\"14px\" font-family=\"Arial\">XX^(xx1-3)</text><rect x=\"4684.794375000001\" y=\"25.0\" width=\"89.65179687500002\" height=\"40\" stroke=\"black\" fill=\"white\" stroke-width=\"1\" /><text x=\"4729.620273437501\" y=\"45.0\" dominant-baseline=\"middle\" text-anchor=\"middle\" font-size=\"14px\" font-family=\"Arial\">XX</text><rect x=\"4774.446171875002\" y=\"175.0\" width=\"40\" height=\"40\" stroke=\"black\" fill=\"white\" stroke-width=\"1\" /><text x=\"4794.446171875002\" y=\"195.0\" dominant-baseline=\"middle\" text-anchor=\"middle\" font-size=\"18px\" font-family=\"Arial\">H</text><rect x=\"4834.446171875002\" y=\"275.0\" width=\"89.65179687500002\" height=\"40\" stroke=\"black\" fill=\"white\" stroke-width=\"1\" /><text x=\"4879.2720703125015\" y=\"295.0\" dominant-baseline=\"middle\" text-anchor=\"middle\" font-size=\"14px\" font-family=\"Arial\">XX^(xx1-4)</text><rect x=\"4834.446171875002\" y=\"25.0\" width=\"89.65179687500002\" height=\"40\" stroke=\"black\" fill=\"white\" stroke-width=\"1\" /><text x=\"4879.2720703125015\" y=\"45.0\" dominant-baseline=\"middle\" text-anchor=\"middle\" font-size=\"14px\" font-family=\"Arial\">XX</text><rect x=\"4924.097968750002\" y=\"225.0\" width=\"40\" height=\"40\" stroke=\"black\" fill=\"white\" stroke-width=\"1\" /><text x=\"4944.097968750002\" y=\"245.0\" dominant-baseline=\"middle\" text-anchor=\"middle\" font-size=\"18px\" font-family=\"Arial\">H</text><rect x=\"4984.097968750002\" y=\"325.0\" width=\"89.65179687500002\" height=\"40\" stroke=\"black\" fill=\"white\" stroke-width=\"1\" /><text x=\"5028.923867187502\" y=\"345.0\" dominant-baseline=\"middle\" text-anchor=\"middle\" font-size=\"14px\" font-family=\"Arial\">XX^(xx1-5)</text><rect x=\"4984.097968750002\" y=\"25.0\" width=\"89.65179687500002\" height=\"40\" stroke=\"black\" fill=\"white\" stroke-width=\"1\" /><text x=\"5028.923867187502\" y=\"45.0\" dominant-baseline=\"middle\" text-anchor=\"middle\" font-size=\"14px\" font-family=\"Arial\">XX</text><rect x=\"5073.7497656250025\" y=\"275.0\" width=\"40\" height=\"40\" stroke=\"black\" fill=\"white\" stroke-width=\"1\" /><text x=\"5093.7497656250025\" y=\"295.0\" dominant-baseline=\"middle\" text-anchor=\"middle\" font-size=\"18px\" font-family=\"Arial\">H</text><rect x=\"5133.7497656250025\" y=\"375.0\" width=\"89.65179687500002\" height=\"40\" stroke=\"black\" fill=\"white\" stroke-width=\"1\" /><text x=\"5178.575664062502\" y=\"395.0\" dominant-baseline=\"middle\" text-anchor=\"middle\" font-size=\"14px\" font-family=\"Arial\">XX^(xx1-6)</text><rect x=\"5133.7497656250025\" y=\"25.0\" width=\"89.65179687500002\" height=\"40\" stroke=\"black\" fill=\"white\" stroke-width=\"1\" /><text x=\"5178.575664062502\" y=\"45.0\" dominant-baseline=\"middle\" text-anchor=\"middle\" font-size=\"14px\" font-family=\"Arial\">XX</text><rect x=\"5223.401562500003\" y=\"325.0\" width=\"40\" height=\"40\" stroke=\"black\" fill=\"white\" stroke-width=\"1\" /><text x=\"5243.401562500003\" y=\"345.0\" dominant-baseline=\"middle\" text-anchor=\"middle\" font-size=\"18px\" font-family=\"Arial\">H</text><rect x=\"5283.401562500003\" y=\"425.0\" width=\"89.65179687500002\" height=\"40\" stroke=\"black\" fill=\"white\" stroke-width=\"1\" /><text x=\"5328.227460937503\" y=\"445.0\" dominant-baseline=\"middle\" text-anchor=\"middle\" font-size=\"14px\" font-family=\"Arial\">XX^(xx1-7)</text><rect x=\"5283.401562500003\" y=\"25.0\" width=\"89.65179687500002\" height=\"40\" stroke=\"black\" fill=\"white\" stroke-width=\"1\" /><text x=\"5328.227460937503\" y=\"45.0\" dominant-baseline=\"middle\" text-anchor=\"middle\" font-size=\"14px\" font-family=\"Arial\">XX</text><rect x=\"5373.053359375003\" y=\"375.0\" width=\"40\" height=\"40\" stroke=\"black\" fill=\"white\" stroke-width=\"1\" /><text x=\"5393.053359375003\" y=\"395.0\" dominant-baseline=\"middle\" text-anchor=\"middle\" font-size=\"18px\" font-family=\"Arial\">H</text><rect x=\"5433.053359375003\" y=\"475.0\" width=\"89.65179687500002\" height=\"40\" stroke=\"black\" fill=\"white\" stroke-width=\"1\" /><text x=\"5477.879257812503\" y=\"495.0\" dominant-baseline=\"middle\" text-anchor=\"middle\" font-size=\"14px\" font-family=\"Arial\">XX^(xx1-8)</text><rect x=\"5433.053359375003\" y=\"25.0\" width=\"89.65179687500002\" height=\"40\" stroke=\"black\" fill=\"white\" stroke-width=\"1\" /><text x=\"5477.879257812503\" y=\"45.0\" dominant-baseline=\"middle\" text-anchor=\"middle\" font-size=\"14px\" font-family=\"Arial\">XX</text><rect x=\"5522.705156250004\" y=\"425.0\" width=\"40\" height=\"40\" stroke=\"black\" fill=\"white\" stroke-width=\"1\" /><text x=\"5542.705156250004\" y=\"445.0\" dominant-baseline=\"middle\" text-anchor=\"middle\" font-size=\"18px\" font-family=\"Arial\">H</text><rect x=\"5582.705156250004\" y=\"525.0\" width=\"89.65179687500002\" height=\"40\" stroke=\"black\" fill=\"white\" stroke-width=\"1\" /><text x=\"5627.5310546875035\" y=\"545.0\" dominant-baseline=\"middle\" text-anchor=\"middle\" font-size=\"14px\" font-family=\"Arial\">XX^(xx1-9)</text><rect x=\"5582.705156250004\" y=\"25.0\" width=\"89.65179687500002\" height=\"40\" stroke=\"black\" fill=\"white\" stroke-width=\"1\" /><text x=\"5627.5310546875035\" y=\"45.0\" dominant-baseline=\"middle\" text-anchor=\"middle\" font-size=\"14px\" font-family=\"Arial\">XX</text><rect x=\"5672.356953125004\" y=\"475.0\" width=\"40\" height=\"40\" stroke=\"black\" fill=\"white\" stroke-width=\"1\" /><text x=\"5692.356953125004\" y=\"495.0\" dominant-baseline=\"middle\" text-anchor=\"middle\" font-size=\"18px\" font-family=\"Arial\">H</text><rect x=\"5732.356953125004\" y=\"575.0\" width=\"98.55902343750002\" height=\"40\" stroke=\"black\" fill=\"white\" stroke-width=\"1\" /><text x=\"5781.636464843754\" y=\"595.0\" dominant-baseline=\"middle\" text-anchor=\"middle\" font-size=\"14px\" font-family=\"Arial\">XX^(xx1-10)</text><rect x=\"5732.356953125004\" y=\"25.0\" width=\"98.55902343750002\" height=\"40\" stroke=\"black\" fill=\"white\" stroke-width=\"1\" /><text x=\"5781.636464843754\" y=\"45.0\" dominant-baseline=\"middle\" text-anchor=\"middle\" font-size=\"14px\" font-family=\"Arial\">XX</text><rect x=\"5830.9159765625045\" y=\"525.0\" width=\"40\" height=\"40\" stroke=\"black\" fill=\"white\" stroke-width=\"1\" /><text x=\"5850.9159765625045\" y=\"545.0\" dominant-baseline=\"middle\" text-anchor=\"middle\" font-size=\"18px\" font-family=\"Arial\">H</text><rect x=\"5890.9159765625045\" y=\"625.0\" width=\"98.55902343750002\" height=\"40\" stroke=\"black\" fill=\"white\" stroke-width=\"1\" /><text x=\"5940.195488281254\" y=\"645.0\" dominant-baseline=\"middle\" text-anchor=\"middle\" font-size=\"14px\" font-family=\"Arial\">XX^(xx1-11)</text><rect x=\"5890.9159765625045\" y=\"25.0\" width=\"98.55902343750002\" height=\"40\" stroke=\"black\" fill=\"white\" stroke-width=\"1\" /><text x=\"5940.195488281254\" y=\"45.0\" dominant-baseline=\"middle\" text-anchor=\"middle\" font-size=\"14px\" font-family=\"Arial\">XX</text><rect x=\"5989.475000000005\" y=\"575.0\" width=\"40\" height=\"40\" stroke=\"black\" fill=\"white\" stroke-width=\"1\" /><text x=\"6009.475000000005\" y=\"595.0\" dominant-baseline=\"middle\" text-anchor=\"middle\" font-size=\"18px\" font-family=\"Arial\">H</text><rect x=\"6049.475000000005\" y=\"675.0\" width=\"98.55902343750002\" height=\"40\" stroke=\"black\" fill=\"white\" stroke-width=\"1\" /><text x=\"6098.754511718755\" y=\"695.0\" dominant-baseline=\"middle\" text-anchor=\"middle\" font-size=\"14px\" font-family=\"Arial\">XX^(xx1-12)</text><rect x=\"6049.475000000005\" y=\"25.0\" width=\"98.55902343750002\" height=\"40\" stroke=\"black\" fill=\"white\" stroke-width=\"1\" /><text x=\"6098.754511718755\" y=\"45.0\" dominant-baseline=\"middle\" text-anchor=\"middle\" font-size=\"14px\" font-family=\"Arial\">XX</text><rect x=\"6148.034023437505\" y=\"625.0\" width=\"40\" height=\"40\" stroke=\"black\" fill=\"white\" stroke-width=\"1\" /><text x=\"6168.034023437505\" y=\"645.0\" dominant-baseline=\"middle\" text-anchor=\"middle\" font-size=\"18px\" font-family=\"Arial\">H</text><rect x=\"6208.034023437505\" y=\"725.0\" width=\"98.55902343750002\" height=\"40\" stroke=\"black\" fill=\"white\" stroke-width=\"1\" /><text x=\"6257.313535156255\" y=\"745.0\" dominant-baseline=\"middle\" text-anchor=\"middle\" font-size=\"14px\" font-family=\"Arial\">XX^(xx1-13)</text><rect x=\"6208.034023437505\" y=\"25.0\" width=\"98.55902343750002\" height=\"40\" stroke=\"black\" fill=\"white\" stroke-width=\"1\" /><text x=\"6257.313535156255\" y=\"45.0\" dominant-baseline=\"middle\" text-anchor=\"middle\" font-size=\"14px\" font-family=\"Arial\">XX</text><rect x=\"6306.593046875006\" y=\"675.0\" width=\"40\" height=\"40\" stroke=\"black\" fill=\"white\" stroke-width=\"1\" /><text x=\"6326.593046875006\" y=\"695.0\" dominant-baseline=\"middle\" text-anchor=\"middle\" font-size=\"18px\" font-family=\"Arial\">H</text><rect x=\"6366.593046875006\" y=\"775.0\" width=\"98.55902343750002\" height=\"40\" stroke=\"black\" fill=\"white\" stroke-width=\"1\" /><text x=\"6415.8725585937555\" y=\"795.0\" dominant-baseline=\"middle\" text-anchor=\"middle\" font-size=\"14px\" font-family=\"Arial\">XX^(xx1-14)</text><rect x=\"6366.593046875006\" y=\"25.0\" width=\"98.55902343750002\" height=\"40\" stroke=\"black\" fill=\"white\" stroke-width=\"1\" /><text x=\"6415.8725585937555\" y=\"45.0\" dominant-baseline=\"middle\" text-anchor=\"middle\" font-size=\"14px\" font-family=\"Arial\">XX</text><rect x=\"6465.152070312506\" y=\"725.0\" width=\"40\" height=\"40\" stroke=\"black\" fill=\"white\" stroke-width=\"1\" /><text x=\"6485.152070312506\" y=\"745.0\" dominant-baseline=\"middle\" text-anchor=\"middle\" font-size=\"18px\" font-family=\"Arial\">H</text><rect x=\"6525.152070312506\" y=\"825.0\" width=\"98.55902343750002\" height=\"40\" stroke=\"black\" fill=\"white\" stroke-width=\"1\" /><text x=\"6574.431582031256\" y=\"845.0\" dominant-baseline=\"middle\" text-anchor=\"middle\" font-size=\"14px\" font-family=\"Arial\">XX^(xx1-15)</text><rect x=\"6525.152070312506\" y=\"25.0\" width=\"98.55902343750002\" height=\"40\" stroke=\"black\" fill=\"white\" stroke-width=\"1\" /><text x=\"6574.431582031256\" y=\"45.0\" dominant-baseline=\"middle\" text-anchor=\"middle\" font-size=\"14px\" font-family=\"Arial\">XX</text><rect x=\"6623.7110937500065\" y=\"775.0\" width=\"40\" height=\"40\" stroke=\"black\" fill=\"white\" stroke-width=\"1\" /><text x=\"6643.7110937500065\" y=\"795.0\" dominant-baseline=\"middle\" text-anchor=\"middle\" font-size=\"18px\" font-family=\"Arial\">H</text><circle cx=\"6713.7110937500065\" cy=\"45.0\" r=\"10.0\" /><rect x=\"6693.7110937500065\" y=\"75.0\" width=\"40\" height=\"40\" stroke=\"black\" fill=\"white\" stroke-width=\"1\" /><text x=\"6713.7110937500065\" y=\"95.0\" dominant-baseline=\"middle\" text-anchor=\"middle\" font-size=\"18px\" font-family=\"Arial\">X</text><rect x=\"6693.7110937500065\" y=\"825.0\" width=\"40\" height=\"40\" stroke=\"black\" fill=\"white\" stroke-width=\"1\" /><text x=\"6713.7110937500065\" y=\"845.0\" dominant-baseline=\"middle\" text-anchor=\"middle\" font-size=\"18px\" font-family=\"Arial\">H</text><rect x=\"6753.7110937500065\" y=\"75.0\" width=\"73.92339843750001\" height=\"40\" stroke=\"black\" fill=\"white\" stroke-width=\"1\" /><text x=\"6790.672792968757\" y=\"95.0\" dominant-baseline=\"middle\" text-anchor=\"middle\" font-size=\"14px\" font-family=\"Arial\">Rz(zx2-0)</text><circle cx=\"6867.634492187506\" cy=\"45.0\" r=\"10.0\" /><rect x=\"6847.634492187506\" y=\"75.0\" width=\"40\" height=\"40\" stroke=\"black\" fill=\"white\" stroke-width=\"1\" /><text x=\"6867.634492187506\" y=\"95.0\" dominant-baseline=\"middle\" text-anchor=\"middle\" font-size=\"18px\" font-family=\"Arial\">X</text><rect x=\"6897.634492187506\" y=\"75.0\" width=\"40\" height=\"40\" stroke=\"black\" fill=\"white\" stroke-width=\"1\" /><text x=\"6917.634492187506\" y=\"95.0\" dominant-baseline=\"middle\" text-anchor=\"middle\" font-size=\"18px\" font-family=\"Arial\">H</text><circle cx=\"6957.634492187506\" cy=\"45.0\" r=\"10.0\" /><rect x=\"6937.634492187506\" y=\"125.0\" width=\"40\" height=\"40\" stroke=\"black\" fill=\"white\" stroke-width=\"1\" /><text x=\"6957.634492187506\" y=\"145.0\" dominant-baseline=\"middle\" text-anchor=\"middle\" font-size=\"18px\" font-family=\"Arial\">X</text><rect x=\"7007.634492187506\" y=\"125.0\" width=\"73.92339843750001\" height=\"40\" stroke=\"black\" fill=\"white\" stroke-width=\"1\" /><text x=\"7044.596191406256\" y=\"145.0\" dominant-baseline=\"middle\" text-anchor=\"middle\" font-size=\"14px\" font-family=\"Arial\">Rz(zx2-1)</text><circle cx=\"7121.557890625006\" cy=\"45.0\" r=\"10.0\" /><rect x=\"7101.557890625006\" y=\"125.0\" width=\"40\" height=\"40\" stroke=\"black\" fill=\"white\" stroke-width=\"1\" /><text x=\"7121.557890625006\" y=\"145.0\" dominant-baseline=\"middle\" text-anchor=\"middle\" font-size=\"18px\" font-family=\"Arial\">X</text><rect x=\"7151.557890625006\" y=\"125.0\" width=\"40\" height=\"40\" stroke=\"black\" fill=\"white\" stroke-width=\"1\" /><text x=\"7171.557890625006\" y=\"145.0\" dominant-baseline=\"middle\" text-anchor=\"middle\" font-size=\"18px\" font-family=\"Arial\">H</text><circle cx=\"7211.557890625006\" cy=\"45.0\" r=\"10.0\" /><rect x=\"7191.557890625006\" y=\"175.0\" width=\"40\" height=\"40\" stroke=\"black\" fill=\"white\" stroke-width=\"1\" /><text x=\"7211.557890625006\" y=\"195.0\" dominant-baseline=\"middle\" text-anchor=\"middle\" font-size=\"18px\" font-family=\"Arial\">X</text><rect x=\"7261.557890625006\" y=\"175.0\" width=\"73.92339843750001\" height=\"40\" stroke=\"black\" fill=\"white\" stroke-width=\"1\" /><text x=\"7298.519589843756\" y=\"195.0\" dominant-baseline=\"middle\" text-anchor=\"middle\" font-size=\"14px\" font-family=\"Arial\">Rz(zx2-2)</text><circle cx=\"7375.481289062505\" cy=\"45.0\" r=\"10.0\" /><rect x=\"7355.481289062505\" y=\"175.0\" width=\"40\" height=\"40\" stroke=\"black\" fill=\"white\" stroke-width=\"1\" /><text x=\"7375.481289062505\" y=\"195.0\" dominant-baseline=\"middle\" text-anchor=\"middle\" font-size=\"18px\" font-family=\"Arial\">X</text><rect x=\"7405.481289062505\" y=\"175.0\" width=\"40\" height=\"40\" stroke=\"black\" fill=\"white\" stroke-width=\"1\" /><text x=\"7425.481289062505\" y=\"195.0\" dominant-baseline=\"middle\" text-anchor=\"middle\" font-size=\"18px\" font-family=\"Arial\">H</text><circle cx=\"7465.481289062505\" cy=\"45.0\" r=\"10.0\" /><rect x=\"7445.481289062505\" y=\"225.0\" width=\"40\" height=\"40\" stroke=\"black\" fill=\"white\" stroke-width=\"1\" /><text x=\"7465.481289062505\" y=\"245.0\" dominant-baseline=\"middle\" text-anchor=\"middle\" font-size=\"18px\" font-family=\"Arial\">X</text><rect x=\"7515.481289062505\" y=\"225.0\" width=\"73.92339843750001\" height=\"40\" stroke=\"black\" fill=\"white\" stroke-width=\"1\" /><text x=\"7552.442988281256\" y=\"245.0\" dominant-baseline=\"middle\" text-anchor=\"middle\" font-size=\"14px\" font-family=\"Arial\">Rz(zx2-3)</text><circle cx=\"7629.404687500005\" cy=\"45.0\" r=\"10.0\" /><rect x=\"7609.404687500005\" y=\"225.0\" width=\"40\" height=\"40\" stroke=\"black\" fill=\"white\" stroke-width=\"1\" /><text x=\"7629.404687500005\" y=\"245.0\" dominant-baseline=\"middle\" text-anchor=\"middle\" font-size=\"18px\" font-family=\"Arial\">X</text><rect x=\"7659.404687500005\" y=\"225.0\" width=\"40\" height=\"40\" stroke=\"black\" fill=\"white\" stroke-width=\"1\" /><text x=\"7679.404687500005\" y=\"245.0\" dominant-baseline=\"middle\" text-anchor=\"middle\" font-size=\"18px\" font-family=\"Arial\">H</text><circle cx=\"7719.404687500005\" cy=\"45.0\" r=\"10.0\" /><rect x=\"7699.404687500005\" y=\"275.0\" width=\"40\" height=\"40\" stroke=\"black\" fill=\"white\" stroke-width=\"1\" /><text x=\"7719.404687500005\" y=\"295.0\" dominant-baseline=\"middle\" text-anchor=\"middle\" font-size=\"18px\" font-family=\"Arial\">X</text><rect x=\"7769.404687500005\" y=\"275.0\" width=\"73.92339843750001\" height=\"40\" stroke=\"black\" fill=\"white\" stroke-width=\"1\" /><text x=\"7806.366386718755\" y=\"295.0\" dominant-baseline=\"middle\" text-anchor=\"middle\" font-size=\"14px\" font-family=\"Arial\">Rz(zx2-4)</text><circle cx=\"7883.3280859375045\" cy=\"45.0\" r=\"10.0\" /><rect x=\"7863.3280859375045\" y=\"275.0\" width=\"40\" height=\"40\" stroke=\"black\" fill=\"white\" stroke-width=\"1\" /><text x=\"7883.3280859375045\" y=\"295.0\" dominant-baseline=\"middle\" text-anchor=\"middle\" font-size=\"18px\" font-family=\"Arial\">X</text><rect x=\"7913.3280859375045\" y=\"275.0\" width=\"40\" height=\"40\" stroke=\"black\" fill=\"white\" stroke-width=\"1\" /><text x=\"7933.3280859375045\" y=\"295.0\" dominant-baseline=\"middle\" text-anchor=\"middle\" font-size=\"18px\" font-family=\"Arial\">H</text><circle cx=\"7973.3280859375045\" cy=\"45.0\" r=\"10.0\" /><rect x=\"7953.3280859375045\" y=\"325.0\" width=\"40\" height=\"40\" stroke=\"black\" fill=\"white\" stroke-width=\"1\" /><text x=\"7973.3280859375045\" y=\"345.0\" dominant-baseline=\"middle\" text-anchor=\"middle\" font-size=\"18px\" font-family=\"Arial\">X</text><rect x=\"8023.3280859375045\" y=\"325.0\" width=\"73.92339843750001\" height=\"40\" stroke=\"black\" fill=\"white\" stroke-width=\"1\" /><text x=\"8060.289785156255\" y=\"345.0\" dominant-baseline=\"middle\" text-anchor=\"middle\" font-size=\"14px\" font-family=\"Arial\">Rz(zx2-5)</text><circle cx=\"8137.251484375004\" cy=\"45.0\" r=\"10.0\" /><rect x=\"8117.251484375004\" y=\"325.0\" width=\"40\" height=\"40\" stroke=\"black\" fill=\"white\" stroke-width=\"1\" /><text x=\"8137.251484375004\" y=\"345.0\" dominant-baseline=\"middle\" text-anchor=\"middle\" font-size=\"18px\" font-family=\"Arial\">X</text><rect x=\"8167.251484375004\" y=\"325.0\" width=\"40\" height=\"40\" stroke=\"black\" fill=\"white\" stroke-width=\"1\" /><text x=\"8187.251484375004\" y=\"345.0\" dominant-baseline=\"middle\" text-anchor=\"middle\" font-size=\"18px\" font-family=\"Arial\">H</text><circle cx=\"8227.251484375003\" cy=\"45.0\" r=\"10.0\" /><rect x=\"8207.251484375003\" y=\"375.0\" width=\"40\" height=\"40\" stroke=\"black\" fill=\"white\" stroke-width=\"1\" /><text x=\"8227.251484375003\" y=\"395.0\" dominant-baseline=\"middle\" text-anchor=\"middle\" font-size=\"18px\" font-family=\"Arial\">X</text><rect x=\"8277.251484375003\" y=\"375.0\" width=\"73.92339843750001\" height=\"40\" stroke=\"black\" fill=\"white\" stroke-width=\"1\" /><text x=\"8314.213183593753\" y=\"395.0\" dominant-baseline=\"middle\" text-anchor=\"middle\" font-size=\"14px\" font-family=\"Arial\">Rz(zx2-6)</text><circle cx=\"8391.174882812504\" cy=\"45.0\" r=\"10.0\" /><rect x=\"8371.174882812504\" y=\"375.0\" width=\"40\" height=\"40\" stroke=\"black\" fill=\"white\" stroke-width=\"1\" /><text x=\"8391.174882812504\" y=\"395.0\" dominant-baseline=\"middle\" text-anchor=\"middle\" font-size=\"18px\" font-family=\"Arial\">X</text><rect x=\"8421.174882812504\" y=\"375.0\" width=\"40\" height=\"40\" stroke=\"black\" fill=\"white\" stroke-width=\"1\" /><text x=\"8441.174882812504\" y=\"395.0\" dominant-baseline=\"middle\" text-anchor=\"middle\" font-size=\"18px\" font-family=\"Arial\">H</text><circle cx=\"8481.174882812504\" cy=\"45.0\" r=\"10.0\" /><rect x=\"8461.174882812504\" y=\"425.0\" width=\"40\" height=\"40\" stroke=\"black\" fill=\"white\" stroke-width=\"1\" /><text x=\"8481.174882812504\" y=\"445.0\" dominant-baseline=\"middle\" text-anchor=\"middle\" font-size=\"18px\" font-family=\"Arial\">X</text><rect x=\"8531.174882812504\" y=\"425.0\" width=\"73.92339843750001\" height=\"40\" stroke=\"black\" fill=\"white\" stroke-width=\"1\" /><text x=\"8568.136582031253\" y=\"445.0\" dominant-baseline=\"middle\" text-anchor=\"middle\" font-size=\"14px\" font-family=\"Arial\">Rz(zx2-7)</text><circle cx=\"8645.098281250004\" cy=\"45.0\" r=\"10.0\" /><rect x=\"8625.098281250004\" y=\"425.0\" width=\"40\" height=\"40\" stroke=\"black\" fill=\"white\" stroke-width=\"1\" /><text x=\"8645.098281250004\" y=\"445.0\" dominant-baseline=\"middle\" text-anchor=\"middle\" font-size=\"18px\" font-family=\"Arial\">X</text><rect x=\"8675.098281250004\" y=\"425.0\" width=\"40\" height=\"40\" stroke=\"black\" fill=\"white\" stroke-width=\"1\" /><text x=\"8695.098281250004\" y=\"445.0\" dominant-baseline=\"middle\" text-anchor=\"middle\" font-size=\"18px\" font-family=\"Arial\">H</text><circle cx=\"8735.098281250004\" cy=\"45.0\" r=\"10.0\" /><rect x=\"8715.098281250004\" y=\"475.0\" width=\"40\" height=\"40\" stroke=\"black\" fill=\"white\" stroke-width=\"1\" /><text x=\"8735.098281250004\" y=\"495.0\" dominant-baseline=\"middle\" text-anchor=\"middle\" font-size=\"18px\" font-family=\"Arial\">X</text><rect x=\"8785.098281250004\" y=\"475.0\" width=\"73.92339843750001\" height=\"40\" stroke=\"black\" fill=\"white\" stroke-width=\"1\" /><text x=\"8822.059980468754\" y=\"495.0\" dominant-baseline=\"middle\" text-anchor=\"middle\" font-size=\"14px\" font-family=\"Arial\">Rz(zx2-8)</text><circle cx=\"8899.021679687505\" cy=\"45.0\" r=\"10.0\" /><rect x=\"8879.021679687505\" y=\"475.0\" width=\"40\" height=\"40\" stroke=\"black\" fill=\"white\" stroke-width=\"1\" /><text x=\"8899.021679687505\" y=\"495.0\" dominant-baseline=\"middle\" text-anchor=\"middle\" font-size=\"18px\" font-family=\"Arial\">X</text><rect x=\"8929.021679687505\" y=\"475.0\" width=\"40\" height=\"40\" stroke=\"black\" fill=\"white\" stroke-width=\"1\" /><text x=\"8949.021679687505\" y=\"495.0\" dominant-baseline=\"middle\" text-anchor=\"middle\" font-size=\"18px\" font-family=\"Arial\">H</text><circle cx=\"8989.021679687505\" cy=\"45.0\" r=\"10.0\" /><rect x=\"8969.021679687505\" y=\"525.0\" width=\"40\" height=\"40\" stroke=\"black\" fill=\"white\" stroke-width=\"1\" /><text x=\"8989.021679687505\" y=\"545.0\" dominant-baseline=\"middle\" text-anchor=\"middle\" font-size=\"18px\" font-family=\"Arial\">X</text><rect x=\"9039.021679687505\" y=\"525.0\" width=\"73.92339843750001\" height=\"40\" stroke=\"black\" fill=\"white\" stroke-width=\"1\" /><text x=\"9075.983378906254\" y=\"545.0\" dominant-baseline=\"middle\" text-anchor=\"middle\" font-size=\"14px\" font-family=\"Arial\">Rz(zx2-9)</text><circle cx=\"9152.945078125005\" cy=\"45.0\" r=\"10.0\" /><rect x=\"9132.945078125005\" y=\"525.0\" width=\"40\" height=\"40\" stroke=\"black\" fill=\"white\" stroke-width=\"1\" /><text x=\"9152.945078125005\" y=\"545.0\" dominant-baseline=\"middle\" text-anchor=\"middle\" font-size=\"18px\" font-family=\"Arial\">X</text><rect x=\"9182.945078125005\" y=\"525.0\" width=\"40\" height=\"40\" stroke=\"black\" fill=\"white\" stroke-width=\"1\" /><text x=\"9202.945078125005\" y=\"545.0\" dominant-baseline=\"middle\" text-anchor=\"middle\" font-size=\"18px\" font-family=\"Arial\">H</text><circle cx=\"9242.945078125005\" cy=\"45.0\" r=\"10.0\" /><rect x=\"9222.945078125005\" y=\"575.0\" width=\"40\" height=\"40\" stroke=\"black\" fill=\"white\" stroke-width=\"1\" /><text x=\"9242.945078125005\" y=\"595.0\" dominant-baseline=\"middle\" text-anchor=\"middle\" font-size=\"18px\" font-family=\"Arial\">X</text><rect x=\"9292.945078125005\" y=\"575.0\" width=\"82.83062500000001\" height=\"40\" stroke=\"black\" fill=\"white\" stroke-width=\"1\" /><text x=\"9334.360390625005\" y=\"595.0\" dominant-baseline=\"middle\" text-anchor=\"middle\" font-size=\"14px\" font-family=\"Arial\">Rz(zx2-10)</text><circle cx=\"9415.775703125006\" cy=\"45.0\" r=\"10.0\" /><rect x=\"9395.775703125006\" y=\"575.0\" width=\"40\" height=\"40\" stroke=\"black\" fill=\"white\" stroke-width=\"1\" /><text x=\"9415.775703125006\" y=\"595.0\" dominant-baseline=\"middle\" text-anchor=\"middle\" font-size=\"18px\" font-family=\"Arial\">X</text><rect x=\"9445.775703125006\" y=\"575.0\" width=\"40\" height=\"40\" stroke=\"black\" fill=\"white\" stroke-width=\"1\" /><text x=\"9465.775703125006\" y=\"595.0\" dominant-baseline=\"middle\" text-anchor=\"middle\" font-size=\"18px\" font-family=\"Arial\">H</text><circle cx=\"9505.775703125006\" cy=\"45.0\" r=\"10.0\" /><rect x=\"9485.775703125006\" y=\"625.0\" width=\"40\" height=\"40\" stroke=\"black\" fill=\"white\" stroke-width=\"1\" /><text x=\"9505.775703125006\" y=\"645.0\" dominant-baseline=\"middle\" text-anchor=\"middle\" font-size=\"18px\" font-family=\"Arial\">X</text><rect x=\"9555.775703125006\" y=\"625.0\" width=\"82.83062500000001\" height=\"40\" stroke=\"black\" fill=\"white\" stroke-width=\"1\" /><text x=\"9597.191015625005\" y=\"645.0\" dominant-baseline=\"middle\" text-anchor=\"middle\" font-size=\"14px\" font-family=\"Arial\">Rz(zx2-11)</text><circle cx=\"9678.606328125006\" cy=\"45.0\" r=\"10.0\" /><rect x=\"9658.606328125006\" y=\"625.0\" width=\"40\" height=\"40\" stroke=\"black\" fill=\"white\" stroke-width=\"1\" /><text x=\"9678.606328125006\" y=\"645.0\" dominant-baseline=\"middle\" text-anchor=\"middle\" font-size=\"18px\" font-family=\"Arial\">X</text><rect x=\"9708.606328125006\" y=\"625.0\" width=\"40\" height=\"40\" stroke=\"black\" fill=\"white\" stroke-width=\"1\" /><text x=\"9728.606328125006\" y=\"645.0\" dominant-baseline=\"middle\" text-anchor=\"middle\" font-size=\"18px\" font-family=\"Arial\">H</text><circle cx=\"9768.606328125006\" cy=\"45.0\" r=\"10.0\" /><rect x=\"9748.606328125006\" y=\"675.0\" width=\"40\" height=\"40\" stroke=\"black\" fill=\"white\" stroke-width=\"1\" /><text x=\"9768.606328125006\" y=\"695.0\" dominant-baseline=\"middle\" text-anchor=\"middle\" font-size=\"18px\" font-family=\"Arial\">X</text><rect x=\"9818.606328125006\" y=\"675.0\" width=\"82.83062500000001\" height=\"40\" stroke=\"black\" fill=\"white\" stroke-width=\"1\" /><text x=\"9860.021640625006\" y=\"695.0\" dominant-baseline=\"middle\" text-anchor=\"middle\" font-size=\"14px\" font-family=\"Arial\">Rz(zx2-12)</text><circle cx=\"9941.436953125007\" cy=\"45.0\" r=\"10.0\" /><rect x=\"9921.436953125007\" y=\"675.0\" width=\"40\" height=\"40\" stroke=\"black\" fill=\"white\" stroke-width=\"1\" /><text x=\"9941.436953125007\" y=\"695.0\" dominant-baseline=\"middle\" text-anchor=\"middle\" font-size=\"18px\" font-family=\"Arial\">X</text><rect x=\"9971.436953125007\" y=\"675.0\" width=\"40\" height=\"40\" stroke=\"black\" fill=\"white\" stroke-width=\"1\" /><text x=\"9991.436953125007\" y=\"695.0\" dominant-baseline=\"middle\" text-anchor=\"middle\" font-size=\"18px\" font-family=\"Arial\">H</text><circle cx=\"10031.436953125007\" cy=\"45.0\" r=\"10.0\" /><rect x=\"10011.436953125007\" y=\"725.0\" width=\"40\" height=\"40\" stroke=\"black\" fill=\"white\" stroke-width=\"1\" /><text x=\"10031.436953125007\" y=\"745.0\" dominant-baseline=\"middle\" text-anchor=\"middle\" font-size=\"18px\" font-family=\"Arial\">X</text><rect x=\"10081.436953125007\" y=\"725.0\" width=\"82.83062500000001\" height=\"40\" stroke=\"black\" fill=\"white\" stroke-width=\"1\" /><text x=\"10122.852265625006\" y=\"745.0\" dominant-baseline=\"middle\" text-anchor=\"middle\" font-size=\"14px\" font-family=\"Arial\">Rz(zx2-13)</text><circle cx=\"10204.267578125007\" cy=\"45.0\" r=\"10.0\" /><rect x=\"10184.267578125007\" y=\"725.0\" width=\"40\" height=\"40\" stroke=\"black\" fill=\"white\" stroke-width=\"1\" /><text x=\"10204.267578125007\" y=\"745.0\" dominant-baseline=\"middle\" text-anchor=\"middle\" font-size=\"18px\" font-family=\"Arial\">X</text><rect x=\"10234.267578125007\" y=\"725.0\" width=\"40\" height=\"40\" stroke=\"black\" fill=\"white\" stroke-width=\"1\" /><text x=\"10254.267578125007\" y=\"745.0\" dominant-baseline=\"middle\" text-anchor=\"middle\" font-size=\"18px\" font-family=\"Arial\">H</text><circle cx=\"10294.267578125007\" cy=\"45.0\" r=\"10.0\" /><rect x=\"10274.267578125007\" y=\"775.0\" width=\"40\" height=\"40\" stroke=\"black\" fill=\"white\" stroke-width=\"1\" /><text x=\"10294.267578125007\" y=\"795.0\" dominant-baseline=\"middle\" text-anchor=\"middle\" font-size=\"18px\" font-family=\"Arial\">X</text><rect x=\"10344.267578125007\" y=\"775.0\" width=\"82.83062500000001\" height=\"40\" stroke=\"black\" fill=\"white\" stroke-width=\"1\" /><text x=\"10385.682890625007\" y=\"795.0\" dominant-baseline=\"middle\" text-anchor=\"middle\" font-size=\"14px\" font-family=\"Arial\">Rz(zx2-14)</text><circle cx=\"10467.098203125008\" cy=\"45.0\" r=\"10.0\" /><rect x=\"10447.098203125008\" y=\"775.0\" width=\"40\" height=\"40\" stroke=\"black\" fill=\"white\" stroke-width=\"1\" /><text x=\"10467.098203125008\" y=\"795.0\" dominant-baseline=\"middle\" text-anchor=\"middle\" font-size=\"18px\" font-family=\"Arial\">X</text><rect x=\"10497.098203125008\" y=\"775.0\" width=\"40\" height=\"40\" stroke=\"black\" fill=\"white\" stroke-width=\"1\" /><text x=\"10517.098203125008\" y=\"795.0\" dominant-baseline=\"middle\" text-anchor=\"middle\" font-size=\"18px\" font-family=\"Arial\">H</text><circle cx=\"10557.098203125008\" cy=\"45.0\" r=\"10.0\" /><rect x=\"10537.098203125008\" y=\"825.0\" width=\"40\" height=\"40\" stroke=\"black\" fill=\"white\" stroke-width=\"1\" /><text x=\"10557.098203125008\" y=\"845.0\" dominant-baseline=\"middle\" text-anchor=\"middle\" font-size=\"18px\" font-family=\"Arial\">X</text><rect x=\"10607.098203125008\" y=\"825.0\" width=\"82.83062500000001\" height=\"40\" stroke=\"black\" fill=\"white\" stroke-width=\"1\" /><text x=\"10648.513515625007\" y=\"845.0\" dominant-baseline=\"middle\" text-anchor=\"middle\" font-size=\"14px\" font-family=\"Arial\">Rz(zx2-15)</text><circle cx=\"10729.928828125008\" cy=\"45.0\" r=\"10.0\" /><rect x=\"10709.928828125008\" y=\"825.0\" width=\"40\" height=\"40\" stroke=\"black\" fill=\"white\" stroke-width=\"1\" /><text x=\"10729.928828125008\" y=\"845.0\" dominant-baseline=\"middle\" text-anchor=\"middle\" font-size=\"18px\" font-family=\"Arial\">X</text><rect x=\"10769.928828125008\" y=\"825.0\" width=\"89.65179687500002\" height=\"40\" stroke=\"black\" fill=\"white\" stroke-width=\"1\" /><text x=\"10814.754726562509\" y=\"845.0\" dominant-baseline=\"middle\" text-anchor=\"middle\" font-size=\"18px\" font-family=\"Arial\">H</text><rect x=\"10769.928828125008\" y=\"75.0\" width=\"89.65179687500002\" height=\"40\" stroke=\"black\" fill=\"white\" stroke-width=\"1\" /><text x=\"10814.754726562509\" y=\"95.0\" dominant-baseline=\"middle\" text-anchor=\"middle\" font-size=\"14px\" font-family=\"Arial\">XX^(xx2-0)</text><rect x=\"10769.928828125008\" y=\"25.0\" width=\"89.65179687500002\" height=\"40\" stroke=\"black\" fill=\"white\" stroke-width=\"1\" /><text x=\"10814.754726562509\" y=\"45.0\" dominant-baseline=\"middle\" text-anchor=\"middle\" font-size=\"14px\" font-family=\"Arial\">XX</text><rect x=\"10869.580625000008\" y=\"125.0\" width=\"89.65179687500002\" height=\"40\" stroke=\"black\" fill=\"white\" stroke-width=\"1\" /><text x=\"10914.406523437508\" y=\"145.0\" dominant-baseline=\"middle\" text-anchor=\"middle\" font-size=\"14px\" font-family=\"Arial\">XX^(xx2-1)</text><rect x=\"10869.580625000008\" y=\"25.0\" width=\"89.65179687500002\" height=\"40\" stroke=\"black\" fill=\"white\" stroke-width=\"1\" /><text x=\"10914.406523437508\" y=\"45.0\" dominant-baseline=\"middle\" text-anchor=\"middle\" font-size=\"14px\" font-family=\"Arial\">XX</text><rect x=\"10959.232421875007\" y=\"75.0\" width=\"40\" height=\"40\" stroke=\"black\" fill=\"white\" stroke-width=\"1\" /><text x=\"10979.232421875007\" y=\"95.0\" dominant-baseline=\"middle\" text-anchor=\"middle\" font-size=\"18px\" font-family=\"Arial\">H</text><rect x=\"11019.232421875007\" y=\"175.0\" width=\"89.65179687500002\" height=\"40\" stroke=\"black\" fill=\"white\" stroke-width=\"1\" /><text x=\"11064.058320312508\" y=\"195.0\" dominant-baseline=\"middle\" text-anchor=\"middle\" font-size=\"14px\" font-family=\"Arial\">XX^(xx2-2)</text><rect x=\"11019.232421875007\" y=\"25.0\" width=\"89.65179687500002\" height=\"40\" stroke=\"black\" fill=\"white\" stroke-width=\"1\" /><text x=\"11064.058320312508\" y=\"45.0\" dominant-baseline=\"middle\" text-anchor=\"middle\" font-size=\"14px\" font-family=\"Arial\">XX</text><rect x=\"11108.884218750007\" y=\"125.0\" width=\"40\" height=\"40\" stroke=\"black\" fill=\"white\" stroke-width=\"1\" /><text x=\"11128.884218750007\" y=\"145.0\" dominant-baseline=\"middle\" text-anchor=\"middle\" font-size=\"18px\" font-family=\"Arial\">H</text><rect x=\"11168.884218750007\" y=\"225.0\" width=\"89.65179687500002\" height=\"40\" stroke=\"black\" fill=\"white\" stroke-width=\"1\" /><text x=\"11213.710117187507\" y=\"245.0\" dominant-baseline=\"middle\" text-anchor=\"middle\" font-size=\"14px\" font-family=\"Arial\">XX^(xx2-3)</text><rect x=\"11168.884218750007\" y=\"25.0\" width=\"89.65179687500002\" height=\"40\" stroke=\"black\" fill=\"white\" stroke-width=\"1\" /><text x=\"11213.710117187507\" y=\"45.0\" dominant-baseline=\"middle\" text-anchor=\"middle\" font-size=\"14px\" font-family=\"Arial\">XX</text><rect x=\"11258.536015625006\" y=\"175.0\" width=\"40\" height=\"40\" stroke=\"black\" fill=\"white\" stroke-width=\"1\" /><text x=\"11278.536015625006\" y=\"195.0\" dominant-baseline=\"middle\" text-anchor=\"middle\" font-size=\"18px\" font-family=\"Arial\">H</text><rect x=\"11318.536015625006\" y=\"275.0\" width=\"89.65179687500002\" height=\"40\" stroke=\"black\" fill=\"white\" stroke-width=\"1\" /><text x=\"11363.361914062507\" y=\"295.0\" dominant-baseline=\"middle\" text-anchor=\"middle\" font-size=\"14px\" font-family=\"Arial\">XX^(xx2-4)</text><rect x=\"11318.536015625006\" y=\"25.0\" width=\"89.65179687500002\" height=\"40\" stroke=\"black\" fill=\"white\" stroke-width=\"1\" /><text x=\"11363.361914062507\" y=\"45.0\" dominant-baseline=\"middle\" text-anchor=\"middle\" font-size=\"14px\" font-family=\"Arial\">XX</text><rect x=\"11408.187812500006\" y=\"225.0\" width=\"40\" height=\"40\" stroke=\"black\" fill=\"white\" stroke-width=\"1\" /><text x=\"11428.187812500006\" y=\"245.0\" dominant-baseline=\"middle\" text-anchor=\"middle\" font-size=\"18px\" font-family=\"Arial\">H</text><rect x=\"11468.187812500006\" y=\"325.0\" width=\"89.65179687500002\" height=\"40\" stroke=\"black\" fill=\"white\" stroke-width=\"1\" /><text x=\"11513.013710937506\" y=\"345.0\" dominant-baseline=\"middle\" text-anchor=\"middle\" font-size=\"14px\" font-family=\"Arial\">XX^(xx2-5)</text><rect x=\"11468.187812500006\" y=\"25.0\" width=\"89.65179687500002\" height=\"40\" stroke=\"black\" fill=\"white\" stroke-width=\"1\" /><text x=\"11513.013710937506\" y=\"45.0\" dominant-baseline=\"middle\" text-anchor=\"middle\" font-size=\"14px\" font-family=\"Arial\">XX</text><rect x=\"11557.839609375005\" y=\"275.0\" width=\"40\" height=\"40\" stroke=\"black\" fill=\"white\" stroke-width=\"1\" /><text x=\"11577.839609375005\" y=\"295.0\" dominant-baseline=\"middle\" text-anchor=\"middle\" font-size=\"18px\" font-family=\"Arial\">H</text><rect x=\"11617.839609375005\" y=\"375.0\" width=\"89.65179687500002\" height=\"40\" stroke=\"black\" fill=\"white\" stroke-width=\"1\" /><text x=\"11662.665507812506\" y=\"395.0\" dominant-baseline=\"middle\" text-anchor=\"middle\" font-size=\"14px\" font-family=\"Arial\">XX^(xx2-6)</text><rect x=\"11617.839609375005\" y=\"25.0\" width=\"89.65179687500002\" height=\"40\" stroke=\"black\" fill=\"white\" stroke-width=\"1\" /><text x=\"11662.665507812506\" y=\"45.0\" dominant-baseline=\"middle\" text-anchor=\"middle\" font-size=\"14px\" font-family=\"Arial\">XX</text><rect x=\"11707.491406250005\" y=\"325.0\" width=\"40\" height=\"40\" stroke=\"black\" fill=\"white\" stroke-width=\"1\" /><text x=\"11727.491406250005\" y=\"345.0\" dominant-baseline=\"middle\" text-anchor=\"middle\" font-size=\"18px\" font-family=\"Arial\">H</text><rect x=\"11767.491406250005\" y=\"425.0\" width=\"89.65179687500002\" height=\"40\" stroke=\"black\" fill=\"white\" stroke-width=\"1\" /><text x=\"11812.317304687505\" y=\"445.0\" dominant-baseline=\"middle\" text-anchor=\"middle\" font-size=\"14px\" font-family=\"Arial\">XX^(xx2-7)</text><rect x=\"11767.491406250005\" y=\"25.0\" width=\"89.65179687500002\" height=\"40\" stroke=\"black\" fill=\"white\" stroke-width=\"1\" /><text x=\"11812.317304687505\" y=\"45.0\" dominant-baseline=\"middle\" text-anchor=\"middle\" font-size=\"14px\" font-family=\"Arial\">XX</text><rect x=\"11857.143203125004\" y=\"375.0\" width=\"40\" height=\"40\" stroke=\"black\" fill=\"white\" stroke-width=\"1\" /><text x=\"11877.143203125004\" y=\"395.0\" dominant-baseline=\"middle\" text-anchor=\"middle\" font-size=\"18px\" font-family=\"Arial\">H</text><rect x=\"11917.143203125004\" y=\"475.0\" width=\"89.65179687500002\" height=\"40\" stroke=\"black\" fill=\"white\" stroke-width=\"1\" /><text x=\"11961.969101562505\" y=\"495.0\" dominant-baseline=\"middle\" text-anchor=\"middle\" font-size=\"14px\" font-family=\"Arial\">XX^(xx2-8)</text><rect x=\"11917.143203125004\" y=\"25.0\" width=\"89.65179687500002\" height=\"40\" stroke=\"black\" fill=\"white\" stroke-width=\"1\" /><text x=\"11961.969101562505\" y=\"45.0\" dominant-baseline=\"middle\" text-anchor=\"middle\" font-size=\"14px\" font-family=\"Arial\">XX</text><rect x=\"12006.795000000004\" y=\"425.0\" width=\"40\" height=\"40\" stroke=\"black\" fill=\"white\" stroke-width=\"1\" /><text x=\"12026.795000000004\" y=\"445.0\" dominant-baseline=\"middle\" text-anchor=\"middle\" font-size=\"18px\" font-family=\"Arial\">H</text><rect x=\"12066.795000000004\" y=\"525.0\" width=\"89.65179687500002\" height=\"40\" stroke=\"black\" fill=\"white\" stroke-width=\"1\" /><text x=\"12111.620898437504\" y=\"545.0\" dominant-baseline=\"middle\" text-anchor=\"middle\" font-size=\"14px\" font-family=\"Arial\">XX^(xx2-9)</text><rect x=\"12066.795000000004\" y=\"25.0\" width=\"89.65179687500002\" height=\"40\" stroke=\"black\" fill=\"white\" stroke-width=\"1\" /><text x=\"12111.620898437504\" y=\"45.0\" dominant-baseline=\"middle\" text-anchor=\"middle\" font-size=\"14px\" font-family=\"Arial\">XX</text><rect x=\"12156.446796875003\" y=\"475.0\" width=\"40\" height=\"40\" stroke=\"black\" fill=\"white\" stroke-width=\"1\" /><text x=\"12176.446796875003\" y=\"495.0\" dominant-baseline=\"middle\" text-anchor=\"middle\" font-size=\"18px\" font-family=\"Arial\">H</text><rect x=\"12216.446796875003\" y=\"575.0\" width=\"98.55902343750002\" height=\"40\" stroke=\"black\" fill=\"white\" stroke-width=\"1\" /><text x=\"12265.726308593754\" y=\"595.0\" dominant-baseline=\"middle\" text-anchor=\"middle\" font-size=\"14px\" font-family=\"Arial\">XX^(xx2-10)</text><rect x=\"12216.446796875003\" y=\"25.0\" width=\"98.55902343750002\" height=\"40\" stroke=\"black\" fill=\"white\" stroke-width=\"1\" /><text x=\"12265.726308593754\" y=\"45.0\" dominant-baseline=\"middle\" text-anchor=\"middle\" font-size=\"14px\" font-family=\"Arial\">XX</text><rect x=\"12315.005820312503\" y=\"525.0\" width=\"40\" height=\"40\" stroke=\"black\" fill=\"white\" stroke-width=\"1\" /><text x=\"12335.005820312503\" y=\"545.0\" dominant-baseline=\"middle\" text-anchor=\"middle\" font-size=\"18px\" font-family=\"Arial\">H</text><rect x=\"12375.005820312503\" y=\"625.0\" width=\"98.55902343750002\" height=\"40\" stroke=\"black\" fill=\"white\" stroke-width=\"1\" /><text x=\"12424.285332031253\" y=\"645.0\" dominant-baseline=\"middle\" text-anchor=\"middle\" font-size=\"14px\" font-family=\"Arial\">XX^(xx2-11)</text><rect x=\"12375.005820312503\" y=\"25.0\" width=\"98.55902343750002\" height=\"40\" stroke=\"black\" fill=\"white\" stroke-width=\"1\" /><text x=\"12424.285332031253\" y=\"45.0\" dominant-baseline=\"middle\" text-anchor=\"middle\" font-size=\"14px\" font-family=\"Arial\">XX</text><rect x=\"12473.564843750002\" y=\"575.0\" width=\"40\" height=\"40\" stroke=\"black\" fill=\"white\" stroke-width=\"1\" /><text x=\"12493.564843750002\" y=\"595.0\" dominant-baseline=\"middle\" text-anchor=\"middle\" font-size=\"18px\" font-family=\"Arial\">H</text><rect x=\"12533.564843750002\" y=\"675.0\" width=\"98.55902343750002\" height=\"40\" stroke=\"black\" fill=\"white\" stroke-width=\"1\" /><text x=\"12582.844355468753\" y=\"695.0\" dominant-baseline=\"middle\" text-anchor=\"middle\" font-size=\"14px\" font-family=\"Arial\">XX^(xx2-12)</text><rect x=\"12533.564843750002\" y=\"25.0\" width=\"98.55902343750002\" height=\"40\" stroke=\"black\" fill=\"white\" stroke-width=\"1\" /><text x=\"12582.844355468753\" y=\"45.0\" dominant-baseline=\"middle\" text-anchor=\"middle\" font-size=\"14px\" font-family=\"Arial\">XX</text><rect x=\"12632.123867187502\" y=\"625.0\" width=\"40\" height=\"40\" stroke=\"black\" fill=\"white\" stroke-width=\"1\" /><text x=\"12652.123867187502\" y=\"645.0\" dominant-baseline=\"middle\" text-anchor=\"middle\" font-size=\"18px\" font-family=\"Arial\">H</text><rect x=\"12692.123867187502\" y=\"725.0\" width=\"98.55902343750002\" height=\"40\" stroke=\"black\" fill=\"white\" stroke-width=\"1\" /><text x=\"12741.403378906252\" y=\"745.0\" dominant-baseline=\"middle\" text-anchor=\"middle\" font-size=\"14px\" font-family=\"Arial\">XX^(xx2-13)</text><rect x=\"12692.123867187502\" y=\"25.0\" width=\"98.55902343750002\" height=\"40\" stroke=\"black\" fill=\"white\" stroke-width=\"1\" /><text x=\"12741.403378906252\" y=\"45.0\" dominant-baseline=\"middle\" text-anchor=\"middle\" font-size=\"14px\" font-family=\"Arial\">XX</text><rect x=\"12790.682890625001\" y=\"675.0\" width=\"40\" height=\"40\" stroke=\"black\" fill=\"white\" stroke-width=\"1\" /><text x=\"12810.682890625001\" y=\"695.0\" dominant-baseline=\"middle\" text-anchor=\"middle\" font-size=\"18px\" font-family=\"Arial\">H</text><rect x=\"12850.682890625001\" y=\"775.0\" width=\"98.55902343750002\" height=\"40\" stroke=\"black\" fill=\"white\" stroke-width=\"1\" /><text x=\"12899.962402343752\" y=\"795.0\" dominant-baseline=\"middle\" text-anchor=\"middle\" font-size=\"14px\" font-family=\"Arial\">XX^(xx2-14)</text><rect x=\"12850.682890625001\" y=\"25.0\" width=\"98.55902343750002\" height=\"40\" stroke=\"black\" fill=\"white\" stroke-width=\"1\" /><text x=\"12899.962402343752\" y=\"45.0\" dominant-baseline=\"middle\" text-anchor=\"middle\" font-size=\"14px\" font-family=\"Arial\">XX</text><rect x=\"12949.2419140625\" y=\"725.0\" width=\"40\" height=\"40\" stroke=\"black\" fill=\"white\" stroke-width=\"1\" /><text x=\"12969.2419140625\" y=\"745.0\" dominant-baseline=\"middle\" text-anchor=\"middle\" font-size=\"18px\" font-family=\"Arial\">H</text><rect x=\"13009.2419140625\" y=\"825.0\" width=\"98.55902343750002\" height=\"40\" stroke=\"black\" fill=\"white\" stroke-width=\"1\" /><text x=\"13058.521425781251\" y=\"845.0\" dominant-baseline=\"middle\" text-anchor=\"middle\" font-size=\"14px\" font-family=\"Arial\">XX^(xx2-15)</text><rect x=\"13009.2419140625\" y=\"25.0\" width=\"98.55902343750002\" height=\"40\" stroke=\"black\" fill=\"white\" stroke-width=\"1\" /><text x=\"13058.521425781251\" y=\"45.0\" dominant-baseline=\"middle\" text-anchor=\"middle\" font-size=\"14px\" font-family=\"Arial\">XX</text><rect x=\"13107.8009375\" y=\"775.0\" width=\"40\" height=\"40\" stroke=\"black\" fill=\"white\" stroke-width=\"1\" /><text x=\"13127.8009375\" y=\"795.0\" dominant-baseline=\"middle\" text-anchor=\"middle\" font-size=\"18px\" font-family=\"Arial\">H</text><circle cx=\"13197.8009375\" cy=\"45.0\" r=\"10.0\" /><rect x=\"13177.8009375\" y=\"75.0\" width=\"40\" height=\"40\" stroke=\"black\" fill=\"white\" stroke-width=\"1\" /><text x=\"13197.8009375\" y=\"95.0\" dominant-baseline=\"middle\" text-anchor=\"middle\" font-size=\"18px\" font-family=\"Arial\">X</text><rect x=\"13177.8009375\" y=\"825.0\" width=\"40\" height=\"40\" stroke=\"black\" fill=\"white\" stroke-width=\"1\" /><text x=\"13197.8009375\" y=\"845.0\" dominant-baseline=\"middle\" text-anchor=\"middle\" font-size=\"18px\" font-family=\"Arial\">H</text><rect x=\"13237.8009375\" y=\"75.0\" width=\"73.92339843750001\" height=\"40\" stroke=\"black\" fill=\"white\" stroke-width=\"1\" /><text x=\"13274.76263671875\" y=\"95.0\" dominant-baseline=\"middle\" text-anchor=\"middle\" font-size=\"14px\" font-family=\"Arial\">Rz(zx3-0)</text><circle cx=\"13351.7243359375\" cy=\"45.0\" r=\"10.0\" /><rect x=\"13331.7243359375\" y=\"75.0\" width=\"40\" height=\"40\" stroke=\"black\" fill=\"white\" stroke-width=\"1\" /><text x=\"13351.7243359375\" y=\"95.0\" dominant-baseline=\"middle\" text-anchor=\"middle\" font-size=\"18px\" font-family=\"Arial\">X</text><rect x=\"13381.7243359375\" y=\"75.0\" width=\"40\" height=\"40\" stroke=\"black\" fill=\"white\" stroke-width=\"1\" /><text x=\"13401.7243359375\" y=\"95.0\" dominant-baseline=\"middle\" text-anchor=\"middle\" font-size=\"18px\" font-family=\"Arial\">H</text><circle cx=\"13441.7243359375\" cy=\"45.0\" r=\"10.0\" /><rect x=\"13421.7243359375\" y=\"125.0\" width=\"40\" height=\"40\" stroke=\"black\" fill=\"white\" stroke-width=\"1\" /><text x=\"13441.7243359375\" y=\"145.0\" dominant-baseline=\"middle\" text-anchor=\"middle\" font-size=\"18px\" font-family=\"Arial\">X</text><rect x=\"13491.7243359375\" y=\"125.0\" width=\"73.92339843750001\" height=\"40\" stroke=\"black\" fill=\"white\" stroke-width=\"1\" /><text x=\"13528.68603515625\" y=\"145.0\" dominant-baseline=\"middle\" text-anchor=\"middle\" font-size=\"14px\" font-family=\"Arial\">Rz(zx3-1)</text><circle cx=\"13605.647734375001\" cy=\"45.0\" r=\"10.0\" /><rect x=\"13585.647734375001\" y=\"125.0\" width=\"40\" height=\"40\" stroke=\"black\" fill=\"white\" stroke-width=\"1\" /><text x=\"13605.647734375001\" y=\"145.0\" dominant-baseline=\"middle\" text-anchor=\"middle\" font-size=\"18px\" font-family=\"Arial\">X</text><rect x=\"13635.647734375001\" y=\"125.0\" width=\"40\" height=\"40\" stroke=\"black\" fill=\"white\" stroke-width=\"1\" /><text x=\"13655.647734375001\" y=\"145.0\" dominant-baseline=\"middle\" text-anchor=\"middle\" font-size=\"18px\" font-family=\"Arial\">H</text><circle cx=\"13695.647734375001\" cy=\"45.0\" r=\"10.0\" /><rect x=\"13675.647734375001\" y=\"175.0\" width=\"40\" height=\"40\" stroke=\"black\" fill=\"white\" stroke-width=\"1\" /><text x=\"13695.647734375001\" y=\"195.0\" dominant-baseline=\"middle\" text-anchor=\"middle\" font-size=\"18px\" font-family=\"Arial\">X</text><rect x=\"13745.647734375001\" y=\"175.0\" width=\"73.92339843750001\" height=\"40\" stroke=\"black\" fill=\"white\" stroke-width=\"1\" /><text x=\"13782.60943359375\" y=\"195.0\" dominant-baseline=\"middle\" text-anchor=\"middle\" font-size=\"14px\" font-family=\"Arial\">Rz(zx3-2)</text><circle cx=\"13859.571132812502\" cy=\"45.0\" r=\"10.0\" /><rect x=\"13839.571132812502\" y=\"175.0\" width=\"40\" height=\"40\" stroke=\"black\" fill=\"white\" stroke-width=\"1\" /><text x=\"13859.571132812502\" y=\"195.0\" dominant-baseline=\"middle\" text-anchor=\"middle\" font-size=\"18px\" font-family=\"Arial\">X</text><rect x=\"13889.571132812502\" y=\"175.0\" width=\"40\" height=\"40\" stroke=\"black\" fill=\"white\" stroke-width=\"1\" /><text x=\"13909.571132812502\" y=\"195.0\" dominant-baseline=\"middle\" text-anchor=\"middle\" font-size=\"18px\" font-family=\"Arial\">H</text><circle cx=\"13949.571132812502\" cy=\"45.0\" r=\"10.0\" /><rect x=\"13929.571132812502\" y=\"225.0\" width=\"40\" height=\"40\" stroke=\"black\" fill=\"white\" stroke-width=\"1\" /><text x=\"13949.571132812502\" y=\"245.0\" dominant-baseline=\"middle\" text-anchor=\"middle\" font-size=\"18px\" font-family=\"Arial\">X</text><rect x=\"13999.571132812502\" y=\"225.0\" width=\"73.92339843750001\" height=\"40\" stroke=\"black\" fill=\"white\" stroke-width=\"1\" /><text x=\"14036.532832031251\" y=\"245.0\" dominant-baseline=\"middle\" text-anchor=\"middle\" font-size=\"14px\" font-family=\"Arial\">Rz(zx3-3)</text><circle cx=\"14113.494531250002\" cy=\"45.0\" r=\"10.0\" /><rect x=\"14093.494531250002\" y=\"225.0\" width=\"40\" height=\"40\" stroke=\"black\" fill=\"white\" stroke-width=\"1\" /><text x=\"14113.494531250002\" y=\"245.0\" dominant-baseline=\"middle\" text-anchor=\"middle\" font-size=\"18px\" font-family=\"Arial\">X</text><rect x=\"14143.494531250002\" y=\"225.0\" width=\"40\" height=\"40\" stroke=\"black\" fill=\"white\" stroke-width=\"1\" /><text x=\"14163.494531250002\" y=\"245.0\" dominant-baseline=\"middle\" text-anchor=\"middle\" font-size=\"18px\" font-family=\"Arial\">H</text><circle cx=\"14203.494531250002\" cy=\"45.0\" r=\"10.0\" /><rect x=\"14183.494531250002\" y=\"275.0\" width=\"40\" height=\"40\" stroke=\"black\" fill=\"white\" stroke-width=\"1\" /><text x=\"14203.494531250002\" y=\"295.0\" dominant-baseline=\"middle\" text-anchor=\"middle\" font-size=\"18px\" font-family=\"Arial\">X</text><rect x=\"14253.494531250002\" y=\"275.0\" width=\"73.92339843750001\" height=\"40\" stroke=\"black\" fill=\"white\" stroke-width=\"1\" /><text x=\"14290.456230468752\" y=\"295.0\" dominant-baseline=\"middle\" text-anchor=\"middle\" font-size=\"14px\" font-family=\"Arial\">Rz(zx3-4)</text><circle cx=\"14367.417929687503\" cy=\"45.0\" r=\"10.0\" /><rect x=\"14347.417929687503\" y=\"275.0\" width=\"40\" height=\"40\" stroke=\"black\" fill=\"white\" stroke-width=\"1\" /><text x=\"14367.417929687503\" y=\"295.0\" dominant-baseline=\"middle\" text-anchor=\"middle\" font-size=\"18px\" font-family=\"Arial\">X</text><rect x=\"14397.417929687503\" y=\"275.0\" width=\"40\" height=\"40\" stroke=\"black\" fill=\"white\" stroke-width=\"1\" /><text x=\"14417.417929687503\" y=\"295.0\" dominant-baseline=\"middle\" text-anchor=\"middle\" font-size=\"18px\" font-family=\"Arial\">H</text><circle cx=\"14457.417929687503\" cy=\"45.0\" r=\"10.0\" /><rect x=\"14437.417929687503\" y=\"325.0\" width=\"40\" height=\"40\" stroke=\"black\" fill=\"white\" stroke-width=\"1\" /><text x=\"14457.417929687503\" y=\"345.0\" dominant-baseline=\"middle\" text-anchor=\"middle\" font-size=\"18px\" font-family=\"Arial\">X</text><rect x=\"14507.417929687503\" y=\"325.0\" width=\"73.92339843750001\" height=\"40\" stroke=\"black\" fill=\"white\" stroke-width=\"1\" /><text x=\"14544.379628906252\" y=\"345.0\" dominant-baseline=\"middle\" text-anchor=\"middle\" font-size=\"14px\" font-family=\"Arial\">Rz(zx3-5)</text><circle cx=\"14621.341328125003\" cy=\"45.0\" r=\"10.0\" /><rect x=\"14601.341328125003\" y=\"325.0\" width=\"40\" height=\"40\" stroke=\"black\" fill=\"white\" stroke-width=\"1\" /><text x=\"14621.341328125003\" y=\"345.0\" dominant-baseline=\"middle\" text-anchor=\"middle\" font-size=\"18px\" font-family=\"Arial\">X</text><rect x=\"14651.341328125003\" y=\"325.0\" width=\"40\" height=\"40\" stroke=\"black\" fill=\"white\" stroke-width=\"1\" /><text x=\"14671.341328125003\" y=\"345.0\" dominant-baseline=\"middle\" text-anchor=\"middle\" font-size=\"18px\" font-family=\"Arial\">H</text><circle cx=\"14711.341328125003\" cy=\"45.0\" r=\"10.0\" /><rect x=\"14691.341328125003\" y=\"375.0\" width=\"40\" height=\"40\" stroke=\"black\" fill=\"white\" stroke-width=\"1\" /><text x=\"14711.341328125003\" y=\"395.0\" dominant-baseline=\"middle\" text-anchor=\"middle\" font-size=\"18px\" font-family=\"Arial\">X</text><rect x=\"14761.341328125003\" y=\"375.0\" width=\"73.92339843750001\" height=\"40\" stroke=\"black\" fill=\"white\" stroke-width=\"1\" /><text x=\"14798.303027343753\" y=\"395.0\" dominant-baseline=\"middle\" text-anchor=\"middle\" font-size=\"14px\" font-family=\"Arial\">Rz(zx3-6)</text><circle cx=\"14875.264726562504\" cy=\"45.0\" r=\"10.0\" /><rect x=\"14855.264726562504\" y=\"375.0\" width=\"40\" height=\"40\" stroke=\"black\" fill=\"white\" stroke-width=\"1\" /><text x=\"14875.264726562504\" y=\"395.0\" dominant-baseline=\"middle\" text-anchor=\"middle\" font-size=\"18px\" font-family=\"Arial\">X</text><rect x=\"14905.264726562504\" y=\"375.0\" width=\"40\" height=\"40\" stroke=\"black\" fill=\"white\" stroke-width=\"1\" /><text x=\"14925.264726562504\" y=\"395.0\" dominant-baseline=\"middle\" text-anchor=\"middle\" font-size=\"18px\" font-family=\"Arial\">H</text><circle cx=\"14965.264726562504\" cy=\"45.0\" r=\"10.0\" /><rect x=\"14945.264726562504\" y=\"425.0\" width=\"40\" height=\"40\" stroke=\"black\" fill=\"white\" stroke-width=\"1\" /><text x=\"14965.264726562504\" y=\"445.0\" dominant-baseline=\"middle\" text-anchor=\"middle\" font-size=\"18px\" font-family=\"Arial\">X</text><rect x=\"15015.264726562504\" y=\"425.0\" width=\"73.92339843750001\" height=\"40\" stroke=\"black\" fill=\"white\" stroke-width=\"1\" /><text x=\"15052.226425781253\" y=\"445.0\" dominant-baseline=\"middle\" text-anchor=\"middle\" font-size=\"14px\" font-family=\"Arial\">Rz(zx3-7)</text><circle cx=\"15129.188125000004\" cy=\"45.0\" r=\"10.0\" /><rect x=\"15109.188125000004\" y=\"425.0\" width=\"40\" height=\"40\" stroke=\"black\" fill=\"white\" stroke-width=\"1\" /><text x=\"15129.188125000004\" y=\"445.0\" dominant-baseline=\"middle\" text-anchor=\"middle\" font-size=\"18px\" font-family=\"Arial\">X</text><rect x=\"15159.188125000004\" y=\"425.0\" width=\"40\" height=\"40\" stroke=\"black\" fill=\"white\" stroke-width=\"1\" /><text x=\"15179.188125000004\" y=\"445.0\" dominant-baseline=\"middle\" text-anchor=\"middle\" font-size=\"18px\" font-family=\"Arial\">H</text><circle cx=\"15219.188125000004\" cy=\"45.0\" r=\"10.0\" /><rect x=\"15199.188125000004\" y=\"475.0\" width=\"40\" height=\"40\" stroke=\"black\" fill=\"white\" stroke-width=\"1\" /><text x=\"15219.188125000004\" y=\"495.0\" dominant-baseline=\"middle\" text-anchor=\"middle\" font-size=\"18px\" font-family=\"Arial\">X</text><rect x=\"15269.188125000004\" y=\"475.0\" width=\"73.92339843750001\" height=\"40\" stroke=\"black\" fill=\"white\" stroke-width=\"1\" /><text x=\"15306.149824218754\" y=\"495.0\" dominant-baseline=\"middle\" text-anchor=\"middle\" font-size=\"14px\" font-family=\"Arial\">Rz(zx3-8)</text><circle cx=\"15383.111523437505\" cy=\"45.0\" r=\"10.0\" /><rect x=\"15363.111523437505\" y=\"475.0\" width=\"40\" height=\"40\" stroke=\"black\" fill=\"white\" stroke-width=\"1\" /><text x=\"15383.111523437505\" y=\"495.0\" dominant-baseline=\"middle\" text-anchor=\"middle\" font-size=\"18px\" font-family=\"Arial\">X</text><rect x=\"15413.111523437505\" y=\"475.0\" width=\"40\" height=\"40\" stroke=\"black\" fill=\"white\" stroke-width=\"1\" /><text x=\"15433.111523437505\" y=\"495.0\" dominant-baseline=\"middle\" text-anchor=\"middle\" font-size=\"18px\" font-family=\"Arial\">H</text><circle cx=\"15473.111523437505\" cy=\"45.0\" r=\"10.0\" /><rect x=\"15453.111523437505\" y=\"525.0\" width=\"40\" height=\"40\" stroke=\"black\" fill=\"white\" stroke-width=\"1\" /><text x=\"15473.111523437505\" y=\"545.0\" dominant-baseline=\"middle\" text-anchor=\"middle\" font-size=\"18px\" font-family=\"Arial\">X</text><rect x=\"15523.111523437505\" y=\"525.0\" width=\"73.92339843750001\" height=\"40\" stroke=\"black\" fill=\"white\" stroke-width=\"1\" /><text x=\"15560.073222656254\" y=\"545.0\" dominant-baseline=\"middle\" text-anchor=\"middle\" font-size=\"14px\" font-family=\"Arial\">Rz(zx3-9)</text><circle cx=\"15637.034921875005\" cy=\"45.0\" r=\"10.0\" /><rect x=\"15617.034921875005\" y=\"525.0\" width=\"40\" height=\"40\" stroke=\"black\" fill=\"white\" stroke-width=\"1\" /><text x=\"15637.034921875005\" y=\"545.0\" dominant-baseline=\"middle\" text-anchor=\"middle\" font-size=\"18px\" font-family=\"Arial\">X</text><rect x=\"15667.034921875005\" y=\"525.0\" width=\"40\" height=\"40\" stroke=\"black\" fill=\"white\" stroke-width=\"1\" /><text x=\"15687.034921875005\" y=\"545.0\" dominant-baseline=\"middle\" text-anchor=\"middle\" font-size=\"18px\" font-family=\"Arial\">H</text><circle cx=\"15727.034921875005\" cy=\"45.0\" r=\"10.0\" /><rect x=\"15707.034921875005\" y=\"575.0\" width=\"40\" height=\"40\" stroke=\"black\" fill=\"white\" stroke-width=\"1\" /><text x=\"15727.034921875005\" y=\"595.0\" dominant-baseline=\"middle\" text-anchor=\"middle\" font-size=\"18px\" font-family=\"Arial\">X</text><rect x=\"15777.034921875005\" y=\"575.0\" width=\"82.83062500000001\" height=\"40\" stroke=\"black\" fill=\"white\" stroke-width=\"1\" /><text x=\"15818.450234375005\" y=\"595.0\" dominant-baseline=\"middle\" text-anchor=\"middle\" font-size=\"14px\" font-family=\"Arial\">Rz(zx3-10)</text><circle cx=\"15899.865546875006\" cy=\"45.0\" r=\"10.0\" /><rect x=\"15879.865546875006\" y=\"575.0\" width=\"40\" height=\"40\" stroke=\"black\" fill=\"white\" stroke-width=\"1\" /><text x=\"15899.865546875006\" y=\"595.0\" dominant-baseline=\"middle\" text-anchor=\"middle\" font-size=\"18px\" font-family=\"Arial\">X</text><rect x=\"15929.865546875006\" y=\"575.0\" width=\"40\" height=\"40\" stroke=\"black\" fill=\"white\" stroke-width=\"1\" /><text x=\"15949.865546875006\" y=\"595.0\" dominant-baseline=\"middle\" text-anchor=\"middle\" font-size=\"18px\" font-family=\"Arial\">H</text><circle cx=\"15989.865546875006\" cy=\"45.0\" r=\"10.0\" /><rect x=\"15969.865546875006\" y=\"625.0\" width=\"40\" height=\"40\" stroke=\"black\" fill=\"white\" stroke-width=\"1\" /><text x=\"15989.865546875006\" y=\"645.0\" dominant-baseline=\"middle\" text-anchor=\"middle\" font-size=\"18px\" font-family=\"Arial\">X</text><rect x=\"16039.865546875006\" y=\"625.0\" width=\"82.83062500000001\" height=\"40\" stroke=\"black\" fill=\"white\" stroke-width=\"1\" /><text x=\"16081.280859375005\" y=\"645.0\" dominant-baseline=\"middle\" text-anchor=\"middle\" font-size=\"14px\" font-family=\"Arial\">Rz(zx3-11)</text><circle cx=\"16162.696171875006\" cy=\"45.0\" r=\"10.0\" /><rect x=\"16142.696171875006\" y=\"625.0\" width=\"40\" height=\"40\" stroke=\"black\" fill=\"white\" stroke-width=\"1\" /><text x=\"16162.696171875006\" y=\"645.0\" dominant-baseline=\"middle\" text-anchor=\"middle\" font-size=\"18px\" font-family=\"Arial\">X</text><rect x=\"16192.696171875006\" y=\"625.0\" width=\"40\" height=\"40\" stroke=\"black\" fill=\"white\" stroke-width=\"1\" /><text x=\"16212.696171875006\" y=\"645.0\" dominant-baseline=\"middle\" text-anchor=\"middle\" font-size=\"18px\" font-family=\"Arial\">H</text><circle cx=\"16252.696171875006\" cy=\"45.0\" r=\"10.0\" /><rect x=\"16232.696171875006\" y=\"675.0\" width=\"40\" height=\"40\" stroke=\"black\" fill=\"white\" stroke-width=\"1\" /><text x=\"16252.696171875006\" y=\"695.0\" dominant-baseline=\"middle\" text-anchor=\"middle\" font-size=\"18px\" font-family=\"Arial\">X</text><rect x=\"16302.696171875006\" y=\"675.0\" width=\"82.83062500000001\" height=\"40\" stroke=\"black\" fill=\"white\" stroke-width=\"1\" /><text x=\"16344.111484375006\" y=\"695.0\" dominant-baseline=\"middle\" text-anchor=\"middle\" font-size=\"14px\" font-family=\"Arial\">Rz(zx3-12)</text><circle cx=\"16425.526796875005\" cy=\"45.0\" r=\"10.0\" /><rect x=\"16405.526796875005\" y=\"675.0\" width=\"40\" height=\"40\" stroke=\"black\" fill=\"white\" stroke-width=\"1\" /><text x=\"16425.526796875005\" y=\"695.0\" dominant-baseline=\"middle\" text-anchor=\"middle\" font-size=\"18px\" font-family=\"Arial\">X</text><rect x=\"16455.526796875005\" y=\"675.0\" width=\"40\" height=\"40\" stroke=\"black\" fill=\"white\" stroke-width=\"1\" /><text x=\"16475.526796875005\" y=\"695.0\" dominant-baseline=\"middle\" text-anchor=\"middle\" font-size=\"18px\" font-family=\"Arial\">H</text><circle cx=\"16515.526796875005\" cy=\"45.0\" r=\"10.0\" /><rect x=\"16495.526796875005\" y=\"725.0\" width=\"40\" height=\"40\" stroke=\"black\" fill=\"white\" stroke-width=\"1\" /><text x=\"16515.526796875005\" y=\"745.0\" dominant-baseline=\"middle\" text-anchor=\"middle\" font-size=\"18px\" font-family=\"Arial\">X</text><rect x=\"16565.526796875005\" y=\"725.0\" width=\"82.83062500000001\" height=\"40\" stroke=\"black\" fill=\"white\" stroke-width=\"1\" /><text x=\"16606.942109375006\" y=\"745.0\" dominant-baseline=\"middle\" text-anchor=\"middle\" font-size=\"14px\" font-family=\"Arial\">Rz(zx3-13)</text><circle cx=\"16688.357421875004\" cy=\"45.0\" r=\"10.0\" /><rect x=\"16668.357421875004\" y=\"725.0\" width=\"40\" height=\"40\" stroke=\"black\" fill=\"white\" stroke-width=\"1\" /><text x=\"16688.357421875004\" y=\"745.0\" dominant-baseline=\"middle\" text-anchor=\"middle\" font-size=\"18px\" font-family=\"Arial\">X</text><rect x=\"16718.357421875004\" y=\"725.0\" width=\"40\" height=\"40\" stroke=\"black\" fill=\"white\" stroke-width=\"1\" /><text x=\"16738.357421875004\" y=\"745.0\" dominant-baseline=\"middle\" text-anchor=\"middle\" font-size=\"18px\" font-family=\"Arial\">H</text><circle cx=\"16778.357421875004\" cy=\"45.0\" r=\"10.0\" /><rect x=\"16758.357421875004\" y=\"775.0\" width=\"40\" height=\"40\" stroke=\"black\" fill=\"white\" stroke-width=\"1\" /><text x=\"16778.357421875004\" y=\"795.0\" dominant-baseline=\"middle\" text-anchor=\"middle\" font-size=\"18px\" font-family=\"Arial\">X</text><rect x=\"16828.357421875004\" y=\"775.0\" width=\"82.83062500000001\" height=\"40\" stroke=\"black\" fill=\"white\" stroke-width=\"1\" /><text x=\"16869.772734375005\" y=\"795.0\" dominant-baseline=\"middle\" text-anchor=\"middle\" font-size=\"14px\" font-family=\"Arial\">Rz(zx3-14)</text><circle cx=\"16951.188046875002\" cy=\"45.0\" r=\"10.0\" /><rect x=\"16931.188046875002\" y=\"775.0\" width=\"40\" height=\"40\" stroke=\"black\" fill=\"white\" stroke-width=\"1\" /><text x=\"16951.188046875002\" y=\"795.0\" dominant-baseline=\"middle\" text-anchor=\"middle\" font-size=\"18px\" font-family=\"Arial\">X</text><rect x=\"16981.188046875002\" y=\"775.0\" width=\"40\" height=\"40\" stroke=\"black\" fill=\"white\" stroke-width=\"1\" /><text x=\"17001.188046875002\" y=\"795.0\" dominant-baseline=\"middle\" text-anchor=\"middle\" font-size=\"18px\" font-family=\"Arial\">H</text><circle cx=\"17041.188046875002\" cy=\"45.0\" r=\"10.0\" /><rect x=\"17021.188046875002\" y=\"825.0\" width=\"40\" height=\"40\" stroke=\"black\" fill=\"white\" stroke-width=\"1\" /><text x=\"17041.188046875002\" y=\"845.0\" dominant-baseline=\"middle\" text-anchor=\"middle\" font-size=\"18px\" font-family=\"Arial\">X</text><rect x=\"17091.188046875002\" y=\"825.0\" width=\"82.83062500000001\" height=\"40\" stroke=\"black\" fill=\"white\" stroke-width=\"1\" /><text x=\"17132.603359375003\" y=\"845.0\" dominant-baseline=\"middle\" text-anchor=\"middle\" font-size=\"14px\" font-family=\"Arial\">Rz(zx3-15)</text><circle cx=\"17214.018671875\" cy=\"45.0\" r=\"10.0\" /><rect x=\"17194.018671875\" y=\"825.0\" width=\"40\" height=\"40\" stroke=\"black\" fill=\"white\" stroke-width=\"1\" /><text x=\"17214.018671875\" y=\"845.0\" dominant-baseline=\"middle\" text-anchor=\"middle\" font-size=\"18px\" font-family=\"Arial\">X</text><rect x=\"17254.018671875\" y=\"825.0\" width=\"89.65179687500002\" height=\"40\" stroke=\"black\" fill=\"white\" stroke-width=\"1\" /><text x=\"17298.8445703125\" y=\"845.0\" dominant-baseline=\"middle\" text-anchor=\"middle\" font-size=\"18px\" font-family=\"Arial\">H</text><rect x=\"17254.018671875\" y=\"75.0\" width=\"89.65179687500002\" height=\"40\" stroke=\"black\" fill=\"white\" stroke-width=\"1\" /><text x=\"17298.8445703125\" y=\"95.0\" dominant-baseline=\"middle\" text-anchor=\"middle\" font-size=\"14px\" font-family=\"Arial\">XX^(xx3-0)</text><rect x=\"17254.018671875\" y=\"25.0\" width=\"89.65179687500002\" height=\"40\" stroke=\"black\" fill=\"white\" stroke-width=\"1\" /><text x=\"17298.8445703125\" y=\"45.0\" dominant-baseline=\"middle\" text-anchor=\"middle\" font-size=\"14px\" font-family=\"Arial\">XX</text><rect x=\"17363.670468750002\" y=\"125.0\" width=\"89.65179687500002\" height=\"40\" stroke=\"black\" fill=\"white\" stroke-width=\"1\" /><text x=\"17408.4963671875\" y=\"145.0\" dominant-baseline=\"middle\" text-anchor=\"middle\" font-size=\"14px\" font-family=\"Arial\">XX^(xx3-1)</text><rect x=\"17363.670468750002\" y=\"25.0\" width=\"89.65179687500002\" height=\"40\" stroke=\"black\" fill=\"white\" stroke-width=\"1\" /><text x=\"17408.4963671875\" y=\"45.0\" dominant-baseline=\"middle\" text-anchor=\"middle\" font-size=\"14px\" font-family=\"Arial\">XX</text><rect x=\"17473.322265625004\" y=\"175.0\" width=\"89.65179687500002\" height=\"40\" stroke=\"black\" fill=\"white\" stroke-width=\"1\" /><text x=\"17518.148164062502\" y=\"195.0\" dominant-baseline=\"middle\" text-anchor=\"middle\" font-size=\"14px\" font-family=\"Arial\">XX^(xx3-2)</text><rect x=\"17473.322265625004\" y=\"25.0\" width=\"89.65179687500002\" height=\"40\" stroke=\"black\" fill=\"white\" stroke-width=\"1\" /><text x=\"17518.148164062502\" y=\"45.0\" dominant-baseline=\"middle\" text-anchor=\"middle\" font-size=\"14px\" font-family=\"Arial\">XX</text><rect x=\"17582.974062500005\" y=\"225.0\" width=\"89.65179687500002\" height=\"40\" stroke=\"black\" fill=\"white\" stroke-width=\"1\" /><text x=\"17627.799960937504\" y=\"245.0\" dominant-baseline=\"middle\" text-anchor=\"middle\" font-size=\"14px\" font-family=\"Arial\">XX^(xx3-3)</text><rect x=\"17582.974062500005\" y=\"25.0\" width=\"89.65179687500002\" height=\"40\" stroke=\"black\" fill=\"white\" stroke-width=\"1\" /><text x=\"17627.799960937504\" y=\"45.0\" dominant-baseline=\"middle\" text-anchor=\"middle\" font-size=\"14px\" font-family=\"Arial\">XX</text><rect x=\"17692.625859375006\" y=\"275.0\" width=\"89.65179687500002\" height=\"40\" stroke=\"black\" fill=\"white\" stroke-width=\"1\" /><text x=\"17737.451757812505\" y=\"295.0\" dominant-baseline=\"middle\" text-anchor=\"middle\" font-size=\"14px\" font-family=\"Arial\">XX^(xx3-4)</text><rect x=\"17692.625859375006\" y=\"25.0\" width=\"89.65179687500002\" height=\"40\" stroke=\"black\" fill=\"white\" stroke-width=\"1\" /><text x=\"17737.451757812505\" y=\"45.0\" dominant-baseline=\"middle\" text-anchor=\"middle\" font-size=\"14px\" font-family=\"Arial\">XX</text><rect x=\"17802.277656250008\" y=\"325.0\" width=\"89.65179687500002\" height=\"40\" stroke=\"black\" fill=\"white\" stroke-width=\"1\" /><text x=\"17847.103554687506\" y=\"345.0\" dominant-baseline=\"middle\" text-anchor=\"middle\" font-size=\"14px\" font-family=\"Arial\">XX^(xx3-5)</text><rect x=\"17802.277656250008\" y=\"25.0\" width=\"89.65179687500002\" height=\"40\" stroke=\"black\" fill=\"white\" stroke-width=\"1\" /><text x=\"17847.103554687506\" y=\"45.0\" dominant-baseline=\"middle\" text-anchor=\"middle\" font-size=\"14px\" font-family=\"Arial\">XX</text><rect x=\"17911.92945312501\" y=\"375.0\" width=\"89.65179687500002\" height=\"40\" stroke=\"black\" fill=\"white\" stroke-width=\"1\" /><text x=\"17956.755351562508\" y=\"395.0\" dominant-baseline=\"middle\" text-anchor=\"middle\" font-size=\"14px\" font-family=\"Arial\">XX^(xx3-6)</text><rect x=\"17911.92945312501\" y=\"25.0\" width=\"89.65179687500002\" height=\"40\" stroke=\"black\" fill=\"white\" stroke-width=\"1\" /><text x=\"17956.755351562508\" y=\"45.0\" dominant-baseline=\"middle\" text-anchor=\"middle\" font-size=\"14px\" font-family=\"Arial\">XX</text><rect x=\"18021.58125000001\" y=\"425.0\" width=\"89.65179687500002\" height=\"40\" stroke=\"black\" fill=\"white\" stroke-width=\"1\" /><text x=\"18066.40714843751\" y=\"445.0\" dominant-baseline=\"middle\" text-anchor=\"middle\" font-size=\"14px\" font-family=\"Arial\">XX^(xx3-7)</text><rect x=\"18021.58125000001\" y=\"25.0\" width=\"89.65179687500002\" height=\"40\" stroke=\"black\" fill=\"white\" stroke-width=\"1\" /><text x=\"18066.40714843751\" y=\"45.0\" dominant-baseline=\"middle\" text-anchor=\"middle\" font-size=\"14px\" font-family=\"Arial\">XX</text><rect x=\"18131.23304687501\" y=\"475.0\" width=\"89.65179687500002\" height=\"40\" stroke=\"black\" fill=\"white\" stroke-width=\"1\" /><text x=\"18176.05894531251\" y=\"495.0\" dominant-baseline=\"middle\" text-anchor=\"middle\" font-size=\"14px\" font-family=\"Arial\">XX^(xx3-8)</text><rect x=\"18131.23304687501\" y=\"25.0\" width=\"89.65179687500002\" height=\"40\" stroke=\"black\" fill=\"white\" stroke-width=\"1\" /><text x=\"18176.05894531251\" y=\"45.0\" dominant-baseline=\"middle\" text-anchor=\"middle\" font-size=\"14px\" font-family=\"Arial\">XX</text><rect x=\"18240.884843750013\" y=\"525.0\" width=\"89.65179687500002\" height=\"40\" stroke=\"black\" fill=\"white\" stroke-width=\"1\" /><text x=\"18285.71074218751\" y=\"545.0\" dominant-baseline=\"middle\" text-anchor=\"middle\" font-size=\"14px\" font-family=\"Arial\">XX^(xx3-9)</text><rect x=\"18240.884843750013\" y=\"25.0\" width=\"89.65179687500002\" height=\"40\" stroke=\"black\" fill=\"white\" stroke-width=\"1\" /><text x=\"18285.71074218751\" y=\"45.0\" dominant-baseline=\"middle\" text-anchor=\"middle\" font-size=\"14px\" font-family=\"Arial\">XX</text><rect x=\"18350.536640625014\" y=\"575.0\" width=\"98.55902343750002\" height=\"40\" stroke=\"black\" fill=\"white\" stroke-width=\"1\" /><text x=\"18399.816152343763\" y=\"595.0\" dominant-baseline=\"middle\" text-anchor=\"middle\" font-size=\"14px\" font-family=\"Arial\">XX^(xx3-10)</text><rect x=\"18350.536640625014\" y=\"25.0\" width=\"98.55902343750002\" height=\"40\" stroke=\"black\" fill=\"white\" stroke-width=\"1\" /><text x=\"18399.816152343763\" y=\"45.0\" dominant-baseline=\"middle\" text-anchor=\"middle\" font-size=\"14px\" font-family=\"Arial\">XX</text><rect x=\"18469.095664062515\" y=\"625.0\" width=\"98.55902343750002\" height=\"40\" stroke=\"black\" fill=\"white\" stroke-width=\"1\" /><text x=\"18518.375175781264\" y=\"645.0\" dominant-baseline=\"middle\" text-anchor=\"middle\" font-size=\"14px\" font-family=\"Arial\">XX^(xx3-11)</text><rect x=\"18469.095664062515\" y=\"25.0\" width=\"98.55902343750002\" height=\"40\" stroke=\"black\" fill=\"white\" stroke-width=\"1\" /><text x=\"18518.375175781264\" y=\"45.0\" dominant-baseline=\"middle\" text-anchor=\"middle\" font-size=\"14px\" font-family=\"Arial\">XX</text><rect x=\"18587.654687500017\" y=\"675.0\" width=\"98.55902343750002\" height=\"40\" stroke=\"black\" fill=\"white\" stroke-width=\"1\" /><text x=\"18636.934199218766\" y=\"695.0\" dominant-baseline=\"middle\" text-anchor=\"middle\" font-size=\"14px\" font-family=\"Arial\">XX^(xx3-12)</text><rect x=\"18587.654687500017\" y=\"25.0\" width=\"98.55902343750002\" height=\"40\" stroke=\"black\" fill=\"white\" stroke-width=\"1\" /><text x=\"18636.934199218766\" y=\"45.0\" dominant-baseline=\"middle\" text-anchor=\"middle\" font-size=\"14px\" font-family=\"Arial\">XX</text><rect x=\"18706.213710937518\" y=\"725.0\" width=\"98.55902343750002\" height=\"40\" stroke=\"black\" fill=\"white\" stroke-width=\"1\" /><text x=\"18755.493222656267\" y=\"745.0\" dominant-baseline=\"middle\" text-anchor=\"middle\" font-size=\"14px\" font-family=\"Arial\">XX^(xx3-13)</text><rect x=\"18706.213710937518\" y=\"25.0\" width=\"98.55902343750002\" height=\"40\" stroke=\"black\" fill=\"white\" stroke-width=\"1\" /><text x=\"18755.493222656267\" y=\"45.0\" dominant-baseline=\"middle\" text-anchor=\"middle\" font-size=\"14px\" font-family=\"Arial\">XX</text><rect x=\"18824.77273437502\" y=\"775.0\" width=\"98.55902343750002\" height=\"40\" stroke=\"black\" fill=\"white\" stroke-width=\"1\" /><text x=\"18874.05224609377\" y=\"795.0\" dominant-baseline=\"middle\" text-anchor=\"middle\" font-size=\"14px\" font-family=\"Arial\">XX^(xx3-14)</text><rect x=\"18824.77273437502\" y=\"25.0\" width=\"98.55902343750002\" height=\"40\" stroke=\"black\" fill=\"white\" stroke-width=\"1\" /><text x=\"18874.05224609377\" y=\"45.0\" dominant-baseline=\"middle\" text-anchor=\"middle\" font-size=\"14px\" font-family=\"Arial\">XX</text><rect x=\"18943.33175781252\" y=\"825.0\" width=\"98.55902343750002\" height=\"40\" stroke=\"black\" fill=\"white\" stroke-width=\"1\" /><text x=\"18992.61126953127\" y=\"845.0\" dominant-baseline=\"middle\" text-anchor=\"middle\" font-size=\"14px\" font-family=\"Arial\">XX^(xx3-15)</text><rect x=\"18943.33175781252\" y=\"25.0\" width=\"98.55902343750002\" height=\"40\" stroke=\"black\" fill=\"white\" stroke-width=\"1\" /><text x=\"18992.61126953127\" y=\"45.0\" dominant-baseline=\"middle\" text-anchor=\"middle\" font-size=\"14px\" font-family=\"Arial\">XX</text><rect x=\"19061.890781250022\" y=\"25.0\" width=\"40\" height=\"40\" stroke=\"black\" fill=\"white\" stroke-width=\"1\" /><text x=\"19081.890781250022\" y=\"45.0\" dominant-baseline=\"middle\" text-anchor=\"middle\" font-size=\"18px\" font-family=\"Arial\">H</text></svg>"
      ],
      "text/plain": [
       "<cirq.contrib.svg.svg.SVGCircuit at 0x7f7e4345a9a0>"
      ]
     },
     "execution_count": 27,
     "metadata": {},
     "output_type": "execute_result"
    }
   ],
   "source": [
    "SVGCircuit(model_circuit)"
   ]
  },
  {
   "cell_type": "code",
   "execution_count": null,
   "metadata": {},
   "outputs": [],
   "source": [
    "model.compile(\n",
    "    loss=tf.keras.losses.Hinge(),\n",
    "    optimizer=tf.keras.optimizers.Adam(),\n",
    "    metrics=[hinge_accuracy])"
   ]
  },
  {
   "cell_type": "code",
   "execution_count": 64,
   "metadata": {},
   "outputs": [
    {
     "name": "stdout",
     "output_type": "stream",
     "text": [
      "Epoch 1/3\n",
      "324/324 [==============================] - 247s 763ms/step - loss: 0.7681 - hinge_accuracy: 0.7058 - val_loss: 0.2980 - val_hinge_accuracy: 0.8543\n",
      "Epoch 2/3\n",
      "324/324 [==============================] - 255s 787ms/step - loss: 0.3080 - hinge_accuracy: 0.8398 - val_loss: 0.2808 - val_hinge_accuracy: 0.8629\n",
      "Epoch 3/3\n",
      "324/324 [==============================] - 247s 764ms/step - loss: 0.2964 - hinge_accuracy: 0.8742 - val_loss: 0.2750 - val_hinge_accuracy: 0.8982\n",
      "62/62 [==============================] - 4s 71ms/step - loss: 0.2750 - hinge_accuracy: 0.8982\n"
     ]
    }
   ],
   "source": [
    "qnn_history = model.fit(\n",
    "      x_train_tfcirc_sub, y_train_hinge_sub,\n",
    "      batch_size=32,\n",
    "      epochs=EPOCHS,\n",
    "      verbose=1,\n",
    "      validation_data=(x_test_tfcirc, y_test_hinge))\n",
    "\n",
    "qnn_results = model.evaluate(x_test_tfcirc, y_test)"
   ]
  },
  {
   "attachments": {},
   "cell_type": "markdown",
   "metadata": {},
   "source": [
    "(сверху результаты для сети предложенной в туториале)"
   ]
  },
  {
   "attachments": {},
   "cell_type": "markdown",
   "metadata": {},
   "source": [
    "addintg tensrboard"
   ]
  },
  {
   "cell_type": "code",
   "execution_count": null,
   "metadata": {},
   "outputs": [],
   "source": [
    "import datetime\n",
    "log_dir = \"logs/fit/\" + datetime.datetime.now().strftime(\"%Y%m%d-%H%M%S\")\n",
    "tensorboard_callback = tf.keras.callbacks.TensorBoard(log_dir=log_dir, histogram_freq=1)\n",
    "\n",
    "qnn_history = model.fit(\n",
    "      x_train_tfcirc_sub, y_train_hinge_sub,\n",
    "      batch_size=32,\n",
    "      epochs=EPOCHS,\n",
    "      verbose=1,\n",
    "      validation_data=(x_test_tfcirc, y_test_hinge),\n",
    "      callbacks=[tensorboard_callback])\n"
   ]
  },
  {
   "attachments": {},
   "cell_type": "markdown",
   "metadata": {},
   "source": [
    "#### Прямо в точности такая же схема, как в статье:"
   ]
  },
  {
   "cell_type": "code",
   "execution_count": 71,
   "metadata": {},
   "outputs": [],
   "source": [
    "def create_quantum_model():\n",
    "    \"\"\"Create a QNN model circuit and readout operation to go along with it.\"\"\"\n",
    "    data_qubits = cirq.GridQubit.rect(4, 4)  # a 4x4 grid.\n",
    "    readout = cirq.GridQubit(-1, -1)         # a single qubit at [-1,-1]\n",
    "    circuit = cirq.Circuit()\n",
    "    \n",
    "\n",
    "    builder = CircuitLayerBuilder(\n",
    "        data_qubits=data_qubits,\n",
    "        readout=readout)\n",
    "\n",
    "    # Then add layers (experiment by adding more).\n",
    "    builder.add_ZX_gate(circuit, \"zx1\")\n",
    "    builder.add_layer(circuit, cirq.XX, \"xx1\")\n",
    "    builder.add_ZX_gate(circuit, \"zx2\")\n",
    "    builder.add_layer(circuit, cirq.XX, \"xx2\")\n",
    "    builder.add_ZX_gate(circuit, \"zx3\")\n",
    "    builder.add_layer(circuit, cirq.XX, \"xx3\")\n",
    "\n",
    "    return circuit, cirq.Z(readout)"
   ]
  },
  {
   "cell_type": "code",
   "execution_count": 72,
   "metadata": {},
   "outputs": [],
   "source": [
    "model_circuit, model_readout = create_quantum_model()"
   ]
  },
  {
   "cell_type": "code",
   "execution_count": 73,
   "metadata": {},
   "outputs": [],
   "source": [
    "# Build the Keras model.\n",
    "model = tf.keras.Sequential([\n",
    "    # The input is the data-circuit, encoded as a tf.string\n",
    "    tf.keras.layers.Input(shape=(), dtype=tf.string),\n",
    "    # The PQC layer returns the expected value of the readout gate, range [-1,1].\n",
    "    tfq.layers.PQC(model_circuit, model_readout),\n",
    "])"
   ]
  },
  {
   "cell_type": "code",
   "execution_count": 74,
   "metadata": {},
   "outputs": [],
   "source": [
    "model.compile(\n",
    "    loss=tf.keras.losses.Hinge(),\n",
    "    optimizer=tf.keras.optimizers.Adam(),\n",
    "    metrics=[hinge_accuracy])"
   ]
  },
  {
   "cell_type": "code",
   "execution_count": 75,
   "metadata": {},
   "outputs": [
    {
     "name": "stdout",
     "output_type": "stream",
     "text": [
      "WARNING:tensorflow:Model failed to serialize as JSON. Ignoring... \n",
      "Layer PQC has arguments ['self', 'model_circuit', 'operators']\n",
      "in `__init__` and therefore must override `get_config()`.\n",
      "\n",
      "Example:\n",
      "\n",
      "class CustomLayer(keras.layers.Layer):\n",
      "    def __init__(self, arg1, arg2):\n",
      "        super().__init__()\n",
      "        self.arg1 = arg1\n",
      "        self.arg2 = arg2\n",
      "\n",
      "    def get_config(self):\n",
      "        config = super().get_config()\n",
      "        config.update({\n",
      "            \"arg1\": self.arg1,\n",
      "            \"arg2\": self.arg2,\n",
      "        })\n",
      "        return config\n",
      "Epoch 1/3\n",
      "324/324 [==============================] - 947s 3s/step - loss: 0.9985 - hinge_accuracy: 0.5137 - val_loss: 1.0033 - val_hinge_accuracy: 0.4874\n",
      "Epoch 2/3\n",
      " 93/324 [=======>......................] - ETA: 9:22 - loss: 0.9931 - hinge_accuracy: 0.5242"
     ]
    },
    {
     "ename": "KeyboardInterrupt",
     "evalue": "",
     "output_type": "error",
     "traceback": [
      "\u001b[0;31m---------------------------------------------------------------------------\u001b[0m",
      "\u001b[0;31mKeyboardInterrupt\u001b[0m                         Traceback (most recent call last)",
      "Cell \u001b[0;32mIn[75], line 5\u001b[0m\n\u001b[1;32m      2\u001b[0m log_dir \u001b[39m=\u001b[39m \u001b[39m\"\u001b[39m\u001b[39mlogs/fit/\u001b[39m\u001b[39m\"\u001b[39m \u001b[39m+\u001b[39m datetime\u001b[39m.\u001b[39mdatetime\u001b[39m.\u001b[39mnow()\u001b[39m.\u001b[39mstrftime(\u001b[39m\"\u001b[39m\u001b[39m%\u001b[39m\u001b[39mY\u001b[39m\u001b[39m%\u001b[39m\u001b[39mm\u001b[39m\u001b[39m%d\u001b[39;00m\u001b[39m-\u001b[39m\u001b[39m%\u001b[39m\u001b[39mH\u001b[39m\u001b[39m%\u001b[39m\u001b[39mM\u001b[39m\u001b[39m%\u001b[39m\u001b[39mS\u001b[39m\u001b[39m\"\u001b[39m)\n\u001b[1;32m      3\u001b[0m tensorboard_callback \u001b[39m=\u001b[39m tf\u001b[39m.\u001b[39mkeras\u001b[39m.\u001b[39mcallbacks\u001b[39m.\u001b[39mTensorBoard(log_dir\u001b[39m=\u001b[39mlog_dir, histogram_freq\u001b[39m=\u001b[39m\u001b[39m1\u001b[39m)\n\u001b[0;32m----> 5\u001b[0m qnn_history \u001b[39m=\u001b[39m model\u001b[39m.\u001b[39;49mfit(\n\u001b[1;32m      6\u001b[0m       x_train_tfcirc_sub, y_train_hinge_sub,\n\u001b[1;32m      7\u001b[0m       batch_size\u001b[39m=\u001b[39;49m\u001b[39m32\u001b[39;49m,\n\u001b[1;32m      8\u001b[0m       epochs\u001b[39m=\u001b[39;49mEPOCHS,\n\u001b[1;32m      9\u001b[0m       verbose\u001b[39m=\u001b[39;49m\u001b[39m1\u001b[39;49m,\n\u001b[1;32m     10\u001b[0m       validation_data\u001b[39m=\u001b[39;49m(x_test_tfcirc, y_test_hinge),\n\u001b[1;32m     11\u001b[0m       callbacks\u001b[39m=\u001b[39;49m[tensorboard_callback])\n",
      "File \u001b[0;32m~/miniconda3/envs/TensorFlowQuantum/lib/python3.9/site-packages/keras/utils/traceback_utils.py:64\u001b[0m, in \u001b[0;36mfilter_traceback.<locals>.error_handler\u001b[0;34m(*args, **kwargs)\u001b[0m\n\u001b[1;32m     62\u001b[0m filtered_tb \u001b[39m=\u001b[39m \u001b[39mNone\u001b[39;00m\n\u001b[1;32m     63\u001b[0m \u001b[39mtry\u001b[39;00m:\n\u001b[0;32m---> 64\u001b[0m   \u001b[39mreturn\u001b[39;00m fn(\u001b[39m*\u001b[39;49margs, \u001b[39m*\u001b[39;49m\u001b[39m*\u001b[39;49mkwargs)\n\u001b[1;32m     65\u001b[0m \u001b[39mexcept\u001b[39;00m \u001b[39mException\u001b[39;00m \u001b[39mas\u001b[39;00m e:  \u001b[39m# pylint: disable=broad-except\u001b[39;00m\n\u001b[1;32m     66\u001b[0m   filtered_tb \u001b[39m=\u001b[39m _process_traceback_frames(e\u001b[39m.\u001b[39m__traceback__)\n",
      "File \u001b[0;32m~/miniconda3/envs/TensorFlowQuantum/lib/python3.9/site-packages/keras/engine/training.py:1216\u001b[0m, in \u001b[0;36mModel.fit\u001b[0;34m(self, x, y, batch_size, epochs, verbose, callbacks, validation_split, validation_data, shuffle, class_weight, sample_weight, initial_epoch, steps_per_epoch, validation_steps, validation_batch_size, validation_freq, max_queue_size, workers, use_multiprocessing)\u001b[0m\n\u001b[1;32m   1209\u001b[0m \u001b[39mwith\u001b[39;00m tf\u001b[39m.\u001b[39mprofiler\u001b[39m.\u001b[39mexperimental\u001b[39m.\u001b[39mTrace(\n\u001b[1;32m   1210\u001b[0m     \u001b[39m'\u001b[39m\u001b[39mtrain\u001b[39m\u001b[39m'\u001b[39m,\n\u001b[1;32m   1211\u001b[0m     epoch_num\u001b[39m=\u001b[39mepoch,\n\u001b[1;32m   1212\u001b[0m     step_num\u001b[39m=\u001b[39mstep,\n\u001b[1;32m   1213\u001b[0m     batch_size\u001b[39m=\u001b[39mbatch_size,\n\u001b[1;32m   1214\u001b[0m     _r\u001b[39m=\u001b[39m\u001b[39m1\u001b[39m):\n\u001b[1;32m   1215\u001b[0m   callbacks\u001b[39m.\u001b[39mon_train_batch_begin(step)\n\u001b[0;32m-> 1216\u001b[0m   tmp_logs \u001b[39m=\u001b[39m \u001b[39mself\u001b[39;49m\u001b[39m.\u001b[39;49mtrain_function(iterator)\n\u001b[1;32m   1217\u001b[0m   \u001b[39mif\u001b[39;00m data_handler\u001b[39m.\u001b[39mshould_sync:\n\u001b[1;32m   1218\u001b[0m     context\u001b[39m.\u001b[39masync_wait()\n",
      "File \u001b[0;32m~/miniconda3/envs/TensorFlowQuantum/lib/python3.9/site-packages/tensorflow/python/util/traceback_utils.py:150\u001b[0m, in \u001b[0;36mfilter_traceback.<locals>.error_handler\u001b[0;34m(*args, **kwargs)\u001b[0m\n\u001b[1;32m    148\u001b[0m filtered_tb \u001b[39m=\u001b[39m \u001b[39mNone\u001b[39;00m\n\u001b[1;32m    149\u001b[0m \u001b[39mtry\u001b[39;00m:\n\u001b[0;32m--> 150\u001b[0m   \u001b[39mreturn\u001b[39;00m fn(\u001b[39m*\u001b[39;49margs, \u001b[39m*\u001b[39;49m\u001b[39m*\u001b[39;49mkwargs)\n\u001b[1;32m    151\u001b[0m \u001b[39mexcept\u001b[39;00m \u001b[39mException\u001b[39;00m \u001b[39mas\u001b[39;00m e:\n\u001b[1;32m    152\u001b[0m   filtered_tb \u001b[39m=\u001b[39m _process_traceback_frames(e\u001b[39m.\u001b[39m__traceback__)\n",
      "File \u001b[0;32m~/miniconda3/envs/TensorFlowQuantum/lib/python3.9/site-packages/tensorflow/python/eager/def_function.py:910\u001b[0m, in \u001b[0;36mFunction.__call__\u001b[0;34m(self, *args, **kwds)\u001b[0m\n\u001b[1;32m    907\u001b[0m compiler \u001b[39m=\u001b[39m \u001b[39m\"\u001b[39m\u001b[39mxla\u001b[39m\u001b[39m\"\u001b[39m \u001b[39mif\u001b[39;00m \u001b[39mself\u001b[39m\u001b[39m.\u001b[39m_jit_compile \u001b[39melse\u001b[39;00m \u001b[39m\"\u001b[39m\u001b[39mnonXla\u001b[39m\u001b[39m\"\u001b[39m\n\u001b[1;32m    909\u001b[0m \u001b[39mwith\u001b[39;00m OptionalXlaContext(\u001b[39mself\u001b[39m\u001b[39m.\u001b[39m_jit_compile):\n\u001b[0;32m--> 910\u001b[0m   result \u001b[39m=\u001b[39m \u001b[39mself\u001b[39;49m\u001b[39m.\u001b[39;49m_call(\u001b[39m*\u001b[39;49margs, \u001b[39m*\u001b[39;49m\u001b[39m*\u001b[39;49mkwds)\n\u001b[1;32m    912\u001b[0m new_tracing_count \u001b[39m=\u001b[39m \u001b[39mself\u001b[39m\u001b[39m.\u001b[39mexperimental_get_tracing_count()\n\u001b[1;32m    913\u001b[0m without_tracing \u001b[39m=\u001b[39m (tracing_count \u001b[39m==\u001b[39m new_tracing_count)\n",
      "File \u001b[0;32m~/miniconda3/envs/TensorFlowQuantum/lib/python3.9/site-packages/tensorflow/python/eager/def_function.py:942\u001b[0m, in \u001b[0;36mFunction._call\u001b[0;34m(self, *args, **kwds)\u001b[0m\n\u001b[1;32m    939\u001b[0m   \u001b[39mself\u001b[39m\u001b[39m.\u001b[39m_lock\u001b[39m.\u001b[39mrelease()\n\u001b[1;32m    940\u001b[0m   \u001b[39m# In this case we have created variables on the first call, so we run the\u001b[39;00m\n\u001b[1;32m    941\u001b[0m   \u001b[39m# defunned version which is guaranteed to never create variables.\u001b[39;00m\n\u001b[0;32m--> 942\u001b[0m   \u001b[39mreturn\u001b[39;00m \u001b[39mself\u001b[39;49m\u001b[39m.\u001b[39;49m_stateless_fn(\u001b[39m*\u001b[39;49margs, \u001b[39m*\u001b[39;49m\u001b[39m*\u001b[39;49mkwds)  \u001b[39m# pylint: disable=not-callable\u001b[39;00m\n\u001b[1;32m    943\u001b[0m \u001b[39melif\u001b[39;00m \u001b[39mself\u001b[39m\u001b[39m.\u001b[39m_stateful_fn \u001b[39mis\u001b[39;00m \u001b[39mnot\u001b[39;00m \u001b[39mNone\u001b[39;00m:\n\u001b[1;32m    944\u001b[0m   \u001b[39m# Release the lock early so that multiple threads can perform the call\u001b[39;00m\n\u001b[1;32m    945\u001b[0m   \u001b[39m# in parallel.\u001b[39;00m\n\u001b[1;32m    946\u001b[0m   \u001b[39mself\u001b[39m\u001b[39m.\u001b[39m_lock\u001b[39m.\u001b[39mrelease()\n",
      "File \u001b[0;32m~/miniconda3/envs/TensorFlowQuantum/lib/python3.9/site-packages/tensorflow/python/eager/function.py:3130\u001b[0m, in \u001b[0;36mFunction.__call__\u001b[0;34m(self, *args, **kwargs)\u001b[0m\n\u001b[1;32m   3127\u001b[0m \u001b[39mwith\u001b[39;00m \u001b[39mself\u001b[39m\u001b[39m.\u001b[39m_lock:\n\u001b[1;32m   3128\u001b[0m   (graph_function,\n\u001b[1;32m   3129\u001b[0m    filtered_flat_args) \u001b[39m=\u001b[39m \u001b[39mself\u001b[39m\u001b[39m.\u001b[39m_maybe_define_function(args, kwargs)\n\u001b[0;32m-> 3130\u001b[0m \u001b[39mreturn\u001b[39;00m graph_function\u001b[39m.\u001b[39;49m_call_flat(\n\u001b[1;32m   3131\u001b[0m     filtered_flat_args, captured_inputs\u001b[39m=\u001b[39;49mgraph_function\u001b[39m.\u001b[39;49mcaptured_inputs)\n",
      "File \u001b[0;32m~/miniconda3/envs/TensorFlowQuantum/lib/python3.9/site-packages/tensorflow/python/eager/function.py:1959\u001b[0m, in \u001b[0;36mConcreteFunction._call_flat\u001b[0;34m(self, args, captured_inputs, cancellation_manager)\u001b[0m\n\u001b[1;32m   1955\u001b[0m possible_gradient_type \u001b[39m=\u001b[39m gradients_util\u001b[39m.\u001b[39mPossibleTapeGradientTypes(args)\n\u001b[1;32m   1956\u001b[0m \u001b[39mif\u001b[39;00m (possible_gradient_type \u001b[39m==\u001b[39m gradients_util\u001b[39m.\u001b[39mPOSSIBLE_GRADIENT_TYPES_NONE\n\u001b[1;32m   1957\u001b[0m     \u001b[39mand\u001b[39;00m executing_eagerly):\n\u001b[1;32m   1958\u001b[0m   \u001b[39m# No tape is watching; skip to running the function.\u001b[39;00m\n\u001b[0;32m-> 1959\u001b[0m   \u001b[39mreturn\u001b[39;00m \u001b[39mself\u001b[39m\u001b[39m.\u001b[39m_build_call_outputs(\u001b[39mself\u001b[39;49m\u001b[39m.\u001b[39;49m_inference_function\u001b[39m.\u001b[39;49mcall(\n\u001b[1;32m   1960\u001b[0m       ctx, args, cancellation_manager\u001b[39m=\u001b[39;49mcancellation_manager))\n\u001b[1;32m   1961\u001b[0m forward_backward \u001b[39m=\u001b[39m \u001b[39mself\u001b[39m\u001b[39m.\u001b[39m_select_forward_and_backward_functions(\n\u001b[1;32m   1962\u001b[0m     args,\n\u001b[1;32m   1963\u001b[0m     possible_gradient_type,\n\u001b[1;32m   1964\u001b[0m     executing_eagerly)\n\u001b[1;32m   1965\u001b[0m forward_function, args_with_tangents \u001b[39m=\u001b[39m forward_backward\u001b[39m.\u001b[39mforward()\n",
      "File \u001b[0;32m~/miniconda3/envs/TensorFlowQuantum/lib/python3.9/site-packages/tensorflow/python/eager/function.py:598\u001b[0m, in \u001b[0;36m_EagerDefinedFunction.call\u001b[0;34m(self, ctx, args, cancellation_manager)\u001b[0m\n\u001b[1;32m    596\u001b[0m \u001b[39mwith\u001b[39;00m _InterpolateFunctionError(\u001b[39mself\u001b[39m):\n\u001b[1;32m    597\u001b[0m   \u001b[39mif\u001b[39;00m cancellation_manager \u001b[39mis\u001b[39;00m \u001b[39mNone\u001b[39;00m:\n\u001b[0;32m--> 598\u001b[0m     outputs \u001b[39m=\u001b[39m execute\u001b[39m.\u001b[39;49mexecute(\n\u001b[1;32m    599\u001b[0m         \u001b[39mstr\u001b[39;49m(\u001b[39mself\u001b[39;49m\u001b[39m.\u001b[39;49msignature\u001b[39m.\u001b[39;49mname),\n\u001b[1;32m    600\u001b[0m         num_outputs\u001b[39m=\u001b[39;49m\u001b[39mself\u001b[39;49m\u001b[39m.\u001b[39;49m_num_outputs,\n\u001b[1;32m    601\u001b[0m         inputs\u001b[39m=\u001b[39;49margs,\n\u001b[1;32m    602\u001b[0m         attrs\u001b[39m=\u001b[39;49mattrs,\n\u001b[1;32m    603\u001b[0m         ctx\u001b[39m=\u001b[39;49mctx)\n\u001b[1;32m    604\u001b[0m   \u001b[39melse\u001b[39;00m:\n\u001b[1;32m    605\u001b[0m     outputs \u001b[39m=\u001b[39m execute\u001b[39m.\u001b[39mexecute_with_cancellation(\n\u001b[1;32m    606\u001b[0m         \u001b[39mstr\u001b[39m(\u001b[39mself\u001b[39m\u001b[39m.\u001b[39msignature\u001b[39m.\u001b[39mname),\n\u001b[1;32m    607\u001b[0m         num_outputs\u001b[39m=\u001b[39m\u001b[39mself\u001b[39m\u001b[39m.\u001b[39m_num_outputs,\n\u001b[0;32m   (...)\u001b[0m\n\u001b[1;32m    610\u001b[0m         ctx\u001b[39m=\u001b[39mctx,\n\u001b[1;32m    611\u001b[0m         cancellation_manager\u001b[39m=\u001b[39mcancellation_manager)\n",
      "File \u001b[0;32m~/miniconda3/envs/TensorFlowQuantum/lib/python3.9/site-packages/tensorflow/python/eager/execute.py:58\u001b[0m, in \u001b[0;36mquick_execute\u001b[0;34m(op_name, num_outputs, inputs, attrs, ctx, name)\u001b[0m\n\u001b[1;32m     56\u001b[0m \u001b[39mtry\u001b[39;00m:\n\u001b[1;32m     57\u001b[0m   ctx\u001b[39m.\u001b[39mensure_initialized()\n\u001b[0;32m---> 58\u001b[0m   tensors \u001b[39m=\u001b[39m pywrap_tfe\u001b[39m.\u001b[39;49mTFE_Py_Execute(ctx\u001b[39m.\u001b[39;49m_handle, device_name, op_name,\n\u001b[1;32m     59\u001b[0m                                       inputs, attrs, num_outputs)\n\u001b[1;32m     60\u001b[0m \u001b[39mexcept\u001b[39;00m core\u001b[39m.\u001b[39m_NotOkStatusException \u001b[39mas\u001b[39;00m e:\n\u001b[1;32m     61\u001b[0m   \u001b[39mif\u001b[39;00m name \u001b[39mis\u001b[39;00m \u001b[39mnot\u001b[39;00m \u001b[39mNone\u001b[39;00m:\n",
      "\u001b[0;31mKeyboardInterrupt\u001b[0m: "
     ]
    }
   ],
   "source": [
    "import datetime\n",
    "log_dir = \"logs/fit/\" + datetime.datetime.now().strftime(\"%Y%m%d-%H%M%S\")\n",
    "tensorboard_callback = tf.keras.callbacks.TensorBoard(log_dir=log_dir, histogram_freq=1)\n",
    "\n",
    "qnn_history = model.fit(\n",
    "      x_train_tfcirc_sub, y_train_hinge_sub,\n",
    "      batch_size=32,\n",
    "      epochs=EPOCHS,\n",
    "      verbose=1,\n",
    "      validation_data=(x_test_tfcirc, y_test_hinge),\n",
    "      callbacks=[tensorboard_callback])\n"
   ]
  },
  {
   "attachments": {},
   "cell_type": "markdown",
   "metadata": {},
   "source": [
    "## Выводы: \n",
    "классическая и квантовая модель с 32 параметрами сходятся к одной и той же точности 90-93%\n",
    "\n",
    "Классической требуется 64 мс/эпоху\n",
    "\n",
    "Квантовой на симуляторе -- 20 секунд."
   ]
  }
 ],
 "metadata": {
  "colab": {
   "collapsed_sections": [],
   "name": "mnist.ipynb",
   "private_outputs": true,
   "provenance": [],
   "toc_visible": true
  },
  "kernelspec": {
   "display_name": "Python 3",
   "language": "python",
   "name": "python3"
  },
  "language_info": {
   "codemirror_mode": {
    "name": "ipython",
    "version": 3
   },
   "file_extension": ".py",
   "mimetype": "text/x-python",
   "name": "python",
   "nbconvert_exporter": "python",
   "pygments_lexer": "ipython3",
   "version": "3.9.16"
  },
  "vscode": {
   "interpreter": {
    "hash": "916dbcbb3f70747c44a77c7bcd40155683ae19c65e1c03b4aa3499c5328201f1"
   }
  }
 },
 "nbformat": 4,
 "nbformat_minor": 0
}
