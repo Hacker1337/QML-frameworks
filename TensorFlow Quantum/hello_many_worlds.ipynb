{
 "cells": [
  {
   "cell_type": "markdown",
   "metadata": {
    "colab_type": "text",
    "id": "xLOXFOT5Q40E"
   },
   "source": [
    "##### Copyright 2020 The TensorFlow Authors."
   ]
  },
  {
   "cell_type": "code",
   "execution_count": 1,
   "metadata": {
    "cellView": "form",
    "colab": {},
    "colab_type": "code",
    "execution": {
     "iopub.execute_input": "2023-03-21T11:28:28.838713Z",
     "iopub.status.busy": "2023-03-21T11:28:28.838269Z",
     "iopub.status.idle": "2023-03-21T11:28:28.842219Z",
     "shell.execute_reply": "2023-03-21T11:28:28.841518Z"
    },
    "id": "iiQkM5ZgQ8r2"
   },
   "outputs": [],
   "source": [
    "#@title Licensed under the Apache License, Version 2.0 (the \"License\");\n",
    "# you may not use this file except in compliance with the License.\n",
    "# You may obtain a copy of the License at\n",
    "#\n",
    "# https://www.apache.org/licenses/LICENSE-2.0\n",
    "#\n",
    "# Unless required by applicable law or agreed to in writing, software\n",
    "# distributed under the License is distributed on an \"AS IS\" BASIS,\n",
    "# WITHOUT WARRANTIES OR CONDITIONS OF ANY KIND, either express or implied.\n",
    "# See the License for the specific language governing permissions and\n",
    "# limitations under the License."
   ]
  },
  {
   "cell_type": "markdown",
   "metadata": {
    "colab_type": "text",
    "id": "j6331ZSsQGY3"
   },
   "source": [
    "# Hello, many worlds"
   ]
  },
  {
   "cell_type": "markdown",
   "metadata": {
    "colab_type": "text",
    "id": "i9Jcnb8bQQyd"
   },
   "source": [
    "<table class=\"tfo-notebook-buttons\" align=\"left\">\n",
    "  <td>\n",
    "    <a target=\"_blank\" href=\"https://www.tensorflow.org/quantum/tutorials/hello_many_worlds\"><img src=\"https://www.tensorflow.org/images/tf_logo_32px.png\" />View on TensorFlow.org</a>\n",
    "  </td>\n",
    "  <td>\n",
    "    <a target=\"_blank\" href=\"https://colab.research.google.com/github/tensorflow/quantum/blob/master/docs/tutorials/hello_many_worlds.ipynb\"><img src=\"https://www.tensorflow.org/images/colab_logo_32px.png\" />Run in Google Colab</a>\n",
    "  </td>\n",
    "  <td>\n",
    "    <a target=\"_blank\" href=\"https://github.com/tensorflow/quantum/blob/master/docs/tutorials/hello_many_worlds.ipynb\"><img src=\"https://www.tensorflow.org/images/GitHub-Mark-32px.png\" />View source on GitHub</a>\n",
    "  </td>\n",
    "  <td>\n",
    "    <a href=\"https://storage.googleapis.com/tensorflow_docs/quantum/docs/tutorials/hello_many_worlds.ipynb\"><img src=\"https://www.tensorflow.org/images/download_logo_32px.png\" />Download notebook</a>\n",
    "  </td>\n",
    "</table>"
   ]
  },
  {
   "cell_type": "markdown",
   "metadata": {
    "colab_type": "text",
    "id": "6tYn2HaAUgH0"
   },
   "source": [
    "This tutorial shows how a classical neural network can learn to correct qubit calibration errors. It introduces <a target=\"_blank\" href=\"https://github.com/quantumlib/Cirq\" class=\"external\">Cirq</a>, a Python framework to create, edit, and invoke Noisy Intermediate Scale Quantum (NISQ) circuits, and demonstrates how Cirq interfaces with TensorFlow Quantum."
   ]
  },
  {
   "cell_type": "markdown",
   "metadata": {
    "colab_type": "text",
    "id": "sPZoNKvpUaqa"
   },
   "source": [
    "## Setup"
   ]
  },
  {
   "cell_type": "code",
   "execution_count": 2,
   "metadata": {
    "colab": {},
    "colab_type": "code",
    "execution": {
     "iopub.execute_input": "2023-03-21T11:28:28.845601Z",
     "iopub.status.busy": "2023-03-21T11:28:28.845150Z",
     "iopub.status.idle": "2023-03-21T11:28:53.300977Z",
     "shell.execute_reply": "2023-03-21T11:28:53.300019Z"
    },
    "id": "TorxE5tnkvb2"
   },
   "outputs": [
    {
     "name": "stdout",
     "output_type": "stream",
     "text": [
      "Requirement already satisfied: tensorflow==2.7.0 in /home/amir/miniconda3/envs/TensorFlowQuantum/lib/python3.9/site-packages (2.7.0)\n",
      "Requirement already satisfied: numpy>=1.14.5 in /home/amir/miniconda3/envs/TensorFlowQuantum/lib/python3.9/site-packages (from tensorflow==2.7.0) (1.23.5)\n",
      "Requirement already satisfied: absl-py>=0.4.0 in /home/amir/miniconda3/envs/TensorFlowQuantum/lib/python3.9/site-packages (from tensorflow==2.7.0) (1.4.0)\n",
      "Requirement already satisfied: astunparse>=1.6.0 in /home/amir/miniconda3/envs/TensorFlowQuantum/lib/python3.9/site-packages (from tensorflow==2.7.0) (1.6.3)\n",
      "Requirement already satisfied: libclang>=9.0.1 in /home/amir/miniconda3/envs/TensorFlowQuantum/lib/python3.9/site-packages (from tensorflow==2.7.0) (16.0.0)\n",
      "Requirement already satisfied: flatbuffers<3.0,>=1.12 in /home/amir/miniconda3/envs/TensorFlowQuantum/lib/python3.9/site-packages (from tensorflow==2.7.0) (2.0.7)\n",
      "Requirement already satisfied: google-pasta>=0.1.1 in /home/amir/miniconda3/envs/TensorFlowQuantum/lib/python3.9/site-packages (from tensorflow==2.7.0) (0.2.0)\n",
      "Requirement already satisfied: h5py>=2.9.0 in /home/amir/miniconda3/envs/TensorFlowQuantum/lib/python3.9/site-packages (from tensorflow==2.7.0) (3.8.0)\n",
      "Requirement already satisfied: keras-preprocessing>=1.1.1 in /home/amir/miniconda3/envs/TensorFlowQuantum/lib/python3.9/site-packages (from tensorflow==2.7.0) (1.1.2)\n",
      "Requirement already satisfied: opt-einsum>=2.3.2 in /home/amir/miniconda3/envs/TensorFlowQuantum/lib/python3.9/site-packages (from tensorflow==2.7.0) (3.3.0)\n",
      "Requirement already satisfied: protobuf>=3.9.2 in /home/amir/miniconda3/envs/TensorFlowQuantum/lib/python3.9/site-packages (from tensorflow==2.7.0) (3.17.3)\n",
      "Requirement already satisfied: six>=1.12.0 in /home/amir/miniconda3/envs/TensorFlowQuantum/lib/python3.9/site-packages (from tensorflow==2.7.0) (1.16.0)\n",
      "Requirement already satisfied: termcolor>=1.1.0 in /home/amir/miniconda3/envs/TensorFlowQuantum/lib/python3.9/site-packages (from tensorflow==2.7.0) (2.3.0)\n",
      "Requirement already satisfied: typing-extensions>=3.6.6 in /home/amir/miniconda3/envs/TensorFlowQuantum/lib/python3.9/site-packages (from tensorflow==2.7.0) (4.6.1)\n",
      "Requirement already satisfied: wheel<1.0,>=0.32.0 in /home/amir/miniconda3/envs/TensorFlowQuantum/lib/python3.9/site-packages (from tensorflow==2.7.0) (0.40.0)\n",
      "Requirement already satisfied: wrapt>=1.11.0 in /home/amir/miniconda3/envs/TensorFlowQuantum/lib/python3.9/site-packages (from tensorflow==2.7.0) (1.14.1)\n",
      "Requirement already satisfied: gast<0.5.0,>=0.2.1 in /home/amir/miniconda3/envs/TensorFlowQuantum/lib/python3.9/site-packages (from tensorflow==2.7.0) (0.4.0)\n",
      "Requirement already satisfied: tensorboard~=2.6 in /home/amir/miniconda3/envs/TensorFlowQuantum/lib/python3.9/site-packages (from tensorflow==2.7.0) (2.7.0)\n",
      "Requirement already satisfied: tensorflow-estimator<2.8,~=2.7.0rc0 in /home/amir/miniconda3/envs/TensorFlowQuantum/lib/python3.9/site-packages (from tensorflow==2.7.0) (2.7.0)\n",
      "Requirement already satisfied: keras<2.8,>=2.7.0rc0 in /home/amir/miniconda3/envs/TensorFlowQuantum/lib/python3.9/site-packages (from tensorflow==2.7.0) (2.7.0)\n",
      "Requirement already satisfied: tensorflow-io-gcs-filesystem>=0.21.0 in /home/amir/miniconda3/envs/TensorFlowQuantum/lib/python3.9/site-packages (from tensorflow==2.7.0) (0.32.0)\n",
      "Requirement already satisfied: grpcio<2.0,>=1.24.3 in /home/amir/miniconda3/envs/TensorFlowQuantum/lib/python3.9/site-packages (from tensorflow==2.7.0) (1.54.2)\n",
      "Requirement already satisfied: google-auth<3,>=1.6.3 in /home/amir/miniconda3/envs/TensorFlowQuantum/lib/python3.9/site-packages (from tensorboard~=2.6->tensorflow==2.7.0) (1.18.0)\n",
      "Requirement already satisfied: google-auth-oauthlib<0.5,>=0.4.1 in /home/amir/miniconda3/envs/TensorFlowQuantum/lib/python3.9/site-packages (from tensorboard~=2.6->tensorflow==2.7.0) (0.4.6)\n",
      "Requirement already satisfied: markdown>=2.6.8 in /home/amir/miniconda3/envs/TensorFlowQuantum/lib/python3.9/site-packages (from tensorboard~=2.6->tensorflow==2.7.0) (3.4.3)\n",
      "Requirement already satisfied: requests<3,>=2.21.0 in /home/amir/miniconda3/envs/TensorFlowQuantum/lib/python3.9/site-packages (from tensorboard~=2.6->tensorflow==2.7.0) (2.31.0)\n",
      "Requirement already satisfied: setuptools>=41.0.0 in /home/amir/miniconda3/envs/TensorFlowQuantum/lib/python3.9/site-packages (from tensorboard~=2.6->tensorflow==2.7.0) (67.7.2)\n",
      "Requirement already satisfied: tensorboard-data-server<0.7.0,>=0.6.0 in /home/amir/miniconda3/envs/TensorFlowQuantum/lib/python3.9/site-packages (from tensorboard~=2.6->tensorflow==2.7.0) (0.6.1)\n",
      "Requirement already satisfied: tensorboard-plugin-wit>=1.6.0 in /home/amir/miniconda3/envs/TensorFlowQuantum/lib/python3.9/site-packages (from tensorboard~=2.6->tensorflow==2.7.0) (1.8.1)\n",
      "Requirement already satisfied: werkzeug>=0.11.15 in /home/amir/miniconda3/envs/TensorFlowQuantum/lib/python3.9/site-packages (from tensorboard~=2.6->tensorflow==2.7.0) (2.3.4)\n",
      "Requirement already satisfied: cachetools<5.0,>=2.0.0 in /home/amir/miniconda3/envs/TensorFlowQuantum/lib/python3.9/site-packages (from google-auth<3,>=1.6.3->tensorboard~=2.6->tensorflow==2.7.0) (4.2.4)\n",
      "Requirement already satisfied: pyasn1-modules>=0.2.1 in /home/amir/miniconda3/envs/TensorFlowQuantum/lib/python3.9/site-packages (from google-auth<3,>=1.6.3->tensorboard~=2.6->tensorflow==2.7.0) (0.3.0)\n",
      "Requirement already satisfied: rsa<5,>=3.1.4 in /home/amir/miniconda3/envs/TensorFlowQuantum/lib/python3.9/site-packages (from google-auth<3,>=1.6.3->tensorboard~=2.6->tensorflow==2.7.0) (4.9)\n",
      "Requirement already satisfied: requests-oauthlib>=0.7.0 in /home/amir/miniconda3/envs/TensorFlowQuantum/lib/python3.9/site-packages (from google-auth-oauthlib<0.5,>=0.4.1->tensorboard~=2.6->tensorflow==2.7.0) (1.3.1)\n",
      "Requirement already satisfied: importlib-metadata>=4.4 in /home/amir/miniconda3/envs/TensorFlowQuantum/lib/python3.9/site-packages (from markdown>=2.6.8->tensorboard~=2.6->tensorflow==2.7.0) (6.6.0)\n",
      "Requirement already satisfied: charset-normalizer<4,>=2 in /home/amir/miniconda3/envs/TensorFlowQuantum/lib/python3.9/site-packages (from requests<3,>=2.21.0->tensorboard~=2.6->tensorflow==2.7.0) (3.1.0)\n",
      "Requirement already satisfied: idna<4,>=2.5 in /home/amir/miniconda3/envs/TensorFlowQuantum/lib/python3.9/site-packages (from requests<3,>=2.21.0->tensorboard~=2.6->tensorflow==2.7.0) (3.4)\n",
      "Requirement already satisfied: urllib3<3,>=1.21.1 in /home/amir/miniconda3/envs/TensorFlowQuantum/lib/python3.9/site-packages (from requests<3,>=2.21.0->tensorboard~=2.6->tensorflow==2.7.0) (1.26.16)\n",
      "Requirement already satisfied: certifi>=2017.4.17 in /home/amir/miniconda3/envs/TensorFlowQuantum/lib/python3.9/site-packages (from requests<3,>=2.21.0->tensorboard~=2.6->tensorflow==2.7.0) (2023.5.7)\n",
      "Requirement already satisfied: MarkupSafe>=2.1.1 in /home/amir/miniconda3/envs/TensorFlowQuantum/lib/python3.9/site-packages (from werkzeug>=0.11.15->tensorboard~=2.6->tensorflow==2.7.0) (2.1.2)\n",
      "Requirement already satisfied: zipp>=0.5 in /home/amir/miniconda3/envs/TensorFlowQuantum/lib/python3.9/site-packages (from importlib-metadata>=4.4->markdown>=2.6.8->tensorboard~=2.6->tensorflow==2.7.0) (3.15.0)\n",
      "Requirement already satisfied: pyasn1<0.6.0,>=0.4.6 in /home/amir/miniconda3/envs/TensorFlowQuantum/lib/python3.9/site-packages (from pyasn1-modules>=0.2.1->google-auth<3,>=1.6.3->tensorboard~=2.6->tensorflow==2.7.0) (0.5.0)\n",
      "Requirement already satisfied: oauthlib>=3.0.0 in /home/amir/miniconda3/envs/TensorFlowQuantum/lib/python3.9/site-packages (from requests-oauthlib>=0.7.0->google-auth-oauthlib<0.5,>=0.4.1->tensorboard~=2.6->tensorflow==2.7.0) (3.2.2)\n",
      "Note: you may need to restart the kernel to use updated packages.\n"
     ]
    }
   ],
   "source": [
    "%pip install tensorflow==2.7.0"
   ]
  },
  {
   "cell_type": "code",
   "execution_count": 3,
   "metadata": {},
   "outputs": [
    {
     "name": "stdout",
     "output_type": "stream",
     "text": [
      "Requirement already satisfied: tensorboard==2.7 in /home/amir/miniconda3/envs/TensorFlowQuantum/lib/python3.9/site-packages (2.7.0)\n",
      "Requirement already satisfied: absl-py>=0.4 in /home/amir/miniconda3/envs/TensorFlowQuantum/lib/python3.9/site-packages (from tensorboard==2.7) (1.4.0)\n",
      "Requirement already satisfied: grpcio>=1.24.3 in /home/amir/miniconda3/envs/TensorFlowQuantum/lib/python3.9/site-packages (from tensorboard==2.7) (1.54.2)\n",
      "Requirement already satisfied: google-auth<3,>=1.6.3 in /home/amir/miniconda3/envs/TensorFlowQuantum/lib/python3.9/site-packages (from tensorboard==2.7) (1.18.0)\n",
      "Requirement already satisfied: google-auth-oauthlib<0.5,>=0.4.1 in /home/amir/miniconda3/envs/TensorFlowQuantum/lib/python3.9/site-packages (from tensorboard==2.7) (0.4.6)\n",
      "Requirement already satisfied: markdown>=2.6.8 in /home/amir/miniconda3/envs/TensorFlowQuantum/lib/python3.9/site-packages (from tensorboard==2.7) (3.4.3)\n",
      "Requirement already satisfied: numpy>=1.12.0 in /home/amir/miniconda3/envs/TensorFlowQuantum/lib/python3.9/site-packages (from tensorboard==2.7) (1.23.5)\n",
      "Requirement already satisfied: protobuf>=3.6.0 in /home/amir/miniconda3/envs/TensorFlowQuantum/lib/python3.9/site-packages (from tensorboard==2.7) (3.17.3)\n",
      "Requirement already satisfied: requests<3,>=2.21.0 in /home/amir/miniconda3/envs/TensorFlowQuantum/lib/python3.9/site-packages (from tensorboard==2.7) (2.31.0)\n",
      "Requirement already satisfied: setuptools>=41.0.0 in /home/amir/miniconda3/envs/TensorFlowQuantum/lib/python3.9/site-packages (from tensorboard==2.7) (67.7.2)\n",
      "Requirement already satisfied: tensorboard-data-server<0.7.0,>=0.6.0 in /home/amir/miniconda3/envs/TensorFlowQuantum/lib/python3.9/site-packages (from tensorboard==2.7) (0.6.1)\n",
      "Requirement already satisfied: tensorboard-plugin-wit>=1.6.0 in /home/amir/miniconda3/envs/TensorFlowQuantum/lib/python3.9/site-packages (from tensorboard==2.7) (1.8.1)\n",
      "Requirement already satisfied: werkzeug>=0.11.15 in /home/amir/miniconda3/envs/TensorFlowQuantum/lib/python3.9/site-packages (from tensorboard==2.7) (2.3.4)\n",
      "Requirement already satisfied: wheel>=0.26 in /home/amir/miniconda3/envs/TensorFlowQuantum/lib/python3.9/site-packages (from tensorboard==2.7) (0.40.0)\n",
      "Requirement already satisfied: cachetools<5.0,>=2.0.0 in /home/amir/miniconda3/envs/TensorFlowQuantum/lib/python3.9/site-packages (from google-auth<3,>=1.6.3->tensorboard==2.7) (4.2.4)\n",
      "Requirement already satisfied: pyasn1-modules>=0.2.1 in /home/amir/miniconda3/envs/TensorFlowQuantum/lib/python3.9/site-packages (from google-auth<3,>=1.6.3->tensorboard==2.7) (0.3.0)\n",
      "Requirement already satisfied: six>=1.9.0 in /home/amir/miniconda3/envs/TensorFlowQuantum/lib/python3.9/site-packages (from google-auth<3,>=1.6.3->tensorboard==2.7) (1.16.0)\n",
      "Requirement already satisfied: rsa<5,>=3.1.4 in /home/amir/miniconda3/envs/TensorFlowQuantum/lib/python3.9/site-packages (from google-auth<3,>=1.6.3->tensorboard==2.7) (4.9)\n",
      "Requirement already satisfied: requests-oauthlib>=0.7.0 in /home/amir/miniconda3/envs/TensorFlowQuantum/lib/python3.9/site-packages (from google-auth-oauthlib<0.5,>=0.4.1->tensorboard==2.7) (1.3.1)\n",
      "Requirement already satisfied: importlib-metadata>=4.4 in /home/amir/miniconda3/envs/TensorFlowQuantum/lib/python3.9/site-packages (from markdown>=2.6.8->tensorboard==2.7) (6.6.0)\n",
      "Requirement already satisfied: charset-normalizer<4,>=2 in /home/amir/miniconda3/envs/TensorFlowQuantum/lib/python3.9/site-packages (from requests<3,>=2.21.0->tensorboard==2.7) (3.1.0)\n",
      "Requirement already satisfied: idna<4,>=2.5 in /home/amir/miniconda3/envs/TensorFlowQuantum/lib/python3.9/site-packages (from requests<3,>=2.21.0->tensorboard==2.7) (3.4)\n",
      "Requirement already satisfied: urllib3<3,>=1.21.1 in /home/amir/miniconda3/envs/TensorFlowQuantum/lib/python3.9/site-packages (from requests<3,>=2.21.0->tensorboard==2.7) (1.26.16)\n",
      "Requirement already satisfied: certifi>=2017.4.17 in /home/amir/miniconda3/envs/TensorFlowQuantum/lib/python3.9/site-packages (from requests<3,>=2.21.0->tensorboard==2.7) (2023.5.7)\n",
      "Requirement already satisfied: MarkupSafe>=2.1.1 in /home/amir/miniconda3/envs/TensorFlowQuantum/lib/python3.9/site-packages (from werkzeug>=0.11.15->tensorboard==2.7) (2.1.2)\n",
      "Requirement already satisfied: zipp>=0.5 in /home/amir/miniconda3/envs/TensorFlowQuantum/lib/python3.9/site-packages (from importlib-metadata>=4.4->markdown>=2.6.8->tensorboard==2.7) (3.15.0)\n",
      "Requirement already satisfied: pyasn1<0.6.0,>=0.4.6 in /home/amir/miniconda3/envs/TensorFlowQuantum/lib/python3.9/site-packages (from pyasn1-modules>=0.2.1->google-auth<3,>=1.6.3->tensorboard==2.7) (0.5.0)\n",
      "Requirement already satisfied: oauthlib>=3.0.0 in /home/amir/miniconda3/envs/TensorFlowQuantum/lib/python3.9/site-packages (from requests-oauthlib>=0.7.0->google-auth-oauthlib<0.5,>=0.4.1->tensorboard==2.7) (3.2.2)\n",
      "Note: you may need to restart the kernel to use updated packages.\n"
     ]
    }
   ],
   "source": [
    "%pip install tensorboard==2.7"
   ]
  },
  {
   "cell_type": "markdown",
   "metadata": {
    "colab_type": "text",
    "id": "FxkQA6oblNqI"
   },
   "source": [
    "Install TensorFlow Quantum:"
   ]
  },
  {
   "cell_type": "code",
   "execution_count": 4,
   "metadata": {
    "colab": {},
    "colab_type": "code",
    "execution": {
     "iopub.execute_input": "2023-03-21T11:28:53.305391Z",
     "iopub.status.busy": "2023-03-21T11:28:53.304684Z",
     "iopub.status.idle": "2023-03-21T11:29:10.600278Z",
     "shell.execute_reply": "2023-03-21T11:29:10.599290Z"
    },
    "id": "saFHsRDpkvkH"
   },
   "outputs": [
    {
     "name": "stdout",
     "output_type": "stream",
     "text": [
      "Requirement already satisfied: tensorflow-quantum==0.7.2 in /home/amir/miniconda3/envs/TensorFlowQuantum/lib/python3.9/site-packages (0.7.2)\n",
      "Requirement already satisfied: cirq-core==0.13.1 in /home/amir/miniconda3/envs/TensorFlowQuantum/lib/python3.9/site-packages (from tensorflow-quantum==0.7.2) (0.13.1)\n",
      "Requirement already satisfied: cirq-google>=0.13.1 in /home/amir/miniconda3/envs/TensorFlowQuantum/lib/python3.9/site-packages (from tensorflow-quantum==0.7.2) (0.13.1)\n",
      "Requirement already satisfied: sympy==1.8 in /home/amir/miniconda3/envs/TensorFlowQuantum/lib/python3.9/site-packages (from tensorflow-quantum==0.7.2) (1.8)\n",
      "Requirement already satisfied: googleapis-common-protos==1.52.0 in /home/amir/miniconda3/envs/TensorFlowQuantum/lib/python3.9/site-packages (from tensorflow-quantum==0.7.2) (1.52.0)\n",
      "Requirement already satisfied: google-api-core==1.21.0 in /home/amir/miniconda3/envs/TensorFlowQuantum/lib/python3.9/site-packages (from tensorflow-quantum==0.7.2) (1.21.0)\n",
      "Requirement already satisfied: google-auth==1.18.0 in /home/amir/miniconda3/envs/TensorFlowQuantum/lib/python3.9/site-packages (from tensorflow-quantum==0.7.2) (1.18.0)\n",
      "Requirement already satisfied: protobuf==3.17.3 in /home/amir/miniconda3/envs/TensorFlowQuantum/lib/python3.9/site-packages (from tensorflow-quantum==0.7.2) (3.17.3)\n",
      "Requirement already satisfied: duet~=0.2.0 in /home/amir/miniconda3/envs/TensorFlowQuantum/lib/python3.9/site-packages (from cirq-core==0.13.1->tensorflow-quantum==0.7.2) (0.2.8)\n",
      "Requirement already satisfied: matplotlib~=3.0 in /home/amir/miniconda3/envs/TensorFlowQuantum/lib/python3.9/site-packages (from cirq-core==0.13.1->tensorflow-quantum==0.7.2) (3.7.1)\n",
      "Requirement already satisfied: networkx~=2.4 in /home/amir/miniconda3/envs/TensorFlowQuantum/lib/python3.9/site-packages (from cirq-core==0.13.1->tensorflow-quantum==0.7.2) (2.8.8)\n",
      "Requirement already satisfied: numpy~=1.16 in /home/amir/miniconda3/envs/TensorFlowQuantum/lib/python3.9/site-packages (from cirq-core==0.13.1->tensorflow-quantum==0.7.2) (1.23.5)\n",
      "Requirement already satisfied: pandas in /home/amir/miniconda3/envs/TensorFlowQuantum/lib/python3.9/site-packages (from cirq-core==0.13.1->tensorflow-quantum==0.7.2) (2.0.1)\n",
      "Requirement already satisfied: scipy in /home/amir/miniconda3/envs/TensorFlowQuantum/lib/python3.9/site-packages (from cirq-core==0.13.1->tensorflow-quantum==0.7.2) (1.10.1)\n",
      "Requirement already satisfied: sortedcontainers~=2.0 in /home/amir/miniconda3/envs/TensorFlowQuantum/lib/python3.9/site-packages (from cirq-core==0.13.1->tensorflow-quantum==0.7.2) (2.4.0)\n",
      "Requirement already satisfied: tqdm in /home/amir/miniconda3/envs/TensorFlowQuantum/lib/python3.9/site-packages (from cirq-core==0.13.1->tensorflow-quantum==0.7.2) (4.65.0)\n",
      "Requirement already satisfied: typing-extensions in /home/amir/miniconda3/envs/TensorFlowQuantum/lib/python3.9/site-packages (from cirq-core==0.13.1->tensorflow-quantum==0.7.2) (4.6.1)\n",
      "Requirement already satisfied: requests<3.0.0dev,>=2.18.0 in /home/amir/miniconda3/envs/TensorFlowQuantum/lib/python3.9/site-packages (from google-api-core==1.21.0->tensorflow-quantum==0.7.2) (2.31.0)\n",
      "Requirement already satisfied: setuptools>=34.0.0 in /home/amir/miniconda3/envs/TensorFlowQuantum/lib/python3.9/site-packages (from google-api-core==1.21.0->tensorflow-quantum==0.7.2) (67.7.2)\n",
      "Requirement already satisfied: six>=1.10.0 in /home/amir/miniconda3/envs/TensorFlowQuantum/lib/python3.9/site-packages (from google-api-core==1.21.0->tensorflow-quantum==0.7.2) (1.16.0)\n",
      "Requirement already satisfied: pytz in /home/amir/miniconda3/envs/TensorFlowQuantum/lib/python3.9/site-packages (from google-api-core==1.21.0->tensorflow-quantum==0.7.2) (2023.3)\n",
      "Requirement already satisfied: cachetools<5.0,>=2.0.0 in /home/amir/miniconda3/envs/TensorFlowQuantum/lib/python3.9/site-packages (from google-auth==1.18.0->tensorflow-quantum==0.7.2) (4.2.4)\n",
      "Requirement already satisfied: pyasn1-modules>=0.2.1 in /home/amir/miniconda3/envs/TensorFlowQuantum/lib/python3.9/site-packages (from google-auth==1.18.0->tensorflow-quantum==0.7.2) (0.3.0)\n",
      "Requirement already satisfied: rsa<5,>=3.1.4 in /home/amir/miniconda3/envs/TensorFlowQuantum/lib/python3.9/site-packages (from google-auth==1.18.0->tensorflow-quantum==0.7.2) (4.9)\n",
      "Requirement already satisfied: mpmath>=0.19 in /home/amir/miniconda3/envs/TensorFlowQuantum/lib/python3.9/site-packages (from sympy==1.8->tensorflow-quantum==0.7.2) (1.3.0)\n",
      "Requirement already satisfied: grpcio<2.0dev,>=1.29.0 in /home/amir/miniconda3/envs/TensorFlowQuantum/lib/python3.9/site-packages (from google-api-core==1.21.0->tensorflow-quantum==0.7.2) (1.54.2)\n",
      "Requirement already satisfied: contourpy>=1.0.1 in /home/amir/miniconda3/envs/TensorFlowQuantum/lib/python3.9/site-packages (from matplotlib~=3.0->cirq-core==0.13.1->tensorflow-quantum==0.7.2) (1.0.7)\n",
      "Requirement already satisfied: cycler>=0.10 in /home/amir/miniconda3/envs/TensorFlowQuantum/lib/python3.9/site-packages (from matplotlib~=3.0->cirq-core==0.13.1->tensorflow-quantum==0.7.2) (0.11.0)\n",
      "Requirement already satisfied: fonttools>=4.22.0 in /home/amir/miniconda3/envs/TensorFlowQuantum/lib/python3.9/site-packages (from matplotlib~=3.0->cirq-core==0.13.1->tensorflow-quantum==0.7.2) (4.39.4)\n",
      "Requirement already satisfied: kiwisolver>=1.0.1 in /home/amir/miniconda3/envs/TensorFlowQuantum/lib/python3.9/site-packages (from matplotlib~=3.0->cirq-core==0.13.1->tensorflow-quantum==0.7.2) (1.4.4)\n",
      "Requirement already satisfied: packaging>=20.0 in /home/amir/miniconda3/envs/TensorFlowQuantum/lib/python3.9/site-packages (from matplotlib~=3.0->cirq-core==0.13.1->tensorflow-quantum==0.7.2) (23.1)\n",
      "Requirement already satisfied: pillow>=6.2.0 in /home/amir/miniconda3/envs/TensorFlowQuantum/lib/python3.9/site-packages (from matplotlib~=3.0->cirq-core==0.13.1->tensorflow-quantum==0.7.2) (9.5.0)\n",
      "Requirement already satisfied: pyparsing>=2.3.1 in /home/amir/miniconda3/envs/TensorFlowQuantum/lib/python3.9/site-packages (from matplotlib~=3.0->cirq-core==0.13.1->tensorflow-quantum==0.7.2) (3.0.9)\n",
      "Requirement already satisfied: python-dateutil>=2.7 in /home/amir/miniconda3/envs/TensorFlowQuantum/lib/python3.9/site-packages (from matplotlib~=3.0->cirq-core==0.13.1->tensorflow-quantum==0.7.2) (2.8.2)\n",
      "Requirement already satisfied: importlib-resources>=3.2.0 in /home/amir/miniconda3/envs/TensorFlowQuantum/lib/python3.9/site-packages (from matplotlib~=3.0->cirq-core==0.13.1->tensorflow-quantum==0.7.2) (5.12.0)\n",
      "Requirement already satisfied: pyasn1<0.6.0,>=0.4.6 in /home/amir/miniconda3/envs/TensorFlowQuantum/lib/python3.9/site-packages (from pyasn1-modules>=0.2.1->google-auth==1.18.0->tensorflow-quantum==0.7.2) (0.5.0)\n",
      "Requirement already satisfied: charset-normalizer<4,>=2 in /home/amir/miniconda3/envs/TensorFlowQuantum/lib/python3.9/site-packages (from requests<3.0.0dev,>=2.18.0->google-api-core==1.21.0->tensorflow-quantum==0.7.2) (3.1.0)\n",
      "Requirement already satisfied: idna<4,>=2.5 in /home/amir/miniconda3/envs/TensorFlowQuantum/lib/python3.9/site-packages (from requests<3.0.0dev,>=2.18.0->google-api-core==1.21.0->tensorflow-quantum==0.7.2) (3.4)\n",
      "Requirement already satisfied: urllib3<3,>=1.21.1 in /home/amir/miniconda3/envs/TensorFlowQuantum/lib/python3.9/site-packages (from requests<3.0.0dev,>=2.18.0->google-api-core==1.21.0->tensorflow-quantum==0.7.2) (1.26.16)\n",
      "Requirement already satisfied: certifi>=2017.4.17 in /home/amir/miniconda3/envs/TensorFlowQuantum/lib/python3.9/site-packages (from requests<3.0.0dev,>=2.18.0->google-api-core==1.21.0->tensorflow-quantum==0.7.2) (2023.5.7)\n",
      "Requirement already satisfied: tzdata>=2022.1 in /home/amir/miniconda3/envs/TensorFlowQuantum/lib/python3.9/site-packages (from pandas->cirq-core==0.13.1->tensorflow-quantum==0.7.2) (2023.3)\n",
      "Requirement already satisfied: zipp>=3.1.0 in /home/amir/miniconda3/envs/TensorFlowQuantum/lib/python3.9/site-packages (from importlib-resources>=3.2.0->matplotlib~=3.0->cirq-core==0.13.1->tensorflow-quantum==0.7.2) (3.15.0)\n",
      "Note: you may need to restart the kernel to use updated packages.\n"
     ]
    }
   ],
   "source": [
    "%pip install tensorflow-quantum==0.7.2"
   ]
  },
  {
   "cell_type": "code",
   "execution_count": 5,
   "metadata": {
    "colab": {},
    "colab_type": "code",
    "execution": {
     "iopub.execute_input": "2023-03-21T11:29:10.604335Z",
     "iopub.status.busy": "2023-03-21T11:29:10.604025Z",
     "iopub.status.idle": "2023-03-21T11:29:10.654856Z",
     "shell.execute_reply": "2023-03-21T11:29:10.654205Z"
    },
    "id": "4Ql5PW-ACO0J"
   },
   "outputs": [
    {
     "data": {
      "text/plain": [
       "<module 'pkg_resources' from '/home/amir/miniconda3/envs/TensorFlowQuantum/lib/python3.9/site-packages/pkg_resources/__init__.py'>"
      ]
     },
     "execution_count": 5,
     "metadata": {},
     "output_type": "execute_result"
    }
   ],
   "source": [
    "# Update package resources to account for version changes.\n",
    "import importlib, pkg_resources\n",
    "importlib.reload(pkg_resources)"
   ]
  },
  {
   "cell_type": "markdown",
   "metadata": {
    "colab_type": "text",
    "id": "F1L8h1YKUvIO"
   },
   "source": [
    "Now import TensorFlow and the module dependencies:"
   ]
  },
  {
   "cell_type": "code",
   "execution_count": 6,
   "metadata": {
    "colab": {},
    "colab_type": "code",
    "execution": {
     "iopub.execute_input": "2023-03-21T11:29:10.658457Z",
     "iopub.status.busy": "2023-03-21T11:29:10.657888Z",
     "iopub.status.idle": "2023-03-21T11:29:14.254729Z",
     "shell.execute_reply": "2023-03-21T11:29:14.253827Z"
    },
    "id": "enZ300Bflq80"
   },
   "outputs": [
    {
     "name": "stderr",
     "output_type": "stream",
     "text": [
      "2023-05-25 08:31:54.704222: W tensorflow/stream_executor/platform/default/dso_loader.cc:64] Could not load dynamic library 'libcudart.so.11.0'; dlerror: libcudart.so.11.0: cannot open shared object file: No such file or directory\n",
      "2023-05-25 08:31:54.704238: I tensorflow/stream_executor/cuda/cudart_stub.cc:29] Ignore above cudart dlerror if you do not have a GPU set up on your machine.\n",
      "2023-05-25 08:31:56.914068: W tensorflow/stream_executor/platform/default/dso_loader.cc:64] Could not load dynamic library 'libcuda.so.1'; dlerror: libcuda.so.1: cannot open shared object file: No such file or directory\n",
      "2023-05-25 08:31:56.914084: W tensorflow/stream_executor/cuda/cuda_driver.cc:269] failed call to cuInit: UNKNOWN ERROR (303)\n",
      "2023-05-25 08:31:56.914097: I tensorflow/stream_executor/cuda/cuda_diagnostics.cc:156] kernel driver does not appear to be running on this host (amir-asus): /proc/driver/nvidia/version does not exist\n",
      "2023-05-25 08:31:56.914273: I tensorflow/core/platform/cpu_feature_guard.cc:151] This TensorFlow binary is optimized with oneAPI Deep Neural Network Library (oneDNN) to use the following CPU instructions in performance-critical operations:  AVX2 FMA\n",
      "To enable them in other operations, rebuild TensorFlow with the appropriate compiler flags.\n"
     ]
    }
   ],
   "source": [
    "import tensorflow as tf\n",
    "import tensorflow_quantum as tfq\n",
    "\n",
    "import cirq\n",
    "import sympy\n",
    "import numpy as np\n",
    "\n",
    "# visualization tools\n",
    "%matplotlib inline\n",
    "import matplotlib.pyplot as plt\n",
    "from cirq.contrib.svg import SVGCircuit"
   ]
  },
  {
   "cell_type": "markdown",
   "metadata": {
    "colab_type": "text",
    "id": "b08Mmbs8lr81"
   },
   "source": [
    "## 1. The Basics"
   ]
  },
  {
   "cell_type": "markdown",
   "metadata": {
    "colab_type": "text",
    "id": "y31qSRCczI-L"
   },
   "source": [
    "### 1.1 Cirq and parameterized quantum circuits\n",
    "\n",
    "Before exploring TensorFlow Quantum (TFQ), let's look at some <a target=\"_blank\" href=\"https://github.com/quantumlib/Cirq\" class=\"external\">Cirq</a> basics. Cirq is a Python library for quantum computing from Google. You use it to define circuits, including static and parameterized gates.\n",
    "\n",
    "Cirq uses <a target=\"_blank\" href=\"https://www.sympy.org\" class=\"external\">SymPy</a> symbols to represent free parameters."
   ]
  },
  {
   "cell_type": "code",
   "execution_count": 7,
   "metadata": {
    "colab": {},
    "colab_type": "code",
    "execution": {
     "iopub.execute_input": "2023-03-21T11:29:14.259600Z",
     "iopub.status.busy": "2023-03-21T11:29:14.258067Z",
     "iopub.status.idle": "2023-03-21T11:29:14.263123Z",
     "shell.execute_reply": "2023-03-21T11:29:14.262454Z"
    },
    "id": "2yQdmhQLCrzQ"
   },
   "outputs": [],
   "source": [
    "a, b = sympy.symbols('a b')"
   ]
  },
  {
   "cell_type": "markdown",
   "metadata": {
    "colab_type": "text",
    "id": "itUlpbKmDYNW"
   },
   "source": [
    "The following code creates a two-qubit circuit using your parameters:"
   ]
  },
  {
   "cell_type": "code",
   "execution_count": 8,
   "metadata": {
    "colab": {},
    "colab_type": "code",
    "execution": {
     "iopub.execute_input": "2023-03-21T11:29:14.266285Z",
     "iopub.status.busy": "2023-03-21T11:29:14.265730Z",
     "iopub.status.idle": "2023-03-21T11:29:14.393251Z",
     "shell.execute_reply": "2023-03-21T11:29:14.392576Z"
    },
    "id": "Ps-pd2mndXs7"
   },
   "outputs": [
    {
     "name": "stderr",
     "output_type": "stream",
     "text": [
      "findfont: Font family 'Arial' not found.\n",
      "findfont: Font family 'Arial' not found.\n",
      "findfont: Font family 'Arial' not found.\n",
      "findfont: Font family 'Arial' not found.\n",
      "findfont: Font family 'Arial' not found.\n",
      "findfont: Font family 'Arial' not found.\n"
     ]
    },
    {
     "data": {
      "image/svg+xml": [
       "<svg xmlns=\"http://www.w3.org/2000/svg\" width=\"234.4567578125\" height=\"100.0\"><line x1=\"34.7588671875\" x2=\"204.4567578125\" y1=\"25.0\" y2=\"25.0\" stroke=\"#1967d2\" stroke-width=\"1\" /><line x1=\"34.7588671875\" x2=\"204.4567578125\" y1=\"75.0\" y2=\"75.0\" stroke=\"#1967d2\" stroke-width=\"1\" /><line x1=\"164.4567578125\" x2=\"164.4567578125\" y1=\"25.0\" y2=\"75.0\" stroke=\"black\" stroke-width=\"3\" /><rect x=\"10.0\" y=\"5.0\" width=\"49.517734375\" height=\"40\" stroke=\"black\" fill=\"white\" stroke-width=\"0\" /><text x=\"34.7588671875\" y=\"25.0\" dominant-baseline=\"middle\" text-anchor=\"middle\" font-size=\"14px\" font-family=\"Arial\">(0, 0): </text><rect x=\"10.0\" y=\"55.0\" width=\"49.517734375\" height=\"40\" stroke=\"black\" fill=\"white\" stroke-width=\"0\" /><text x=\"34.7588671875\" y=\"75.0\" dominant-baseline=\"middle\" text-anchor=\"middle\" font-size=\"14px\" font-family=\"Arial\">(0, 1): </text><rect x=\"79.517734375\" y=\"5.0\" width=\"44.9390234375\" height=\"40\" stroke=\"black\" fill=\"white\" stroke-width=\"1\" /><text x=\"101.98724609375\" y=\"25.0\" dominant-baseline=\"middle\" text-anchor=\"middle\" font-size=\"14px\" font-family=\"Arial\">Rx(a)</text><rect x=\"79.517734375\" y=\"55.0\" width=\"44.9390234375\" height=\"40\" stroke=\"black\" fill=\"white\" stroke-width=\"1\" /><text x=\"101.98724609375\" y=\"75.0\" dominant-baseline=\"middle\" text-anchor=\"middle\" font-size=\"14px\" font-family=\"Arial\">Ry(b)</text><circle cx=\"164.4567578125\" cy=\"25.0\" r=\"10.0\" /><rect x=\"144.4567578125\" y=\"55.0\" width=\"40\" height=\"40\" stroke=\"black\" fill=\"white\" stroke-width=\"1\" /><text x=\"164.4567578125\" y=\"75.0\" dominant-baseline=\"middle\" text-anchor=\"middle\" font-size=\"18px\" font-family=\"Arial\">X</text></svg>"
      ],
      "text/plain": [
       "<cirq.contrib.svg.svg.SVGCircuit at 0x7f8306abf4c0>"
      ]
     },
     "execution_count": 8,
     "metadata": {},
     "output_type": "execute_result"
    }
   ],
   "source": [
    "# Create two qubits\n",
    "q0, q1 = cirq.GridQubit.rect(1, 2)\n",
    "\n",
    "# Create a circuit on these qubits using the parameters you created above.\n",
    "circuit = cirq.Circuit(\n",
    "    cirq.rx(a).on(q0),\n",
    "    cirq.ry(b).on(q1), cirq.CNOT(control=q0, target=q1))\n",
    "\n",
    "SVGCircuit(circuit)"
   ]
  },
  {
   "cell_type": "markdown",
   "metadata": {
    "colab_type": "text",
    "id": "zcCX109cJUaz"
   },
   "source": [
    "To evaluate circuits, you can use the `cirq.Simulator` interface. You replace free parameters in a circuit with specific numbers by passing in a `cirq.ParamResolver` object. The following code calculates the raw state vector output of your parameterized circuit:"
   ]
  },
  {
   "cell_type": "code",
   "execution_count": 9,
   "metadata": {
    "colab": {},
    "colab_type": "code",
    "execution": {
     "iopub.execute_input": "2023-03-21T11:29:14.396443Z",
     "iopub.status.busy": "2023-03-21T11:29:14.395954Z",
     "iopub.status.idle": "2023-03-21T11:29:14.404853Z",
     "shell.execute_reply": "2023-03-21T11:29:14.404182Z"
    },
    "id": "VMq7EayNRyQb"
   },
   "outputs": [
    {
     "data": {
      "text/plain": [
       "array([ 0.9387913 +0.j        , -0.23971277+0.j        ,\n",
       "        0.        +0.06120872j,  0.        -0.23971277j], dtype=complex64)"
      ]
     },
     "execution_count": 9,
     "metadata": {},
     "output_type": "execute_result"
    }
   ],
   "source": [
    "# Calculate a state vector with a=0.5 and b=-0.5.\n",
    "resolver = cirq.ParamResolver({a: 0.5, b: -0.5})\n",
    "output_state_vector = cirq.Simulator().simulate(circuit, resolver).final_state_vector\n",
    "output_state_vector"
   ]
  },
  {
   "cell_type": "markdown",
   "metadata": {
    "colab_type": "text",
    "id": "-SUlLpXBeicF"
   },
   "source": [
    "State vectors are not directly accessible outside of simulation (notice the complex numbers in the output above). To be physically realistic, you must specify a measurement, which converts a state vector into a real number that classical computers can understand. Cirq specifies measurements using combinations of the <a target=\"_blank\" href=\"https://en.wikipedia.org/wiki/Pauli_matrices\" class=\"external\">Pauli operators</a> $\\hat{X}$, $\\hat{Y}$, and $\\hat{Z}$. As illustration, the following code measures $\\hat{Z}_0$ and $\\frac{1}{2}\\hat{Z}_0 + \\hat{X}_1$ on the state vector you just simulated:"
   ]
  },
  {
   "cell_type": "code",
   "execution_count": 10,
   "metadata": {
    "colab": {},
    "colab_type": "code",
    "execution": {
     "iopub.execute_input": "2023-03-21T11:29:14.407866Z",
     "iopub.status.busy": "2023-03-21T11:29:14.407335Z",
     "iopub.status.idle": "2023-03-21T11:29:14.412653Z",
     "shell.execute_reply": "2023-03-21T11:29:14.411965Z"
    },
    "id": "hrSnOCi3ehr_",
    "scrolled": true
   },
   "outputs": [
    {
     "data": {
      "text/plain": [
       "0.8775825500488281"
      ]
     },
     "execution_count": 10,
     "metadata": {},
     "output_type": "execute_result"
    }
   ],
   "source": [
    "z0 = cirq.Z(q0)\n",
    "\n",
    "qubit_map={q0: 0, q1: 1}\n",
    "\n",
    "z0.expectation_from_state_vector(output_state_vector, qubit_map).real"
   ]
  },
  {
   "cell_type": "code",
   "execution_count": 11,
   "metadata": {
    "colab": {},
    "colab_type": "code",
    "execution": {
     "iopub.execute_input": "2023-03-21T11:29:14.415501Z",
     "iopub.status.busy": "2023-03-21T11:29:14.414959Z",
     "iopub.status.idle": "2023-03-21T11:29:14.420350Z",
     "shell.execute_reply": "2023-03-21T11:29:14.419638Z"
    },
    "id": "OZ0lWFXv6pII"
   },
   "outputs": [
    {
     "data": {
      "text/plain": [
       "-0.04063427448272705"
      ]
     },
     "execution_count": 11,
     "metadata": {},
     "output_type": "execute_result"
    }
   ],
   "source": [
    "z0x1 = 0.5 * z0 + cirq.X(q1)\n",
    "\n",
    "z0x1.expectation_from_state_vector(output_state_vector, qubit_map).real"
   ]
  },
  {
   "cell_type": "markdown",
   "metadata": {
    "colab_type": "text",
    "id": "bkC-yjIolDNr"
   },
   "source": [
    "### 1.2 Quantum circuits as tensors\n",
    "\n",
    "TensorFlow Quantum (TFQ) provides `tfq.convert_to_tensor`, a function that converts Cirq objects into tensors. This allows you to send Cirq objects to our <a target=\"_blank\" href=\"https://www.tensorflow.org/quantum/api_docs/python/tfq/layers\">quantum layers</a> and <a target=\"_blank\" href=\"https://www.tensorflow.org/quantum/api_docs/python/tfq/get_expectation_op\">quantum ops</a>. The function can be called on lists or arrays of Cirq Circuits and Cirq Paulis:"
   ]
  },
  {
   "cell_type": "code",
   "execution_count": 12,
   "metadata": {
    "colab": {},
    "colab_type": "code",
    "execution": {
     "iopub.execute_input": "2023-03-21T11:29:14.423376Z",
     "iopub.status.busy": "2023-03-21T11:29:14.422848Z",
     "iopub.status.idle": "2023-03-21T11:29:14.434548Z",
     "shell.execute_reply": "2023-03-21T11:29:14.433895Z"
    },
    "id": "1gLQjA02mIyy",
    "scrolled": true
   },
   "outputs": [
    {
     "name": "stdout",
     "output_type": "stream",
     "text": [
      "(1,)\n",
      "<dtype: 'string'>\n"
     ]
    }
   ],
   "source": [
    "# Rank 1 tensor containing 1 circuit.\n",
    "circuit_tensor = tfq.convert_to_tensor([circuit])\n",
    "\n",
    "print(circuit_tensor.shape)\n",
    "print(circuit_tensor.dtype)"
   ]
  },
  {
   "cell_type": "markdown",
   "metadata": {
    "colab_type": "text",
    "id": "SJy6AkbU6pIP"
   },
   "source": [
    "This encodes the Cirq objects as `tf.string` tensors that `tfq` operations decode as needed."
   ]
  },
  {
   "cell_type": "code",
   "execution_count": 13,
   "metadata": {
    "colab": {},
    "colab_type": "code",
    "execution": {
     "iopub.execute_input": "2023-03-21T11:29:14.437332Z",
     "iopub.status.busy": "2023-03-21T11:29:14.436929Z",
     "iopub.status.idle": "2023-03-21T11:29:14.441913Z",
     "shell.execute_reply": "2023-03-21T11:29:14.441273Z"
    },
    "id": "aX_vEmCKmpQS"
   },
   "outputs": [
    {
     "data": {
      "text/plain": [
       "TensorShape([2])"
      ]
     },
     "execution_count": 13,
     "metadata": {},
     "output_type": "execute_result"
    }
   ],
   "source": [
    "# Rank 1 tensor containing 2 Pauli operators.\n",
    "pauli_tensor = tfq.convert_to_tensor([z0, z0x1])\n",
    "pauli_tensor.shape"
   ]
  },
  {
   "cell_type": "markdown",
   "metadata": {
    "colab_type": "text",
    "id": "FI1JLWe6m8JF"
   },
   "source": [
    "### 1.3 Batching circuit simulation\n",
    "\n",
    "TFQ provides methods for computing expectation values, samples, and state vectors. For now, let's focus on *expectation values*.\n",
    "\n",
    "The highest-level interface for calculating expectation values is the `tfq.layers.Expectation` layer, which is a `tf.keras.Layer`. In its simplest form, this layer is equivalent to simulating a parameterized circuit over many `cirq.ParamResolvers`; however, TFQ allows batching following TensorFlow semantics, and circuits are simulated using efficient C++ code.\n",
    "\n",
    "Create a batch of values to substitute for our `a` and `b` parameters:"
   ]
  },
  {
   "cell_type": "code",
   "execution_count": 14,
   "metadata": {
    "colab": {},
    "colab_type": "code",
    "execution": {
     "iopub.execute_input": "2023-03-21T11:29:14.445020Z",
     "iopub.status.busy": "2023-03-21T11:29:14.444481Z",
     "iopub.status.idle": "2023-03-21T11:29:14.448120Z",
     "shell.execute_reply": "2023-03-21T11:29:14.447478Z"
    },
    "id": "1fsVZhF5lIXp"
   },
   "outputs": [],
   "source": [
    "batch_vals = np.array(np.random.uniform(0, 2 * np.pi, (5, 2)), dtype=float)"
   ]
  },
  {
   "cell_type": "markdown",
   "metadata": {
    "colab_type": "text",
    "id": "Ip7jlGXIf22u"
   },
   "source": [
    "Batching circuit execution over parameter values in Cirq requires a loop:"
   ]
  },
  {
   "cell_type": "code",
   "execution_count": 15,
   "metadata": {
    "colab": {},
    "colab_type": "code",
    "execution": {
     "iopub.execute_input": "2023-03-21T11:29:14.451226Z",
     "iopub.status.busy": "2023-03-21T11:29:14.450698Z",
     "iopub.status.idle": "2023-03-21T11:29:14.464932Z",
     "shell.execute_reply": "2023-03-21T11:29:14.464248Z"
    },
    "id": "RsfF53UCJtr9"
   },
   "outputs": [
    {
     "name": "stdout",
     "output_type": "stream",
     "text": [
      "cirq batch results: \n",
      " [[-0.52392882]\n",
      " [ 0.94292027]\n",
      " [ 0.65628213]\n",
      " [ 0.78125525]\n",
      " [ 0.50311053]]\n"
     ]
    }
   ],
   "source": [
    "cirq_results = []\n",
    "cirq_simulator = cirq.Simulator()\n",
    "\n",
    "for vals in batch_vals:\n",
    "    resolver = cirq.ParamResolver({a: vals[0], b: vals[1]})\n",
    "    final_state_vector = cirq_simulator.simulate(circuit, resolver).final_state_vector\n",
    "    cirq_results.append(\n",
    "        [z0.expectation_from_state_vector(final_state_vector, {\n",
    "            q0: 0,\n",
    "            q1: 1\n",
    "        }).real])\n",
    "\n",
    "print('cirq batch results: \\n {}'.format(np.array(cirq_results)))"
   ]
  },
  {
   "cell_type": "markdown",
   "metadata": {
    "colab_type": "text",
    "id": "W0JlZEu-f9Ac"
   },
   "source": [
    "The same operation is simplified in TFQ:"
   ]
  },
  {
   "cell_type": "code",
   "execution_count": 16,
   "metadata": {
    "colab": {},
    "colab_type": "code",
    "execution": {
     "iopub.execute_input": "2023-03-21T11:29:14.467907Z",
     "iopub.status.busy": "2023-03-21T11:29:14.467382Z",
     "iopub.status.idle": "2023-03-21T11:29:14.487932Z",
     "shell.execute_reply": "2023-03-21T11:29:14.487272Z"
    },
    "id": "kGZVdcZ6y9lC"
   },
   "outputs": [
    {
     "data": {
      "text/plain": [
       "<tf.Tensor: shape=(5, 1), dtype=float32, numpy=\n",
       "array([[-0.5239295 ],\n",
       "       [ 0.9429202 ],\n",
       "       [ 0.6562838 ],\n",
       "       [ 0.78125536],\n",
       "       [ 0.50311196]], dtype=float32)>"
      ]
     },
     "execution_count": 16,
     "metadata": {},
     "output_type": "execute_result"
    }
   ],
   "source": [
    "tfq.layers.Expectation()(circuit,\n",
    "                         symbol_names=[a, b],\n",
    "                         symbol_values=batch_vals,\n",
    "                         operators=z0)"
   ]
  },
  {
   "attachments": {},
   "cell_type": "markdown",
   "metadata": {
    "colab_type": "text",
    "id": "wppQ3TJ23mWC"
   },
   "source": [
    "## 2. Hybrid quantum-classical optimization\n",
    "\n",
    "Now that you've seen the basics, let's use TensorFlow Quantum to construct a *hybrid quantum-classical neural net*. You will train a classical neural net to control a single qubit. The control will be optimized to correctly prepare the qubit in the `0` or `1` state, overcoming a simulated systematic calibration error. This figure shows the architecture:\n",
    "\n",
    "<img src=\"https://www.tensorflow.org/quantum/tutorials/images/nn_control1.png\" width=\"1000\">\n",
    "\n",
    "Even without a neural network this is a straightforward problem to solve, but the theme is similar to the real quantum control problems you might solve using TFQ. It demonstrates an end-to-end example of a quantum-classical computation using the `tfq.layers.ControlledPQC` (Parametrized Quantum Circuit) layer inside of a `tf.keras.Model`."
   ]
  },
  {
   "cell_type": "markdown",
   "metadata": {
    "colab_type": "text",
    "id": "NlyxF3Q-6pIe"
   },
   "source": [
    "For the implementation of this tutorial, this architecture is split into 3 parts:\n",
    "\n",
    "- The *input circuit* or *datapoint circuit*: The first three $R$ gates.\n",
    "- The *controlled circuit*: The other three $R$ gates.\n",
    "- The *controller*: The classical neural-network setting the parameters of the controlled circuit."
   ]
  },
  {
   "cell_type": "markdown",
   "metadata": {
    "colab_type": "text",
    "id": "VjDf-nTM6ZSs"
   },
   "source": [
    "### 2.1 The controlled circuit definition\n",
    "\n",
    "Define a learnable single bit rotation, as indicated in the figure above. This will correspond to our controlled circuit."
   ]
  },
  {
   "cell_type": "code",
   "execution_count": 17,
   "metadata": {
    "colab": {},
    "colab_type": "code",
    "execution": {
     "iopub.execute_input": "2023-03-21T11:29:14.491386Z",
     "iopub.status.busy": "2023-03-21T11:29:14.490867Z",
     "iopub.status.idle": "2023-03-21T11:29:14.611852Z",
     "shell.execute_reply": "2023-03-21T11:29:14.611223Z"
    },
    "id": "N-j7SCl-51-q"
   },
   "outputs": [
    {
     "name": "stderr",
     "output_type": "stream",
     "text": [
      "findfont: Font family 'Arial' not found.\n",
      "findfont: Font family 'Arial' not found.\n",
      "findfont: Font family 'Arial' not found.\n",
      "findfont: Font family 'Arial' not found.\n"
     ]
    },
    {
     "data": {
      "image/svg+xml": [
       "<svg xmlns=\"http://www.w3.org/2000/svg\" width=\"435.74449218750004\" height=\"50.0\"><line x1=\"34.7588671875\" x2=\"405.74449218750004\" y1=\"25.0\" y2=\"25.0\" stroke=\"#1967d2\" stroke-width=\"1\" /><rect x=\"10.0\" y=\"5.0\" width=\"49.517734375\" height=\"40\" stroke=\"black\" fill=\"white\" stroke-width=\"0\" /><text x=\"34.7588671875\" y=\"25.0\" dominant-baseline=\"middle\" text-anchor=\"middle\" font-size=\"14px\" font-family=\"Arial\">(0, 0): </text><rect x=\"79.517734375\" y=\"5.0\" width=\"88.37457031250001\" height=\"40\" stroke=\"black\" fill=\"white\" stroke-width=\"1\" /><text x=\"123.70501953125\" y=\"25.0\" dominant-baseline=\"middle\" text-anchor=\"middle\" font-size=\"14px\" font-family=\"Arial\">Rz(theta_1)</text><rect x=\"187.89230468750003\" y=\"5.0\" width=\"88.54109375\" height=\"40\" stroke=\"black\" fill=\"white\" stroke-width=\"1\" /><text x=\"232.16285156250004\" y=\"25.0\" dominant-baseline=\"middle\" text-anchor=\"middle\" font-size=\"14px\" font-family=\"Arial\">Ry(theta_2)</text><rect x=\"296.43339843750005\" y=\"5.0\" width=\"89.31109375000001\" height=\"40\" stroke=\"black\" fill=\"white\" stroke-width=\"1\" /><text x=\"341.0889453125001\" y=\"25.0\" dominant-baseline=\"middle\" text-anchor=\"middle\" font-size=\"14px\" font-family=\"Arial\">Rx(theta_3)</text></svg>"
      ],
      "text/plain": [
       "<cirq.contrib.svg.svg.SVGCircuit at 0x7f82e0651fa0>"
      ]
     },
     "execution_count": 17,
     "metadata": {},
     "output_type": "execute_result"
    }
   ],
   "source": [
    "# Parameters that the classical NN will feed values into.\n",
    "control_params = sympy.symbols('theta_1 theta_2 theta_3')\n",
    "\n",
    "# Create the parameterized circuit.\n",
    "qubit = cirq.GridQubit(0, 0)\n",
    "model_circuit = cirq.Circuit(\n",
    "    cirq.rz(control_params[0])(qubit),\n",
    "    cirq.ry(control_params[1])(qubit),\n",
    "    cirq.rx(control_params[2])(qubit))\n",
    "\n",
    "SVGCircuit(model_circuit)"
   ]
  },
  {
   "cell_type": "markdown",
   "metadata": {
    "colab_type": "text",
    "id": "wfjSbsvb7g9f"
   },
   "source": [
    "### 2.2 The controller\n",
    "\n",
    "Now define controller network: "
   ]
  },
  {
   "cell_type": "code",
   "execution_count": 18,
   "metadata": {
    "colab": {},
    "colab_type": "code",
    "execution": {
     "iopub.execute_input": "2023-03-21T11:29:14.614905Z",
     "iopub.status.busy": "2023-03-21T11:29:14.614368Z",
     "iopub.status.idle": "2023-03-21T11:29:14.625493Z",
     "shell.execute_reply": "2023-03-21T11:29:14.624820Z"
    },
    "id": "1v4CK2jD6pIj"
   },
   "outputs": [],
   "source": [
    "# The classical neural network layers.\n",
    "controller = tf.keras.Sequential([\n",
    "    tf.keras.layers.Dense(10, activation='elu'),\n",
    "    tf.keras.layers.Dense(3)\n",
    "])"
   ]
  },
  {
   "cell_type": "markdown",
   "metadata": {
    "colab_type": "text",
    "id": "QNimbsAt6pIm"
   },
   "source": [
    "Given a batch of commands, the controller outputs a batch of control signals for the controlled circuit. \n",
    "\n",
    "The controller is randomly initialized so these outputs are not useful, yet."
   ]
  },
  {
   "cell_type": "code",
   "execution_count": 19,
   "metadata": {
    "colab": {},
    "colab_type": "code",
    "execution": {
     "iopub.execute_input": "2023-03-21T11:29:14.628472Z",
     "iopub.status.busy": "2023-03-21T11:29:14.627946Z",
     "iopub.status.idle": "2023-03-21T11:29:14.676791Z",
     "shell.execute_reply": "2023-03-21T11:29:14.676124Z"
    },
    "id": "kZbYRTe16pIm"
   },
   "outputs": [
    {
     "data": {
      "text/plain": [
       "array([[ 0.        ,  0.        ,  0.        ],\n",
       "       [-0.10770684,  0.1619443 , -0.22225845]], dtype=float32)"
      ]
     },
     "execution_count": 19,
     "metadata": {},
     "output_type": "execute_result"
    }
   ],
   "source": [
    "controller(tf.constant([[0.0],[1.0]])).numpy()"
   ]
  },
  {
   "cell_type": "markdown",
   "metadata": {
    "colab_type": "text",
    "id": "XizLExg56pIp"
   },
   "source": [
    "### 2.3 Connect the controller to the circuit"
   ]
  },
  {
   "cell_type": "markdown",
   "metadata": {
    "colab_type": "text",
    "id": "I5Pmy5-V6pIq"
   },
   "source": [
    "Use `tfq` to connect the controller to the controlled circuit, as a single `keras.Model`. \n",
    "\n",
    "See the [Keras Functional API guide](https://www.tensorflow.org/guide/keras/functional) for more about this style of model definition.\n",
    "\n",
    "First define the inputs to the model:  "
   ]
  },
  {
   "cell_type": "code",
   "execution_count": 20,
   "metadata": {
    "colab": {},
    "colab_type": "code",
    "execution": {
     "iopub.execute_input": "2023-03-21T11:29:14.679924Z",
     "iopub.status.busy": "2023-03-21T11:29:14.679393Z",
     "iopub.status.idle": "2023-03-21T11:29:14.685108Z",
     "shell.execute_reply": "2023-03-21T11:29:14.684459Z"
    },
    "id": "UfHF8NNE6pIr"
   },
   "outputs": [],
   "source": [
    "# This input is the simulated miscalibration that the model will learn to correct.\n",
    "circuits_input = tf.keras.Input(shape=(),\n",
    "                                # The circuit-tensor has dtype `tf.string` \n",
    "                                dtype=tf.string,\n",
    "                                name='circuits_input')\n",
    "\n",
    "# Commands will be either `0` or `1`, specifying the state to set the qubit to.\n",
    "commands_input = tf.keras.Input(shape=(1,),\n",
    "                                dtype=tf.dtypes.float32,\n",
    "                                name='commands_input')\n"
   ]
  },
  {
   "cell_type": "markdown",
   "metadata": {
    "colab_type": "text",
    "id": "y9xN2mNl6pIu"
   },
   "source": [
    "Next apply operations to those inputs, to define the computation."
   ]
  },
  {
   "cell_type": "code",
   "execution_count": 21,
   "metadata": {
    "colab": {},
    "colab_type": "code",
    "execution": {
     "iopub.execute_input": "2023-03-21T11:29:14.688173Z",
     "iopub.status.busy": "2023-03-21T11:29:14.687751Z",
     "iopub.status.idle": "2023-03-21T11:29:15.903276Z",
     "shell.execute_reply": "2023-03-21T11:29:15.902501Z"
    },
    "id": "Zvt2YGmZ6pIu"
   },
   "outputs": [],
   "source": [
    "dense_2 = controller(commands_input)\n",
    "\n",
    "# TFQ layer for classically controlled circuits.\n",
    "expectation_layer = tfq.layers.ControlledPQC(model_circuit,\n",
    "                                             # Observe Z\n",
    "                                             operators = cirq.Z(qubit))\n",
    "expectation = expectation_layer([circuits_input, dense_2])"
   ]
  },
  {
   "cell_type": "markdown",
   "metadata": {
    "colab_type": "text",
    "id": "Ip2jNA9h6pIy"
   },
   "source": [
    "Now package this computation as a `tf.keras.Model`:"
   ]
  },
  {
   "cell_type": "code",
   "execution_count": 22,
   "metadata": {
    "colab": {},
    "colab_type": "code",
    "execution": {
     "iopub.execute_input": "2023-03-21T11:29:15.907303Z",
     "iopub.status.busy": "2023-03-21T11:29:15.906670Z",
     "iopub.status.idle": "2023-03-21T11:29:15.912908Z",
     "shell.execute_reply": "2023-03-21T11:29:15.912234Z"
    },
    "id": "Xs6EMhah6pIz"
   },
   "outputs": [],
   "source": [
    "# The full Keras model is built from our layers.\n",
    "model = tf.keras.Model(inputs=[circuits_input, commands_input],\n",
    "                       outputs=expectation)"
   ]
  },
  {
   "cell_type": "markdown",
   "metadata": {
    "colab_type": "text",
    "id": "w7kgqm3t6pI3"
   },
   "source": [
    "The network architecture is indicated by the plot of the model below.\n",
    "Compare this model plot to the architecture diagram to verify correctness.\n",
    "\n",
    "Note: May require a system install of the `graphviz` package."
   ]
  },
  {
   "cell_type": "code",
   "execution_count": 23,
   "metadata": {},
   "outputs": [
    {
     "name": "stdout",
     "output_type": "stream",
     "text": [
      "Requirement already satisfied: graphviz in /home/amir/miniconda3/envs/TensorFlowQuantum/lib/python3.9/site-packages (0.20.1)\n",
      "Note: you may need to restart the kernel to use updated packages.\n"
     ]
    }
   ],
   "source": [
    "%pip install graphviz"
   ]
  },
  {
   "cell_type": "code",
   "execution_count": 24,
   "metadata": {},
   "outputs": [
    {
     "name": "stdout",
     "output_type": "stream",
     "text": [
      "Requirement already satisfied: pydot in /home/amir/miniconda3/envs/TensorFlowQuantum/lib/python3.9/site-packages (1.4.2)\n",
      "Requirement already satisfied: pyparsing>=2.1.4 in /home/amir/miniconda3/envs/TensorFlowQuantum/lib/python3.9/site-packages (from pydot) (3.0.9)\n",
      "Note: you may need to restart the kernel to use updated packages.\n"
     ]
    }
   ],
   "source": [
    "%pip install pydot"
   ]
  },
  {
   "cell_type": "code",
   "execution_count": 41,
   "metadata": {
    "colab": {},
    "colab_type": "code",
    "execution": {
     "iopub.execute_input": "2023-03-21T11:29:15.916038Z",
     "iopub.status.busy": "2023-03-21T11:29:15.915496Z",
     "iopub.status.idle": "2023-03-21T11:29:15.988177Z",
     "shell.execute_reply": "2023-03-21T11:29:15.987339Z"
    },
    "id": "ERXNPe4F6pI4"
   },
   "outputs": [
    {
     "data": {
      "image/png": "[encoded data removed]",
      "text/plain": [
       "<IPython.core.display.Image object>"
      ]
     },
     "execution_count": 41,
     "metadata": {},
     "output_type": "execute_result"
    }
   ],
   "source": [
    "tf.keras.utils.plot_model(model, show_shapes=True, dpi=70)"
   ]
  },
  {
   "cell_type": "markdown",
   "metadata": {
    "colab_type": "text",
    "id": "-Pbemgww6pI7"
   },
   "source": [
    "This model takes two inputs: The commands for the controller, and the input-circuit whose output the controller is attempting to correct. "
   ]
  },
  {
   "cell_type": "markdown",
   "metadata": {
    "colab_type": "text",
    "id": "hpnIBK916pI8"
   },
   "source": [
    "### 2.4 The dataset"
   ]
  },
  {
   "cell_type": "markdown",
   "metadata": {
    "colab_type": "text",
    "id": "yJSC9qH76pJA"
   },
   "source": [
    "The model attempts to output the correct correct measurement value of $\\hat{Z}$ for each command. The commands and correct values are defined below."
   ]
  },
  {
   "cell_type": "code",
   "execution_count": 26,
   "metadata": {
    "colab": {},
    "colab_type": "code",
    "execution": {
     "iopub.execute_input": "2023-03-21T11:29:15.992175Z",
     "iopub.status.busy": "2023-03-21T11:29:15.991482Z",
     "iopub.status.idle": "2023-03-21T11:29:15.995936Z",
     "shell.execute_reply": "2023-03-21T11:29:15.995303Z"
    },
    "id": "ciMIJAuH6pJA"
   },
   "outputs": [],
   "source": [
    "# The command input values to the classical NN.\n",
    "commands = np.array([[0], [1]], dtype=np.float32)\n",
    "\n",
    "# The desired Z expectation value at output of quantum circuit.\n",
    "expected_outputs = np.array([[1], [-1]], dtype=np.float32)"
   ]
  },
  {
   "cell_type": "markdown",
   "metadata": {
    "colab_type": "text",
    "id": "kV1LM_hZ6pJD"
   },
   "source": [
    "This is not the entire training dataset for this task. \n",
    "Each datapoint in the dataset also needs an input circuit."
   ]
  },
  {
   "cell_type": "markdown",
   "metadata": {
    "colab_type": "text",
    "id": "bbiVHvSYVW4H"
   },
   "source": [
    "### 2.4 Input circuit definition\n",
    "\n",
    "The input-circuit below defines the random miscalibration the model will learn to correct."
   ]
  },
  {
   "cell_type": "code",
   "execution_count": 27,
   "metadata": {
    "colab": {},
    "colab_type": "code",
    "execution": {
     "iopub.execute_input": "2023-03-21T11:29:15.999162Z",
     "iopub.status.busy": "2023-03-21T11:29:15.998649Z",
     "iopub.status.idle": "2023-03-21T11:29:16.006641Z",
     "shell.execute_reply": "2023-03-21T11:29:16.005986Z"
    },
    "id": "_VYfzHffWo7n"
   },
   "outputs": [],
   "source": [
    "random_rotations = np.random.uniform(0, 2 * np.pi, 3)\n",
    "noisy_preparation = cirq.Circuit(\n",
    "  cirq.rx(random_rotations[0])(qubit),\n",
    "  cirq.ry(random_rotations[1])(qubit),\n",
    "  cirq.rz(random_rotations[2])(qubit)\n",
    ")\n",
    "datapoint_circuits = tfq.convert_to_tensor([\n",
    "  noisy_preparation\n",
    "] * 2)  # Make two copied of this circuit"
   ]
  },
  {
   "cell_type": "markdown",
   "metadata": {
    "colab_type": "text",
    "id": "FvOkMyKI6pJI"
   },
   "source": [
    "There are two copies of the circuit, one for each datapoint."
   ]
  },
  {
   "cell_type": "code",
   "execution_count": 28,
   "metadata": {
    "colab": {},
    "colab_type": "code",
    "execution": {
     "iopub.execute_input": "2023-03-21T11:29:16.009590Z",
     "iopub.status.busy": "2023-03-21T11:29:16.009078Z",
     "iopub.status.idle": "2023-03-21T11:29:16.013506Z",
     "shell.execute_reply": "2023-03-21T11:29:16.012890Z"
    },
    "id": "6nk2Yr3e6pJJ"
   },
   "outputs": [
    {
     "data": {
      "text/plain": [
       "TensorShape([2])"
      ]
     },
     "execution_count": 28,
     "metadata": {},
     "output_type": "execute_result"
    }
   ],
   "source": [
    "datapoint_circuits.shape"
   ]
  },
  {
   "cell_type": "markdown",
   "metadata": {
    "colab_type": "text",
    "id": "gB--UhZZYgVY"
   },
   "source": [
    "### 2.5 Training"
   ]
  },
  {
   "cell_type": "markdown",
   "metadata": {
    "colab_type": "text",
    "id": "jATjqUIv6pJM"
   },
   "source": [
    "With the inputs defined you can test-run the `tfq` model."
   ]
  },
  {
   "cell_type": "code",
   "execution_count": 29,
   "metadata": {
    "colab": {},
    "colab_type": "code",
    "execution": {
     "iopub.execute_input": "2023-03-21T11:29:16.016898Z",
     "iopub.status.busy": "2023-03-21T11:29:16.016506Z",
     "iopub.status.idle": "2023-03-21T11:29:16.026868Z",
     "shell.execute_reply": "2023-03-21T11:29:16.026236Z"
    },
    "id": "Lwphqvs96pJO"
   },
   "outputs": [
    {
     "data": {
      "text/plain": [
       "array([[ 0.26708496],\n",
       "       [-0.00185803]], dtype=float32)"
      ]
     },
     "execution_count": 29,
     "metadata": {},
     "output_type": "execute_result"
    }
   ],
   "source": [
    "model([datapoint_circuits, commands]).numpy()"
   ]
  },
  {
   "cell_type": "markdown",
   "metadata": {
    "colab_type": "text",
    "id": "9gyg5qSL6pJR"
   },
   "source": [
    "Now run a standard training process to adjust these values towards the `expected_outputs`."
   ]
  },
  {
   "cell_type": "code",
   "execution_count": 30,
   "metadata": {
    "colab": {},
    "colab_type": "code",
    "execution": {
     "iopub.execute_input": "2023-03-21T11:29:16.029826Z",
     "iopub.status.busy": "2023-03-21T11:29:16.029327Z",
     "iopub.status.idle": "2023-03-21T11:29:16.629643Z",
     "shell.execute_reply": "2023-03-21T11:29:16.628790Z"
    },
    "id": "dtPYqbNi8zeZ"
   },
   "outputs": [],
   "source": [
    "optimizer = tf.keras.optimizers.Adam(learning_rate=0.05)\n",
    "loss = tf.keras.losses.MeanSquaredError()\n",
    "model.compile(optimizer=optimizer, loss=loss)\n",
    "history = model.fit(x=[datapoint_circuits, commands],\n",
    "                    y=expected_outputs,\n",
    "                    epochs=30,\n",
    "                    verbose=0)"
   ]
  },
  {
   "cell_type": "code",
   "execution_count": 31,
   "metadata": {
    "colab": {},
    "colab_type": "code",
    "execution": {
     "iopub.execute_input": "2023-03-21T11:29:16.633774Z",
     "iopub.status.busy": "2023-03-21T11:29:16.633133Z",
     "iopub.status.idle": "2023-03-21T11:29:16.871648Z",
     "shell.execute_reply": "2023-03-21T11:29:16.870960Z"
    },
    "id": "azE-qV0OaC1o"
   },
   "outputs": [
    {
     "data": {
      "image/png": "[encoded data removed]",
      "text/plain": [
       "<Figure size 640x480 with 1 Axes>"
      ]
     },
     "metadata": {},
     "output_type": "display_data"
    }
   ],
   "source": [
    "plt.plot(history.history['loss'])\n",
    "plt.title(\"Learning to Control a Qubit\")\n",
    "plt.xlabel(\"Iterations\")\n",
    "plt.ylabel(\"Error in Control\")\n",
    "plt.show()"
   ]
  },
  {
   "cell_type": "markdown",
   "metadata": {
    "colab_type": "text",
    "id": "GTd5DGcRmmOK"
   },
   "source": [
    "From this plot you can see that the neural network has learned to overcome the systematic miscalibration."
   ]
  },
  {
   "cell_type": "markdown",
   "metadata": {
    "colab_type": "text",
    "id": "C2RfWismj66S"
   },
   "source": [
    "### 2.6 Verify outputs\n",
    "Now use the trained model, to correct the qubit calibration errors. With Cirq:"
   ]
  },
  {
   "cell_type": "code",
   "execution_count": 32,
   "metadata": {
    "colab": {},
    "colab_type": "code",
    "execution": {
     "iopub.execute_input": "2023-03-21T11:29:16.875191Z",
     "iopub.status.busy": "2023-03-21T11:29:16.874575Z",
     "iopub.status.idle": "2023-03-21T11:29:16.888287Z",
     "shell.execute_reply": "2023-03-21T11:29:16.887575Z"
    },
    "id": "RoIlb7r7j5SY"
   },
   "outputs": [
    {
     "name": "stdout",
     "output_type": "stream",
     "text": [
      "For a desired output (expectation) of [1.] with noisy preparation, the controller\n",
      "network found the following values for theta: [ 1.5493597 -2.1742563  2.448868 ]\n",
      "Which gives an actual expectation of: 0.9759641885757446\n",
      "\n",
      "For a desired output (expectation) of [-1.] with noisy preparation, the controller\n",
      "network found the following values for theta: [ 0.50766146  2.4618876  -1.2827085 ]\n",
      "Which gives an actual expectation of: -0.997374951839447\n",
      "\n"
     ]
    }
   ],
   "source": [
    "def check_error(command_values, desired_values):\n",
    "  \"\"\"Based on the value in `command_value` see h ow well you could prepare\n",
    "  the full circuit to have `desired_value` when taking expectation w.r.t. Z.\"\"\"\n",
    "  params_to_prepare_output = controller(command_values).numpy()\n",
    "  full_circuit = noisy_preparation + model_circuit\n",
    "\n",
    "  # Test how well you can prepare a state to get expectation the expectation\n",
    "  # value in `desired_values`\n",
    "  for index in [0, 1]:\n",
    "    state = cirq_simulator.simulate(\n",
    "        full_circuit,\n",
    "        {s:v for (s,v) in zip(control_params, params_to_prepare_output[index])}\n",
    "    ).final_state_vector\n",
    "    expt = cirq.Z(qubit).expectation_from_state_vector(state, {qubit: 0}).real\n",
    "    print(f'For a desired output (expectation) of {desired_values[index]} with'\n",
    "          f' noisy preparation, the controller\\nnetwork found the following '\n",
    "          f'values for theta: {params_to_prepare_output[index]}\\nWhich gives an'\n",
    "          f' actual expectation of: {expt}\\n')\n",
    "\n",
    "\n",
    "check_error(commands, expected_outputs)"
   ]
  },
  {
   "cell_type": "markdown",
   "metadata": {
    "colab_type": "text",
    "id": "wvW_ZDwmsws6"
   },
   "source": [
    "The value of the loss function during training provides a rough idea of how well the model is learning. The lower the loss, the closer the expectation values in the above cell is to `desired_values`. If you aren't as concerned with the parameter values, you can always check the outputs from above using `tfq`:"
   ]
  },
  {
   "cell_type": "code",
   "execution_count": 33,
   "metadata": {
    "colab": {},
    "colab_type": "code",
    "execution": {
     "iopub.execute_input": "2023-03-21T11:29:16.891364Z",
     "iopub.status.busy": "2023-03-21T11:29:16.890832Z",
     "iopub.status.idle": "2023-03-21T11:29:16.898975Z",
     "shell.execute_reply": "2023-03-21T11:29:16.898347Z"
    },
    "id": "aYskLTacs8Ku"
   },
   "outputs": [
    {
     "data": {
      "text/plain": [
       "<tf.Tensor: shape=(2, 1), dtype=float32, numpy=\n",
       "array([[ 0.9759635 ],\n",
       "       [-0.99737483]], dtype=float32)>"
      ]
     },
     "execution_count": 33,
     "metadata": {},
     "output_type": "execute_result"
    }
   ],
   "source": [
    "model([datapoint_circuits, commands])"
   ]
  },
  {
   "attachments": {},
   "cell_type": "markdown",
   "metadata": {
    "colab_type": "text",
    "id": "jNrW0NXR-lDC"
   },
   "source": [
    "## 3 Learning to prepare eigenstates of different operators\n",
    "\n",
    "The choice of the $\\pm \\hat{Z}$ eigenstates corresponding to 1 and 0 was arbitrary. You could have just as easily wanted 1 to correspond to the $+ \\hat{Z}$ eigenstate and 0 to correspond to the $-\\hat{X}$ eigenstate. One way to accomplish this is by specifying a different measurement operator for each command, as indicated in the figure below:\n",
    "\n",
    "<img src=\"https://www.tensorflow.org/quantum/tutorials/images/nn_control2.png\" width=\"1000\">\n",
    "\n",
    "This requires use of <code>tfq.layers.Expectation</code>. Now your input has grown to include three objects: circuit, command, and operator. The output is still the expectation value."
   ]
  },
  {
   "cell_type": "markdown",
   "metadata": {
    "colab_type": "text",
    "id": "Ci3WMZ9CjEM1"
   },
   "source": [
    "### 3.1 New model definition\n",
    "\n",
    "Lets take a look at the model to accomplish this task:"
   ]
  },
  {
   "cell_type": "code",
   "execution_count": 34,
   "metadata": {
    "colab": {},
    "colab_type": "code",
    "execution": {
     "iopub.execute_input": "2023-03-21T11:29:16.902223Z",
     "iopub.status.busy": "2023-03-21T11:29:16.901807Z",
     "iopub.status.idle": "2023-03-21T11:29:16.908650Z",
     "shell.execute_reply": "2023-03-21T11:29:16.908001Z"
    },
    "id": "hta0G3Nc6pJY"
   },
   "outputs": [],
   "source": [
    "# Define inputs.\n",
    "commands_input = tf.keras.layers.Input(shape=(1),\n",
    "                                       dtype=tf.dtypes.float32,\n",
    "                                       name='commands_input')\n",
    "circuits_input = tf.keras.Input(shape=(),\n",
    "                                # The circuit-tensor has dtype `tf.string` \n",
    "                                dtype=tf.dtypes.string,\n",
    "                                name='circuits_input')\n",
    "operators_input = tf.keras.Input(shape=(1,),\n",
    "                                 dtype=tf.dtypes.string,\n",
    "                                 name='operators_input')"
   ]
  },
  {
   "cell_type": "markdown",
   "metadata": {
    "colab_type": "text",
    "id": "dtdnkrZm6pJb"
   },
   "source": [
    "Here is the controller network:"
   ]
  },
  {
   "cell_type": "code",
   "execution_count": 35,
   "metadata": {
    "colab": {},
    "colab_type": "code",
    "execution": {
     "iopub.execute_input": "2023-03-21T11:29:16.911791Z",
     "iopub.status.busy": "2023-03-21T11:29:16.911283Z",
     "iopub.status.idle": "2023-03-21T11:29:16.918079Z",
     "shell.execute_reply": "2023-03-21T11:29:16.917441Z"
    },
    "id": "n_aTG4g3-y0F"
   },
   "outputs": [],
   "source": [
    "# Define classical NN.\n",
    "controller = tf.keras.Sequential([\n",
    "    tf.keras.layers.Dense(10, activation='elu'),\n",
    "    tf.keras.layers.Dense(3)\n",
    "])"
   ]
  },
  {
   "cell_type": "markdown",
   "metadata": {
    "colab_type": "text",
    "id": "q9aN2ciy6pJf"
   },
   "source": [
    "Combine the circuit and the controller into a single `keras.Model` using `tfq`:"
   ]
  },
  {
   "cell_type": "code",
   "execution_count": 36,
   "metadata": {
    "colab": {},
    "colab_type": "code",
    "execution": {
     "iopub.execute_input": "2023-03-21T11:29:16.921215Z",
     "iopub.status.busy": "2023-03-21T11:29:16.920709Z",
     "iopub.status.idle": "2023-03-21T11:29:16.968661Z",
     "shell.execute_reply": "2023-03-21T11:29:16.967971Z"
    },
    "id": "IMHjiKit6pJg"
   },
   "outputs": [],
   "source": [
    "dense_2 = controller(commands_input)\n",
    "\n",
    "# Since you aren't using a PQC or ControlledPQC you must append\n",
    "# your model circuit onto the datapoint circuit tensor manually.\n",
    "full_circuit = tfq.layers.AddCircuit()(circuits_input, append=model_circuit)\n",
    "expectation_output = tfq.layers.Expectation()(full_circuit,\n",
    "                                              symbol_names=control_params,\n",
    "                                              symbol_values=dense_2,\n",
    "                                              operators=operators_input)\n",
    "\n",
    "# Contruct your Keras model.\n",
    "two_axis_control_model = tf.keras.Model(\n",
    "    inputs=[circuits_input, commands_input, operators_input],\n",
    "    outputs=[expectation_output])"
   ]
  },
  {
   "cell_type": "code",
   "execution_count": 42,
   "metadata": {},
   "outputs": [
    {
     "data": {
      "image/png": "[encoded data removed]",
      "text/plain": [
       "<IPython.core.display.Image object>"
      ]
     },
     "execution_count": 42,
     "metadata": {},
     "output_type": "execute_result"
    }
   ],
   "source": [
    "tf.keras.utils.plot_model(two_axis_control_model, show_shapes=True, dpi=70)"
   ]
  },
  {
   "cell_type": "markdown",
   "metadata": {
    "colab_type": "text",
    "id": "VQTM6CCiD4gU"
   },
   "source": [
    "### 3.2 The dataset\n",
    "\n",
    "Now you will also include the operators you wish to measure for each datapoint you supply for `model_circuit`:"
   ]
  },
  {
   "cell_type": "code",
   "execution_count": 37,
   "metadata": {
    "colab": {},
    "colab_type": "code",
    "execution": {
     "iopub.execute_input": "2023-03-21T11:29:16.971920Z",
     "iopub.status.busy": "2023-03-21T11:29:16.971348Z",
     "iopub.status.idle": "2023-03-21T11:29:16.976096Z",
     "shell.execute_reply": "2023-03-21T11:29:16.975453Z"
    },
    "id": "4gw_L3JG0_G0"
   },
   "outputs": [],
   "source": [
    "# The operators to measure, for each command.\n",
    "operator_data = tfq.convert_to_tensor([[cirq.X(qubit)], [cirq.Z(qubit)]])\n",
    "\n",
    "# The command input values to the classical NN.\n",
    "commands = np.array([[0], [1]], dtype=np.float32)\n",
    "\n",
    "# The desired expectation value at output of quantum circuit.\n",
    "expected_outputs = np.array([[1], [-1]], dtype=np.float32)"
   ]
  },
  {
   "cell_type": "markdown",
   "metadata": {
    "colab_type": "text",
    "id": "ALCKSvwh0_G2"
   },
   "source": [
    "### 3.3 Training\n",
    "\n",
    "Now that you have your new inputs and outputs you can train once again using keras."
   ]
  },
  {
   "cell_type": "code",
   "execution_count": 38,
   "metadata": {
    "colab": {},
    "colab_type": "code",
    "execution": {
     "iopub.execute_input": "2023-03-21T11:29:16.978930Z",
     "iopub.status.busy": "2023-03-21T11:29:16.978492Z",
     "iopub.status.idle": "2023-03-21T11:29:17.486843Z",
     "shell.execute_reply": "2023-03-21T11:29:17.486132Z"
    },
    "id": "nFuGA73MAA4p"
   },
   "outputs": [
    {
     "name": "stdout",
     "output_type": "stream",
     "text": [
      "Epoch 1/30\n",
      "1/1 [==============================] - 0s 223ms/step - loss: 0.2327\n",
      "Epoch 2/30\n",
      "1/1 [==============================] - 0s 3ms/step - loss: 0.0796\n",
      "Epoch 3/30\n",
      "1/1 [==============================] - 0s 3ms/step - loss: 0.0452\n",
      "Epoch 4/30\n",
      "1/1 [==============================] - 0s 2ms/step - loss: 0.0319\n",
      "Epoch 5/30\n",
      "1/1 [==============================] - 0s 2ms/step - loss: 0.0198\n",
      "Epoch 6/30\n",
      "1/1 [==============================] - 0s 3ms/step - loss: 0.0113\n",
      "Epoch 7/30\n",
      "1/1 [==============================] - 0s 2ms/step - loss: 0.0065\n",
      "Epoch 8/30\n",
      "1/1 [==============================] - 0s 2ms/step - loss: 0.0035\n",
      "Epoch 9/30\n",
      "1/1 [==============================] - 0s 2ms/step - loss: 0.0018\n",
      "Epoch 10/30\n",
      "1/1 [==============================] - 0s 2ms/step - loss: 0.0010\n",
      "Epoch 11/30\n",
      "1/1 [==============================] - 0s 2ms/step - loss: 9.1042e-04\n",
      "Epoch 12/30\n",
      "1/1 [==============================] - 0s 2ms/step - loss: 0.0011\n",
      "Epoch 13/30\n",
      "1/1 [==============================] - 0s 3ms/step - loss: 0.0014\n",
      "Epoch 14/30\n",
      "1/1 [==============================] - 0s 4ms/step - loss: 0.0016\n",
      "Epoch 15/30\n",
      "1/1 [==============================] - 0s 2ms/step - loss: 0.0017\n",
      "Epoch 16/30\n",
      "1/1 [==============================] - 0s 2ms/step - loss: 0.0020\n",
      "Epoch 17/30\n",
      "1/1 [==============================] - 0s 1ms/step - loss: 0.0024\n",
      "Epoch 18/30\n",
      "1/1 [==============================] - 0s 2ms/step - loss: 0.0026\n",
      "Epoch 19/30\n",
      "1/1 [==============================] - 0s 2ms/step - loss: 0.0024\n",
      "Epoch 20/30\n",
      "1/1 [==============================] - 0s 2ms/step - loss: 0.0019\n",
      "Epoch 21/30\n",
      "1/1 [==============================] - 0s 2ms/step - loss: 0.0012\n",
      "Epoch 22/30\n",
      "1/1 [==============================] - 0s 2ms/step - loss: 6.8744e-04\n",
      "Epoch 23/30\n",
      "1/1 [==============================] - 0s 2ms/step - loss: 3.3723e-04\n",
      "Epoch 24/30\n",
      "1/1 [==============================] - 0s 2ms/step - loss: 1.5307e-04\n",
      "Epoch 25/30\n",
      "1/1 [==============================] - 0s 1ms/step - loss: 7.4733e-05\n",
      "Epoch 26/30\n",
      "1/1 [==============================] - 0s 2ms/step - loss: 4.8748e-05\n",
      "Epoch 27/30\n",
      "1/1 [==============================] - 0s 2ms/step - loss: 4.2133e-05\n",
      "Epoch 28/30\n",
      "1/1 [==============================] - 0s 2ms/step - loss: 3.9458e-05\n",
      "Epoch 29/30\n",
      "1/1 [==============================] - 0s 2ms/step - loss: 3.6046e-05\n",
      "Epoch 30/30\n",
      "1/1 [==============================] - 0s 2ms/step - loss: 3.2435e-05\n"
     ]
    }
   ],
   "source": [
    "optimizer = tf.keras.optimizers.Adam(learning_rate=0.05)\n",
    "loss = tf.keras.losses.MeanSquaredError()\n",
    "\n",
    "two_axis_control_model.compile(optimizer=optimizer, loss=loss)\n",
    "\n",
    "history = two_axis_control_model.fit(\n",
    "    x=[datapoint_circuits, commands, operator_data],\n",
    "    y=expected_outputs,\n",
    "    epochs=30,\n",
    "    verbose=1)"
   ]
  },
  {
   "cell_type": "code",
   "execution_count": 39,
   "metadata": {
    "colab": {},
    "colab_type": "code",
    "execution": {
     "iopub.execute_input": "2023-03-21T11:29:17.490080Z",
     "iopub.status.busy": "2023-03-21T11:29:17.489444Z",
     "iopub.status.idle": "2023-03-21T11:29:17.676771Z",
     "shell.execute_reply": "2023-03-21T11:29:17.676025Z"
    },
    "id": "Cf_G-GdturLL"
   },
   "outputs": [
    {
     "data": {
      "image/png": "[encoded data removed]",
      "text/plain": [
       "<Figure size 640x480 with 1 Axes>"
      ]
     },
     "metadata": {},
     "output_type": "display_data"
    }
   ],
   "source": [
    "plt.plot(history.history['loss'])\n",
    "plt.title(\"Learning to Control a Qubit\")\n",
    "plt.xlabel(\"Iterations\")\n",
    "plt.ylabel(\"Error in Control\")\n",
    "plt.show()"
   ]
  },
  {
   "cell_type": "markdown",
   "metadata": {
    "colab_type": "text",
    "id": "sdCPDH9NlJBl"
   },
   "source": [
    "The loss function has dropped to zero."
   ]
  },
  {
   "cell_type": "markdown",
   "metadata": {
    "colab_type": "text",
    "id": "NzY8eSVm6pJs"
   },
   "source": [
    "The `controller` is available as a stand-alone model. Call the controller, and check its response to each command signal. It would take some work to correctly compare these outputs to the contents of `random_rotations`."
   ]
  },
  {
   "cell_type": "code",
   "execution_count": 40,
   "metadata": {
    "colab": {},
    "colab_type": "code",
    "execution": {
     "iopub.execute_input": "2023-03-21T11:29:17.679789Z",
     "iopub.status.busy": "2023-03-21T11:29:17.679535Z",
     "iopub.status.idle": "2023-03-21T11:29:17.775606Z",
     "shell.execute_reply": "2023-03-21T11:29:17.774924Z"
    },
    "id": "uXmH0TQ76pJt"
   },
   "outputs": [
    {
     "data": {
      "text/plain": [
       "array([[-0.8575018 ,  0.23196143, -0.66729444],\n",
       "       [ 1.6807735 ,  1.1314816 , -2.5980396 ]], dtype=float32)"
      ]
     },
     "execution_count": 40,
     "metadata": {},
     "output_type": "execute_result"
    }
   ],
   "source": [
    "controller.predict(np.array([0,1]))"
   ]
  },
  {
   "cell_type": "markdown",
   "metadata": {
    "colab_type": "text",
    "id": "n2WtXnsxubD2"
   },
   "source": [
    "Success: See if you can adapt the `check_error` function from your first model to work with this new model architecture."
   ]
  },
  {
   "cell_type": "code",
   "execution_count": 44,
   "metadata": {},
   "outputs": [
    {
     "name": "stdout",
     "output_type": "stream",
     "text": [
      "For a desired output (expectation) of [1.] with noisy preparation, the controller\n",
      "network found the following values for theta: [-0.8575018   0.23196143 -0.66729444]\n",
      "Which gives an actual expectation of: -0.015716329216957092\n",
      "\n",
      "For a desired output (expectation) of [-1.] with noisy preparation, the controller\n",
      "network found the following values for theta: [ 1.6807735  1.1314816 -2.5980396]\n",
      "Which gives an actual expectation of: -0.9929847717285156\n",
      "\n"
     ]
    }
   ],
   "source": [
    "def check_error_two_axis(command_values, desired_values):\n",
    "  \"\"\"Based on the value in `command_value` see h ow well you could prepare\n",
    "  the full circuit to have `desired_value` when taking expectation w.r.t. Z.\"\"\"\n",
    "  params_to_prepare_output = controller(command_values).numpy()\n",
    "  full_circuit = noisy_preparation + model_circuit\n",
    "\n",
    "  # Test how well you can prepare a state to get expectation the expectation\n",
    "  # value in `desired_values`\n",
    "  for index in [0, 1]:\n",
    "    state = cirq_simulator.simulate(\n",
    "        full_circuit,\n",
    "        {s:v for (s,v) in zip(control_params, params_to_prepare_output[index])}\n",
    "    ).final_state_vector\n",
    "    expt = operator_data[index].expectation_from_state_vector(state, {qubit: 0}).real\n",
    "    print(f'For a desired output (expectation) of {desired_values[index]} with'\n",
    "          f' noisy preparation, the controller\\nnetwork found the following '\n",
    "          f'values for theta: {params_to_prepare_output[index]}\\nWhich gives an'\n",
    "          f' actual expectation of: {expt}\\n')\n",
    "\n",
    "\n",
    "check_error(commands, expected_outputs)"
   ]
  }
 ],
 "metadata": {
  "colab": {
   "collapsed_sections": [],
   "name": "hello_many_worlds.ipynb",
   "private_outputs": true,
   "provenance": [],
   "toc_visible": true
  },
  "kernelspec": {
   "display_name": "Python 3",
   "language": "python",
   "name": "python3"
  },
  "language_info": {
   "codemirror_mode": {
    "name": "ipython",
    "version": 3
   },
   "file_extension": ".py",
   "mimetype": "text/x-python",
   "name": "python",
   "nbconvert_exporter": "python",
   "pygments_lexer": "ipython3",
   "version": "3.9.16"
  }
 },
 "nbformat": 4,
 "nbformat_minor": 0
}
