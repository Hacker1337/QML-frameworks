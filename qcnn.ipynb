{
 "cells": [
  {
   "cell_type": "code",
   "execution_count": null,
   "metadata": {},
   "outputs": [],
   "source": []
  },
  {
   "attachments": {},
   "cell_type": "markdown",
   "metadata": {},
   "source": [
    "## Relevant papers\n",
    "\n",
    "[Variational Quanvolutional Neural Networks with enhanced image encoding 2021](https://arxiv.org/pdf/2106.07327.pdf)\n",
    "\n",
    "[Classical-to-quantum convolutional neural network transfer learning 2022](https://doi.org/10.48550/arxiv.2208.14708)\n",
    "\n",
    "[Quanvolutional neural networks: powering image recognition with quantum circuits 2020](http://arxiv.org/pdf/1904.04767)\n",
    "\n",
    "[Implementation of Handwritten Character Recognition using Quanvolutional Neural Network 2022](https://ieeexplore.ieee.org/document/10126600)\n",
    "\n",
    "[Quantum Convolutional Neural Networks 2019](https://arxiv.org/pdf/1810.03787.pdf)\n",
    "\n",
    "[A Tutorial on Quantum Convolutional Neural Networks (QCNN) 2020](https://arxiv.org/pdf/2009.09423.pdf)"
   ]
  }
 ],
 "metadata": {
  "language_info": {
   "name": "python"
  },
  "orig_nbformat": 4
 },
 "nbformat": 4,
 "nbformat_minor": 2
}
